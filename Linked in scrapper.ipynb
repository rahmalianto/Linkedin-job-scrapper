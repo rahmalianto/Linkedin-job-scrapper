{
 "cells": [
  {
   "cell_type": "code",
   "execution_count": 15,
   "id": "25aa6c76-d87a-4c95-b710-bac51bb36188",
   "metadata": {},
   "outputs": [],
   "source": [
    "# https://github.com/spinlud/py-linkedin-jobs-scraper"
   ]
  },
  {
   "cell_type": "code",
   "execution_count": null,
   "id": "09e25943",
   "metadata": {
    "scrolled": true
   },
   "outputs": [
    {
     "name": "stderr",
     "output_type": "stream",
     "text": [
      "INFO:li:scraper:('Using strategy AnonymousStrategy',)\n",
      "WARNING:li:scraper:(\"AnonymousStrategy is no longer maintained and it won't probably work. It is recommended to use an authenticated session, see documentation at https://github.com/spinlud/py-linkedin-jobs-scraper#anonymous-vs-authenticated-session.\",)\n",
      "INFO:li:scraper:('Starting new query', \"Query(query=Data Analyst options=QueryOptions(limit=100000 locations=['United States'] filters=QueryFilters(time=TimeFilters.MONTH type=[<TypeFilters.FULL_TIME: 'F'>] experience=[<ExperienceLevelFilters.INTERNSHIP: '1'>]) optimize=False apply_link=True))\")\n",
      "INFO:li:scraper:('Chrome debugger url', 'http://localhost:56563')\n",
      "INFO:li:scraper:('[Data Analyst][United States]', 'Opening https://www.linkedin.com/jobs/search?keywords=Data+Analyst&location=United+States&f_TPR=r2592000&f_JT=F&f_E=1&start=0')\n",
      "INFO:li:scraper:('[Data Analyst][United States]', 'Trying first selectors set')\n",
      "INFO:li:scraper:('[Data Analyst][United States]', 'Trying second selectors set')\n",
      "INFO:li:scraper:('[Data Analyst][United States]', 'OK')\n",
      "INFO:li:scraper:('[Data Analyst][United States]', 'Starting pagination loop')\n",
      "INFO:li:scraper:('[Data Analyst][United States]', 'Found 23 jobs')\n",
      "INFO:li:scraper:('[Data Analyst][United States][1]', 'Processed')\n"
     ]
    },
    {
     "name": "stdout",
     "output_type": "stream",
     "text": [
      "[ON_DATA] Data Analyst - Python, Jupyter Notebooks full_time internship CyberCoders  3264794048 https://www.linkedin.com/jobs/view/data-analyst-python-jupyter-notebooks-at-cybercoders-3264794048?refId=RnuL9XL7QhYRFGJQuy1AxQ%3D%3D&trackingId=DN%2FUVthXPRq0m4M98i5Y%2FA%3D%3D&position=1&pageNum=0&trk=public_jobs_jserp-result_search-card 2083\n"
     ]
    },
    {
     "name": "stderr",
     "output_type": "stream",
     "text": [
      "INFO:li:scraper:('[Data Analyst][United States][2]', 'Processed')\n"
     ]
    },
    {
     "name": "stdout",
     "output_type": "stream",
     "text": [
      "[ON_DATA] 2023 Summer Intern - Big Data Analyst, Technology full_time internship FINRA  3273799019 https://www.linkedin.com/jobs/view/2023-summer-intern-big-data-analyst-technology-at-finra-3273799019?refId=RnuL9XL7QhYRFGJQuy1AxQ%3D%3D&trackingId=2qRj3E0srHD97FDsetSStA%3D%3D&position=2&pageNum=0&trk=public_jobs_jserp-result_search-card 6799\n"
     ]
    },
    {
     "name": "stderr",
     "output_type": "stream",
     "text": [
      "INFO:li:scraper:('[Data Analyst][United States][3]', 'Processed')\n"
     ]
    },
    {
     "name": "stdout",
     "output_type": "stream",
     "text": [
      "[ON_DATA] Sr. Data Analyst full_time internship CyberCoders  3246084001 https://www.linkedin.com/jobs/view/sr-data-analyst-at-cybercoders-3246084001?refId=RnuL9XL7QhYRFGJQuy1AxQ%3D%3D&trackingId=gXwDj79zEjphm86mVCIFHg%3D%3D&position=3&pageNum=0&trk=public_jobs_jserp-result_search-card 2815\n"
     ]
    },
    {
     "name": "stderr",
     "output_type": "stream",
     "text": [
      "INFO:li:scraper:('[Data Analyst][United States][4]', 'Processed')\n"
     ]
    },
    {
     "name": "stdout",
     "output_type": "stream",
     "text": [
      "[ON_DATA] 2023 Data & Analytics Graduate Internship Program full_time internship Discover Financial Services  3238342205 https://www.linkedin.com/jobs/view/2023-data-analytics-graduate-internship-program-at-discover-financial-services-3238342205?refId=RnuL9XL7QhYRFGJQuy1AxQ%3D%3D&trackingId=X689mYc5yvy23WPodWbQ1A%3D%3D&position=4&pageNum=0&trk=public_jobs_jserp-result_search-card 6881\n"
     ]
    },
    {
     "name": "stderr",
     "output_type": "stream",
     "text": [
      "INFO:li:scraper:('[Data Analyst][United States][5]', 'Processed')\n"
     ]
    },
    {
     "name": "stdout",
     "output_type": "stream",
     "text": [
      "[ON_DATA] Customer Data Analytics Engineer (Intern) full_time internship Nationwide  3271662515 https://www.linkedin.com/jobs/view/customer-data-analytics-engineer-intern-at-nationwide-3271662515?refId=RnuL9XL7QhYRFGJQuy1AxQ%3D%3D&trackingId=%2B009xkLNCvcL7hGXKhX3Fw%3D%3D&position=5&pageNum=0&trk=public_jobs_jserp-result_search-card 3394\n"
     ]
    },
    {
     "name": "stderr",
     "output_type": "stream",
     "text": [
      "INFO:li:scraper:('[Data Analyst][United States][6]', 'Processed')\n"
     ]
    },
    {
     "name": "stdout",
     "output_type": "stream",
     "text": [
      "[ON_DATA] Senior Data Analyst, Internal Audit, Data Analytics and Automation full_time internship First Republic Bank  3247205371 https://www.linkedin.com/jobs/view/senior-data-analyst-internal-audit-data-analytics-and-automation-at-first-republic-bank-3247205371?refId=RnuL9XL7QhYRFGJQuy1AxQ%3D%3D&trackingId=pPMQFDeD3CwVAR4pG6am7A%3D%3D&position=6&pageNum=0&trk=public_jobs_jserp-result_search-card 7529\n"
     ]
    },
    {
     "name": "stderr",
     "output_type": "stream",
     "text": [
      "INFO:li:scraper:('[Data Analyst][United States][7]', 'Processed')\n"
     ]
    },
    {
     "name": "stdout",
     "output_type": "stream",
     "text": [
      "[ON_DATA] 100% REMOTE- Data Engineer full_time internship CyberCoders  3233708737 https://www.linkedin.com/jobs/view/100%25-remote-data-engineer-at-cybercoders-3233708737?refId=RnuL9XL7QhYRFGJQuy1AxQ%3D%3D&trackingId=Zi5ihGu%2Bl7O8i00N2%2BT57w%3D%3D&position=7&pageNum=0&trk=public_jobs_jserp-result_search-card 3333\n"
     ]
    },
    {
     "name": "stderr",
     "output_type": "stream",
     "text": [
      "INFO:li:scraper:('[Data Analyst][United States][8]', 'Processed')\n"
     ]
    },
    {
     "name": "stdout",
     "output_type": "stream",
     "text": [
      "[ON_DATA] 2022 Graduate Program – Financial Services – Data Acquisition Analyst full_time internship IHS Markit  3246066751 https://www.linkedin.com/jobs/view/2022-graduate-program-%E2%80%93-financial-services-%E2%80%93-data-acquisition-analyst-at-ihs-markit-3246066751?refId=RnuL9XL7QhYRFGJQuy1AxQ%3D%3D&trackingId=n1wLzGcrsbj4rpn3ctcihA%3D%3D&position=8&pageNum=0&trk=public_jobs_jserp-result_search-card 8083\n"
     ]
    },
    {
     "name": "stderr",
     "output_type": "stream",
     "text": [
      "INFO:li:scraper:('[Data Analyst][United States][9]', 'Processed')\n"
     ]
    },
    {
     "name": "stdout",
     "output_type": "stream",
     "text": [
      "[ON_DATA] 2022 Graduate Program – Financial Services – Data Management Analyst full_time internship IHS Markit  3246070469 https://www.linkedin.com/jobs/view/2022-graduate-program-%E2%80%93-financial-services-%E2%80%93-data-management-analyst-at-ihs-markit-3246070469?refId=RnuL9XL7QhYRFGJQuy1AxQ%3D%3D&trackingId=4IJp2C9VAiGdZ0MRpG%2Br0w%3D%3D&position=9&pageNum=0&trk=public_jobs_jserp-result_search-card 8303\n"
     ]
    },
    {
     "name": "stderr",
     "output_type": "stream",
     "text": [
      "INFO:li:scraper:('[Data Analyst][United States][10]', 'Processed')\n"
     ]
    },
    {
     "name": "stdout",
     "output_type": "stream",
     "text": [
      "[ON_DATA] SocialScape Analyst I full_time internship Socially Determined  3268236187 https://www.linkedin.com/jobs/view/socialscape-analyst-i-at-socially-determined-3268236187?refId=RnuL9XL7QhYRFGJQuy1AxQ%3D%3D&trackingId=0oquu8Ph%2BI3k9zehq6FdEQ%3D%3D&position=10&pageNum=0&trk=public_jobs_jserp-result_search-card 2872\n"
     ]
    },
    {
     "name": "stderr",
     "output_type": "stream",
     "text": [
      "INFO:li:scraper:('[Data Analyst][United States][11]', 'Processed')\n"
     ]
    },
    {
     "name": "stdout",
     "output_type": "stream",
     "text": [
      "[ON_DATA] Data Analyst: 2023 Internship full_time internship Redfin  3223518337 https://www.linkedin.com/jobs/view/data-analyst-2023-internship-at-redfin-3223518337?refId=RnuL9XL7QhYRFGJQuy1AxQ%3D%3D&trackingId=5T128n9opbMq5vA7EANd7w%3D%3D&position=11&pageNum=0&trk=public_jobs_jserp-result_search-card 5819\n"
     ]
    },
    {
     "name": "stderr",
     "output_type": "stream",
     "text": [
      "INFO:li:scraper:('[Data Analyst][United States][12]', 'Processed')\n"
     ]
    },
    {
     "name": "stdout",
     "output_type": "stream",
     "text": [
      "[ON_DATA] Data Analyst: 2023 Internship full_time internship Redfin  3223519027 https://www.linkedin.com/jobs/view/data-analyst-2023-internship-at-redfin-3223519027?refId=RnuL9XL7QhYRFGJQuy1AxQ%3D%3D&trackingId=Edp%2BwqZq%2FqRddvHRDzziSg%3D%3D&position=12&pageNum=0&trk=public_jobs_jserp-result_search-card 5819\n"
     ]
    },
    {
     "name": "stderr",
     "output_type": "stream",
     "text": [
      "INFO:li:scraper:('[Data Analyst][United States][13]', 'Processed')\n"
     ]
    },
    {
     "name": "stdout",
     "output_type": "stream",
     "text": [
      "[ON_DATA] Complete a Bachelor's Degree Apprenticeship Program-Reinsurance Data Analyst-Schaumburg, IL - Hybrid full_time internship Zurich North America  3251646414 https://www.linkedin.com/jobs/view/complete-a-bachelor-s-degree-apprenticeship-program-reinsurance-data-analyst-schaumburg-il-hybrid-at-zurich-north-america-3251646414?refId=RnuL9XL7QhYRFGJQuy1AxQ%3D%3D&trackingId=cEV3ZoXvxIsURx7JzL3uBQ%3D%3D&position=13&pageNum=0&trk=public_jobs_jserp-result_search-card 5547\n"
     ]
    },
    {
     "name": "stderr",
     "output_type": "stream",
     "text": [
      "WARNING:li:scraper:('[Data Analyst][United States]', '[429] Too many requests', 'You should probably increase scraper \"slow_mo\" value or reduce concurrency')\n",
      "WARNING:li:scraper:('[Data Analyst][United States]', '[429] Too many requests', 'You should probably increase scraper \"slow_mo\" value or reduce concurrency')\n",
      "ERROR:li:scraper:('[Data Analyst][United States][14]', 'Timeout on loading job details')\n",
      "NoneType: None\n",
      "INFO:li:scraper:('[Data Analyst][United States][14]', 'Processed')\n"
     ]
    },
    {
     "name": "stdout",
     "output_type": "stream",
     "text": [
      "[ON_DATA] Data Analyst, INSPIRING INTERNS full_time internship Guardian Jobs  3260653487 https://www.linkedin.com/jobs/view/data-analyst-inspiring-interns-at-guardian-jobs-3260653487?refId=RnuL9XL7QhYRFGJQuy1AxQ%3D%3D&trackingId=VRjfvjLwowu61bFWA5Ogsw%3D%3D&position=15&pageNum=0&trk=public_jobs_jserp-result_search-card 1560\n"
     ]
    },
    {
     "name": "stderr",
     "output_type": "stream",
     "text": [
      "INFO:li:scraper:('[Data Analyst][United States][15]', 'Processed')\n"
     ]
    },
    {
     "name": "stdout",
     "output_type": "stream",
     "text": [
      "[ON_DATA] Data Analyst Summer 2023 Internship full_time internship Verizon  3272489707 https://www.linkedin.com/jobs/view/data-analyst-summer-2023-internship-at-verizon-3272489707?refId=RnuL9XL7QhYRFGJQuy1AxQ%3D%3D&trackingId=U40TqRxdBm3%2FV7bV0dlBLA%3D%3D&position=16&pageNum=0&trk=public_jobs_jserp-result_search-card 4169\n"
     ]
    },
    {
     "name": "stderr",
     "output_type": "stream",
     "text": [
      "INFO:li:scraper:('[Data Analyst][United States][16]', 'Processed')\n"
     ]
    },
    {
     "name": "stdout",
     "output_type": "stream",
     "text": [
      "[ON_DATA] Data Analyst Summer 2023 Internship full_time internship Verizon  3272488721 https://www.linkedin.com/jobs/view/data-analyst-summer-2023-internship-at-verizon-3272488721?refId=RnuL9XL7QhYRFGJQuy1AxQ%3D%3D&trackingId=OjWM0tyVjVuJ79o5x1Br8w%3D%3D&position=17&pageNum=0&trk=public_jobs_jserp-result_search-card 4169\n"
     ]
    },
    {
     "name": "stderr",
     "output_type": "stream",
     "text": [
      "INFO:li:scraper:('[Data Analyst][United States][17]', 'Processed')\n"
     ]
    },
    {
     "name": "stdout",
     "output_type": "stream",
     "text": [
      "[ON_DATA] Apprentice Data Conversion Analyst (Remote) full_time internship Talentify.io  3273555663 https://www.linkedin.com/jobs/view/apprentice-data-conversion-analyst-remote-at-talentify-io-3273555663?refId=RnuL9XL7QhYRFGJQuy1AxQ%3D%3D&trackingId=vWDA2xPufboG22uArqXzhw%3D%3D&position=18&pageNum=0&trk=public_jobs_jserp-result_search-card 4096\n"
     ]
    },
    {
     "name": "stderr",
     "output_type": "stream",
     "text": [
      "INFO:li:scraper:('[Data Analyst][United States][18]', 'Processed')\n"
     ]
    },
    {
     "name": "stdout",
     "output_type": "stream",
     "text": [
      "[ON_DATA] 2022 Graduate Program – Financial Services – Operational Excellence Analyst full_time internship IHS Markit  3246066731 https://www.linkedin.com/jobs/view/2022-graduate-program-%E2%80%93-financial-services-%E2%80%93-operational-excellence-analyst-at-ihs-markit-3246066731?refId=RnuL9XL7QhYRFGJQuy1AxQ%3D%3D&trackingId=PymTTuEIJKaRp5I2LTRdbw%3D%3D&position=19&pageNum=0&trk=public_jobs_jserp-result_search-card 7880\n"
     ]
    },
    {
     "name": "stderr",
     "output_type": "stream",
     "text": [
      "INFO:li:scraper:('[Data Analyst][United States][19]', 'Processed')\n"
     ]
    },
    {
     "name": "stdout",
     "output_type": "stream",
     "text": [
      "[ON_DATA] Data Analyst Summer 2023 Internship full_time internship Verizon  3272487799 https://www.linkedin.com/jobs/view/data-analyst-summer-2023-internship-at-verizon-3272487799?refId=RnuL9XL7QhYRFGJQuy1AxQ%3D%3D&trackingId=S1rmyTl5f2o8aYuYyEip9w%3D%3D&position=20&pageNum=0&trk=public_jobs_jserp-result_search-card 4169\n"
     ]
    },
    {
     "name": "stderr",
     "output_type": "stream",
     "text": [
      "INFO:li:scraper:('[Data Analyst][United States][20]', 'Processed')\n"
     ]
    },
    {
     "name": "stdout",
     "output_type": "stream",
     "text": [
      "[ON_DATA] Data Analyst Intern – 2023 Campus Recruiting full_time internship Chewy  3247629437 https://www.linkedin.com/jobs/view/data-analyst-intern-%E2%80%93-2023-campus-recruiting-at-chewy-3247629437?refId=RnuL9XL7QhYRFGJQuy1AxQ%3D%3D&trackingId=g5sW88eRzdk2VCoXH73aOQ%3D%3D&position=21&pageNum=0&trk=public_jobs_jserp-result_search-card 2950\n"
     ]
    },
    {
     "name": "stderr",
     "output_type": "stream",
     "text": [
      "INFO:li:scraper:('[Data Analyst][United States][21]', 'Processed')\n"
     ]
    },
    {
     "name": "stdout",
     "output_type": "stream",
     "text": [
      "[ON_DATA] Data Analyst Intern – 2023 Campus Recruiting full_time internship Chewy  3247628470 https://www.linkedin.com/jobs/view/data-analyst-intern-%E2%80%93-2023-campus-recruiting-at-chewy-3247628470?refId=RnuL9XL7QhYRFGJQuy1AxQ%3D%3D&trackingId=71sa0Bl%2Bg%2FkLJKpv7Llieg%3D%3D&position=22&pageNum=0&trk=public_jobs_jserp-result_search-card 2950\n"
     ]
    },
    {
     "name": "stderr",
     "output_type": "stream",
     "text": [
      "INFO:li:scraper:('[Data Analyst][United States][22]', 'Processed')\n",
      "INFO:li:scraper:('[Data Analyst][United States][22]', 'Checking for new jobs to load...')\n"
     ]
    },
    {
     "name": "stdout",
     "output_type": "stream",
     "text": [
      "[ON_DATA] Intern - Data Analyst full_time internship DISH Network  3258591024 https://www.linkedin.com/jobs/view/intern-data-analyst-at-dish-network-3258591024?refId=RnuL9XL7QhYRFGJQuy1AxQ%3D%3D&trackingId=UWjgxusoAln3puJww5DWeA%3D%3D&position=23&pageNum=0&trk=public_jobs_jserp-result_search-card 3069\n"
     ]
    },
    {
     "name": "stderr",
     "output_type": "stream",
     "text": [
      "INFO:li:scraper:('[Data Analyst][United States][22]', \"Couldn't find more jobs for the running query\")\n",
      "INFO:li:scraper:('Starting new query', \"Query(query=Data Analyst options=QueryOptions(limit=100000 locations=['United States'] filters=QueryFilters(time=TimeFilters.MONTH type=[<TypeFilters.FULL_TIME: 'F'>] experience=[<ExperienceLevelFilters.ENTRY_LEVEL: '2'>]) optimize=False apply_link=True))\")\n"
     ]
    },
    {
     "name": "stdout",
     "output_type": "stream",
     "text": [
      "[ON_END]\n"
     ]
    },
    {
     "name": "stderr",
     "output_type": "stream",
     "text": [
      "INFO:li:scraper:('Chrome debugger url', 'http://localhost:56632')\n",
      "INFO:li:scraper:('[Data Analyst][United States]', 'Opening https://www.linkedin.com/jobs/search?keywords=Data+Analyst&location=United+States&f_TPR=r2592000&f_JT=F&f_E=2&start=0')\n",
      "INFO:li:scraper:('[Data Analyst][United States]', 'Trying first selectors set')\n",
      "INFO:li:scraper:('[Data Analyst][United States]', 'Trying second selectors set')\n",
      "INFO:li:scraper:('[Data Analyst][United States]', 'OK')\n",
      "INFO:li:scraper:('[Data Analyst][United States]', 'Starting pagination loop')\n",
      "INFO:li:scraper:('[Data Analyst][United States]', 'Found 25 jobs')\n",
      "INFO:li:scraper:('[Data Analyst][United States][1]', 'Processed')\n"
     ]
    },
    {
     "name": "stdout",
     "output_type": "stream",
     "text": [
      "[ON_DATA] Data Analyst II full_time entry_level Microsoft  3264559000 https://www.linkedin.com/jobs/view/data-analyst-ii-at-microsoft-3264559000?refId=7dqYx%2FNiAcE%2BJnvVPWfQUw%3D%3D&trackingId=c%2BaMrvq11rSmFv3VfxuucA%3D%3D&position=1&pageNum=0&trk=public_jobs_jserp-result_search-card 3961\n"
     ]
    },
    {
     "name": "stderr",
     "output_type": "stream",
     "text": [
      "INFO:li:scraper:('[Data Analyst][United States][2]', 'Processed')\n"
     ]
    },
    {
     "name": "stdout",
     "output_type": "stream",
     "text": [
      "[ON_DATA] Data Analyst full_time entry_level Tata Consultancy Services  3265584185 https://www.linkedin.com/jobs/view/data-analyst-at-tata-consultancy-services-3265584185?refId=7dqYx%2FNiAcE%2BJnvVPWfQUw%3D%3D&trackingId=Cdg9cjxibqRzpTarz0UJbA%3D%3D&position=2&pageNum=0&trk=public_jobs_jserp-result_search-card 3367\n"
     ]
    },
    {
     "name": "stderr",
     "output_type": "stream",
     "text": [
      "INFO:li:scraper:('[Data Analyst][United States][3]', 'Processed')\n"
     ]
    },
    {
     "name": "stdout",
     "output_type": "stream",
     "text": [
      "[ON_DATA] Data Analyst II full_time entry_level Microsoft  3264551999 https://www.linkedin.com/jobs/view/data-analyst-ii-at-microsoft-3264551999?refId=7dqYx%2FNiAcE%2BJnvVPWfQUw%3D%3D&trackingId=4nFQL4ErqLcg2mBEqGOMTw%3D%3D&position=3&pageNum=0&trk=public_jobs_jserp-result_search-card 3961\n"
     ]
    },
    {
     "name": "stderr",
     "output_type": "stream",
     "text": [
      "INFO:li:scraper:('[Data Analyst][United States][4]', 'Processed')\n"
     ]
    },
    {
     "name": "stdout",
     "output_type": "stream",
     "text": [
      "[ON_DATA] Data Analysts needed to start ASAP! full_time entry_level Noor Staffing Group  3270343751 https://www.linkedin.com/jobs/view/data-analysts-needed-to-start-asap%21-at-noor-staffing-group-3270343751?refId=7dqYx%2FNiAcE%2BJnvVPWfQUw%3D%3D&trackingId=DCmuVF8JGLqNqzKpKC2L7w%3D%3D&position=4&pageNum=0&trk=public_jobs_jserp-result_search-card 395\n"
     ]
    },
    {
     "name": "stderr",
     "output_type": "stream",
     "text": [
      "INFO:li:scraper:('[Data Analyst][United States][5]', 'Processed')\n"
     ]
    },
    {
     "name": "stdout",
     "output_type": "stream",
     "text": [
      "[ON_DATA] Data Analyst II full_time entry_level Microsoft  3264556218 https://www.linkedin.com/jobs/view/data-analyst-ii-at-microsoft-3264556218?refId=7dqYx%2FNiAcE%2BJnvVPWfQUw%3D%3D&trackingId=Z9I63r93Q7TpAPaQXgZoIg%3D%3D&position=5&pageNum=0&trk=public_jobs_jserp-result_search-card 3961\n"
     ]
    },
    {
     "name": "stderr",
     "output_type": "stream",
     "text": [
      "INFO:li:scraper:('[Data Analyst][United States][6]', 'Processed')\n"
     ]
    },
    {
     "name": "stdout",
     "output_type": "stream",
     "text": [
      "[ON_DATA] Data Analyst, Insights full_time entry_level Checkr, Inc.  3098535569 https://www.linkedin.com/jobs/view/data-analyst-insights-at-checkr-inc-3098535569?refId=7dqYx%2FNiAcE%2BJnvVPWfQUw%3D%3D&trackingId=m36%2BGeCOoXHVyihEoSccxQ%3D%3D&position=6&pageNum=0&trk=public_jobs_jserp-result_search-card 4954\n"
     ]
    },
    {
     "name": "stderr",
     "output_type": "stream",
     "text": [
      "INFO:li:scraper:('[Data Analyst][United States][7]', 'Processed')\n"
     ]
    },
    {
     "name": "stdout",
     "output_type": "stream",
     "text": [
      "[ON_DATA] Data Analyst II full_time entry_level Microsoft  3264553642 https://www.linkedin.com/jobs/view/data-analyst-ii-at-microsoft-3264553642?refId=7dqYx%2FNiAcE%2BJnvVPWfQUw%3D%3D&trackingId=UmO8KRWoPocCgsWmyN8ZOw%3D%3D&position=7&pageNum=0&trk=public_jobs_jserp-result_search-card 3961\n"
     ]
    },
    {
     "name": "stderr",
     "output_type": "stream",
     "text": [
      "INFO:li:scraper:('[Data Analyst][United States][8]', 'Processed')\n"
     ]
    },
    {
     "name": "stdout",
     "output_type": "stream",
     "text": [
      "[ON_DATA] Data Analyst full_time entry_level Streetlight Digital  3265527804 https://www.linkedin.com/jobs/view/data-analyst-at-streetlight-digital-3265527804?refId=7dqYx%2FNiAcE%2BJnvVPWfQUw%3D%3D&trackingId=kXyp7HkaBbOeHHUGMoWSqg%3D%3D&position=8&pageNum=0&trk=public_jobs_jserp-result_search-card 2792\n"
     ]
    },
    {
     "name": "stderr",
     "output_type": "stream",
     "text": [
      "INFO:li:scraper:('[Data Analyst][United States][9]', 'Processed')\n"
     ]
    },
    {
     "name": "stdout",
     "output_type": "stream",
     "text": [
      "[ON_DATA] Data Analyst II full_time entry_level Microsoft  3264554653 https://www.linkedin.com/jobs/view/data-analyst-ii-at-microsoft-3264554653?refId=7dqYx%2FNiAcE%2BJnvVPWfQUw%3D%3D&trackingId=PbtfAeUP5WkD%2BxBAzYOm4w%3D%3D&position=9&pageNum=0&trk=public_jobs_jserp-result_search-card 3961\n"
     ]
    },
    {
     "name": "stderr",
     "output_type": "stream",
     "text": [
      "INFO:li:scraper:('[Data Analyst][United States][10]', 'Processed')\n"
     ]
    },
    {
     "name": "stdout",
     "output_type": "stream",
     "text": [
      "[ON_DATA] Data Analyst Asc full_time entry_level Lockheed Martin  3268633148 https://www.linkedin.com/jobs/view/data-analyst-asc-at-lockheed-martin-3268633148?refId=7dqYx%2FNiAcE%2BJnvVPWfQUw%3D%3D&trackingId=QMyQso%2BiNlHy2Wwb8tg8yw%3D%3D&position=10&pageNum=0&trk=public_jobs_jserp-result_search-card 1394\n"
     ]
    },
    {
     "name": "stderr",
     "output_type": "stream",
     "text": [
      "INFO:li:scraper:('[Data Analyst][United States][11]', 'Processed')\n"
     ]
    },
    {
     "name": "stdout",
     "output_type": "stream",
     "text": [
      "[ON_DATA] Data Analyst II full_time entry_level Cloudflare  3268189085 https://www.linkedin.com/jobs/view/data-analyst-ii-at-cloudflare-3268189085?refId=7dqYx%2FNiAcE%2BJnvVPWfQUw%3D%3D&trackingId=dZKUta72ujdRMlVDCHLkLw%3D%3D&position=11&pageNum=0&trk=public_jobs_jserp-result_search-card 8168\n"
     ]
    },
    {
     "name": "stderr",
     "output_type": "stream",
     "text": [
      "INFO:li:scraper:('[Data Analyst][United States][12]', 'Processed')\n"
     ]
    },
    {
     "name": "stdout",
     "output_type": "stream",
     "text": [
      "[ON_DATA] Data Analyst, Analytic Operations (Remote) full_time entry_level The Athletic  3267921072 https://www.linkedin.com/jobs/view/data-analyst-analytic-operations-remote-at-the-athletic-3267921072?refId=7dqYx%2FNiAcE%2BJnvVPWfQUw%3D%3D&trackingId=AOvtC8Ra5Bz4aJbdoFzt9g%3D%3D&position=12&pageNum=0&trk=public_jobs_jserp-result_search-card 2721\n"
     ]
    },
    {
     "name": "stderr",
     "output_type": "stream",
     "text": [
      "INFO:li:scraper:('[Data Analyst][United States][13]', 'Processed')\n"
     ]
    },
    {
     "name": "stdout",
     "output_type": "stream",
     "text": [
      "[ON_DATA] Data Analyst II full_time entry_level Microsoft  3264551984 https://www.linkedin.com/jobs/view/data-analyst-ii-at-microsoft-3264551984?refId=7dqYx%2FNiAcE%2BJnvVPWfQUw%3D%3D&trackingId=odHrEJdLdq1fOm7QMRXFzQ%3D%3D&position=13&pageNum=0&trk=public_jobs_jserp-result_search-card 3961\n"
     ]
    },
    {
     "name": "stderr",
     "output_type": "stream",
     "text": [
      "INFO:li:scraper:('[Data Analyst][United States][14]', 'Processed')\n",
      "WARNING:li:scraper:('[Data Analyst][United States]', '[429] Too many requests', 'You should probably increase scraper \"slow_mo\" value or reduce concurrency')\n"
     ]
    },
    {
     "name": "stdout",
     "output_type": "stream",
     "text": [
      "[ON_DATA] Entry level Data Analyst full_time entry_level Asta Crs Inc  3273601811 https://www.linkedin.com/jobs/view/entry-level-data-analyst-at-asta-crs-inc-3273601811?refId=7dqYx%2FNiAcE%2BJnvVPWfQUw%3D%3D&trackingId=83xv%2BRjqXuXVieBfZGGJAw%3D%3D&position=14&pageNum=0&trk=public_jobs_jserp-result_search-card 2372\n"
     ]
    },
    {
     "name": "stderr",
     "output_type": "stream",
     "text": [
      "INFO:li:scraper:('[Data Analyst][United States][15]', 'Processed')\n"
     ]
    },
    {
     "name": "stdout",
     "output_type": "stream",
     "text": [
      "[ON_DATA] Data Analyst full_time entry_level Mastermind.com  3264024851 https://www.linkedin.com/jobs/view/data-analyst-at-mastermind-com-3264024851?refId=7dqYx%2FNiAcE%2BJnvVPWfQUw%3D%3D&trackingId=%2BuH2p%2FBQJqw%2B%2Bww%2F6AejXA%3D%3D&position=15&pageNum=0&trk=public_jobs_jserp-result_search-card 3052\n"
     ]
    },
    {
     "name": "stderr",
     "output_type": "stream",
     "text": [
      "INFO:li:scraper:('[Data Analyst][United States][16]', 'Processed')\n"
     ]
    },
    {
     "name": "stdout",
     "output_type": "stream",
     "text": [
      "[ON_DATA] Data Analyst full_time entry_level Niche  3177383875 https://www.linkedin.com/jobs/view/data-analyst-at-niche-3177383875?refId=7dqYx%2FNiAcE%2BJnvVPWfQUw%3D%3D&trackingId=pj9UikCIPn2%2BLCrwWGJ1UA%3D%3D&position=16&pageNum=0&trk=public_jobs_jserp-result_search-card 5393\n"
     ]
    },
    {
     "name": "stderr",
     "output_type": "stream",
     "text": [
      "INFO:li:scraper:('[Data Analyst][United States][17]', 'Processed')\n"
     ]
    },
    {
     "name": "stdout",
     "output_type": "stream",
     "text": [
      "[ON_DATA] Data Analyst full_time entry_level JobsInLogistics.com  3272484528 https://www.linkedin.com/jobs/view/data-analyst-at-jobsinlogistics-com-3272484528?refId=7dqYx%2FNiAcE%2BJnvVPWfQUw%3D%3D&trackingId=%2B%2FvXLHS9xO0qw8w2GpEZGg%3D%3D&position=17&pageNum=0&trk=public_jobs_jserp-result_search-card 3790\n"
     ]
    },
    {
     "name": "stderr",
     "output_type": "stream",
     "text": [
      "WARNING:li:scraper:('[Data Analyst][United States]', '[429] Too many requests', 'You should probably increase scraper \"slow_mo\" value or reduce concurrency')\n",
      "INFO:li:scraper:('[Data Analyst][United States][18]', 'Processed')\n"
     ]
    },
    {
     "name": "stdout",
     "output_type": "stream",
     "text": [
      "[ON_DATA] Data Analyst - Early Career full_time entry_level Lockheed Martin  3244163661 https://www.linkedin.com/jobs/view/data-analyst-early-career-at-lockheed-martin-3244163661?refId=7dqYx%2FNiAcE%2BJnvVPWfQUw%3D%3D&trackingId=2qe6s4zF7Mj4CpA3azF%2FfA%3D%3D&position=18&pageNum=0&trk=public_jobs_jserp-result_search-card 5460\n"
     ]
    },
    {
     "name": "stderr",
     "output_type": "stream",
     "text": [
      "INFO:li:scraper:('[Data Analyst][United States][19]', 'Processed')\n"
     ]
    },
    {
     "name": "stdout",
     "output_type": "stream",
     "text": [
      "[ON_DATA] Data Analyst, CX Data, Forecasting & Systems full_time entry_level Away  3181859369 https://www.linkedin.com/jobs/view/data-analyst-cx-data-forecasting-systems-at-away-3181859369?refId=7dqYx%2FNiAcE%2BJnvVPWfQUw%3D%3D&trackingId=XC6jr7Bo78mYs%2FKcLUjnnw%3D%3D&position=19&pageNum=0&trk=public_jobs_jserp-result_search-card 6502\n"
     ]
    },
    {
     "name": "stderr",
     "output_type": "stream",
     "text": [
      "INFO:li:scraper:('[Data Analyst][United States][20]', 'Processed')\n"
     ]
    },
    {
     "name": "stdout",
     "output_type": "stream",
     "text": [
      "[ON_DATA] Data Analyst full_time entry_level YipitData  3244763994 https://www.linkedin.com/jobs/view/data-analyst-at-yipitdata-3244763994?refId=7dqYx%2FNiAcE%2BJnvVPWfQUw%3D%3D&trackingId=YrXOChQVZPhVrUUdszqL6A%3D%3D&position=20&pageNum=0&trk=public_jobs_jserp-result_search-card 5859\n"
     ]
    },
    {
     "name": "stderr",
     "output_type": "stream",
     "text": [
      "INFO:li:scraper:('[Data Analyst][United States][21]', 'Processed')\n"
     ]
    },
    {
     "name": "stdout",
     "output_type": "stream",
     "text": [
      "[ON_DATA] Data Analyst full_time entry_level OTR Solutions  3227045293 https://www.linkedin.com/jobs/view/data-analyst-at-otr-solutions-3227045293?refId=7dqYx%2FNiAcE%2BJnvVPWfQUw%3D%3D&trackingId=NTjoJ9AsIory%2B6NSvs3wKA%3D%3D&position=21&pageNum=0&trk=public_jobs_jserp-result_search-card 3062\n"
     ]
    },
    {
     "name": "stderr",
     "output_type": "stream",
     "text": [
      "INFO:li:scraper:('[Data Analyst][United States][22]', 'Processed')\n"
     ]
    },
    {
     "name": "stdout",
     "output_type": "stream",
     "text": [
      "[ON_DATA] Data Analyst II full_time entry_level Microsoft  3264556206 https://www.linkedin.com/jobs/view/data-analyst-ii-at-microsoft-3264556206?refId=7dqYx%2FNiAcE%2BJnvVPWfQUw%3D%3D&trackingId=wbzBznX5qUT1MiYOHMAsTQ%3D%3D&position=22&pageNum=0&trk=public_jobs_jserp-result_search-card 3961\n"
     ]
    },
    {
     "name": "stderr",
     "output_type": "stream",
     "text": [
      "INFO:li:scraper:('[Data Analyst][United States][23]', 'Processed')\n"
     ]
    },
    {
     "name": "stdout",
     "output_type": "stream",
     "text": [
      "[ON_DATA] Data Analyst II full_time entry_level Microsoft  3264557103 https://www.linkedin.com/jobs/view/data-analyst-ii-at-microsoft-3264557103?refId=7dqYx%2FNiAcE%2BJnvVPWfQUw%3D%3D&trackingId=tmGslpSaTvklgFZXqzrgiQ%3D%3D&position=23&pageNum=0&trk=public_jobs_jserp-result_search-card 3961\n"
     ]
    },
    {
     "name": "stderr",
     "output_type": "stream",
     "text": [
      "INFO:li:scraper:('[Data Analyst][United States][24]', 'Processed')\n"
     ]
    },
    {
     "name": "stdout",
     "output_type": "stream",
     "text": [
      "[ON_DATA] Data Analyst II full_time entry_level Microsoft  3264555351 https://www.linkedin.com/jobs/view/data-analyst-ii-at-microsoft-3264555351?refId=7dqYx%2FNiAcE%2BJnvVPWfQUw%3D%3D&trackingId=MCDinmrHg%2F9Fw88NQZCT%2Fg%3D%3D&position=24&pageNum=0&trk=public_jobs_jserp-result_search-card 3961\n"
     ]
    },
    {
     "name": "stderr",
     "output_type": "stream",
     "text": [
      "INFO:li:scraper:('[Data Analyst][United States][25]', 'Processed')\n",
      "INFO:li:scraper:('[Data Analyst][United States][25]', 'Checking for new jobs to load...')\n"
     ]
    },
    {
     "name": "stdout",
     "output_type": "stream",
     "text": [
      "[ON_DATA] Junior Data Analyst full_time entry_level AgileEngine  3247412630 https://www.linkedin.com/jobs/view/junior-data-analyst-at-agileengine-3247412630?refId=7dqYx%2FNiAcE%2BJnvVPWfQUw%3D%3D&trackingId=2n213lkXhR2HjTemhnznow%3D%3D&position=25&pageNum=0&trk=public_jobs_jserp-result_search-card 2304\n"
     ]
    },
    {
     "name": "stderr",
     "output_type": "stream",
     "text": [
      "INFO:li:scraper:('[Data Analyst][United States][25]', \"Couldn't find more jobs for the running query\")\n",
      "INFO:li:scraper:('Starting new query', \"Query(query=Data Analyst options=QueryOptions(limit=100000 locations=['United States'] filters=QueryFilters(time=TimeFilters.MONTH type=[<TypeFilters.FULL_TIME: 'F'>] experience=[<ExperienceLevelFilters.ASSOCIATE: '3'>]) optimize=False apply_link=True))\")\n"
     ]
    },
    {
     "name": "stdout",
     "output_type": "stream",
     "text": [
      "[ON_END]\n"
     ]
    },
    {
     "name": "stderr",
     "output_type": "stream",
     "text": [
      "INFO:li:scraper:('Chrome debugger url', 'http://localhost:56705')\n",
      "INFO:li:scraper:('[Data Analyst][United States]', 'Opening https://www.linkedin.com/jobs/search?keywords=Data+Analyst&location=United+States&f_TPR=r2592000&f_JT=F&f_E=3&start=0')\n",
      "INFO:li:scraper:('[Data Analyst][United States]', 'Trying first selectors set')\n",
      "INFO:li:scraper:('[Data Analyst][United States]', 'Trying second selectors set')\n",
      "INFO:li:scraper:('[Data Analyst][United States]', 'OK')\n",
      "INFO:li:scraper:('[Data Analyst][United States]', 'Starting pagination loop')\n",
      "INFO:li:scraper:('[Data Analyst][United States]', 'Found 25 jobs')\n",
      "INFO:li:scraper:('[Data Analyst][United States][1]', 'Processed')\n"
     ]
    },
    {
     "name": "stdout",
     "output_type": "stream",
     "text": [
      "[ON_DATA] Associate Data Analyst full_time associate Tesla  3237474295 https://www.linkedin.com/jobs/view/associate-data-analyst-at-tesla-3237474295?refId=I4%2Ff0%2Fzp2YOSonD42Op0MA%3D%3D&trackingId=g7Z1ae6urDM4kwocFDiQDQ%3D%3D&position=1&pageNum=0&trk=public_jobs_jserp-result_search-card 2845\n"
     ]
    },
    {
     "name": "stderr",
     "output_type": "stream",
     "text": [
      "INFO:li:scraper:('[Data Analyst][United States][2]', 'Processed')\n"
     ]
    },
    {
     "name": "stdout",
     "output_type": "stream",
     "text": [
      "[ON_DATA] Data Analyst (Level 2) full_time associate Lockheed Martin  3270116972 https://www.linkedin.com/jobs/view/data-analyst-level-2-at-lockheed-martin-3270116972?refId=I4%2Ff0%2Fzp2YOSonD42Op0MA%3D%3D&trackingId=rK6AADRmx8PV8XiR7jgbRA%3D%3D&position=2&pageNum=0&trk=public_jobs_jserp-result_search-card 1291\n"
     ]
    },
    {
     "name": "stderr",
     "output_type": "stream",
     "text": [
      "INFO:li:scraper:('[Data Analyst][United States][3]', 'Processed')\n"
     ]
    },
    {
     "name": "stdout",
     "output_type": "stream",
     "text": [
      "[ON_DATA] Data Analyst full_time associate Datassential  3273768827 https://www.linkedin.com/jobs/view/data-analyst-at-datassential-3273768827?refId=I4%2Ff0%2Fzp2YOSonD42Op0MA%3D%3D&trackingId=KRV4hxsE0dX67T6Syd%2BSQw%3D%3D&position=3&pageNum=0&trk=public_jobs_jserp-result_search-card 3227\n"
     ]
    },
    {
     "name": "stderr",
     "output_type": "stream",
     "text": [
      "INFO:li:scraper:('[Data Analyst][United States][4]', 'Processed')\n"
     ]
    },
    {
     "name": "stdout",
     "output_type": "stream",
     "text": [
      "[ON_DATA] Data Analyst full_time associate WellRight  3270348927 https://www.linkedin.com/jobs/view/data-analyst-at-wellright-3270348927?refId=I4%2Ff0%2Fzp2YOSonD42Op0MA%3D%3D&trackingId=6wUOLChMDpezBoniskg7Ig%3D%3D&position=4&pageNum=0&trk=public_jobs_jserp-result_search-card 5857\n"
     ]
    },
    {
     "name": "stderr",
     "output_type": "stream",
     "text": [
      "INFO:li:scraper:('[Data Analyst][United States][5]', 'Processed')\n"
     ]
    },
    {
     "name": "stdout",
     "output_type": "stream",
     "text": [
      "[ON_DATA] REMOTE- Data Analyst full_time associate Insight Global  3267931895 https://www.linkedin.com/jobs/view/remote-data-analyst-at-insight-global-3267931895?refId=I4%2Ff0%2Fzp2YOSonD42Op0MA%3D%3D&trackingId=sGfieQfcGIkB7Cmi153nyA%3D%3D&position=5&pageNum=0&trk=public_jobs_jserp-result_search-card 1419\n"
     ]
    },
    {
     "name": "stderr",
     "output_type": "stream",
     "text": [
      "INFO:li:scraper:('[Data Analyst][United States][6]', 'Processed')\n"
     ]
    },
    {
     "name": "stdout",
     "output_type": "stream",
     "text": [
      "[ON_DATA] Data Analyst I full_time associate Oracle  3267943491 https://www.linkedin.com/jobs/view/data-analyst-i-at-oracle-3267943491?refId=I4%2Ff0%2Fzp2YOSonD42Op0MA%3D%3D&trackingId=%2BDtXf9CXRWwlU4Y5oMALYQ%3D%3D&position=6&pageNum=0&trk=public_jobs_jserp-result_search-card 6096\n"
     ]
    },
    {
     "name": "stderr",
     "output_type": "stream",
     "text": [
      "INFO:li:scraper:('[Data Analyst][United States][7]', 'Processed')\n"
     ]
    },
    {
     "name": "stdout",
     "output_type": "stream",
     "text": [
      "[ON_DATA] Data Analyst full_time associate TabaPay  3266202158 https://www.linkedin.com/jobs/view/data-analyst-at-tabapay-3266202158?refId=I4%2Ff0%2Fzp2YOSonD42Op0MA%3D%3D&trackingId=fD%2B0%2F5yHysp5yCa4rdP%2FKw%3D%3D&position=7&pageNum=0&trk=public_jobs_jserp-result_search-card 4888\n"
     ]
    },
    {
     "name": "stderr",
     "output_type": "stream",
     "text": [
      "INFO:li:scraper:('[Data Analyst][United States][8]', 'Processed')\n"
     ]
    },
    {
     "name": "stdout",
     "output_type": "stream",
     "text": [
      "[ON_DATA] Data Analyst full_time associate alice + olivia  3268398354 https://www.linkedin.com/jobs/view/data-analyst-at-alice-%2B-olivia-3268398354?refId=I4%2Ff0%2Fzp2YOSonD42Op0MA%3D%3D&trackingId=6uzAPSp7W99Kgt%2BXSqAuiQ%3D%3D&position=8&pageNum=0&trk=public_jobs_jserp-result_search-card 2186\n"
     ]
    },
    {
     "name": "stderr",
     "output_type": "stream",
     "text": [
      "INFO:li:scraper:('[Data Analyst][United States][9]', 'Processed')\n"
     ]
    },
    {
     "name": "stdout",
     "output_type": "stream",
     "text": [
      "[ON_DATA] Associate Data Analyst full_time associate Beyond 12  3266478681 https://www.linkedin.com/jobs/view/associate-data-analyst-at-beyond-12-3266478681?refId=I4%2Ff0%2Fzp2YOSonD42Op0MA%3D%3D&trackingId=%2FcINRONrHdU%2BdtkovDIgiQ%3D%3D&position=9&pageNum=0&trk=public_jobs_jserp-result_search-card 4520\n"
     ]
    },
    {
     "name": "stderr",
     "output_type": "stream",
     "text": [
      "INFO:li:scraper:('[Data Analyst][United States][10]', 'Processed')\n"
     ]
    },
    {
     "name": "stdout",
     "output_type": "stream",
     "text": [
      "[ON_DATA] Data Analyst full_time associate Motimatic  3271674331 https://www.linkedin.com/jobs/view/data-analyst-at-motimatic-3271674331?refId=I4%2Ff0%2Fzp2YOSonD42Op0MA%3D%3D&trackingId=gRWhHoZ66p%2FZSXvzD1%2BSFQ%3D%3D&position=10&pageNum=0&trk=public_jobs_jserp-result_search-card 3180\n"
     ]
    },
    {
     "name": "stderr",
     "output_type": "stream",
     "text": [
      "INFO:li:scraper:('[Data Analyst][United States][11]', 'Processed')\n"
     ]
    },
    {
     "name": "stdout",
     "output_type": "stream",
     "text": [
      "[ON_DATA] Jr. Data Analyst full_time associate Healthy Directions  3245367348 https://www.linkedin.com/jobs/view/jr-data-analyst-at-healthy-directions-3245367348?refId=I4%2Ff0%2Fzp2YOSonD42Op0MA%3D%3D&trackingId=NJ%2FcLc1ZUg6obtL69o5t7w%3D%3D&position=11&pageNum=0&trk=public_jobs_jserp-result_search-card 3030\n"
     ]
    },
    {
     "name": "stderr",
     "output_type": "stream",
     "text": [
      "INFO:li:scraper:('[Data Analyst][United States][12]', 'Processed')\n"
     ]
    },
    {
     "name": "stdout",
     "output_type": "stream",
     "text": [
      "[ON_DATA] Associate Data Analyst full_time associate Scholastic  3266880738 https://www.linkedin.com/jobs/view/associate-data-analyst-at-scholastic-3266880738?refId=I4%2Ff0%2Fzp2YOSonD42Op0MA%3D%3D&trackingId=yq1iox56w%2F%2FQYiRlrvN6Gg%3D%3D&position=12&pageNum=0&trk=public_jobs_jserp-result_search-card 5913\n"
     ]
    },
    {
     "name": "stderr",
     "output_type": "stream",
     "text": [
      "INFO:li:scraper:('[Data Analyst][United States][13]', 'Processed')\n"
     ]
    },
    {
     "name": "stdout",
     "output_type": "stream",
     "text": [
      "[ON_DATA] Associate Data Analyst full_time associate Activision Blizzard  3268204970 https://www.linkedin.com/jobs/view/associate-data-analyst-at-activision-blizzard-3268204970?refId=I4%2Ff0%2Fzp2YOSonD42Op0MA%3D%3D&trackingId=xy1RpBw68ckUvFUDKiefbA%3D%3D&position=13&pageNum=0&trk=public_jobs_jserp-result_search-card 5193\n"
     ]
    },
    {
     "name": "stderr",
     "output_type": "stream",
     "text": [
      "INFO:li:scraper:('[Data Analyst][United States][14]', 'Processed')\n"
     ]
    },
    {
     "name": "stdout",
     "output_type": "stream",
     "text": [
      "[ON_DATA] Data Analytics & Insights Analyst full_time associate Barclays  3236510157 https://www.linkedin.com/jobs/view/data-analytics-insights-analyst-at-barclays-3236510157?refId=I4%2Ff0%2Fzp2YOSonD42Op0MA%3D%3D&trackingId=AokYYsNizA98QEwwXedWYQ%3D%3D&position=14&pageNum=0&trk=public_jobs_jserp-result_search-card 3072\n"
     ]
    },
    {
     "name": "stderr",
     "output_type": "stream",
     "text": [
      "INFO:li:scraper:('[Data Analyst][United States][15]', 'Processed')\n"
     ]
    },
    {
     "name": "stdout",
     "output_type": "stream",
     "text": [
      "[ON_DATA] Data Analytics & Insights Analyst full_time associate Barclays  3236507455 https://www.linkedin.com/jobs/view/data-analytics-insights-analyst-at-barclays-3236507455?refId=I4%2Ff0%2Fzp2YOSonD42Op0MA%3D%3D&trackingId=siSmiioJPvoOBTaekL00Bg%3D%3D&position=15&pageNum=0&trk=public_jobs_jserp-result_search-card 3070\n"
     ]
    },
    {
     "name": "stderr",
     "output_type": "stream",
     "text": [
      "INFO:li:scraper:('[Data Analyst][United States][16]', 'Processed')\n"
     ]
    },
    {
     "name": "stdout",
     "output_type": "stream",
     "text": [
      "[ON_DATA] Associate Data Analyst full_time associate Activision  3271386209 https://www.linkedin.com/jobs/view/associate-data-analyst-at-activision-3271386209?refId=I4%2Ff0%2Fzp2YOSonD42Op0MA%3D%3D&trackingId=YYkXxgQnXn%2FJFRG%2Fq7QkaQ%3D%3D&position=16&pageNum=0&trk=public_jobs_jserp-result_search-card 5283\n"
     ]
    },
    {
     "name": "stderr",
     "output_type": "stream",
     "text": [
      "INFO:li:scraper:('[Data Analyst][United States][17]', 'Processed')\n"
     ]
    },
    {
     "name": "stdout",
     "output_type": "stream",
     "text": [
      "[ON_DATA] Data Analyst full_time associate Averity  3260122624 https://www.linkedin.com/jobs/view/data-analyst-at-averity-3260122624?refId=I4%2Ff0%2Fzp2YOSonD42Op0MA%3D%3D&trackingId=GkqLyLPkPkeqQA8PJY83pw%3D%3D&position=17&pageNum=0&trk=public_jobs_jserp-result_search-card 1749\n"
     ]
    },
    {
     "name": "stderr",
     "output_type": "stream",
     "text": [
      "INFO:li:scraper:('[Data Analyst][United States][18]', 'Processed')\n"
     ]
    },
    {
     "name": "stdout",
     "output_type": "stream",
     "text": [
      "[ON_DATA] Data Analyst full_time associate Olio  3249156098 https://www.linkedin.com/jobs/view/data-analyst-at-olio-3249156098?refId=I4%2Ff0%2Fzp2YOSonD42Op0MA%3D%3D&trackingId=43m32gqIoyUy37GfDiEHbA%3D%3D&position=18&pageNum=0&trk=public_jobs_jserp-result_search-card 3109\n"
     ]
    },
    {
     "name": "stderr",
     "output_type": "stream",
     "text": [
      "INFO:li:scraper:('[Data Analyst][United States][19]', 'Processed')\n"
     ]
    },
    {
     "name": "stdout",
     "output_type": "stream",
     "text": [
      "[ON_DATA] Data Analyst full_time associate Insight Global  3267348567 https://www.linkedin.com/jobs/view/data-analyst-at-insight-global-3267348567?refId=I4%2Ff0%2Fzp2YOSonD42Op0MA%3D%3D&trackingId=iLcyZRKGcC4Sa61SIM0a3w%3D%3D&position=19&pageNum=0&trk=public_jobs_jserp-result_search-card 2398\n"
     ]
    },
    {
     "name": "stderr",
     "output_type": "stream",
     "text": [
      "INFO:li:scraper:('[Data Analyst][United States][20]', 'Processed')\n"
     ]
    },
    {
     "name": "stdout",
     "output_type": "stream",
     "text": [
      "[ON_DATA] Data Analyst full_time associate RIVO Holdings, LLC  3232239761 https://www.linkedin.com/jobs/view/data-analyst-at-rivo-holdings-llc-3232239761?refId=I4%2Ff0%2Fzp2YOSonD42Op0MA%3D%3D&trackingId=vG3FvtIaOBrNXibg%2FuEarg%3D%3D&position=20&pageNum=0&trk=public_jobs_jserp-result_search-card 2898\n"
     ]
    },
    {
     "name": "stderr",
     "output_type": "stream",
     "text": [
      "INFO:li:scraper:('[Data Analyst][United States][21]', 'Processed')\n"
     ]
    },
    {
     "name": "stdout",
     "output_type": "stream",
     "text": [
      "[ON_DATA] Data Analyst full_time associate Essity  3268392639 https://www.linkedin.com/jobs/view/data-analyst-at-essity-3268392639?refId=I4%2Ff0%2Fzp2YOSonD42Op0MA%3D%3D&trackingId=lZmt6afoJ%2F7UCHVht6iKJg%3D%3D&position=21&pageNum=0&trk=public_jobs_jserp-result_search-card 3932\n"
     ]
    },
    {
     "name": "stderr",
     "output_type": "stream",
     "text": [
      "INFO:li:scraper:('[Data Analyst][United States][22]', 'Processed')\n"
     ]
    },
    {
     "name": "stdout",
     "output_type": "stream",
     "text": [
      "[ON_DATA] Data Analyst, Customer Success full_time associate Square  3271923747 https://www.linkedin.com/jobs/view/data-analyst-customer-success-at-square-3271923747?refId=I4%2Ff0%2Fzp2YOSonD42Op0MA%3D%3D&trackingId=Ia%2F5WT5t16Tbr7n%2BDvJP5A%3D%3D&position=22&pageNum=0&trk=public_jobs_jserp-result_search-card 5727\n"
     ]
    },
    {
     "name": "stderr",
     "output_type": "stream",
     "text": [
      "INFO:li:scraper:('[Data Analyst][United States][23]', 'Processed')\n"
     ]
    },
    {
     "name": "stdout",
     "output_type": "stream",
     "text": [
      "[ON_DATA] Health Info Data Analyst full_time associate Fairview Health Services  3272485946 https://www.linkedin.com/jobs/view/health-info-data-analyst-at-fairview-health-services-3272485946?refId=I4%2Ff0%2Fzp2YOSonD42Op0MA%3D%3D&trackingId=ER6nH%2Fma0bLFHd8XNTCk0Q%3D%3D&position=23&pageNum=0&trk=public_jobs_jserp-result_search-card 3470\n"
     ]
    },
    {
     "name": "stderr",
     "output_type": "stream",
     "text": [
      "INFO:li:scraper:('[Data Analyst][United States][24]', 'Processed')\n"
     ]
    },
    {
     "name": "stdout",
     "output_type": "stream",
     "text": [
      "[ON_DATA] Data Analyst full_time associate Selby Jennings  3248871383 https://www.linkedin.com/jobs/view/data-analyst-at-selby-jennings-3248871383?refId=I4%2Ff0%2Fzp2YOSonD42Op0MA%3D%3D&trackingId=g2K7JWp%2BApUMiZLtn3yfYw%3D%3D&position=24&pageNum=0&trk=public_jobs_jserp-result_search-card 638\n"
     ]
    },
    {
     "name": "stderr",
     "output_type": "stream",
     "text": [
      "INFO:li:scraper:('[Data Analyst][United States][25]', 'Processed')\n"
     ]
    },
    {
     "name": "stdout",
     "output_type": "stream",
     "text": [
      "[ON_DATA] Data Analyst I full_time associate Oracle  3267942681 https://www.linkedin.com/jobs/view/data-analyst-i-at-oracle-3267942681?refId=I4%2Ff0%2Fzp2YOSonD42Op0MA%3D%3D&trackingId=72G44371gNV5MyKK8%2FtKdw%3D%3D&position=25&pageNum=0&trk=public_jobs_jserp-result_search-card 5579\n"
     ]
    },
    {
     "name": "stderr",
     "output_type": "stream",
     "text": [
      "INFO:li:scraper:('[Data Analyst][United States][26]', 'Processed')\n"
     ]
    },
    {
     "name": "stdout",
     "output_type": "stream",
     "text": [
      "[ON_DATA] Data Analyst I full_time associate Oracle  3267946111 https://www.linkedin.com/jobs/view/data-analyst-i-at-oracle-3267946111?refId=zXT3K6aa8W9NJqGvXIN%2BiA%3D%3D&trackingId=guaFS0T7rvO3vAJCil5SNg%3D%3D&position=1&pageNum=1&trk=public_jobs_jserp-result_search-card 5846\n"
     ]
    },
    {
     "name": "stderr",
     "output_type": "stream",
     "text": [
      "INFO:li:scraper:('[Data Analyst][United States][27]', 'Processed')\n"
     ]
    },
    {
     "name": "stdout",
     "output_type": "stream",
     "text": [
      "[ON_DATA] Data Analyst I full_time associate Oracle  3267942694 https://www.linkedin.com/jobs/view/data-analyst-i-at-oracle-3267942694?refId=zXT3K6aa8W9NJqGvXIN%2BiA%3D%3D&trackingId=R75FPUFQnbpuk6JKkE4OBw%3D%3D&position=2&pageNum=1&trk=public_jobs_jserp-result_search-card 4896\n"
     ]
    },
    {
     "name": "stderr",
     "output_type": "stream",
     "text": [
      "INFO:li:scraper:('[Data Analyst][United States][28]', 'Processed')\n"
     ]
    },
    {
     "name": "stdout",
     "output_type": "stream",
     "text": [
      "[ON_DATA] Healthcare Data Analyst full_time associate Children's Minnesota  3270839775 https://www.linkedin.com/jobs/view/healthcare-data-analyst-at-children-s-minnesota-3270839775?refId=zXT3K6aa8W9NJqGvXIN%2BiA%3D%3D&trackingId=ghyXQxIAPfiS3IKtyiOlOA%3D%3D&position=3&pageNum=1&trk=public_jobs_jserp-result_search-card 4255\n"
     ]
    },
    {
     "name": "stderr",
     "output_type": "stream",
     "text": [
      "INFO:li:scraper:('[Data Analyst][United States][29]', 'Processed')\n"
     ]
    },
    {
     "name": "stdout",
     "output_type": "stream",
     "text": [
      "[ON_DATA] Data Analyst full_time associate Insight Global  3262837338 https://www.linkedin.com/jobs/view/data-analyst-at-insight-global-3262837338?refId=zXT3K6aa8W9NJqGvXIN%2BiA%3D%3D&trackingId=sxRnu%2BgrwNcAJqdoKPeKdw%3D%3D&position=4&pageNum=1&trk=public_jobs_jserp-result_search-card 887\n"
     ]
    },
    {
     "name": "stderr",
     "output_type": "stream",
     "text": [
      "INFO:li:scraper:('[Data Analyst][United States][30]', 'Processed')\n"
     ]
    },
    {
     "name": "stdout",
     "output_type": "stream",
     "text": [
      "[ON_DATA] Data Analyst full_time associate Efficio  3271033787 https://www.linkedin.com/jobs/view/data-analyst-at-efficio-3271033787?refId=zXT3K6aa8W9NJqGvXIN%2BiA%3D%3D&trackingId=Karkr2L%2BH%2FqkJ8UWL7COhQ%3D%3D&position=5&pageNum=1&trk=public_jobs_jserp-result_search-card 2728\n"
     ]
    },
    {
     "name": "stderr",
     "output_type": "stream",
     "text": [
      "INFO:li:scraper:('[Data Analyst][United States][31]', 'Processed')\n"
     ]
    },
    {
     "name": "stdout",
     "output_type": "stream",
     "text": [
      "[ON_DATA] Data Analyst full_time associate LatentView Analytics  3265289447 https://www.linkedin.com/jobs/view/data-analyst-at-latentview-analytics-3265289447?refId=zXT3K6aa8W9NJqGvXIN%2BiA%3D%3D&trackingId=uBKS4sEbni5YNySAgOQhiA%3D%3D&position=6&pageNum=1&trk=public_jobs_jserp-result_search-card 2116\n"
     ]
    },
    {
     "name": "stderr",
     "output_type": "stream",
     "text": [
      "INFO:li:scraper:('[Data Analyst][United States][32]', 'Processed')\n"
     ]
    },
    {
     "name": "stdout",
     "output_type": "stream",
     "text": [
      "[ON_DATA] Marketing Data Analyst full_time associate Thryv  3249447699 https://www.linkedin.com/jobs/view/marketing-data-analyst-at-thryv-3249447699?refId=zXT3K6aa8W9NJqGvXIN%2BiA%3D%3D&trackingId=gVilonPt1xxqrzeBd%2BVcYg%3D%3D&position=7&pageNum=1&trk=public_jobs_jserp-result_search-card 6225\n"
     ]
    },
    {
     "name": "stderr",
     "output_type": "stream",
     "text": [
      "INFO:li:scraper:('[Data Analyst][United States][33]', 'Processed')\n"
     ]
    },
    {
     "name": "stdout",
     "output_type": "stream",
     "text": [
      "[ON_DATA] Data Analyst full_time associate Doximity  3231360946 https://www.linkedin.com/jobs/view/data-analyst-at-doximity-3231360946?refId=zXT3K6aa8W9NJqGvXIN%2BiA%3D%3D&trackingId=27r1CANYiwA5W%2F6rVUAHTA%3D%3D&position=8&pageNum=1&trk=public_jobs_jserp-result_search-card 5537\n"
     ]
    },
    {
     "name": "stderr",
     "output_type": "stream",
     "text": [
      "INFO:li:scraper:('[Data Analyst][United States][34]', 'Processed')\n"
     ]
    },
    {
     "name": "stdout",
     "output_type": "stream",
     "text": [
      "[ON_DATA] Data Analyst full_time associate Oxford Economics  3244706047 https://www.linkedin.com/jobs/view/data-analyst-at-oxford-economics-3244706047?refId=zXT3K6aa8W9NJqGvXIN%2BiA%3D%3D&trackingId=9zLBWMpEvgev%2Fh%2BedYSGuA%3D%3D&position=9&pageNum=1&trk=public_jobs_jserp-result_search-card 4218\n"
     ]
    },
    {
     "name": "stderr",
     "output_type": "stream",
     "text": [
      "INFO:li:scraper:('[Data Analyst][United States][35]', 'Processed')\n"
     ]
    },
    {
     "name": "stdout",
     "output_type": "stream",
     "text": [
      "[ON_DATA] Junior Data Analyst (Remote) full_time associate SynergisticIT  3273680891 https://www.linkedin.com/jobs/view/junior-data-analyst-remote-at-synergisticit-3273680891?refId=zXT3K6aa8W9NJqGvXIN%2BiA%3D%3D&trackingId=Ulgb0iPDKKtXowLkErdU2w%3D%3D&position=10&pageNum=1&trk=public_jobs_jserp-result_search-card 2135\n"
     ]
    },
    {
     "name": "stderr",
     "output_type": "stream",
     "text": [
      "INFO:li:scraper:('[Data Analyst][United States][36]', 'Processed')\n"
     ]
    },
    {
     "name": "stdout",
     "output_type": "stream",
     "text": [
      "[ON_DATA] Data Analyst full_time associate Segpay  3239117486 https://www.linkedin.com/jobs/view/data-analyst-at-segpay-3239117486?refId=zXT3K6aa8W9NJqGvXIN%2BiA%3D%3D&trackingId=Y3ZW7fTd1Hksrhl0B0cTCA%3D%3D&position=11&pageNum=1&trk=public_jobs_jserp-result_search-card 2225\n"
     ]
    },
    {
     "name": "stderr",
     "output_type": "stream",
     "text": [
      "INFO:li:scraper:('[Data Analyst][United States][37]', 'Processed')\n"
     ]
    },
    {
     "name": "stdout",
     "output_type": "stream",
     "text": [
      "[ON_DATA] Data Analyst (Level 2) full_time associate Lockheed Martin  3269502860 https://www.linkedin.com/jobs/view/data-analyst-level-2-at-lockheed-martin-3269502860?refId=zXT3K6aa8W9NJqGvXIN%2BiA%3D%3D&trackingId=vua14YUg%2FaJJotFN595xyg%3D%3D&position=12&pageNum=1&trk=public_jobs_jserp-result_search-card 2277\n"
     ]
    },
    {
     "name": "stderr",
     "output_type": "stream",
     "text": [
      "INFO:li:scraper:('[Data Analyst][United States][38]', 'Processed')\n"
     ]
    },
    {
     "name": "stdout",
     "output_type": "stream",
     "text": [
      "[ON_DATA] Data Analyst I full_time associate Nimble Robotics  3147978831 https://www.linkedin.com/jobs/view/data-analyst-i-at-nimble-robotics-3147978831?refId=zXT3K6aa8W9NJqGvXIN%2BiA%3D%3D&trackingId=sVxWS1mmbFTEL0k2BiPDMA%3D%3D&position=13&pageNum=1&trk=public_jobs_jserp-result_search-card 3662\n"
     ]
    },
    {
     "name": "stderr",
     "output_type": "stream",
     "text": [
      "INFO:li:scraper:('[Data Analyst][United States][39]', 'Processed')\n"
     ]
    },
    {
     "name": "stdout",
     "output_type": "stream",
     "text": [
      "[ON_DATA] Associate Data Science Analyst full_time associate Scholastic  3266880740 https://www.linkedin.com/jobs/view/associate-data-science-analyst-at-scholastic-3266880740?refId=zXT3K6aa8W9NJqGvXIN%2BiA%3D%3D&trackingId=M%2FvhDS4ixwZTV9MFZsTBfg%3D%3D&position=14&pageNum=1&trk=public_jobs_jserp-result_search-card 4393\n"
     ]
    },
    {
     "name": "stderr",
     "output_type": "stream",
     "text": [
      "INFO:li:scraper:('[Data Analyst][United States][40]', 'Processed')\n"
     ]
    },
    {
     "name": "stdout",
     "output_type": "stream",
     "text": [
      "[ON_DATA] Associate Data Analyst full_time associate Verint  3261425369 https://www.linkedin.com/jobs/view/associate-data-analyst-at-verint-3261425369?refId=zXT3K6aa8W9NJqGvXIN%2BiA%3D%3D&trackingId=nPEP3TcqaolaFkTNT3S%2F%2Bw%3D%3D&position=15&pageNum=1&trk=public_jobs_jserp-result_search-card 5092\n"
     ]
    },
    {
     "name": "stderr",
     "output_type": "stream",
     "text": [
      "INFO:li:scraper:('[Data Analyst][United States][41]', 'Processed')\n"
     ]
    },
    {
     "name": "stdout",
     "output_type": "stream",
     "text": [
      "[ON_DATA] Quantitative Data Analyst full_time associate Standard Media Index  3245094810 https://www.linkedin.com/jobs/view/quantitative-data-analyst-at-standard-media-index-3245094810?refId=zXT3K6aa8W9NJqGvXIN%2BiA%3D%3D&trackingId=BebiLQZUvjjRLqQBYTgvrQ%3D%3D&position=16&pageNum=1&trk=public_jobs_jserp-result_search-card 2022\n"
     ]
    },
    {
     "name": "stderr",
     "output_type": "stream",
     "text": [
      "INFO:li:scraper:('[Data Analyst][United States][42]', 'Processed')\n"
     ]
    },
    {
     "name": "stdout",
     "output_type": "stream",
     "text": [
      "[ON_DATA] Data Analyst 2 – Strategic Analytics full_time associate Nordstrom  3194471194 https://www.linkedin.com/jobs/view/data-analyst-2-%E2%80%93-strategic-analytics-at-nordstrom-3194471194?refId=zXT3K6aa8W9NJqGvXIN%2BiA%3D%3D&trackingId=envhraHl61KJ1w6HGDlV%2Fg%3D%3D&position=17&pageNum=1&trk=public_jobs_jserp-result_search-card 5513\n"
     ]
    },
    {
     "name": "stderr",
     "output_type": "stream",
     "text": [
      "INFO:li:scraper:('[Data Analyst][United States][43]', 'Processed')\n"
     ]
    },
    {
     "name": "stdout",
     "output_type": "stream",
     "text": [
      "[ON_DATA] Data Analyst I full_time associate Oracle  3267944693 https://www.linkedin.com/jobs/view/data-analyst-i-at-oracle-3267944693?refId=zXT3K6aa8W9NJqGvXIN%2BiA%3D%3D&trackingId=YRgyB4KRjNCNIn9rk4Fm6g%3D%3D&position=18&pageNum=1&trk=public_jobs_jserp-result_search-card 5392\n"
     ]
    },
    {
     "name": "stderr",
     "output_type": "stream",
     "text": [
      "INFO:li:scraper:('[Data Analyst][United States][44]', 'Processed')\n"
     ]
    },
    {
     "name": "stdout",
     "output_type": "stream",
     "text": [
      "[ON_DATA] Data Analyst 2 full_time associate Nordstrom  3194472069 https://www.linkedin.com/jobs/view/data-analyst-2-at-nordstrom-3194472069?refId=zXT3K6aa8W9NJqGvXIN%2BiA%3D%3D&trackingId=CjgHUKx4ObV2Ny9dGCN2PA%3D%3D&position=19&pageNum=1&trk=public_jobs_jserp-result_search-card 2613\n"
     ]
    },
    {
     "name": "stderr",
     "output_type": "stream",
     "text": [
      "INFO:li:scraper:('[Data Analyst][United States][45]', 'Processed')\n"
     ]
    },
    {
     "name": "stdout",
     "output_type": "stream",
     "text": [
      "[ON_DATA] Data Analyst full_time associate Corestream  3264566083 https://www.linkedin.com/jobs/view/data-analyst-at-corestream-3264566083?refId=zXT3K6aa8W9NJqGvXIN%2BiA%3D%3D&trackingId=ITrdk9SMFvdW1DFcVd4PDg%3D%3D&position=20&pageNum=1&trk=public_jobs_jserp-result_search-card 4384\n"
     ]
    },
    {
     "name": "stderr",
     "output_type": "stream",
     "text": [
      "INFO:li:scraper:('[Data Analyst][United States][46]', 'Processed')\n"
     ]
    },
    {
     "name": "stdout",
     "output_type": "stream",
     "text": [
      "[ON_DATA] Healthcare Data Analyst full_time associate Sentara Healthcare  3265976979 https://www.linkedin.com/jobs/view/healthcare-data-analyst-at-sentara-healthcare-3265976979?refId=zXT3K6aa8W9NJqGvXIN%2BiA%3D%3D&trackingId=fzuwa%2BVDERwjtg4Uj8UU3g%3D%3D&position=21&pageNum=1&trk=public_jobs_jserp-result_search-card 2948\n"
     ]
    },
    {
     "name": "stderr",
     "output_type": "stream",
     "text": [
      "INFO:li:scraper:('[Data Analyst][United States][47]', 'Processed')\n"
     ]
    },
    {
     "name": "stdout",
     "output_type": "stream",
     "text": [
      "[ON_DATA] Senior Data Analyst full_time associate Vizient, Inc  3273665717 https://www.linkedin.com/jobs/view/senior-data-analyst-at-vizient-inc-3273665717?refId=zXT3K6aa8W9NJqGvXIN%2BiA%3D%3D&trackingId=PV0IeiNte1QzODFECWxUVw%3D%3D&position=22&pageNum=1&trk=public_jobs_jserp-result_search-card 2932\n"
     ]
    },
    {
     "name": "stderr",
     "output_type": "stream",
     "text": [
      "INFO:li:scraper:('[Data Analyst][United States][48]', 'Processed')\n"
     ]
    },
    {
     "name": "stdout",
     "output_type": "stream",
     "text": [
      "[ON_DATA] Partner Data Analyst full_time associate LeagueApps  3230576510 https://www.linkedin.com/jobs/view/partner-data-analyst-at-leagueapps-3230576510?refId=zXT3K6aa8W9NJqGvXIN%2BiA%3D%3D&trackingId=6c1BHI%2B05t7W%2BwmME2eu6g%3D%3D&position=23&pageNum=1&trk=public_jobs_jserp-result_search-card 4125\n"
     ]
    },
    {
     "name": "stderr",
     "output_type": "stream",
     "text": [
      "INFO:li:scraper:('[Data Analyst][United States][49]', 'Processed')\n"
     ]
    },
    {
     "name": "stdout",
     "output_type": "stream",
     "text": [
      "[ON_DATA] Data Analyst I-MSH/SSVS/ELM full_time associate Mount Sinai Health System  3237751354 https://www.linkedin.com/jobs/view/data-analyst-i-msh-ssvs-elm-at-mount-sinai-health-system-3237751354?refId=zXT3K6aa8W9NJqGvXIN%2BiA%3D%3D&trackingId=i7isBHTpeNSocdPFsYZI3A%3D%3D&position=24&pageNum=1&trk=public_jobs_jserp-result_search-card 5406\n"
     ]
    },
    {
     "name": "stderr",
     "output_type": "stream",
     "text": [
      "INFO:li:scraper:('[Data Analyst][United States][50]', 'Processed')\n"
     ]
    },
    {
     "name": "stdout",
     "output_type": "stream",
     "text": [
      "[ON_DATA] Health Care Data Analyst, Advanced Analytics Analyst full_time associate Blue Cross Blue Shield of Massachusetts  3271079753 https://www.linkedin.com/jobs/view/health-care-data-analyst-advanced-analytics-analyst-at-blue-cross-blue-shield-of-massachusetts-3271079753?refId=zXT3K6aa8W9NJqGvXIN%2BiA%3D%3D&trackingId=UO1B0sB0eeMGHNCGgnypVQ%3D%3D&position=25&pageNum=1&trk=public_jobs_jserp-result_search-card 4115\n"
     ]
    },
    {
     "name": "stderr",
     "output_type": "stream",
     "text": [
      "INFO:li:scraper:('[Data Analyst][United States][51]', 'Processed')\n"
     ]
    },
    {
     "name": "stdout",
     "output_type": "stream",
     "text": [
      "[ON_DATA] Jr Data Analyst full_time associate Strada Education Network  3262753095 https://www.linkedin.com/jobs/view/jr-data-analyst-at-strada-education-network-3262753095?refId=JzQGGX4tvzMqX94kvcItJQ%3D%3D&trackingId=d1VL5ZKRuOA45x5PNBegyA%3D%3D&position=1&pageNum=2&trk=public_jobs_jserp-result_search-card 2475\n"
     ]
    },
    {
     "name": "stderr",
     "output_type": "stream",
     "text": [
      "INFO:li:scraper:('[Data Analyst][United States][52]', 'Processed')\n"
     ]
    },
    {
     "name": "stdout",
     "output_type": "stream",
     "text": [
      "[ON_DATA] Junior Data Analyst full_time associate SynergisticIT  3273684382 https://www.linkedin.com/jobs/view/junior-data-analyst-at-synergisticit-3273684382?refId=JzQGGX4tvzMqX94kvcItJQ%3D%3D&trackingId=%2FQrvCzoQwQ52B5%2BlSAi%2B7w%3D%3D&position=2&pageNum=2&trk=public_jobs_jserp-result_search-card 2135\n"
     ]
    },
    {
     "name": "stderr",
     "output_type": "stream",
     "text": [
      "INFO:li:scraper:('[Data Analyst][United States][53]', 'Processed')\n"
     ]
    },
    {
     "name": "stdout",
     "output_type": "stream",
     "text": [
      "[ON_DATA] Junior Data Analyst full_time associate Tata Consultancy Services  3254018319 https://www.linkedin.com/jobs/view/junior-data-analyst-at-tata-consultancy-services-3254018319?refId=JzQGGX4tvzMqX94kvcItJQ%3D%3D&trackingId=%2FQCOs807e1IgBeFpb6hHEw%3D%3D&position=3&pageNum=2&trk=public_jobs_jserp-result_search-card 938\n"
     ]
    },
    {
     "name": "stderr",
     "output_type": "stream",
     "text": [
      "INFO:li:scraper:('[Data Analyst][United States][54]', 'Processed')\n"
     ]
    },
    {
     "name": "stdout",
     "output_type": "stream",
     "text": [
      "[ON_DATA] Data Analyst 3 full_time associate U.S. Bank  3268464332 https://www.linkedin.com/jobs/view/data-analyst-3-at-u-s-bank-3268464332?refId=JzQGGX4tvzMqX94kvcItJQ%3D%3D&trackingId=YkiyIoVVTA3u98jaKngyAA%3D%3D&position=4&pageNum=2&trk=public_jobs_jserp-result_search-card 4355\n"
     ]
    },
    {
     "name": "stderr",
     "output_type": "stream",
     "text": [
      "INFO:li:scraper:('[Data Analyst][United States][55]', 'Processed')\n"
     ]
    },
    {
     "name": "stdout",
     "output_type": "stream",
     "text": [
      "[ON_DATA] Data Analyst full_time associate Givebutter  3256988698 https://www.linkedin.com/jobs/view/data-analyst-at-givebutter-3256988698?refId=JzQGGX4tvzMqX94kvcItJQ%3D%3D&trackingId=%2FBwaRQoIeGuzoeq3WpvqLw%3D%3D&position=5&pageNum=2&trk=public_jobs_jserp-result_search-card 2798\n"
     ]
    },
    {
     "name": "stderr",
     "output_type": "stream",
     "text": [
      "INFO:li:scraper:('[Data Analyst][United States][56]', 'Processed')\n"
     ]
    },
    {
     "name": "stdout",
     "output_type": "stream",
     "text": [
      "[ON_DATA] Data Analyst full_time associate Cash App  3268599629 https://www.linkedin.com/jobs/view/data-analyst-at-cash-app-3268599629?refId=JzQGGX4tvzMqX94kvcItJQ%3D%3D&trackingId=MdIH2UeJBfVuYiB1XAmOug%3D%3D&position=6&pageNum=2&trk=public_jobs_jserp-result_search-card 7002\n"
     ]
    },
    {
     "name": "stderr",
     "output_type": "stream",
     "text": [
      "INFO:li:scraper:('[Data Analyst][United States][57]', 'Processed')\n"
     ]
    },
    {
     "name": "stdout",
     "output_type": "stream",
     "text": [
      "[ON_DATA] Data Analyst full_time associate PADI  3268350616 https://www.linkedin.com/jobs/view/data-analyst-at-padi-3268350616?refId=JzQGGX4tvzMqX94kvcItJQ%3D%3D&trackingId=qqECwr3gUh8V5C3b%2BKnl7Q%3D%3D&position=7&pageNum=2&trk=public_jobs_jserp-result_search-card 6624\n"
     ]
    },
    {
     "name": "stderr",
     "output_type": "stream",
     "text": [
      "INFO:li:scraper:('[Data Analyst][United States][58]', 'Processed')\n"
     ]
    },
    {
     "name": "stdout",
     "output_type": "stream",
     "text": [
      "[ON_DATA] Data Analyst 2 – Strategic Analytics full_time associate Nordstrom  3194472003 https://www.linkedin.com/jobs/view/data-analyst-2-%E2%80%93-strategic-analytics-at-nordstrom-3194472003?refId=JzQGGX4tvzMqX94kvcItJQ%3D%3D&trackingId=Lhl%2BU7vxsPW0WApSVnM%2F6A%3D%3D&position=8&pageNum=2&trk=public_jobs_jserp-result_search-card 5513\n"
     ]
    },
    {
     "name": "stderr",
     "output_type": "stream",
     "text": [
      "INFO:li:scraper:('[Data Analyst][United States][59]', 'Processed')\n"
     ]
    },
    {
     "name": "stdout",
     "output_type": "stream",
     "text": [
      "[ON_DATA] Data Analyst full_time associate Brillio  3241935708 https://www.linkedin.com/jobs/view/data-analyst-at-brillio-3241935708?refId=JzQGGX4tvzMqX94kvcItJQ%3D%3D&trackingId=dTbX0wgPhaEno%2FMni40Nog%3D%3D&position=9&pageNum=2&trk=public_jobs_jserp-result_search-card 634\n"
     ]
    },
    {
     "name": "stderr",
     "output_type": "stream",
     "text": [
      "INFO:li:scraper:('[Data Analyst][United States][60]', 'Processed')\n"
     ]
    },
    {
     "name": "stdout",
     "output_type": "stream",
     "text": [
      "[ON_DATA] Jr Data Analyst full_time associate Strada Education Network  3262752133 https://www.linkedin.com/jobs/view/jr-data-analyst-at-strada-education-network-3262752133?refId=JzQGGX4tvzMqX94kvcItJQ%3D%3D&trackingId=Rjnobq5qeTMKRNYh84xUSw%3D%3D&position=10&pageNum=2&trk=public_jobs_jserp-result_search-card 2475\n"
     ]
    },
    {
     "name": "stderr",
     "output_type": "stream",
     "text": [
      "INFO:li:scraper:('[Data Analyst][United States][61]', 'Processed')\n"
     ]
    },
    {
     "name": "stdout",
     "output_type": "stream",
     "text": [
      "[ON_DATA] Data Analyst full_time associate ASML  3228711887 https://www.linkedin.com/jobs/view/data-analyst-at-asml-3228711887?refId=JzQGGX4tvzMqX94kvcItJQ%3D%3D&trackingId=UyYSHsaoZ%2BzotUJTHkYcYw%3D%3D&position=11&pageNum=2&trk=public_jobs_jserp-result_search-card 5207\n"
     ]
    },
    {
     "name": "stderr",
     "output_type": "stream",
     "text": [
      "INFO:li:scraper:('[Data Analyst][United States][62]', 'Processed')\n"
     ]
    },
    {
     "name": "stdout",
     "output_type": "stream",
     "text": [
      "[ON_DATA] Data Analyst (Local-Remote) full_time associate Insperity  3257948354 https://www.linkedin.com/jobs/view/data-analyst-local-remote-at-insperity-3257948354?refId=JzQGGX4tvzMqX94kvcItJQ%3D%3D&trackingId=r2ro5tRs3n5R0puD1KYVPw%3D%3D&position=12&pageNum=2&trk=public_jobs_jserp-result_search-card 4844\n"
     ]
    },
    {
     "name": "stderr",
     "output_type": "stream",
     "text": [
      "INFO:li:scraper:('[Data Analyst][United States][63]', 'Processed')\n"
     ]
    },
    {
     "name": "stdout",
     "output_type": "stream",
     "text": [
      "[ON_DATA] Junior Data Analyst full_time associate Zbox.com  3241378877 https://www.linkedin.com/jobs/view/junior-data-analyst-at-zbox-com-3241378877?refId=JzQGGX4tvzMqX94kvcItJQ%3D%3D&trackingId=s3eabet0U8Zi37Y1pZNmlg%3D%3D&position=13&pageNum=2&trk=public_jobs_jserp-result_search-card 1766\n"
     ]
    },
    {
     "name": "stderr",
     "output_type": "stream",
     "text": [
      "INFO:li:scraper:('[Data Analyst][United States][64]', 'Processed')\n"
     ]
    },
    {
     "name": "stdout",
     "output_type": "stream",
     "text": [
      "[ON_DATA] Data Analyst, Diablo 4 Analytics full_time associate Blizzard Entertainment  3164798919 https://www.linkedin.com/jobs/view/data-analyst-diablo-4-analytics-at-blizzard-entertainment-3164798919?refId=JzQGGX4tvzMqX94kvcItJQ%3D%3D&trackingId=WalffZiCxeaxMv%2FD4o%2BTSg%3D%3D&position=14&pageNum=2&trk=public_jobs_jserp-result_search-card 4538\n"
     ]
    },
    {
     "name": "stderr",
     "output_type": "stream",
     "text": [
      "INFO:li:scraper:('[Data Analyst][United States][65]', 'Processed')\n"
     ]
    },
    {
     "name": "stdout",
     "output_type": "stream",
     "text": [
      "[ON_DATA] Sr. Data Analyst full_time associate Varo Bank  3265576357 https://www.linkedin.com/jobs/view/sr-data-analyst-at-varo-bank-3265576357?refId=JzQGGX4tvzMqX94kvcItJQ%3D%3D&trackingId=FG9fKZnyQxOx7b6R6R5f3A%3D%3D&position=15&pageNum=2&trk=public_jobs_jserp-result_search-card 5318\n"
     ]
    },
    {
     "name": "stderr",
     "output_type": "stream",
     "text": [
      "INFO:li:scraper:('[Data Analyst][United States][66]', 'Processed')\n"
     ]
    },
    {
     "name": "stdout",
     "output_type": "stream",
     "text": [
      "[ON_DATA] Senior Data Analyst, Consumer Insights full_time associate Bath & Body Works  3222989875 https://www.linkedin.com/jobs/view/senior-data-analyst-consumer-insights-at-bath-body-works-3222989875?refId=JzQGGX4tvzMqX94kvcItJQ%3D%3D&trackingId=qhglUr5YKrciNLw4sZpEHw%3D%3D&position=16&pageNum=2&trk=public_jobs_jserp-result_search-card 3426\n"
     ]
    },
    {
     "name": "stderr",
     "output_type": "stream",
     "text": [
      "INFO:li:scraper:('[Data Analyst][United States][67]', 'Processed')\n"
     ]
    },
    {
     "name": "stdout",
     "output_type": "stream",
     "text": [
      "[ON_DATA] Healthcare Data Analyst full_time associate Milliman  3270623256 https://www.linkedin.com/jobs/view/healthcare-data-analyst-at-milliman-3270623256?refId=JzQGGX4tvzMqX94kvcItJQ%3D%3D&trackingId=fRYUOaMoAJjEwvYlQdvHcA%3D%3D&position=17&pageNum=2&trk=public_jobs_jserp-result_search-card 3171\n"
     ]
    },
    {
     "name": "stderr",
     "output_type": "stream",
     "text": [
      "INFO:li:scraper:('[Data Analyst][United States][68]', 'Processed')\n"
     ]
    },
    {
     "name": "stdout",
     "output_type": "stream",
     "text": [
      "[ON_DATA] Senior Data Analyst - Tech full_time associate Walmart  3228679138 https://www.linkedin.com/jobs/view/senior-data-analyst-tech-at-walmart-3228679138?refId=JzQGGX4tvzMqX94kvcItJQ%3D%3D&trackingId=l5RbvpmoSqYKlJI1yH%2BNRA%3D%3D&position=18&pageNum=2&trk=public_jobs_jserp-result_search-card 5492\n"
     ]
    },
    {
     "name": "stderr",
     "output_type": "stream",
     "text": [
      "INFO:li:scraper:('[Data Analyst][United States][69]', 'Processed')\n"
     ]
    },
    {
     "name": "stdout",
     "output_type": "stream",
     "text": [
      "[ON_DATA] Healthcare Data Analyst full_time associate WPS Health Solutions  3270123382 https://www.linkedin.com/jobs/view/healthcare-data-analyst-at-wps-health-solutions-3270123382?refId=JzQGGX4tvzMqX94kvcItJQ%3D%3D&trackingId=WBLCY%2FRPgdIgvFZBoCxIDQ%3D%3D&position=19&pageNum=2&trk=public_jobs_jserp-result_search-card 5097\n"
     ]
    },
    {
     "name": "stderr",
     "output_type": "stream",
     "text": [
      "INFO:li:scraper:('[Data Analyst][United States][70]', 'Processed')\n"
     ]
    },
    {
     "name": "stdout",
     "output_type": "stream",
     "text": [
      "[ON_DATA] Data Analyst 2 – Strategic Analytics full_time associate Nordstrom  3194470229 https://www.linkedin.com/jobs/view/data-analyst-2-%E2%80%93-strategic-analytics-at-nordstrom-3194470229?refId=JzQGGX4tvzMqX94kvcItJQ%3D%3D&trackingId=O4OTUkAcztMuz2T6iG0Suw%3D%3D&position=20&pageNum=2&trk=public_jobs_jserp-result_search-card 5513\n"
     ]
    },
    {
     "name": "stderr",
     "output_type": "stream",
     "text": [
      "INFO:li:scraper:('[Data Analyst][United States][71]', 'Processed')\n"
     ]
    },
    {
     "name": "stdout",
     "output_type": "stream",
     "text": [
      "[ON_DATA] Data Analyst full_time associate Code Ocean  3219396453 https://www.linkedin.com/jobs/view/data-analyst-at-code-ocean-3219396453?refId=JzQGGX4tvzMqX94kvcItJQ%3D%3D&trackingId=U0juX2BbEUrAJmOizTJueA%3D%3D&position=21&pageNum=2&trk=public_jobs_jserp-result_search-card 4586\n"
     ]
    },
    {
     "name": "stderr",
     "output_type": "stream",
     "text": [
      "INFO:li:scraper:('[Data Analyst][United States][72]', 'Processed')\n"
     ]
    },
    {
     "name": "stdout",
     "output_type": "stream",
     "text": [
      "[ON_DATA] Data Analyst full_time associate Medasource  3259158226 https://www.linkedin.com/jobs/view/data-analyst-at-medasource-3259158226?refId=JzQGGX4tvzMqX94kvcItJQ%3D%3D&trackingId=ibB1aO5qIwLqc7Y%2BNiVC7A%3D%3D&position=22&pageNum=2&trk=public_jobs_jserp-result_search-card 2942\n"
     ]
    },
    {
     "name": "stderr",
     "output_type": "stream",
     "text": [
      "INFO:li:scraper:('[Data Analyst][United States][73]', 'Processed')\n"
     ]
    },
    {
     "name": "stdout",
     "output_type": "stream",
     "text": [
      "[ON_DATA] Data Analyst full_time associate ITECCO  3256824644 https://www.linkedin.com/jobs/view/data-analyst-at-itecco-3256824644?refId=JzQGGX4tvzMqX94kvcItJQ%3D%3D&trackingId=hSf8kNeUjYqmu3WL%2FjfecA%3D%3D&position=23&pageNum=2&trk=public_jobs_jserp-result_search-card 2046\n"
     ]
    },
    {
     "name": "stderr",
     "output_type": "stream",
     "text": [
      "INFO:li:scraper:('[Data Analyst][United States][74]', 'Processed')\n"
     ]
    },
    {
     "name": "stdout",
     "output_type": "stream",
     "text": [
      "[ON_DATA] Data Analyst I full_time associate Oracle  3267943505 https://www.linkedin.com/jobs/view/data-analyst-i-at-oracle-3267943505?refId=JzQGGX4tvzMqX94kvcItJQ%3D%3D&trackingId=Yd7PFCP%2BUfr%2FPFMOFN7ZwA%3D%3D&position=24&pageNum=2&trk=public_jobs_jserp-result_search-card 5936\n"
     ]
    },
    {
     "name": "stderr",
     "output_type": "stream",
     "text": [
      "INFO:li:scraper:('[Data Analyst][United States][75]', 'Processed')\n"
     ]
    },
    {
     "name": "stdout",
     "output_type": "stream",
     "text": [
      "[ON_DATA] Data Analyst full_time associate Harnham  3247656706 https://www.linkedin.com/jobs/view/data-analyst-at-harnham-3247656706?refId=JzQGGX4tvzMqX94kvcItJQ%3D%3D&trackingId=RIehb%2BzpJbd39Cxd4WReMg%3D%3D&position=25&pageNum=2&trk=public_jobs_jserp-result_search-card 1071\n"
     ]
    },
    {
     "name": "stderr",
     "output_type": "stream",
     "text": [
      "INFO:li:scraper:('[Data Analyst][United States][76]', 'Processed')\n"
     ]
    },
    {
     "name": "stdout",
     "output_type": "stream",
     "text": [
      "[ON_DATA] Data Analyst 1 full_time associate Compunnel Inc.  3273960200 https://www.linkedin.com/jobs/view/data-analyst-1-at-compunnel-inc-3273960200?refId=eOLdPo9muohFmeSmSsoMXg%3D%3D&trackingId=Jzd4SQraOy71ErEPq4PTZQ%3D%3D&position=1&pageNum=3&trk=public_jobs_jserp-result_search-card 2023\n"
     ]
    },
    {
     "name": "stderr",
     "output_type": "stream",
     "text": [
      "INFO:li:scraper:('[Data Analyst][United States][77]', 'Processed')\n"
     ]
    },
    {
     "name": "stdout",
     "output_type": "stream",
     "text": [
      "[ON_DATA] Healthcare Data Analyst full_time associate Mount Sinai Health System  3244449771 https://www.linkedin.com/jobs/view/healthcare-data-analyst-at-mount-sinai-health-system-3244449771?refId=eOLdPo9muohFmeSmSsoMXg%3D%3D&trackingId=A54ABZXDBM%2Fir2%2FmT5E4Ug%3D%3D&position=2&pageNum=3&trk=public_jobs_jserp-result_search-card 6640\n"
     ]
    },
    {
     "name": "stderr",
     "output_type": "stream",
     "text": [
      "INFO:li:scraper:('[Data Analyst][United States][78]', 'Processed')\n"
     ]
    },
    {
     "name": "stdout",
     "output_type": "stream",
     "text": [
      "[ON_DATA] Data Analyst 2 - Telecommute full_time associate Optum  3266822926 https://www.linkedin.com/jobs/view/data-analyst-2-telecommute-at-optum-3266822926?refId=eOLdPo9muohFmeSmSsoMXg%3D%3D&trackingId=OLlHMuPi%2BhYw2x9AEZabwQ%3D%3D&position=3&pageNum=3&trk=public_jobs_jserp-result_search-card 6635\n"
     ]
    },
    {
     "name": "stderr",
     "output_type": "stream",
     "text": [
      "INFO:li:scraper:('[Data Analyst][United States][79]', 'Processed')\n"
     ]
    },
    {
     "name": "stdout",
     "output_type": "stream",
     "text": [
      "[ON_DATA] Data Analyst 2 – Strategic Analytics full_time associate Nordstrom  3194470232 https://www.linkedin.com/jobs/view/data-analyst-2-%E2%80%93-strategic-analytics-at-nordstrom-3194470232?refId=eOLdPo9muohFmeSmSsoMXg%3D%3D&trackingId=IcQQHa8MnNhwr4A0mzLJkw%3D%3D&position=4&pageNum=3&trk=public_jobs_jserp-result_search-card 5513\n"
     ]
    },
    {
     "name": "stderr",
     "output_type": "stream",
     "text": [
      "INFO:li:scraper:('[Data Analyst][United States][80]', 'Processed')\n"
     ]
    },
    {
     "name": "stdout",
     "output_type": "stream",
     "text": [
      "[ON_DATA] Associate Data Analyst full_time associate Prudential Financial  3272421122 https://www.linkedin.com/jobs/view/associate-data-analyst-at-prudential-financial-3272421122?refId=eOLdPo9muohFmeSmSsoMXg%3D%3D&trackingId=QpXy%2BKYk%2F%2By79ogeA32RDw%3D%3D&position=5&pageNum=3&trk=public_jobs_jserp-result_search-card 5341\n"
     ]
    },
    {
     "name": "stderr",
     "output_type": "stream",
     "text": [
      "INFO:li:scraper:('[Data Analyst][United States][81]', 'Processed')\n"
     ]
    },
    {
     "name": "stdout",
     "output_type": "stream",
     "text": [
      "[ON_DATA] Data Analyst (level 2) full_time associate Lockheed Martin  3270669375 https://www.linkedin.com/jobs/view/data-analyst-level-2-at-lockheed-martin-3270669375?refId=eOLdPo9muohFmeSmSsoMXg%3D%3D&trackingId=bhwCcrvZT2xo8NWwkRBPSw%3D%3D&position=6&pageNum=3&trk=public_jobs_jserp-result_search-card 1740\n"
     ]
    },
    {
     "name": "stderr",
     "output_type": "stream",
     "text": [
      "INFO:li:scraper:('[Data Analyst][United States][82]', 'Processed')\n"
     ]
    },
    {
     "name": "stdout",
     "output_type": "stream",
     "text": [
      "[ON_DATA] Data Analyst full_time associate Kforce Inc  3267955486 https://www.linkedin.com/jobs/view/data-analyst-at-kforce-inc-3267955486?refId=eOLdPo9muohFmeSmSsoMXg%3D%3D&trackingId=Ztr%2BkWxEHQkRsqKnYt6Veg%3D%3D&position=7&pageNum=3&trk=public_jobs_jserp-result_search-card 2676\n"
     ]
    },
    {
     "name": "stderr",
     "output_type": "stream",
     "text": [
      "INFO:li:scraper:('[Data Analyst][United States][83]', 'Processed')\n"
     ]
    },
    {
     "name": "stdout",
     "output_type": "stream",
     "text": [
      "[ON_DATA] Healthcare Data Analyst full_time associate New Directions Behavioral Health  3260333246 https://www.linkedin.com/jobs/view/healthcare-data-analyst-at-new-directions-behavioral-health-3260333246?refId=eOLdPo9muohFmeSmSsoMXg%3D%3D&trackingId=VCZxo5W8Rp9dPtzSpan8fg%3D%3D&position=8&pageNum=3&trk=public_jobs_jserp-result_search-card 4121\n"
     ]
    },
    {
     "name": "stderr",
     "output_type": "stream",
     "text": [
      "INFO:li:scraper:('[Data Analyst][United States][84]', 'Processed')\n"
     ]
    },
    {
     "name": "stdout",
     "output_type": "stream",
     "text": [
      "[ON_DATA] Healthcare Data Analyst full_time associate New Directions Behavioral Health  3260331581 https://www.linkedin.com/jobs/view/healthcare-data-analyst-at-new-directions-behavioral-health-3260331581?refId=eOLdPo9muohFmeSmSsoMXg%3D%3D&trackingId=KQgyKirVozu8%2BrAHpRBJXQ%3D%3D&position=9&pageNum=3&trk=public_jobs_jserp-result_search-card 4121\n"
     ]
    },
    {
     "name": "stderr",
     "output_type": "stream",
     "text": [
      "INFO:li:scraper:('[Data Analyst][United States][85]', 'Processed')\n"
     ]
    },
    {
     "name": "stdout",
     "output_type": "stream",
     "text": [
      "[ON_DATA] Junior Data Analyst full_time associate Grant Thornton LLP (US)  3270163010 https://www.linkedin.com/jobs/view/junior-data-analyst-at-grant-thornton-llp-us-3270163010?refId=eOLdPo9muohFmeSmSsoMXg%3D%3D&trackingId=k8XEznjnHABJNk944VBwkg%3D%3D&position=10&pageNum=3&trk=public_jobs_jserp-result_search-card 5035\n"
     ]
    },
    {
     "name": "stderr",
     "output_type": "stream",
     "text": [
      "INFO:li:scraper:('[Data Analyst][United States][86]', 'Processed')\n"
     ]
    },
    {
     "name": "stdout",
     "output_type": "stream",
     "text": [
      "[ON_DATA] Talent Data Analyst, Square full_time associate Square  3235624129 https://www.linkedin.com/jobs/view/talent-data-analyst-square-at-square-3235624129?refId=eOLdPo9muohFmeSmSsoMXg%3D%3D&trackingId=nTRO64YrOEkF5%2Bv99Y3NRg%3D%3D&position=11&pageNum=3&trk=public_jobs_jserp-result_search-card 5605\n"
     ]
    },
    {
     "name": "stderr",
     "output_type": "stream",
     "text": [
      "INFO:li:scraper:('[Data Analyst][United States][87]', 'Processed')\n"
     ]
    },
    {
     "name": "stdout",
     "output_type": "stream",
     "text": [
      "[ON_DATA] Data Analyst full_time associate Gresham Tech  3260422723 https://www.linkedin.com/jobs/view/data-analyst-at-gresham-tech-3260422723?refId=eOLdPo9muohFmeSmSsoMXg%3D%3D&trackingId=dnFcjcA1sodZ2hGZDgpnpw%3D%3D&position=12&pageNum=3&trk=public_jobs_jserp-result_search-card 4599\n"
     ]
    },
    {
     "name": "stderr",
     "output_type": "stream",
     "text": [
      "INFO:li:scraper:('[Data Analyst][United States][88]', 'Processed')\n"
     ]
    },
    {
     "name": "stdout",
     "output_type": "stream",
     "text": [
      "[ON_DATA] Data Analyst full_time associate The Parking Spot  3142239466 https://www.linkedin.com/jobs/view/data-analyst-at-the-parking-spot-3142239466?refId=eOLdPo9muohFmeSmSsoMXg%3D%3D&trackingId=18zge0I89U8%2BEPgzKOgcIQ%3D%3D&position=13&pageNum=3&trk=public_jobs_jserp-result_search-card 3885\n"
     ]
    },
    {
     "name": "stderr",
     "output_type": "stream",
     "text": [
      "INFO:li:scraper:('[Data Analyst][United States][89]', 'Processed')\n"
     ]
    },
    {
     "name": "stdout",
     "output_type": "stream",
     "text": [
      "[ON_DATA] Healthcare Data Analyst 1 - Telecommute full_time associate UnitedHealthcare  3273615308 https://www.linkedin.com/jobs/view/healthcare-data-analyst-1-telecommute-at-unitedhealthcare-3273615308?refId=eOLdPo9muohFmeSmSsoMXg%3D%3D&trackingId=yAzdNe8ZvZzG7O2eTAaUDw%3D%3D&position=14&pageNum=3&trk=public_jobs_jserp-result_search-card 6043\n"
     ]
    },
    {
     "name": "stderr",
     "output_type": "stream",
     "text": [
      "INFO:li:scraper:('[Data Analyst][United States][90]', 'Processed')\n"
     ]
    },
    {
     "name": "stdout",
     "output_type": "stream",
     "text": [
      "[ON_DATA] Data Analyst full_time associate Kaiser Aluminum  3260327628 https://www.linkedin.com/jobs/view/data-analyst-at-kaiser-aluminum-3260327628?refId=eOLdPo9muohFmeSmSsoMXg%3D%3D&trackingId=XI%2By6V%2B8ftSaxsI34pU7bg%3D%3D&position=15&pageNum=3&trk=public_jobs_jserp-result_search-card 3131\n"
     ]
    },
    {
     "name": "stderr",
     "output_type": "stream",
     "text": [
      "INFO:li:scraper:('[Data Analyst][United States][91]', 'Processed')\n"
     ]
    },
    {
     "name": "stdout",
     "output_type": "stream",
     "text": [
      "[ON_DATA] Data Analyst I-Urology full_time associate Mount Sinai Health System  3264595965 https://www.linkedin.com/jobs/view/data-analyst-i-urology-at-mount-sinai-health-system-3264595965?refId=eOLdPo9muohFmeSmSsoMXg%3D%3D&trackingId=av0puvSGZG58E4%2FEVPc1CA%3D%3D&position=16&pageNum=3&trk=public_jobs_jserp-result_search-card 4211\n"
     ]
    },
    {
     "name": "stderr",
     "output_type": "stream",
     "text": [
      "INFO:li:scraper:('[Data Analyst][United States][92]', 'Processed')\n"
     ]
    },
    {
     "name": "stdout",
     "output_type": "stream",
     "text": [
      "[ON_DATA] Data Analyst I full_time associate Pekin Insurance  3252827731 https://www.linkedin.com/jobs/view/data-analyst-i-at-pekin-insurance-3252827731?refId=eOLdPo9muohFmeSmSsoMXg%3D%3D&trackingId=%2BRjdBv8gEibViLjT3bVkAg%3D%3D&position=17&pageNum=3&trk=public_jobs_jserp-result_search-card 4357\n"
     ]
    },
    {
     "name": "stderr",
     "output_type": "stream",
     "text": [
      "INFO:li:scraper:('[Data Analyst][United States][93]', 'Processed')\n"
     ]
    },
    {
     "name": "stdout",
     "output_type": "stream",
     "text": [
      "[ON_DATA] Data Analyst I full_time associate Oracle  3267946257 https://www.linkedin.com/jobs/view/data-analyst-i-at-oracle-3267946257?refId=eOLdPo9muohFmeSmSsoMXg%3D%3D&trackingId=a%2Bx7kJp2sRSvv84lryyolQ%3D%3D&position=18&pageNum=3&trk=public_jobs_jserp-result_search-card 6994\n"
     ]
    },
    {
     "name": "stderr",
     "output_type": "stream",
     "text": [
      "INFO:li:scraper:('[Data Analyst][United States][94]', 'Processed')\n"
     ]
    },
    {
     "name": "stdout",
     "output_type": "stream",
     "text": [
      "[ON_DATA] Data Analyst II full_time associate SiLo  3245550625 https://www.linkedin.com/jobs/view/data-analyst-ii-at-silo-3245550625?refId=eOLdPo9muohFmeSmSsoMXg%3D%3D&trackingId=krwFsBwwTIsmGrzxTxh%2FTg%3D%3D&position=19&pageNum=3&trk=public_jobs_jserp-result_search-card 4273\n"
     ]
    },
    {
     "name": "stderr",
     "output_type": "stream",
     "text": [
      "INFO:li:scraper:('[Data Analyst][United States][95]', 'Processed')\n"
     ]
    },
    {
     "name": "stdout",
     "output_type": "stream",
     "text": [
      "[ON_DATA] Data Analyst - Junior - Mid level full_time associate Dice  3260759760 https://www.linkedin.com/jobs/view/data-analyst-junior-mid-level-at-dice-3260759760?refId=eOLdPo9muohFmeSmSsoMXg%3D%3D&trackingId=EfP7pPvdw%2BwjF5Ab2wnCaA%3D%3D&position=20&pageNum=3&trk=public_jobs_jserp-result_search-card 1209\n"
     ]
    },
    {
     "name": "stderr",
     "output_type": "stream",
     "text": [
      "INFO:li:scraper:('[Data Analyst][United States][96]', 'Processed')\n"
     ]
    },
    {
     "name": "stdout",
     "output_type": "stream",
     "text": [
      "[ON_DATA] Data Analyst 2 – Strategic Analytics full_time associate Nordstrom  3194470231 https://www.linkedin.com/jobs/view/data-analyst-2-%E2%80%93-strategic-analytics-at-nordstrom-3194470231?refId=eOLdPo9muohFmeSmSsoMXg%3D%3D&trackingId=SLhr5AM2T9%2FtfH%2FLTLSWsA%3D%3D&position=21&pageNum=3&trk=public_jobs_jserp-result_search-card 5513\n"
     ]
    },
    {
     "name": "stderr",
     "output_type": "stream",
     "text": [
      "INFO:li:scraper:('[Data Analyst][United States][97]', 'Processed')\n"
     ]
    },
    {
     "name": "stdout",
     "output_type": "stream",
     "text": [
      "[ON_DATA] Data Analyst 2 full_time associate Nordstrom  3194472070 https://www.linkedin.com/jobs/view/data-analyst-2-at-nordstrom-3194472070?refId=eOLdPo9muohFmeSmSsoMXg%3D%3D&trackingId=q36AB69sEm6jtuSFGprFaw%3D%3D&position=22&pageNum=3&trk=public_jobs_jserp-result_search-card 2613\n"
     ]
    },
    {
     "name": "stderr",
     "output_type": "stream",
     "text": [
      "INFO:li:scraper:('[Data Analyst][United States][98]', 'Processed')\n"
     ]
    },
    {
     "name": "stdout",
     "output_type": "stream",
     "text": [
      "[ON_DATA] Healthcare Data Analyst full_time associate WPS Health Solutions  3270126274 https://www.linkedin.com/jobs/view/healthcare-data-analyst-at-wps-health-solutions-3270126274?refId=eOLdPo9muohFmeSmSsoMXg%3D%3D&trackingId=3sgciA4zmuinFcBTxHf4cA%3D%3D&position=23&pageNum=3&trk=public_jobs_jserp-result_search-card 5097\n"
     ]
    },
    {
     "name": "stderr",
     "output_type": "stream",
     "text": [
      "INFO:li:scraper:('[Data Analyst][United States][99]', 'Processed')\n"
     ]
    },
    {
     "name": "stdout",
     "output_type": "stream",
     "text": [
      "[ON_DATA] Data Analyst full_time associate Microfabrica  3268501140 https://www.linkedin.com/jobs/view/data-analyst-at-microfabrica-3268501140?refId=eOLdPo9muohFmeSmSsoMXg%3D%3D&trackingId=drGNXRYCM56ezn0CN%2FcqSQ%3D%3D&position=24&pageNum=3&trk=public_jobs_jserp-result_search-card 2381\n"
     ]
    },
    {
     "name": "stderr",
     "output_type": "stream",
     "text": [
      "INFO:li:scraper:('[Data Analyst][United States][100]', 'Processed')\n"
     ]
    },
    {
     "name": "stdout",
     "output_type": "stream",
     "text": [
      "[ON_DATA] Data Analyst - Junior- Mid level full_time associate Dice  3260758828 https://www.linkedin.com/jobs/view/data-analyst-junior-mid-level-at-dice-3260758828?refId=eOLdPo9muohFmeSmSsoMXg%3D%3D&trackingId=lZNs6YztzkBrfAWnLnEFXw%3D%3D&position=25&pageNum=3&trk=public_jobs_jserp-result_search-card 1208\n"
     ]
    },
    {
     "name": "stderr",
     "output_type": "stream",
     "text": [
      "INFO:li:scraper:('[Data Analyst][United States][101]', 'Processed')\n"
     ]
    },
    {
     "name": "stdout",
     "output_type": "stream",
     "text": [
      "[ON_DATA] Talent Data Analyst, Square full_time associate Square  3235621805 https://www.linkedin.com/jobs/view/talent-data-analyst-square-at-square-3235621805?refId=9kBhIlJjLsCby1EzNvbYQw%3D%3D&trackingId=9m9kkRxleoTmkc0z3HO05A%3D%3D&position=1&pageNum=4&trk=public_jobs_jserp-result_search-card 5605\n"
     ]
    },
    {
     "name": "stderr",
     "output_type": "stream",
     "text": [
      "INFO:li:scraper:('[Data Analyst][United States][102]', 'Processed')\n"
     ]
    },
    {
     "name": "stdout",
     "output_type": "stream",
     "text": [
      "[ON_DATA] Data Analyst I - International Center for Health Outcomes & Innovation Research full_time associate Mount Sinai Health System  3237754323 https://www.linkedin.com/jobs/view/data-analyst-i-international-center-for-health-outcomes-innovation-research-at-mount-sinai-health-system-3237754323?refId=9kBhIlJjLsCby1EzNvbYQw%3D%3D&trackingId=C4AbsfjMyEWdS59aEDCHhw%3D%3D&position=2&pageNum=4&trk=public_jobs_jserp-result_search-card 3505\n"
     ]
    },
    {
     "name": "stderr",
     "output_type": "stream",
     "text": [
      "INFO:li:scraper:('[Data Analyst][United States][103]', 'Processed')\n"
     ]
    },
    {
     "name": "stdout",
     "output_type": "stream",
     "text": [
      "[ON_DATA] Data Analyst full_time associate Flowcode®  3226955737 https://www.linkedin.com/jobs/view/data-analyst-at-flowcode%C2%AE-3226955737?refId=9kBhIlJjLsCby1EzNvbYQw%3D%3D&trackingId=2fX0u8VW73ol3m2oLWJD1A%3D%3D&position=3&pageNum=4&trk=public_jobs_jserp-result_search-card 3960\n"
     ]
    },
    {
     "name": "stderr",
     "output_type": "stream",
     "text": [
      "INFO:li:scraper:('[Data Analyst][United States][104]', 'Processed')\n"
     ]
    },
    {
     "name": "stdout",
     "output_type": "stream",
     "text": [
      "[ON_DATA] Data Analyst full_time associate Professional Health Care Network  3267946479 https://www.linkedin.com/jobs/view/data-analyst-at-professional-health-care-network-3267946479?refId=9kBhIlJjLsCby1EzNvbYQw%3D%3D&trackingId=BtcCZUmcrg75kPT4EWnXyg%3D%3D&position=4&pageNum=4&trk=public_jobs_jserp-result_search-card 2002\n"
     ]
    },
    {
     "name": "stderr",
     "output_type": "stream",
     "text": [
      "INFO:li:scraper:('[Data Analyst][United States][105]', 'Processed')\n"
     ]
    },
    {
     "name": "stdout",
     "output_type": "stream",
     "text": [
      "[ON_DATA] Data Analyst I full_time associate Oracle  3267372130 https://www.linkedin.com/jobs/view/data-analyst-i-at-oracle-3267372130?refId=9kBhIlJjLsCby1EzNvbYQw%3D%3D&trackingId=RebU8wAISae9rZ0%2BZu2Y1w%3D%3D&position=5&pageNum=4&trk=public_jobs_jserp-result_search-card 5865\n"
     ]
    },
    {
     "name": "stderr",
     "output_type": "stream",
     "text": [
      "INFO:li:scraper:('[Data Analyst][United States][106]', 'Processed')\n"
     ]
    },
    {
     "name": "stdout",
     "output_type": "stream",
     "text": [
      "[ON_DATA] Healthcare Data Analyst full_time associate WPS Health Solutions  3270121930 https://www.linkedin.com/jobs/view/healthcare-data-analyst-at-wps-health-solutions-3270121930?refId=9kBhIlJjLsCby1EzNvbYQw%3D%3D&trackingId=L%2Fgc2yS12Xb2FJy%2FNSxl6w%3D%3D&position=6&pageNum=4&trk=public_jobs_jserp-result_search-card 5097\n"
     ]
    },
    {
     "name": "stderr",
     "output_type": "stream",
     "text": [
      "INFO:li:scraper:('[Data Analyst][United States][107]', 'Processed')\n"
     ]
    },
    {
     "name": "stdout",
     "output_type": "stream",
     "text": [
      "[ON_DATA] Data Analyst full_time associate Viaduct  3253899368 https://www.linkedin.com/jobs/view/data-analyst-at-viaduct-3253899368?refId=9kBhIlJjLsCby1EzNvbYQw%3D%3D&trackingId=8HLGnX%2FLVZvRNIrmCwiAbw%3D%3D&position=7&pageNum=4&trk=public_jobs_jserp-result_search-card 978\n"
     ]
    },
    {
     "name": "stderr",
     "output_type": "stream",
     "text": [
      "INFO:li:scraper:('[Data Analyst][United States][108]', 'Processed')\n"
     ]
    },
    {
     "name": "stdout",
     "output_type": "stream",
     "text": [
      "[ON_DATA] Data Analyst I full_time associate SMS Assist, L.L.C.  3231689150 https://www.linkedin.com/jobs/view/data-analyst-i-at-sms-assist-l-l-c-3231689150?refId=9kBhIlJjLsCby1EzNvbYQw%3D%3D&trackingId=mEDPVYmsaFHeYyzyTS7%2F8g%3D%3D&position=8&pageNum=4&trk=public_jobs_jserp-result_search-card 3386\n"
     ]
    },
    {
     "name": "stderr",
     "output_type": "stream",
     "text": [
      "INFO:li:scraper:('[Data Analyst][United States][109]', 'Processed')\n"
     ]
    },
    {
     "name": "stdout",
     "output_type": "stream",
     "text": [
      "[ON_DATA] Healthcare Data Analyst full_time associate WPS Health Solutions  3270122846 https://www.linkedin.com/jobs/view/healthcare-data-analyst-at-wps-health-solutions-3270122846?refId=9kBhIlJjLsCby1EzNvbYQw%3D%3D&trackingId=UBYPR%2Fn1UjYlaBt62%2FsLJw%3D%3D&position=9&pageNum=4&trk=public_jobs_jserp-result_search-card 5097\n"
     ]
    },
    {
     "name": "stderr",
     "output_type": "stream",
     "text": [
      "INFO:li:scraper:('[Data Analyst][United States][110]', 'Processed')\n"
     ]
    },
    {
     "name": "stdout",
     "output_type": "stream",
     "text": [
      "[ON_DATA] Data Analyst I full_time associate Massachusetts General Hospital  3272436669 https://www.linkedin.com/jobs/view/data-analyst-i-at-massachusetts-general-hospital-3272436669?refId=9kBhIlJjLsCby1EzNvbYQw%3D%3D&trackingId=1P%2BNtU1MHZ2Yvhc4E7pyYA%3D%3D&position=10&pageNum=4&trk=public_jobs_jserp-result_search-card 3185\n"
     ]
    },
    {
     "name": "stderr",
     "output_type": "stream",
     "text": [
      "INFO:li:scraper:('[Data Analyst][United States][111]', 'Processed')\n"
     ]
    },
    {
     "name": "stdout",
     "output_type": "stream",
     "text": [
      "[ON_DATA] Data Analyst full_time associate GrowthDay  3131351757 https://www.linkedin.com/jobs/view/data-analyst-at-growthday-3131351757?refId=9kBhIlJjLsCby1EzNvbYQw%3D%3D&trackingId=%2FsKSpxIMBhUazT254MNpIg%3D%3D&position=11&pageNum=4&trk=public_jobs_jserp-result_search-card 4386\n"
     ]
    },
    {
     "name": "stderr",
     "output_type": "stream",
     "text": [
      "INFO:li:scraper:('[Data Analyst][United States][112]', 'Processed')\n"
     ]
    },
    {
     "name": "stdout",
     "output_type": "stream",
     "text": [
      "[ON_DATA] Data Analyst full_time associate WCG  3271681656 https://www.linkedin.com/jobs/view/data-analyst-at-wcg-3271681656?refId=9kBhIlJjLsCby1EzNvbYQw%3D%3D&trackingId=YhZu74q2IM57iC9TZXNLtg%3D%3D&position=12&pageNum=4&trk=public_jobs_jserp-result_search-card 2716\n"
     ]
    },
    {
     "name": "stderr",
     "output_type": "stream",
     "text": [
      "INFO:li:scraper:('[Data Analyst][United States][113]', 'Processed')\n"
     ]
    },
    {
     "name": "stdout",
     "output_type": "stream",
     "text": [
      "[ON_DATA] Sr Data Analyst- ESG (Full- Time Remote OR Hybrid) full_time associate Target  3270236038 https://www.linkedin.com/jobs/view/sr-data-analyst-esg-full-time-remote-or-hybrid-at-target-3270236038?refId=9kBhIlJjLsCby1EzNvbYQw%3D%3D&trackingId=C6C7%2FgeCcmmjPH%2Fq5hSOJA%3D%3D&position=13&pageNum=4&trk=public_jobs_jserp-result_search-card 5968\n"
     ]
    },
    {
     "name": "stderr",
     "output_type": "stream",
     "text": [
      "INFO:li:scraper:('[Data Analyst][United States][114]', 'Processed')\n"
     ]
    },
    {
     "name": "stdout",
     "output_type": "stream",
     "text": [
      "[ON_DATA] Data Analyst I full_time associate Massachusetts General Hospital  3268426297 https://www.linkedin.com/jobs/view/data-analyst-i-at-massachusetts-general-hospital-3268426297?refId=9kBhIlJjLsCby1EzNvbYQw%3D%3D&trackingId=%2FF8JYMdGuDCguLOi%2BPMGMw%3D%3D&position=14&pageNum=4&trk=public_jobs_jserp-result_search-card 2854\n"
     ]
    },
    {
     "name": "stderr",
     "output_type": "stream",
     "text": [
      "INFO:li:scraper:('[Data Analyst][United States][115]', 'Processed')\n"
     ]
    },
    {
     "name": "stdout",
     "output_type": "stream",
     "text": [
      "[ON_DATA] Sr. Data Analyst full_time associate Varo Bank  3265573664 https://www.linkedin.com/jobs/view/sr-data-analyst-at-varo-bank-3265573664?refId=9kBhIlJjLsCby1EzNvbYQw%3D%3D&trackingId=DaLfKGpggtj3IBwFoD9R3Q%3D%3D&position=15&pageNum=4&trk=public_jobs_jserp-result_search-card 5318\n"
     ]
    },
    {
     "name": "stderr",
     "output_type": "stream",
     "text": [
      "INFO:li:scraper:('[Data Analyst][United States][116]', 'Processed')\n"
     ]
    },
    {
     "name": "stdout",
     "output_type": "stream",
     "text": [
      "[ON_DATA] Healthcare Data Analyst full_time associate WPS Health Solutions  3270124354 https://www.linkedin.com/jobs/view/healthcare-data-analyst-at-wps-health-solutions-3270124354?refId=9kBhIlJjLsCby1EzNvbYQw%3D%3D&trackingId=VR7WyDazIIWDcFWMCMlPig%3D%3D&position=16&pageNum=4&trk=public_jobs_jserp-result_search-card 5097\n"
     ]
    },
    {
     "name": "stderr",
     "output_type": "stream",
     "text": [
      "INFO:li:scraper:('[Data Analyst][United States][117]', 'Processed')\n"
     ]
    },
    {
     "name": "stdout",
     "output_type": "stream",
     "text": [
      "[ON_DATA] Data Analyst full_time associate Harrington Starr  3260441933 https://www.linkedin.com/jobs/view/data-analyst-at-harrington-starr-3260441933?refId=9kBhIlJjLsCby1EzNvbYQw%3D%3D&trackingId=qIYnGQ%2FtdI9pjQ%2FQcOWNjQ%3D%3D&position=17&pageNum=4&trk=public_jobs_jserp-result_search-card 1312\n"
     ]
    },
    {
     "name": "stderr",
     "output_type": "stream",
     "text": [
      "INFO:li:scraper:('[Data Analyst][United States][118]', 'Processed')\n"
     ]
    },
    {
     "name": "stdout",
     "output_type": "stream",
     "text": [
      "[ON_DATA] Data Analyst full_time associate LHH  3224096497 https://www.linkedin.com/jobs/view/data-analyst-at-lhh-3224096497?refId=9kBhIlJjLsCby1EzNvbYQw%3D%3D&trackingId=gyfigY%2F5al5jE15gvmCMkA%3D%3D&position=18&pageNum=4&trk=public_jobs_jserp-result_search-card 1002\n"
     ]
    },
    {
     "name": "stderr",
     "output_type": "stream",
     "text": [
      "INFO:li:scraper:('[Data Analyst][United States][119]', 'Processed')\n"
     ]
    },
    {
     "name": "stdout",
     "output_type": "stream",
     "text": [
      "[ON_DATA] Data Analyst / Sr. Data Analyst full_time associate Hannon Armstrong  3264077919 https://www.linkedin.com/jobs/view/data-analyst-sr-data-analyst-at-hannon-armstrong-3264077919?refId=9kBhIlJjLsCby1EzNvbYQw%3D%3D&trackingId=XByHndfA2z7XtGNuq0f2Zw%3D%3D&position=19&pageNum=4&trk=public_jobs_jserp-result_search-card 2784\n"
     ]
    },
    {
     "name": "stderr",
     "output_type": "stream",
     "text": [
      "INFO:li:scraper:('[Data Analyst][United States][120]', 'Processed')\n"
     ]
    },
    {
     "name": "stdout",
     "output_type": "stream",
     "text": [
      "[ON_DATA] Data Analyst 3 full_time associate U.S. Bank  3268462614 https://www.linkedin.com/jobs/view/data-analyst-3-at-u-s-bank-3268462614?refId=9kBhIlJjLsCby1EzNvbYQw%3D%3D&trackingId=d0W%2Bv%2BoP9Zf49NyEiP0DOw%3D%3D&position=20&pageNum=4&trk=public_jobs_jserp-result_search-card 4355\n"
     ]
    },
    {
     "name": "stderr",
     "output_type": "stream",
     "text": [
      "INFO:li:scraper:('[Data Analyst][United States][121]', 'Processed')\n"
     ]
    },
    {
     "name": "stdout",
     "output_type": "stream",
     "text": [
      "[ON_DATA] Data Analyst full_time associate KellyMitchell Group, Inc  3260458194 https://www.linkedin.com/jobs/view/data-analyst-at-kellymitchell-group-inc-3260458194?refId=9kBhIlJjLsCby1EzNvbYQw%3D%3D&trackingId=XExOaKAY9K%2B7N2pIMJ68HQ%3D%3D&position=21&pageNum=4&trk=public_jobs_jserp-result_search-card 645\n"
     ]
    },
    {
     "name": "stderr",
     "output_type": "stream",
     "text": [
      "INFO:li:scraper:('[Data Analyst][United States][122]', 'Processed')\n"
     ]
    },
    {
     "name": "stdout",
     "output_type": "stream",
     "text": [
      "[ON_DATA] Junior Data Analyst full_time associate Grant Thornton LLP (US)  3270159781 https://www.linkedin.com/jobs/view/junior-data-analyst-at-grant-thornton-llp-us-3270159781?refId=9kBhIlJjLsCby1EzNvbYQw%3D%3D&trackingId=aBdBHka%2FCW%2FXy2IYyg4suw%3D%3D&position=22&pageNum=4&trk=public_jobs_jserp-result_search-card 5035\n"
     ]
    },
    {
     "name": "stderr",
     "output_type": "stream",
     "text": [
      "INFO:li:scraper:('[Data Analyst][United States][123]', 'Processed')\n"
     ]
    },
    {
     "name": "stdout",
     "output_type": "stream",
     "text": [
      "[ON_DATA] Data Analyst full_time associate Addison Group  3260326493 https://www.linkedin.com/jobs/view/data-analyst-at-addison-group-3260326493?refId=9kBhIlJjLsCby1EzNvbYQw%3D%3D&trackingId=UyU9jZtgK1JLjVNUmoqzzw%3D%3D&position=23&pageNum=4&trk=public_jobs_jserp-result_search-card 521\n"
     ]
    },
    {
     "name": "stderr",
     "output_type": "stream",
     "text": [
      "INFO:li:scraper:('[Data Analyst][United States][124]', 'Processed')\n"
     ]
    },
    {
     "name": "stdout",
     "output_type": "stream",
     "text": [
      "[ON_DATA] Healthcare Data Analyst full_time associate WPS Health Solutions  3270123363 https://www.linkedin.com/jobs/view/healthcare-data-analyst-at-wps-health-solutions-3270123363?refId=9kBhIlJjLsCby1EzNvbYQw%3D%3D&trackingId=URZcngDjphkHcC91iPj%2B7g%3D%3D&position=24&pageNum=4&trk=public_jobs_jserp-result_search-card 5097\n"
     ]
    },
    {
     "name": "stderr",
     "output_type": "stream",
     "text": [
      "INFO:li:scraper:('[Data Analyst][United States][125]', 'Processed')\n"
     ]
    },
    {
     "name": "stdout",
     "output_type": "stream",
     "text": [
      "[ON_DATA] Data Analyst full_time associate OdysseyRe  3260544184 https://www.linkedin.com/jobs/view/data-analyst-at-odysseyre-3260544184?refId=9kBhIlJjLsCby1EzNvbYQw%3D%3D&trackingId=cSQ07rJwtxT8Oco6cl%2FHpg%3D%3D&position=25&pageNum=4&trk=public_jobs_jserp-result_search-card 2581\n"
     ]
    },
    {
     "name": "stderr",
     "output_type": "stream",
     "text": [
      "INFO:li:scraper:('[Data Analyst][United States][126]', 'Processed')\n"
     ]
    },
    {
     "name": "stdout",
     "output_type": "stream",
     "text": [
      "[ON_DATA] Healthcare Data Analyst full_time associate WPS Health Solutions  3270122861 https://www.linkedin.com/jobs/view/healthcare-data-analyst-at-wps-health-solutions-3270122861?refId=IBuAwbaTt1TVo4PaZZD3wA%3D%3D&trackingId=mGJnX3Rrz8JK44Nbefex8g%3D%3D&position=1&pageNum=5&trk=public_jobs_jserp-result_search-card 5097\n"
     ]
    },
    {
     "name": "stderr",
     "output_type": "stream",
     "text": [
      "INFO:li:scraper:('[Data Analyst][United States][127]', 'Processed')\n"
     ]
    },
    {
     "name": "stdout",
     "output_type": "stream",
     "text": [
      "[ON_DATA] Sr. Data Analyst full_time associate Techstars  3272066294 https://www.linkedin.com/jobs/view/sr-data-analyst-at-techstars-3272066294?refId=IBuAwbaTt1TVo4PaZZD3wA%3D%3D&trackingId=Bdkwh2DRv801ebS3cavAAQ%3D%3D&position=2&pageNum=5&trk=public_jobs_jserp-result_search-card 3816\n"
     ]
    },
    {
     "name": "stderr",
     "output_type": "stream",
     "text": [
      "INFO:li:scraper:('[Data Analyst][United States][128]', 'Processed')\n"
     ]
    },
    {
     "name": "stdout",
     "output_type": "stream",
     "text": [
      "[ON_DATA] Healthcare Data Analyst - REMOTE HYBRID full_time associate Swedish  3270821680 https://www.linkedin.com/jobs/view/healthcare-data-analyst-remote-hybrid-at-swedish-3270821680?refId=IBuAwbaTt1TVo4PaZZD3wA%3D%3D&trackingId=ZMrVRGwrstJjZRoTYnZ5hQ%3D%3D&position=3&pageNum=5&trk=public_jobs_jserp-result_search-card 6585\n"
     ]
    },
    {
     "name": "stderr",
     "output_type": "stream",
     "text": [
      "INFO:li:scraper:('[Data Analyst][United States][129]', 'Processed')\n"
     ]
    },
    {
     "name": "stdout",
     "output_type": "stream",
     "text": [
      "[ON_DATA] Data Analyst full_time associate Grand Homes  3231370892 https://www.linkedin.com/jobs/view/data-analyst-at-grand-homes-3231370892?refId=IBuAwbaTt1TVo4PaZZD3wA%3D%3D&trackingId=7m4w%2FUJ6R52hCbNZKLrykw%3D%3D&position=4&pageNum=5&trk=public_jobs_jserp-result_search-card 2509\n"
     ]
    },
    {
     "name": "stderr",
     "output_type": "stream",
     "text": [
      "INFO:li:scraper:('[Data Analyst][United States][130]', 'Processed')\n"
     ]
    },
    {
     "name": "stdout",
     "output_type": "stream",
     "text": [
      "[ON_DATA] Data Analyst full_time associate EEPB  3228404104 https://www.linkedin.com/jobs/view/data-analyst-at-eepb-3228404104?refId=IBuAwbaTt1TVo4PaZZD3wA%3D%3D&trackingId=qBseMwo%2BKBofjb8zU4cWuQ%3D%3D&position=5&pageNum=5&trk=public_jobs_jserp-result_search-card 1696\n"
     ]
    },
    {
     "name": "stderr",
     "output_type": "stream",
     "text": [
      "INFO:li:scraper:('[Data Analyst][United States][131]', 'Processed')\n"
     ]
    },
    {
     "name": "stdout",
     "output_type": "stream",
     "text": [
      "[ON_DATA] Healthcare Data Analyst full_time associate HealthCare Support  3259199602 https://www.linkedin.com/jobs/view/healthcare-data-analyst-at-healthcare-support-3259199602?refId=IBuAwbaTt1TVo4PaZZD3wA%3D%3D&trackingId=JndRqpeQFBq55xejEVWGIQ%3D%3D&position=6&pageNum=5&trk=public_jobs_jserp-result_search-card 2076\n"
     ]
    },
    {
     "name": "stderr",
     "output_type": "stream",
     "text": [
      "INFO:li:scraper:('[Data Analyst][United States][132]', 'Processed')\n"
     ]
    },
    {
     "name": "stdout",
     "output_type": "stream",
     "text": [
      "[ON_DATA] Data Analyst full_time associate Brooksource  3262359599 https://www.linkedin.com/jobs/view/data-analyst-at-brooksource-3262359599?refId=IBuAwbaTt1TVo4PaZZD3wA%3D%3D&trackingId=VyQpBpKVjuoLLJiPRP6ZfA%3D%3D&position=7&pageNum=5&trk=public_jobs_jserp-result_search-card 3722\n"
     ]
    },
    {
     "name": "stderr",
     "output_type": "stream",
     "text": [
      "INFO:li:scraper:('[Data Analyst][United States][133]', 'Processed')\n"
     ]
    },
    {
     "name": "stdout",
     "output_type": "stream",
     "text": [
      "[ON_DATA] Data Analyst 3 full_time associate Nordstrom  3194470235 https://www.linkedin.com/jobs/view/data-analyst-3-at-nordstrom-3194470235?refId=IBuAwbaTt1TVo4PaZZD3wA%3D%3D&trackingId=7BN6G5M9qOYdr89kQhPJog%3D%3D&position=8&pageNum=5&trk=public_jobs_jserp-result_search-card 6806\n"
     ]
    },
    {
     "name": "stderr",
     "output_type": "stream",
     "text": [
      "INFO:li:scraper:('[Data Analyst][United States][134]', 'Processed')\n"
     ]
    },
    {
     "name": "stdout",
     "output_type": "stream",
     "text": [
      "[ON_DATA] Healthcare Data Analyst full_time associate WPS Health Solutions  3270121938 https://www.linkedin.com/jobs/view/healthcare-data-analyst-at-wps-health-solutions-3270121938?refId=IBuAwbaTt1TVo4PaZZD3wA%3D%3D&trackingId=lVKEmLk1EuLyAo1BkUubXA%3D%3D&position=9&pageNum=5&trk=public_jobs_jserp-result_search-card 5097\n"
     ]
    },
    {
     "name": "stderr",
     "output_type": "stream",
     "text": [
      "INFO:li:scraper:('[Data Analyst][United States][135]', 'Processed')\n"
     ]
    },
    {
     "name": "stdout",
     "output_type": "stream",
     "text": [
      "[ON_DATA] Data Analyst full_time associate Good Apple  3214912260 https://www.linkedin.com/jobs/view/data-analyst-at-good-apple-3214912260?refId=IBuAwbaTt1TVo4PaZZD3wA%3D%3D&trackingId=sQyo6Ij3dIAfbj%2FYz%2Bcjjw%3D%3D&position=10&pageNum=5&trk=public_jobs_jserp-result_search-card 667\n"
     ]
    },
    {
     "name": "stderr",
     "output_type": "stream",
     "text": [
      "INFO:li:scraper:('[Data Analyst][United States][136]', 'Processed')\n"
     ]
    },
    {
     "name": "stdout",
     "output_type": "stream",
     "text": [
      "[ON_DATA] Data Analyst I full_time associate GAINSCO  3266833064 https://www.linkedin.com/jobs/view/data-analyst-i-at-gainsco-3266833064?refId=IBuAwbaTt1TVo4PaZZD3wA%3D%3D&trackingId=1x1qvjNbEVuJnTiySgwlDA%3D%3D&position=11&pageNum=5&trk=public_jobs_jserp-result_search-card 4158\n"
     ]
    },
    {
     "name": "stderr",
     "output_type": "stream",
     "text": [
      "INFO:li:scraper:('[Data Analyst][United States][137]', 'Processed')\n"
     ]
    },
    {
     "name": "stdout",
     "output_type": "stream",
     "text": [
      "[ON_DATA] Business Data Analyst full_time associate McKesson  3268562824 https://www.linkedin.com/jobs/view/business-data-analyst-at-mckesson-3268562824?refId=IBuAwbaTt1TVo4PaZZD3wA%3D%3D&trackingId=6GE3m0liutRkpiwh9oNNXA%3D%3D&position=12&pageNum=5&trk=public_jobs_jserp-result_search-card 4461\n"
     ]
    },
    {
     "name": "stderr",
     "output_type": "stream",
     "text": [
      "INFO:li:scraper:('[Data Analyst][United States][138]', 'Processed')\n"
     ]
    },
    {
     "name": "stdout",
     "output_type": "stream",
     "text": [
      "[ON_DATA] Healthcare Data Analyst full_time associate WPS Health Solutions  3270125305 https://www.linkedin.com/jobs/view/healthcare-data-analyst-at-wps-health-solutions-3270125305?refId=IBuAwbaTt1TVo4PaZZD3wA%3D%3D&trackingId=Goa6X3ZuyWw1tXBS%2BIeGEA%3D%3D&position=13&pageNum=5&trk=public_jobs_jserp-result_search-card 5097\n"
     ]
    },
    {
     "name": "stderr",
     "output_type": "stream",
     "text": [
      "INFO:li:scraper:('[Data Analyst][United States][139]', 'Processed')\n"
     ]
    },
    {
     "name": "stdout",
     "output_type": "stream",
     "text": [
      "[ON_DATA] Data Analyst I full_time associate Globe Life  3270829651 https://www.linkedin.com/jobs/view/data-analyst-i-at-globe-life-3270829651?refId=IBuAwbaTt1TVo4PaZZD3wA%3D%3D&trackingId=2NnRdG7vNG4TTFDfxzYc7g%3D%3D&position=14&pageNum=5&trk=public_jobs_jserp-result_search-card 1086\n"
     ]
    },
    {
     "name": "stderr",
     "output_type": "stream",
     "text": [
      "INFO:li:scraper:('[Data Analyst][United States][140]', 'Processed')\n"
     ]
    },
    {
     "name": "stdout",
     "output_type": "stream",
     "text": [
      "[ON_DATA] Data Analyst (Hybrid) full_time associate Affinity Search Partners  3262297449 https://www.linkedin.com/jobs/view/data-analyst-hybrid-at-affinity-search-partners-3262297449?refId=IBuAwbaTt1TVo4PaZZD3wA%3D%3D&trackingId=8%2F5qBoOZ9cAMtPyJOkE%2B8w%3D%3D&position=15&pageNum=5&trk=public_jobs_jserp-result_search-card 1455\n"
     ]
    },
    {
     "name": "stderr",
     "output_type": "stream",
     "text": [
      "INFO:li:scraper:('[Data Analyst][United States][141]', 'Processed')\n"
     ]
    },
    {
     "name": "stdout",
     "output_type": "stream",
     "text": [
      "[ON_DATA] Healthcare Data Analyst full_time associate WPS Health Solutions  3270127180 https://www.linkedin.com/jobs/view/healthcare-data-analyst-at-wps-health-solutions-3270127180?refId=IBuAwbaTt1TVo4PaZZD3wA%3D%3D&trackingId=RQMpiHas%2FMryzIh89Aii5g%3D%3D&position=16&pageNum=5&trk=public_jobs_jserp-result_search-card 5097\n"
     ]
    },
    {
     "name": "stderr",
     "output_type": "stream",
     "text": [
      "INFO:li:scraper:('[Data Analyst][United States][142]', 'Processed')\n"
     ]
    },
    {
     "name": "stdout",
     "output_type": "stream",
     "text": [
      "[ON_DATA] Healthcare Data Analyst full_time associate WPS Health Solutions  3270120923 https://www.linkedin.com/jobs/view/healthcare-data-analyst-at-wps-health-solutions-3270120923?refId=IBuAwbaTt1TVo4PaZZD3wA%3D%3D&trackingId=As3FkVBiJKKPbKH8LlF%2FGQ%3D%3D&position=17&pageNum=5&trk=public_jobs_jserp-result_search-card 5097\n"
     ]
    },
    {
     "name": "stderr",
     "output_type": "stream",
     "text": [
      "INFO:li:scraper:('[Data Analyst][United States][143]', 'Processed')\n"
     ]
    },
    {
     "name": "stdout",
     "output_type": "stream",
     "text": [
      "[ON_DATA] Data Analyst full_time associate Fama Technologies Inc.  3234839251 https://www.linkedin.com/jobs/view/data-analyst-at-fama-technologies-inc-3234839251?refId=IBuAwbaTt1TVo4PaZZD3wA%3D%3D&trackingId=NDimA6OVSB80ps%2BXIsog9g%3D%3D&position=18&pageNum=5&trk=public_jobs_jserp-result_search-card 2667\n"
     ]
    },
    {
     "name": "stderr",
     "output_type": "stream",
     "text": [
      "INFO:li:scraper:('[Data Analyst][United States][144]', 'Processed')\n"
     ]
    },
    {
     "name": "stdout",
     "output_type": "stream",
     "text": [
      "[ON_DATA] Data Science Analyst I full_time associate Aflac  3251268490 https://www.linkedin.com/jobs/view/data-science-analyst-i-at-aflac-3251268490?refId=IBuAwbaTt1TVo4PaZZD3wA%3D%3D&trackingId=0dzQUxofnQwLGdx%2B1PcrQQ%3D%3D&position=19&pageNum=5&trk=public_jobs_jserp-result_search-card 3490\n"
     ]
    },
    {
     "name": "stderr",
     "output_type": "stream",
     "text": [
      "INFO:li:scraper:('[Data Analyst][United States][145]', 'Processed')\n"
     ]
    },
    {
     "name": "stdout",
     "output_type": "stream",
     "text": [
      "[ON_DATA] Data Analyst full_time associate ICI Services Corporation  3264558369 https://www.linkedin.com/jobs/view/data-analyst-at-ici-services-corporation-3264558369?refId=IBuAwbaTt1TVo4PaZZD3wA%3D%3D&trackingId=GV3O7onvgr1Z%2FLdmTksPlQ%3D%3D&position=20&pageNum=5&trk=public_jobs_jserp-result_search-card 3587\n"
     ]
    },
    {
     "name": "stderr",
     "output_type": "stream",
     "text": [
      "INFO:li:scraper:('[Data Analyst][United States][146]', 'Processed')\n"
     ]
    },
    {
     "name": "stdout",
     "output_type": "stream",
     "text": [
      "[ON_DATA] Healthcare Data Analyst full_time associate WPS Health Solutions  3270120915 https://www.linkedin.com/jobs/view/healthcare-data-analyst-at-wps-health-solutions-3270120915?refId=IBuAwbaTt1TVo4PaZZD3wA%3D%3D&trackingId=4KnM9U410MAdVQ9yUxUoIQ%3D%3D&position=21&pageNum=5&trk=public_jobs_jserp-result_search-card 5097\n"
     ]
    },
    {
     "name": "stderr",
     "output_type": "stream",
     "text": [
      "INFO:li:scraper:('[Data Analyst][United States][147]', 'Processed')\n"
     ]
    },
    {
     "name": "stdout",
     "output_type": "stream",
     "text": [
      "[ON_DATA] Data Analyst full_time associate St. Onge Company  3226760596 https://www.linkedin.com/jobs/view/data-analyst-at-st-onge-company-3226760596?refId=IBuAwbaTt1TVo4PaZZD3wA%3D%3D&trackingId=d%2BdRmAbWutYqsJuiEMD7pA%3D%3D&position=22&pageNum=5&trk=public_jobs_jserp-result_search-card 4378\n"
     ]
    },
    {
     "name": "stderr",
     "output_type": "stream",
     "text": [
      "INFO:li:scraper:('[Data Analyst][United States][148]', 'Processed')\n"
     ]
    },
    {
     "name": "stdout",
     "output_type": "stream",
     "text": [
      "[ON_DATA] Healthcare Data Analyst full_time associate WPS Health Solutions  3270123372 https://www.linkedin.com/jobs/view/healthcare-data-analyst-at-wps-health-solutions-3270123372?refId=IBuAwbaTt1TVo4PaZZD3wA%3D%3D&trackingId=dMOj1QXRyMwVZDrf4seDRQ%3D%3D&position=23&pageNum=5&trk=public_jobs_jserp-result_search-card 5097\n"
     ]
    },
    {
     "name": "stderr",
     "output_type": "stream",
     "text": [
      "INFO:li:scraper:('[Data Analyst][United States][149]', 'Processed')\n"
     ]
    },
    {
     "name": "stdout",
     "output_type": "stream",
     "text": [
      "[ON_DATA] Data Analyst - ERC - (3500) full_time associate ERC  3262353527 https://www.linkedin.com/jobs/view/data-analyst-erc-3500-at-erc-3262353527?refId=IBuAwbaTt1TVo4PaZZD3wA%3D%3D&trackingId=negYpHhQAbwivkqgvbTB6Q%3D%3D&position=24&pageNum=5&trk=public_jobs_jserp-result_search-card 4335\n"
     ]
    },
    {
     "name": "stderr",
     "output_type": "stream",
     "text": [
      "INFO:li:scraper:('[Data Analyst][United States][150]', 'Processed')\n"
     ]
    },
    {
     "name": "stdout",
     "output_type": "stream",
     "text": [
      "[ON_DATA] Jr. Data Analyst (Train & Transfer) full_time associate VForce Infotech  3266192876 https://www.linkedin.com/jobs/view/jr-data-analyst-train-transfer-at-vforce-infotech-3266192876?refId=IBuAwbaTt1TVo4PaZZD3wA%3D%3D&trackingId=aprCh1epwPRDPb7zF59trg%3D%3D&position=25&pageNum=5&trk=public_jobs_jserp-result_search-card 7437\n"
     ]
    },
    {
     "name": "stderr",
     "output_type": "stream",
     "text": [
      "INFO:li:scraper:('[Data Analyst][United States][151]', 'Processed')\n"
     ]
    },
    {
     "name": "stdout",
     "output_type": "stream",
     "text": [
      "[ON_DATA] Junior Data Analyst full_time associate Grant Thornton LLP (US)  3270157769 https://www.linkedin.com/jobs/view/junior-data-analyst-at-grant-thornton-llp-us-3270157769?refId=duuboUQRCpiklTbV%2ByQ9wA%3D%3D&trackingId=R8Tc2d8tRaepEV5HkrJJVQ%3D%3D&position=1&pageNum=6&trk=public_jobs_jserp-result_search-card 5035\n"
     ]
    },
    {
     "name": "stderr",
     "output_type": "stream",
     "text": [
      "INFO:li:scraper:('[Data Analyst][United States][152]', 'Processed')\n"
     ]
    },
    {
     "name": "stdout",
     "output_type": "stream",
     "text": [
      "[ON_DATA] Sr. Data Analyst full_time associate HopSkipDrive  3260543764 https://www.linkedin.com/jobs/view/sr-data-analyst-at-hopskipdrive-3260543764?refId=duuboUQRCpiklTbV%2ByQ9wA%3D%3D&trackingId=xC0bSJqTup24Z8zIPNwQRg%3D%3D&position=2&pageNum=6&trk=public_jobs_jserp-result_search-card 5430\n"
     ]
    },
    {
     "name": "stderr",
     "output_type": "stream",
     "text": [
      "INFO:li:scraper:('[Data Analyst][United States][153]', 'Processed')\n"
     ]
    },
    {
     "name": "stdout",
     "output_type": "stream",
     "text": [
      "[ON_DATA] Transparency Data Analyst- US Aggregate Spend full_time associate Biogen  3269501925 https://www.linkedin.com/jobs/view/transparency-data-analyst-us-aggregate-spend-at-biogen-3269501925?refId=duuboUQRCpiklTbV%2ByQ9wA%3D%3D&trackingId=dtekUzd8Pql0j5qYX5RJvQ%3D%3D&position=3&pageNum=6&trk=public_jobs_jserp-result_search-card 2332\n"
     ]
    },
    {
     "name": "stderr",
     "output_type": "stream",
     "text": [
      "INFO:li:scraper:('[Data Analyst][United States][154]', 'Processed')\n"
     ]
    },
    {
     "name": "stdout",
     "output_type": "stream",
     "text": [
      "[ON_DATA] Associate Data Analyst - Telecommute full_time associate Optum  3268503317 https://www.linkedin.com/jobs/view/associate-data-analyst-telecommute-at-optum-3268503317?refId=duuboUQRCpiklTbV%2ByQ9wA%3D%3D&trackingId=G08FLjut%2B2No7GxWUKcpzw%3D%3D&position=4&pageNum=6&trk=public_jobs_jserp-result_search-card 6049\n"
     ]
    },
    {
     "name": "stderr",
     "output_type": "stream",
     "text": [
      "INFO:li:scraper:('[Data Analyst][United States][155]', 'Processed')\n"
     ]
    },
    {
     "name": "stdout",
     "output_type": "stream",
     "text": [
      "[ON_DATA] Operations Data Analyst full_time associate Toyota Material Handling  3256884490 https://www.linkedin.com/jobs/view/operations-data-analyst-at-toyota-material-handling-3256884490?refId=duuboUQRCpiklTbV%2ByQ9wA%3D%3D&trackingId=ARkXOfdgepgBEfiU9dvq%2FQ%3D%3D&position=5&pageNum=6&trk=public_jobs_jserp-result_search-card 3820\n"
     ]
    },
    {
     "name": "stderr",
     "output_type": "stream",
     "text": [
      "INFO:li:scraper:('[Data Analyst][United States][156]', 'Processed')\n"
     ]
    },
    {
     "name": "stdout",
     "output_type": "stream",
     "text": [
      "[ON_DATA] Data Analyst I full_time associate LSEG (London Stock Exchange Group)  3171257390 https://www.linkedin.com/jobs/view/data-analyst-i-at-lseg-london-stock-exchange-group-3171257390?refId=duuboUQRCpiklTbV%2ByQ9wA%3D%3D&trackingId=N5m9%2FAzZH624cUhMSXLEhA%3D%3D&position=6&pageNum=6&trk=public_jobs_jserp-result_search-card 8041\n"
     ]
    },
    {
     "name": "stderr",
     "output_type": "stream",
     "text": [
      "INFO:li:scraper:('[Data Analyst][United States][157]', 'Processed')\n"
     ]
    },
    {
     "name": "stdout",
     "output_type": "stream",
     "text": [
      "[ON_DATA] Data Analyst at Global Hedge Fund full_time associate Coda Search│Staffing  3256977396 https://www.linkedin.com/jobs/view/data-analyst-at-global-hedge-fund-at-coda-search%E2%94%82staffing-3256977396?refId=duuboUQRCpiklTbV%2ByQ9wA%3D%3D&trackingId=1oZpM6ZRkzwwkE6%2BssKxng%3D%3D&position=7&pageNum=6&trk=public_jobs_jserp-result_search-card 717\n"
     ]
    },
    {
     "name": "stderr",
     "output_type": "stream",
     "text": [
      "INFO:li:scraper:('[Data Analyst][United States][158]', 'Processed')\n"
     ]
    },
    {
     "name": "stdout",
     "output_type": "stream",
     "text": [
      "[ON_DATA] Data Analyst, Graduate Business full_time associate University of Miami  3246667345 https://www.linkedin.com/jobs/view/data-analyst-graduate-business-at-university-of-miami-3246667345?refId=duuboUQRCpiklTbV%2ByQ9wA%3D%3D&trackingId=adc3McgeVhPH5qUEb7OCCw%3D%3D&position=8&pageNum=6&trk=public_jobs_jserp-result_search-card 9618\n"
     ]
    },
    {
     "name": "stderr",
     "output_type": "stream",
     "text": [
      "INFO:li:scraper:('[Data Analyst][United States][159]', 'Processed')\n"
     ]
    },
    {
     "name": "stdout",
     "output_type": "stream",
     "text": [
      "[ON_DATA] Healthcare Data Analyst full_time associate WPS Health Solutions  3270120909 https://www.linkedin.com/jobs/view/healthcare-data-analyst-at-wps-health-solutions-3270120909?refId=duuboUQRCpiklTbV%2ByQ9wA%3D%3D&trackingId=0%2F4mckosVs1MVjJEep17eQ%3D%3D&position=9&pageNum=6&trk=public_jobs_jserp-result_search-card 5097\n"
     ]
    },
    {
     "name": "stderr",
     "output_type": "stream",
     "text": [
      "INFO:li:scraper:('[Data Analyst][United States][160]', 'Processed')\n"
     ]
    },
    {
     "name": "stdout",
     "output_type": "stream",
     "text": [
      "[ON_DATA] Business Data Analyst full_time associate QVC  3257873922 https://www.linkedin.com/jobs/view/business-data-analyst-at-qvc-3257873922?refId=duuboUQRCpiklTbV%2ByQ9wA%3D%3D&trackingId=31Q9VeLJ1Ly1PYZH5zVxDg%3D%3D&position=10&pageNum=6&trk=public_jobs_jserp-result_search-card 1572\n"
     ]
    },
    {
     "name": "stderr",
     "output_type": "stream",
     "text": [
      "INFO:li:scraper:('[Data Analyst][United States][161]', 'Processed')\n"
     ]
    },
    {
     "name": "stdout",
     "output_type": "stream",
     "text": [
      "[ON_DATA] Junior Data Analyst full_time associate Q Consulting  3260008292 https://www.linkedin.com/jobs/view/junior-data-analyst-at-q-consulting-3260008292?refId=duuboUQRCpiklTbV%2ByQ9wA%3D%3D&trackingId=rTnEQbPRUKrnpYc7OY6ETA%3D%3D&position=11&pageNum=6&trk=public_jobs_jserp-result_search-card 975\n"
     ]
    },
    {
     "name": "stderr",
     "output_type": "stream",
     "text": [
      "INFO:li:scraper:('[Data Analyst][United States][162]', 'Processed')\n"
     ]
    },
    {
     "name": "stdout",
     "output_type": "stream",
     "text": [
      "[ON_DATA] Junior Data Analyst full_time associate American Cruise Lines  3257869389 https://www.linkedin.com/jobs/view/junior-data-analyst-at-american-cruise-lines-3257869389?refId=duuboUQRCpiklTbV%2ByQ9wA%3D%3D&trackingId=wC3adTGOL9Ry9KJX3%2B3gcA%3D%3D&position=12&pageNum=6&trk=public_jobs_jserp-result_search-card 1905\n"
     ]
    },
    {
     "name": "stderr",
     "output_type": "stream",
     "text": [
      "INFO:li:scraper:('[Data Analyst][United States][163]', 'Processed')\n"
     ]
    },
    {
     "name": "stdout",
     "output_type": "stream",
     "text": [
      "[ON_DATA] Junior Data Analyst full_time associate Grant Thornton LLP (US)  3270161388 https://www.linkedin.com/jobs/view/junior-data-analyst-at-grant-thornton-llp-us-3270161388?refId=duuboUQRCpiklTbV%2ByQ9wA%3D%3D&trackingId=p69ngbkRK1KgSRYH8fPNKw%3D%3D&position=13&pageNum=6&trk=public_jobs_jserp-result_search-card 5035\n"
     ]
    },
    {
     "name": "stderr",
     "output_type": "stream",
     "text": [
      "INFO:li:scraper:('[Data Analyst][United States][164]', 'Processed')\n"
     ]
    },
    {
     "name": "stdout",
     "output_type": "stream",
     "text": [
      "[ON_DATA] Data Analyst full_time associate iTalent Digital  3256661737 https://www.linkedin.com/jobs/view/data-analyst-at-italent-digital-3256661737?refId=duuboUQRCpiklTbV%2ByQ9wA%3D%3D&trackingId=KGU3us5WsjjFGuVW1ftzMQ%3D%3D&position=14&pageNum=6&trk=public_jobs_jserp-result_search-card 4336\n"
     ]
    },
    {
     "name": "stderr",
     "output_type": "stream",
     "text": [
      "INFO:li:scraper:('[Data Analyst][United States][165]', 'Processed')\n"
     ]
    },
    {
     "name": "stdout",
     "output_type": "stream",
     "text": [
      "[ON_DATA] Business Data Analyst full_time associate Toyota Material Handling  3256886182 https://www.linkedin.com/jobs/view/business-data-analyst-at-toyota-material-handling-3256886182?refId=duuboUQRCpiklTbV%2ByQ9wA%3D%3D&trackingId=SFdhVnVyZmS0zfThFmpNvA%3D%3D&position=15&pageNum=6&trk=public_jobs_jserp-result_search-card 5636\n"
     ]
    },
    {
     "name": "stderr",
     "output_type": "stream",
     "text": [
      "INFO:li:scraper:('[Data Analyst][United States][166]', 'Processed')\n"
     ]
    },
    {
     "name": "stdout",
     "output_type": "stream",
     "text": [
      "[ON_DATA] Junior Data Analyst full_time associate Grant Thornton LLP (US)  3270156921 https://www.linkedin.com/jobs/view/junior-data-analyst-at-grant-thornton-llp-us-3270156921?refId=duuboUQRCpiklTbV%2ByQ9wA%3D%3D&trackingId=Rxs0V3yWlafdxoWqkLawlg%3D%3D&position=16&pageNum=6&trk=public_jobs_jserp-result_search-card 5035\n"
     ]
    },
    {
     "name": "stderr",
     "output_type": "stream",
     "text": [
      "INFO:li:scraper:('[Data Analyst][United States][167]', 'Processed')\n"
     ]
    },
    {
     "name": "stdout",
     "output_type": "stream",
     "text": [
      "[ON_DATA] Data Analyst, SaaS full_time associate Tribute Technology  3273630105 https://www.linkedin.com/jobs/view/data-analyst-saas-at-tribute-technology-3273630105?refId=duuboUQRCpiklTbV%2ByQ9wA%3D%3D&trackingId=vYO0l95hhKqB4b7GNQR1BQ%3D%3D&position=17&pageNum=6&trk=public_jobs_jserp-result_search-card 4303\n"
     ]
    },
    {
     "name": "stderr",
     "output_type": "stream",
     "text": [
      "INFO:li:scraper:('[Data Analyst][United States][168]', 'Processed')\n"
     ]
    },
    {
     "name": "stdout",
     "output_type": "stream",
     "text": [
      "[ON_DATA] Data Analyst 3 full_time associate Nordstrom  3194470233 https://www.linkedin.com/jobs/view/data-analyst-3-at-nordstrom-3194470233?refId=duuboUQRCpiklTbV%2ByQ9wA%3D%3D&trackingId=2%2Fh1%2Ff5BmiPBkrKhjJuZGQ%3D%3D&position=18&pageNum=6&trk=public_jobs_jserp-result_search-card 3749\n"
     ]
    },
    {
     "name": "stderr",
     "output_type": "stream",
     "text": [
      "INFO:li:scraper:('[Data Analyst][United States][169]', 'Processed')\n"
     ]
    },
    {
     "name": "stdout",
     "output_type": "stream",
     "text": [
      "[ON_DATA] Data Analyst full_time associate DaVita Kidney Care  2941162070 https://www.linkedin.com/jobs/view/data-analyst-at-davita-kidney-care-2941162070?refId=duuboUQRCpiklTbV%2ByQ9wA%3D%3D&trackingId=pu6Y317M5G13sI3NYiGqjQ%3D%3D&position=19&pageNum=6&trk=public_jobs_jserp-result_search-card 667\n"
     ]
    },
    {
     "name": "stderr",
     "output_type": "stream",
     "text": [
      "INFO:li:scraper:('[Data Analyst][United States][170]', 'Processed')\n"
     ]
    },
    {
     "name": "stdout",
     "output_type": "stream",
     "text": [
      "[ON_DATA] Data Analyst 3 - First Mile full_time associate Nordstrom  3266609330 https://www.linkedin.com/jobs/view/data-analyst-3-first-mile-at-nordstrom-3266609330?refId=duuboUQRCpiklTbV%2ByQ9wA%3D%3D&trackingId=qi5gglljln%2B27MCIHW%2FXcg%3D%3D&position=20&pageNum=6&trk=public_jobs_jserp-result_search-card 3928\n"
     ]
    },
    {
     "name": "stderr",
     "output_type": "stream",
     "text": [
      "INFO:li:scraper:('[Data Analyst][United States][171]', 'Processed')\n"
     ]
    },
    {
     "name": "stdout",
     "output_type": "stream",
     "text": [
      "[ON_DATA] Healthcare Data Analyst full_time associate WPS Health Solutions  3270124363 https://www.linkedin.com/jobs/view/healthcare-data-analyst-at-wps-health-solutions-3270124363?refId=duuboUQRCpiklTbV%2ByQ9wA%3D%3D&trackingId=Ww%2FdkRfphTMaBt2R%2BPUKNQ%3D%3D&position=21&pageNum=6&trk=public_jobs_jserp-result_search-card 5097\n"
     ]
    },
    {
     "name": "stderr",
     "output_type": "stream",
     "text": [
      "INFO:li:scraper:('[Data Analyst][United States][172]', 'Processed')\n"
     ]
    },
    {
     "name": "stdout",
     "output_type": "stream",
     "text": [
      "[ON_DATA] Data Analyst full_time associate Opensignal  3234517010 https://www.linkedin.com/jobs/view/data-analyst-at-opensignal-3234517010?refId=duuboUQRCpiklTbV%2ByQ9wA%3D%3D&trackingId=TfNN%2FuTHe9gdUYwRccUm6g%3D%3D&position=22&pageNum=6&trk=public_jobs_jserp-result_search-card 4614\n"
     ]
    },
    {
     "name": "stderr",
     "output_type": "stream",
     "text": [
      "INFO:li:scraper:('[Data Analyst][United States][173]', 'Processed')\n"
     ]
    },
    {
     "name": "stdout",
     "output_type": "stream",
     "text": [
      "[ON_DATA] Data Science Analyst I - Mount Sinai Health Partners full_time associate Mount Sinai Health System  3237754363 https://www.linkedin.com/jobs/view/data-science-analyst-i-mount-sinai-health-partners-at-mount-sinai-health-system-3237754363?refId=duuboUQRCpiklTbV%2ByQ9wA%3D%3D&trackingId=xWdVNFrJHSELjHXOHZTlUQ%3D%3D&position=23&pageNum=6&trk=public_jobs_jserp-result_search-card 11184\n"
     ]
    },
    {
     "name": "stderr",
     "output_type": "stream",
     "text": [
      "INFO:li:scraper:('[Data Analyst][United States][174]', 'Processed')\n"
     ]
    },
    {
     "name": "stdout",
     "output_type": "stream",
     "text": [
      "[ON_DATA] Junior Data Analyst full_time associate Grant Thornton LLP (US)  3270158812 https://www.linkedin.com/jobs/view/junior-data-analyst-at-grant-thornton-llp-us-3270158812?refId=duuboUQRCpiklTbV%2ByQ9wA%3D%3D&trackingId=SRLey2ZUMC6mheitttvy0Q%3D%3D&position=24&pageNum=6&trk=public_jobs_jserp-result_search-card 5035\n"
     ]
    },
    {
     "name": "stderr",
     "output_type": "stream",
     "text": [
      "INFO:li:scraper:('[Data Analyst][United States][175]', 'Processed')\n",
      "INFO:li:scraper:('[Data Analyst][United States][175]', 'Checking for new jobs to load...')\n"
     ]
    },
    {
     "name": "stdout",
     "output_type": "stream",
     "text": [
      "[ON_DATA] Data Analyst full_time associate VanderHouwen  3240947715 https://www.linkedin.com/jobs/view/data-analyst-at-vanderhouwen-3240947715?refId=duuboUQRCpiklTbV%2ByQ9wA%3D%3D&trackingId=m%2FXhCiKKoNKmJNd7VmgBuw%3D%3D&position=25&pageNum=6&trk=public_jobs_jserp-result_search-card 4072\n"
     ]
    },
    {
     "name": "stderr",
     "output_type": "stream",
     "text": [
      "INFO:li:scraper:('[Data Analyst][United States][175]', 'Found 200 jobs')\n",
      "INFO:li:scraper:('[Data Analyst][United States][176]', 'Processed')\n"
     ]
    },
    {
     "name": "stdout",
     "output_type": "stream",
     "text": [
      "[ON_DATA] Data Analyst 2 - UHC M&R IS - Horsham, PA or telecommute full_time associate UnitedHealthcare  3260754149 https://www.linkedin.com/jobs/view/data-analyst-2-uhc-m-r-is-horsham-pa-or-telecommute-at-unitedhealthcare-3260754149?refId=CL%2BJrO%2BRBtX%2BnJGBVTNMjw%3D%3D&trackingId=s1v%2FdXWP8NOWpcpFouxPdg%3D%3D&position=1&pageNum=7&trk=public_jobs_jserp-result_search-card 6273\n"
     ]
    },
    {
     "name": "stderr",
     "output_type": "stream",
     "text": [
      "INFO:li:scraper:('[Data Analyst][United States][177]', 'Processed')\n"
     ]
    },
    {
     "name": "stdout",
     "output_type": "stream",
     "text": [
      "[ON_DATA] Healthcare Data Analyst full_time associate PayrHealth  3256482597 https://www.linkedin.com/jobs/view/healthcare-data-analyst-at-payrhealth-3256482597?refId=CL%2BJrO%2BRBtX%2BnJGBVTNMjw%3D%3D&trackingId=epFPWoo6z6SA5NMQ9mNJbg%3D%3D&position=2&pageNum=7&trk=public_jobs_jserp-result_search-card 2695\n"
     ]
    },
    {
     "name": "stderr",
     "output_type": "stream",
     "text": [
      "INFO:li:scraper:('[Data Analyst][United States][178]', 'Processed')\n"
     ]
    },
    {
     "name": "stdout",
     "output_type": "stream",
     "text": [
      "[ON_DATA] Data Analyst I full_time associate McKeany-Flavell Company, Inc.  3251980805 https://www.linkedin.com/jobs/view/data-analyst-i-at-mckeany-flavell-company-inc-3251980805?refId=CL%2BJrO%2BRBtX%2BnJGBVTNMjw%3D%3D&trackingId=KwsETQZpCxcMMa9IfSkvcA%3D%3D&position=3&pageNum=7&trk=public_jobs_jserp-result_search-card 3650\n"
     ]
    },
    {
     "name": "stderr",
     "output_type": "stream",
     "text": [
      "INFO:li:scraper:('[Data Analyst][United States][179]', 'Processed')\n"
     ]
    },
    {
     "name": "stdout",
     "output_type": "stream",
     "text": [
      "[ON_DATA] Data Analyst full_time associate OrthoSynetics  3176781905 https://www.linkedin.com/jobs/view/data-analyst-at-orthosynetics-3176781905?refId=CL%2BJrO%2BRBtX%2BnJGBVTNMjw%3D%3D&trackingId=qzNcnoNd6ROvsvl0QVTStg%3D%3D&position=4&pageNum=7&trk=public_jobs_jserp-result_search-card 2079\n"
     ]
    },
    {
     "name": "stderr",
     "output_type": "stream",
     "text": [
      "INFO:li:scraper:('[Data Analyst][United States][180]', 'Processed')\n"
     ]
    },
    {
     "name": "stdout",
     "output_type": "stream",
     "text": [
      "[ON_DATA] Junior Data Analyst full_time associate Grant Thornton LLP (US)  3270159780 https://www.linkedin.com/jobs/view/junior-data-analyst-at-grant-thornton-llp-us-3270159780?refId=CL%2BJrO%2BRBtX%2BnJGBVTNMjw%3D%3D&trackingId=vX83SpdyD6p4GKAoksOCPA%3D%3D&position=5&pageNum=7&trk=public_jobs_jserp-result_search-card 5035\n"
     ]
    },
    {
     "name": "stderr",
     "output_type": "stream",
     "text": [
      "INFO:li:scraper:('[Data Analyst][United States][181]', 'Processed')\n"
     ]
    },
    {
     "name": "stdout",
     "output_type": "stream",
     "text": [
      "[ON_DATA] Data Analyst full_time associate Aprio Talent Solutions  3254344513 https://www.linkedin.com/jobs/view/data-analyst-at-aprio-talent-solutions-3254344513?refId=CL%2BJrO%2BRBtX%2BnJGBVTNMjw%3D%3D&trackingId=MCuwLGwQ1ZeN%2Br4Mg5kuCQ%3D%3D&position=6&pageNum=7&trk=public_jobs_jserp-result_search-card 1815\n"
     ]
    },
    {
     "name": "stderr",
     "output_type": "stream",
     "text": [
      "INFO:li:scraper:('[Data Analyst][United States][182]', 'Processed')\n"
     ]
    },
    {
     "name": "stdout",
     "output_type": "stream",
     "text": [
      "[ON_DATA] Data Analyst full_time associate Omron Automation  3245823693 https://www.linkedin.com/jobs/view/data-analyst-at-omron-automation-3245823693?refId=CL%2BJrO%2BRBtX%2BnJGBVTNMjw%3D%3D&trackingId=2L1cM97kqfkLUoMkjtw96g%3D%3D&position=7&pageNum=7&trk=public_jobs_jserp-result_search-card 4505\n"
     ]
    },
    {
     "name": "stderr",
     "output_type": "stream",
     "text": [
      "INFO:li:scraper:('[Data Analyst][United States][183]', 'Processed')\n"
     ]
    },
    {
     "name": "stdout",
     "output_type": "stream",
     "text": [
      "[ON_DATA] Data Analyst full_time associate Fetch Rewards  3256695836 https://www.linkedin.com/jobs/view/data-analyst-at-fetch-rewards-3256695836?refId=CL%2BJrO%2BRBtX%2BnJGBVTNMjw%3D%3D&trackingId=JlRBpASx8ayDwbgH5HidJg%3D%3D&position=8&pageNum=7&trk=public_jobs_jserp-result_search-card 5859\n"
     ]
    },
    {
     "name": "stderr",
     "output_type": "stream",
     "text": [
      "INFO:li:scraper:('[Data Analyst][United States][184]', 'Processed')\n"
     ]
    },
    {
     "name": "stdout",
     "output_type": "stream",
     "text": [
      "[ON_DATA] Data Analyst I full_time associate Mercy Community Healthcare  3260687082 https://www.linkedin.com/jobs/view/data-analyst-i-at-mercy-community-healthcare-3260687082?refId=CL%2BJrO%2BRBtX%2BnJGBVTNMjw%3D%3D&trackingId=VqDpy4AFS3Mpj%2FAC%2FXv7Gw%3D%3D&position=9&pageNum=7&trk=public_jobs_jserp-result_search-card 2552\n"
     ]
    },
    {
     "name": "stderr",
     "output_type": "stream",
     "text": [
      "INFO:li:scraper:('[Data Analyst][United States][185]', 'Processed')\n"
     ]
    },
    {
     "name": "stdout",
     "output_type": "stream",
     "text": [
      "[ON_DATA] Healthcare Data Analyst full_time associate ADVI Health, LLC  3249086566 https://www.linkedin.com/jobs/view/healthcare-data-analyst-at-advi-health-llc-3249086566?refId=CL%2BJrO%2BRBtX%2BnJGBVTNMjw%3D%3D&trackingId=UnW3Tx8qP4KxTXD9WSCP0g%3D%3D&position=10&pageNum=7&trk=public_jobs_jserp-result_search-card 1840\n"
     ]
    },
    {
     "name": "stderr",
     "output_type": "stream",
     "text": [
      "INFO:li:scraper:('[Data Analyst][United States][186]', 'Processed')\n"
     ]
    },
    {
     "name": "stdout",
     "output_type": "stream",
     "text": [
      "[ON_DATA] Data Analyst 2 - Fraud Strategy - Remote full_time associate Nordstrom  3266830189 https://www.linkedin.com/jobs/view/data-analyst-2-fraud-strategy-remote-at-nordstrom-3266830189?refId=CL%2BJrO%2BRBtX%2BnJGBVTNMjw%3D%3D&trackingId=vgCbAMyGigvtcFFT%2FynO0A%3D%3D&position=11&pageNum=7&trk=public_jobs_jserp-result_search-card 3488\n"
     ]
    },
    {
     "name": "stderr",
     "output_type": "stream",
     "text": [
      "INFO:li:scraper:('[Data Analyst][United States][187]', 'Processed')\n"
     ]
    },
    {
     "name": "stdout",
     "output_type": "stream",
     "text": [
      "[ON_DATA] Healthcare Data Analyst full_time associate WPS Health Solutions  3270124369 https://www.linkedin.com/jobs/view/healthcare-data-analyst-at-wps-health-solutions-3270124369?refId=CL%2BJrO%2BRBtX%2BnJGBVTNMjw%3D%3D&trackingId=8DwjvaoXQuDKIIKJ%2BG2%2F%2FQ%3D%3D&position=12&pageNum=7&trk=public_jobs_jserp-result_search-card 5097\n"
     ]
    },
    {
     "name": "stderr",
     "output_type": "stream",
     "text": [
      "INFO:li:scraper:('[Data Analyst][United States][188]', 'Processed')\n"
     ]
    },
    {
     "name": "stdout",
     "output_type": "stream",
     "text": [
      "[ON_DATA] Data Analyst I (Mayberg's lab) - Neurology full_time associate Mount Sinai Health System  3237754022 https://www.linkedin.com/jobs/view/data-analyst-i-mayberg-s-lab-neurology-at-mount-sinai-health-system-3237754022?refId=CL%2BJrO%2BRBtX%2BnJGBVTNMjw%3D%3D&trackingId=XzD%2BAL3YuI3gR%2FSqczDVlA%3D%3D&position=13&pageNum=7&trk=public_jobs_jserp-result_search-card 4093\n"
     ]
    },
    {
     "name": "stderr",
     "output_type": "stream",
     "text": [
      "INFO:li:scraper:('[Data Analyst][United States][189]', 'Processed')\n"
     ]
    },
    {
     "name": "stdout",
     "output_type": "stream",
     "text": [
      "[ON_DATA] Data Analyst full_time associate KellyMitchell Group, Inc  3258510601 https://www.linkedin.com/jobs/view/data-analyst-at-kellymitchell-group-inc-3258510601?refId=CL%2BJrO%2BRBtX%2BnJGBVTNMjw%3D%3D&trackingId=l8aTC7XKUqTdGMXSi7rblw%3D%3D&position=14&pageNum=7&trk=public_jobs_jserp-result_search-card 2332\n"
     ]
    },
    {
     "name": "stderr",
     "output_type": "stream",
     "text": [
      "INFO:li:scraper:('[Data Analyst][United States][190]', 'Processed')\n"
     ]
    },
    {
     "name": "stdout",
     "output_type": "stream",
     "text": [
      "[ON_DATA] Healthcare Data Analyst full_time associate WPS Health Solutions  3270124361 https://www.linkedin.com/jobs/view/healthcare-data-analyst-at-wps-health-solutions-3270124361?refId=CL%2BJrO%2BRBtX%2BnJGBVTNMjw%3D%3D&trackingId=jjAO9kVardWa74giAfqTpA%3D%3D&position=15&pageNum=7&trk=public_jobs_jserp-result_search-card 5097\n"
     ]
    },
    {
     "name": "stderr",
     "output_type": "stream",
     "text": [
      "INFO:li:scraper:('[Data Analyst][United States][191]', 'Processed')\n"
     ]
    },
    {
     "name": "stdout",
     "output_type": "stream",
     "text": [
      "[ON_DATA] Data Analyst full_time associate Jobot  3270133633 https://www.linkedin.com/jobs/view/data-analyst-at-jobot-3270133633?refId=CL%2BJrO%2BRBtX%2BnJGBVTNMjw%3D%3D&trackingId=i3f%2BekMKzI%2BMJFAZkU%2BIww%3D%3D&position=16&pageNum=7&trk=public_jobs_jserp-result_search-card 2110\n"
     ]
    },
    {
     "name": "stderr",
     "output_type": "stream",
     "text": [
      "INFO:li:scraper:('[Data Analyst][United States][192]', 'Processed')\n"
     ]
    },
    {
     "name": "stdout",
     "output_type": "stream",
     "text": [
      "[ON_DATA] Healthcare Data Analyst full_time associate WPS Health Solutions  3270122860 https://www.linkedin.com/jobs/view/healthcare-data-analyst-at-wps-health-solutions-3270122860?refId=CL%2BJrO%2BRBtX%2BnJGBVTNMjw%3D%3D&trackingId=O5bVZI41QwaEK2cyXF2KDA%3D%3D&position=17&pageNum=7&trk=public_jobs_jserp-result_search-card 5097\n"
     ]
    },
    {
     "name": "stderr",
     "output_type": "stream",
     "text": [
      "INFO:li:scraper:('[Data Analyst][United States][193]', 'Processed')\n"
     ]
    },
    {
     "name": "stdout",
     "output_type": "stream",
     "text": [
      "[ON_DATA] Sr. Data Analyst full_time associate Ally  3260141401 https://www.linkedin.com/jobs/view/sr-data-analyst-at-ally-3260141401?refId=CL%2BJrO%2BRBtX%2BnJGBVTNMjw%3D%3D&trackingId=Y7gxGimapulYgoxRimktVg%3D%3D&position=18&pageNum=7&trk=public_jobs_jserp-result_search-card 5566\n"
     ]
    },
    {
     "name": "stderr",
     "output_type": "stream",
     "text": [
      "INFO:li:scraper:('[Data Analyst][United States][194]', 'Processed')\n"
     ]
    },
    {
     "name": "stdout",
     "output_type": "stream",
     "text": [
      "[ON_DATA] Data Analyst full_time associate Avison Young | US  3251925414 https://www.linkedin.com/jobs/view/data-analyst-at-avison-young-us-3251925414?refId=CL%2BJrO%2BRBtX%2BnJGBVTNMjw%3D%3D&trackingId=19ipIMDe1JVYWyFArt6MxQ%3D%3D&position=19&pageNum=7&trk=public_jobs_jserp-result_search-card 5481\n"
     ]
    },
    {
     "name": "stderr",
     "output_type": "stream",
     "text": [
      "INFO:li:scraper:('[Data Analyst][United States][195]', 'Processed')\n"
     ]
    },
    {
     "name": "stdout",
     "output_type": "stream",
     "text": [
      "[ON_DATA] Data Analyst full_time associate Fresno First Bank  3268297444 https://www.linkedin.com/jobs/view/data-analyst-at-fresno-first-bank-3268297444?refId=CL%2BJrO%2BRBtX%2BnJGBVTNMjw%3D%3D&trackingId=Z24sZBsmDXQn4%2Fd3pY%2FcXg%3D%3D&position=20&pageNum=7&trk=public_jobs_jserp-result_search-card 4190\n"
     ]
    },
    {
     "name": "stderr",
     "output_type": "stream",
     "text": [
      "INFO:li:scraper:('[Data Analyst][United States][196]', 'Processed')\n"
     ]
    },
    {
     "name": "stdout",
     "output_type": "stream",
     "text": [
      "[ON_DATA] Data Analyst I full_time associate Massachusetts General Hospital  3259419294 https://www.linkedin.com/jobs/view/data-analyst-i-at-massachusetts-general-hospital-3259419294?refId=CL%2BJrO%2BRBtX%2BnJGBVTNMjw%3D%3D&trackingId=iF6zDB%2Fgm5NXFHiV%2FsfR1Q%3D%3D&position=21&pageNum=7&trk=public_jobs_jserp-result_search-card 5052\n"
     ]
    },
    {
     "name": "stderr",
     "output_type": "stream",
     "text": [
      "INFO:li:scraper:('[Data Analyst][United States][197]', 'Processed')\n"
     ]
    },
    {
     "name": "stdout",
     "output_type": "stream",
     "text": [
      "[ON_DATA] Data Analyst full_time associate Atlas Copco  3262202063 https://www.linkedin.com/jobs/view/data-analyst-at-atlas-copco-3262202063?refId=CL%2BJrO%2BRBtX%2BnJGBVTNMjw%3D%3D&trackingId=UWRaRpEJNjC3TTuet54uWQ%3D%3D&position=22&pageNum=7&trk=public_jobs_jserp-result_search-card 3226\n"
     ]
    },
    {
     "name": "stderr",
     "output_type": "stream",
     "text": [
      "INFO:li:scraper:('[Data Analyst][United States][198]', 'Processed')\n"
     ]
    },
    {
     "name": "stdout",
     "output_type": "stream",
     "text": [
      "[ON_DATA] Data Analyst full_time associate LPX Group  3254001331 https://www.linkedin.com/jobs/view/data-analyst-at-lpx-group-3254001331?refId=CL%2BJrO%2BRBtX%2BnJGBVTNMjw%3D%3D&trackingId=hke6ESgi%2ByFH0%2Fkhyj%2FrGw%3D%3D&position=23&pageNum=7&trk=public_jobs_jserp-result_search-card 3626\n"
     ]
    },
    {
     "name": "stderr",
     "output_type": "stream",
     "text": [
      "INFO:li:scraper:('[Data Analyst][United States][199]', 'Processed')\n"
     ]
    },
    {
     "name": "stdout",
     "output_type": "stream",
     "text": [
      "[ON_DATA] Junior Data Analyst full_time associate Explore Job Search  3263335695 https://www.linkedin.com/jobs/view/junior-data-analyst-at-explore-job-search-3263335695?refId=CL%2BJrO%2BRBtX%2BnJGBVTNMjw%3D%3D&trackingId=UvDRlqWzLZhQTAzBCqWj3w%3D%3D&position=24&pageNum=7&trk=public_jobs_jserp-result_search-card 3517\n"
     ]
    },
    {
     "name": "stderr",
     "output_type": "stream",
     "text": [
      "INFO:li:scraper:('[Data Analyst][United States][200]', 'Processed')\n",
      "INFO:li:scraper:('[Data Analyst][United States][200]', 'Checking for new jobs to load...')\n"
     ]
    },
    {
     "name": "stdout",
     "output_type": "stream",
     "text": [
      "[ON_DATA] Healthcare Data Analyst full_time associate WPS Health Solutions  3270125304 https://www.linkedin.com/jobs/view/healthcare-data-analyst-at-wps-health-solutions-3270125304?refId=CL%2BJrO%2BRBtX%2BnJGBVTNMjw%3D%3D&trackingId=ZjSFAYSuQ17Vc36wONK6xw%3D%3D&position=25&pageNum=7&trk=public_jobs_jserp-result_search-card 5097\n"
     ]
    },
    {
     "name": "stderr",
     "output_type": "stream",
     "text": [
      "INFO:li:scraper:('[Data Analyst][United States][200]', 'Found 225 jobs')\n",
      "INFO:li:scraper:('[Data Analyst][United States][201]', 'Processed')\n"
     ]
    },
    {
     "name": "stdout",
     "output_type": "stream",
     "text": [
      "[ON_DATA] Healthcare Data Analyst full_time associate New York State Technology Enterprise Corporation (NYSTEC)  3268253138 https://www.linkedin.com/jobs/view/healthcare-data-analyst-at-new-york-state-technology-enterprise-corporation-nystec-3268253138?refId=N8%2FVj4a6Hu1hf72FLfFhsg%3D%3D&trackingId=%2BELukHG3WV9h3V88fVmiAw%3D%3D&position=1&pageNum=8&trk=public_jobs_jserp-result_search-card 4612\n"
     ]
    },
    {
     "name": "stderr",
     "output_type": "stream",
     "text": [
      "INFO:li:scraper:('[Data Analyst][United States][202]', 'Processed')\n"
     ]
    },
    {
     "name": "stdout",
     "output_type": "stream",
     "text": [
      "[ON_DATA] Data Analyst IV full_time associate Kaiser Permanente  3270656882 https://www.linkedin.com/jobs/view/data-analyst-iv-at-kaiser-permanente-3270656882?refId=N8%2FVj4a6Hu1hf72FLfFhsg%3D%3D&trackingId=onvjpeALq9IKRgkIyo76hw%3D%3D&position=2&pageNum=8&trk=public_jobs_jserp-result_search-card 5083\n"
     ]
    },
    {
     "name": "stderr",
     "output_type": "stream",
     "text": [
      "INFO:li:scraper:('[Data Analyst][United States][203]', 'Processed')\n"
     ]
    },
    {
     "name": "stdout",
     "output_type": "stream",
     "text": [
      "[ON_DATA] Data Analyst (Junior) full_time associate Explore Job Search  3261477207 https://www.linkedin.com/jobs/view/data-analyst-junior-at-explore-job-search-3261477207?refId=N8%2FVj4a6Hu1hf72FLfFhsg%3D%3D&trackingId=Evi8odajExocZRD1kiJ7oA%3D%3D&position=3&pageNum=8&trk=public_jobs_jserp-result_search-card 3517\n"
     ]
    },
    {
     "name": "stderr",
     "output_type": "stream",
     "text": [
      "INFO:li:scraper:('[Data Analyst][United States][204]', 'Processed')\n"
     ]
    },
    {
     "name": "stdout",
     "output_type": "stream",
     "text": [
      "[ON_DATA] Data Analyst (Junior) full_time associate Explore Job Search  3261475640 https://www.linkedin.com/jobs/view/data-analyst-junior-at-explore-job-search-3261475640?refId=N8%2FVj4a6Hu1hf72FLfFhsg%3D%3D&trackingId=9Jmaw7jsFPuyLoMiC4Fd3w%3D%3D&position=4&pageNum=8&trk=public_jobs_jserp-result_search-card 3517\n"
     ]
    },
    {
     "name": "stderr",
     "output_type": "stream",
     "text": [
      "INFO:li:scraper:('[Data Analyst][United States][205]', 'Processed')\n"
     ]
    },
    {
     "name": "stdout",
     "output_type": "stream",
     "text": [
      "[ON_DATA] Talent Data Analyst, Square full_time associate Square  3207677776 https://www.linkedin.com/jobs/view/talent-data-analyst-square-at-square-3207677776?refId=N8%2FVj4a6Hu1hf72FLfFhsg%3D%3D&trackingId=sNt94vAGeQ03EE2JIHYBgA%3D%3D&position=5&pageNum=8&trk=public_jobs_jserp-result_search-card 5605\n"
     ]
    },
    {
     "name": "stderr",
     "output_type": "stream",
     "text": [
      "INFO:li:scraper:('[Data Analyst][United States][206]', 'Processed')\n"
     ]
    },
    {
     "name": "stdout",
     "output_type": "stream",
     "text": [
      "[ON_DATA] Data Analyst, Product full_time associate Jam City  3069634261 https://www.linkedin.com/jobs/view/data-analyst-product-at-jam-city-3069634261?refId=N8%2FVj4a6Hu1hf72FLfFhsg%3D%3D&trackingId=AO6sHs%2Fo6EDdiP1XCStQFA%3D%3D&position=6&pageNum=8&trk=public_jobs_jserp-result_search-card 5183\n"
     ]
    },
    {
     "name": "stderr",
     "output_type": "stream",
     "text": [
      "INFO:li:scraper:('[Data Analyst][United States][207]', 'Processed')\n"
     ]
    },
    {
     "name": "stdout",
     "output_type": "stream",
     "text": [
      "[ON_DATA] Business Data Analyst full_time associate DHL Supply Chain  3228272344 https://www.linkedin.com/jobs/view/business-data-analyst-at-dhl-supply-chain-3228272344?refId=N8%2FVj4a6Hu1hf72FLfFhsg%3D%3D&trackingId=e1YYdZoC5yMWCKpct6kyaQ%3D%3D&position=7&pageNum=8&trk=public_jobs_jserp-result_search-card 3402\n"
     ]
    },
    {
     "name": "stderr",
     "output_type": "stream",
     "text": [
      "INFO:li:scraper:('[Data Analyst][United States][208]', 'Processed')\n"
     ]
    },
    {
     "name": "stdout",
     "output_type": "stream",
     "text": [
      "[ON_DATA] Data Analyst full_time associate Vouch Insurance  3167912303 https://www.linkedin.com/jobs/view/data-analyst-at-vouch-insurance-3167912303?refId=N8%2FVj4a6Hu1hf72FLfFhsg%3D%3D&trackingId=lJrih0sfJk2yJkI8kU5NkA%3D%3D&position=8&pageNum=8&trk=public_jobs_jserp-result_search-card 4831\n"
     ]
    },
    {
     "name": "stderr",
     "output_type": "stream",
     "text": [
      "INFO:li:scraper:('[Data Analyst][United States][209]', 'Processed')\n"
     ]
    },
    {
     "name": "stdout",
     "output_type": "stream",
     "text": [
      "[ON_DATA] 2023 Wells Fargo Analytics & Data Analyst Program full_time associate Wells Fargo  3269072507 https://www.linkedin.com/jobs/view/2023-wells-fargo-analytics-data-analyst-program-at-wells-fargo-3269072507?refId=N8%2FVj4a6Hu1hf72FLfFhsg%3D%3D&trackingId=FzUX%2FHp3i7HpJUjeHxoKBA%3D%3D&position=9&pageNum=8&trk=public_jobs_jserp-result_search-card 6589\n"
     ]
    },
    {
     "name": "stderr",
     "output_type": "stream",
     "text": [
      "INFO:li:scraper:('[Data Analyst][United States][210]', 'Processed')\n"
     ]
    },
    {
     "name": "stdout",
     "output_type": "stream",
     "text": [
      "[ON_DATA] Clinical Data Analyst II full_time associate Orlando Health  3266787051 https://www.linkedin.com/jobs/view/clinical-data-analyst-ii-at-orlando-health-3266787051?refId=N8%2FVj4a6Hu1hf72FLfFhsg%3D%3D&trackingId=tfCa4ivpTNvYJFEt8sOIhA%3D%3D&position=10&pageNum=8&trk=public_jobs_jserp-result_search-card 5103\n"
     ]
    },
    {
     "name": "stderr",
     "output_type": "stream",
     "text": [
      "INFO:li:scraper:('[Data Analyst][United States][211]', 'Processed')\n"
     ]
    },
    {
     "name": "stdout",
     "output_type": "stream",
     "text": [
      "[ON_DATA] Associate Data Analyst full_time associate IHS Markit  3271079751 https://www.linkedin.com/jobs/view/associate-data-analyst-at-ihs-markit-3271079751?refId=N8%2FVj4a6Hu1hf72FLfFhsg%3D%3D&trackingId=3xLbbS7w5SuXrxC0iThV%2Fw%3D%3D&position=11&pageNum=8&trk=public_jobs_jserp-result_search-card 3638\n"
     ]
    },
    {
     "name": "stderr",
     "output_type": "stream",
     "text": [
      "INFO:li:scraper:('[Data Analyst][United States][212]', 'Processed')\n"
     ]
    },
    {
     "name": "stdout",
     "output_type": "stream",
     "text": [
      "[ON_DATA] Clinical Data Analyst full_time associate Providence Health & Services  3268478760 https://www.linkedin.com/jobs/view/clinical-data-analyst-at-providence-health-services-3268478760?refId=N8%2FVj4a6Hu1hf72FLfFhsg%3D%3D&trackingId=DLXJwworzAtE8uWa%2BNE%2FqA%3D%3D&position=12&pageNum=8&trk=public_jobs_jserp-result_search-card 5320\n"
     ]
    },
    {
     "name": "stderr",
     "output_type": "stream",
     "text": [
      "INFO:li:scraper:('[Data Analyst][United States][213]', 'Processed')\n"
     ]
    },
    {
     "name": "stdout",
     "output_type": "stream",
     "text": [
      "[ON_DATA] Data Analyst OTI full_time associate ETS  3245825686 https://www.linkedin.com/jobs/view/data-analyst-oti-at-ets-3245825686?refId=N8%2FVj4a6Hu1hf72FLfFhsg%3D%3D&trackingId=jMLqsfU0gnIdtAHrgRjwbQ%3D%3D&position=13&pageNum=8&trk=public_jobs_jserp-result_search-card 1971\n"
     ]
    },
    {
     "name": "stderr",
     "output_type": "stream",
     "text": [
      "INFO:li:scraper:('[Data Analyst][United States][214]', 'Processed')\n"
     ]
    },
    {
     "name": "stdout",
     "output_type": "stream",
     "text": [
      "[ON_DATA] Data Analyst 3 full_time associate Nordstrom  3194471195 https://www.linkedin.com/jobs/view/data-analyst-3-at-nordstrom-3194471195?refId=N8%2FVj4a6Hu1hf72FLfFhsg%3D%3D&trackingId=vHA2S1SfLmVnbSjKh%2B6f%2FA%3D%3D&position=14&pageNum=8&trk=public_jobs_jserp-result_search-card 6806\n"
     ]
    },
    {
     "name": "stderr",
     "output_type": "stream",
     "text": [
      "INFO:li:scraper:('[Data Analyst][United States][215]', 'Processed')\n"
     ]
    },
    {
     "name": "stdout",
     "output_type": "stream",
     "text": [
      "[ON_DATA] Business Data Analyst full_time associate Intuit  3225687128 https://www.linkedin.com/jobs/view/business-data-analyst-at-intuit-3225687128?refId=N8%2FVj4a6Hu1hf72FLfFhsg%3D%3D&trackingId=wd%2FUO5q0TNKZX5pbDUOlMw%3D%3D&position=15&pageNum=8&trk=public_jobs_jserp-result_search-card 2749\n"
     ]
    },
    {
     "name": "stderr",
     "output_type": "stream",
     "text": [
      "INFO:li:scraper:('[Data Analyst][United States][216]', 'Processed')\n"
     ]
    },
    {
     "name": "stdout",
     "output_type": "stream",
     "text": [
      "[ON_DATA] Data Analyst full_time associate MAI Capital Management, LLC  3270280600 https://www.linkedin.com/jobs/view/data-analyst-at-mai-capital-management-llc-3270280600?refId=N8%2FVj4a6Hu1hf72FLfFhsg%3D%3D&trackingId=WmTrgankFRXZ7TmfueFljA%3D%3D&position=16&pageNum=8&trk=public_jobs_jserp-result_search-card 2791\n"
     ]
    },
    {
     "name": "stderr",
     "output_type": "stream",
     "text": [
      "INFO:li:scraper:('[Data Analyst][United States][217]', 'Processed')\n"
     ]
    },
    {
     "name": "stdout",
     "output_type": "stream",
     "text": [
      "[ON_DATA] Data Analyst 2 - Fraud Strategy - Remote full_time associate Nordstrom  3266830187 https://www.linkedin.com/jobs/view/data-analyst-2-fraud-strategy-remote-at-nordstrom-3266830187?refId=N8%2FVj4a6Hu1hf72FLfFhsg%3D%3D&trackingId=5%2FvW5DDMPqZJdLUiYc8GeA%3D%3D&position=17&pageNum=8&trk=public_jobs_jserp-result_search-card 3488\n"
     ]
    },
    {
     "name": "stderr",
     "output_type": "stream",
     "text": [
      "INFO:li:scraper:('[Data Analyst][United States][218]', 'Processed')\n"
     ]
    },
    {
     "name": "stdout",
     "output_type": "stream",
     "text": [
      "[ON_DATA] Business Data Analyst full_time associate Sagence, Inc.  3270162400 https://www.linkedin.com/jobs/view/business-data-analyst-at-sagence-inc-3270162400?refId=N8%2FVj4a6Hu1hf72FLfFhsg%3D%3D&trackingId=ZCe6aEVxqBS6BbKuhZmwSQ%3D%3D&position=18&pageNum=8&trk=public_jobs_jserp-result_search-card 4718\n"
     ]
    },
    {
     "name": "stderr",
     "output_type": "stream",
     "text": [
      "INFO:li:scraper:('[Data Analyst][United States][219]', 'Processed')\n"
     ]
    },
    {
     "name": "stdout",
     "output_type": "stream",
     "text": [
      "[ON_DATA] Junior Technical Data Analyst full_time associate Chubb  3273773532 https://www.linkedin.com/jobs/view/junior-technical-data-analyst-at-chubb-3273773532?refId=N8%2FVj4a6Hu1hf72FLfFhsg%3D%3D&trackingId=0rX34eDIW3HWxlRElnSdXA%3D%3D&position=19&pageNum=8&trk=public_jobs_jserp-result_search-card 4695\n"
     ]
    },
    {
     "name": "stderr",
     "output_type": "stream",
     "text": [
      "INFO:li:scraper:('[Data Analyst][United States][220]', 'Processed')\n"
     ]
    },
    {
     "name": "stdout",
     "output_type": "stream",
     "text": [
      "[ON_DATA] Data Analyst full_time associate Proven Recruiting  3263867632 https://www.linkedin.com/jobs/view/data-analyst-at-proven-recruiting-3263867632?refId=N8%2FVj4a6Hu1hf72FLfFhsg%3D%3D&trackingId=Bj4kqlWj4e7EjaiK2mC8gA%3D%3D&position=20&pageNum=8&trk=public_jobs_jserp-result_search-card 456\n"
     ]
    },
    {
     "name": "stderr",
     "output_type": "stream",
     "text": [
      "INFO:li:scraper:('[Data Analyst][United States][221]', 'Processed')\n"
     ]
    },
    {
     "name": "stdout",
     "output_type": "stream",
     "text": [
      "[ON_DATA] Jr. Data Analyst full_time associate Explore Job Search  3260016791 https://www.linkedin.com/jobs/view/jr-data-analyst-at-explore-job-search-3260016791?refId=N8%2FVj4a6Hu1hf72FLfFhsg%3D%3D&trackingId=fNhmDtnqIOw8M76OqKvIoQ%3D%3D&position=21&pageNum=8&trk=public_jobs_jserp-result_search-card 2912\n"
     ]
    },
    {
     "name": "stderr",
     "output_type": "stream",
     "text": [
      "INFO:li:scraper:('[Data Analyst][United States][222]', 'Processed')\n"
     ]
    },
    {
     "name": "stdout",
     "output_type": "stream",
     "text": [
      "[ON_DATA] Junior Data Analyst full_time associate Staffigo  3230657674 https://www.linkedin.com/jobs/view/junior-data-analyst-at-staffigo-3230657674?refId=N8%2FVj4a6Hu1hf72FLfFhsg%3D%3D&trackingId=1838Bvn8g4u%2BMLXfgTc62g%3D%3D&position=22&pageNum=8&trk=public_jobs_jserp-result_search-card 3333\n"
     ]
    },
    {
     "name": "stderr",
     "output_type": "stream",
     "text": [
      "INFO:li:scraper:('[Data Analyst][United States][223]', 'Processed')\n"
     ]
    },
    {
     "name": "stdout",
     "output_type": "stream",
     "text": [
      "[ON_DATA] Enterprise Data Analyst full_time associate Forbright Bank  3259185945 https://www.linkedin.com/jobs/view/enterprise-data-analyst-at-forbright-bank-3259185945?refId=N8%2FVj4a6Hu1hf72FLfFhsg%3D%3D&trackingId=1nnd3Ppp62Mi3dZLN%2BwhCg%3D%3D&position=23&pageNum=8&trk=public_jobs_jserp-result_search-card 3761\n"
     ]
    },
    {
     "name": "stderr",
     "output_type": "stream",
     "text": [
      "INFO:li:scraper:('[Data Analyst][United States][224]', 'Processed')\n"
     ]
    },
    {
     "name": "stdout",
     "output_type": "stream",
     "text": [
      "[ON_DATA] Data Analyst OTI full_time associate ETS  3245826608 https://www.linkedin.com/jobs/view/data-analyst-oti-at-ets-3245826608?refId=N8%2FVj4a6Hu1hf72FLfFhsg%3D%3D&trackingId=OVBxqoH6URSAb20xur5s7w%3D%3D&position=24&pageNum=8&trk=public_jobs_jserp-result_search-card 1971\n"
     ]
    },
    {
     "name": "stderr",
     "output_type": "stream",
     "text": [
      "INFO:li:scraper:('[Data Analyst][United States][225]', 'Processed')\n",
      "INFO:li:scraper:('[Data Analyst][United States][225]', 'Checking for new jobs to load...')\n"
     ]
    },
    {
     "name": "stdout",
     "output_type": "stream",
     "text": [
      "[ON_DATA] 2023 Wells Fargo Analytics & Data Analyst Program full_time associate Wells Fargo  3269068867 https://www.linkedin.com/jobs/view/2023-wells-fargo-analytics-data-analyst-program-at-wells-fargo-3269068867?refId=N8%2FVj4a6Hu1hf72FLfFhsg%3D%3D&trackingId=9c7tz2tV6%2B2CkO7McfqdlQ%3D%3D&position=25&pageNum=8&trk=public_jobs_jserp-result_search-card 6589\n"
     ]
    },
    {
     "name": "stderr",
     "output_type": "stream",
     "text": [
      "INFO:li:scraper:('[Data Analyst][United States][225]', 'Found 250 jobs')\n",
      "INFO:li:scraper:('[Data Analyst][United States][226]', 'Processed')\n"
     ]
    },
    {
     "name": "stdout",
     "output_type": "stream",
     "text": [
      "[ON_DATA] Data Analyst 2 - Fraud Strategy - Remote full_time associate Nordstrom  3266826778 https://www.linkedin.com/jobs/view/data-analyst-2-fraud-strategy-remote-at-nordstrom-3266826778?refId=JlwMHp8AG5nxipGUYdFzzQ%3D%3D&trackingId=i93zXOfe%2FZhTxl0ocPmQzA%3D%3D&position=1&pageNum=9&trk=public_jobs_jserp-result_search-card 3488\n"
     ]
    },
    {
     "name": "stderr",
     "output_type": "stream",
     "text": [
      "INFO:li:scraper:('[Data Analyst][United States][227]', 'Processed')\n"
     ]
    },
    {
     "name": "stdout",
     "output_type": "stream",
     "text": [
      "[ON_DATA] Associate Data Analyst full_time associate Genworth  3258075068 https://www.linkedin.com/jobs/view/associate-data-analyst-at-genworth-3258075068?refId=JlwMHp8AG5nxipGUYdFzzQ%3D%3D&trackingId=qXPhj5kh5JdxbGidZS5YKg%3D%3D&position=2&pageNum=9&trk=public_jobs_jserp-result_search-card 5838\n"
     ]
    },
    {
     "name": "stderr",
     "output_type": "stream",
     "text": [
      "INFO:li:scraper:('[Data Analyst][United States][228]', 'Processed')\n"
     ]
    },
    {
     "name": "stdout",
     "output_type": "stream",
     "text": [
      "[ON_DATA] Data Analyst full_time associate Brooksource  3245800992 https://www.linkedin.com/jobs/view/data-analyst-at-brooksource-3245800992?refId=JlwMHp8AG5nxipGUYdFzzQ%3D%3D&trackingId=wdKGz0OBdrj7TW7hTQ4ETQ%3D%3D&position=3&pageNum=9&trk=public_jobs_jserp-result_search-card 2809\n"
     ]
    },
    {
     "name": "stderr",
     "output_type": "stream",
     "text": [
      "INFO:li:scraper:('[Data Analyst][United States][229]', 'Processed')\n"
     ]
    },
    {
     "name": "stdout",
     "output_type": "stream",
     "text": [
      "[ON_DATA] Sr. Data Analyst - Telecommute full_time associate Optum  3249029251 https://www.linkedin.com/jobs/view/sr-data-analyst-telecommute-at-optum-3249029251?refId=JlwMHp8AG5nxipGUYdFzzQ%3D%3D&trackingId=VFVWqjFVcLoc09fUYsmhQA%3D%3D&position=4&pageNum=9&trk=public_jobs_jserp-result_search-card 6730\n"
     ]
    },
    {
     "name": "stderr",
     "output_type": "stream",
     "text": [
      "INFO:li:scraper:('[Data Analyst][United States][230]', 'Processed')\n"
     ]
    },
    {
     "name": "stdout",
     "output_type": "stream",
     "text": [
      "[ON_DATA] 2023 Wells Fargo Analytics & Data Analyst Program full_time associate Wells Fargo  3269072508 https://www.linkedin.com/jobs/view/2023-wells-fargo-analytics-data-analyst-program-at-wells-fargo-3269072508?refId=JlwMHp8AG5nxipGUYdFzzQ%3D%3D&trackingId=CvW37u14uW5%2FyfhjZ%2FfNNw%3D%3D&position=5&pageNum=9&trk=public_jobs_jserp-result_search-card 6589\n"
     ]
    },
    {
     "name": "stderr",
     "output_type": "stream",
     "text": [
      "INFO:li:scraper:('[Data Analyst][United States][231]', 'Processed')\n"
     ]
    },
    {
     "name": "stdout",
     "output_type": "stream",
     "text": [
      "[ON_DATA] Data Analyst (base salary as listed plus commission) full_time associate OddBytes  3230597383 https://www.linkedin.com/jobs/view/data-analyst-base-salary-as-listed-plus-commission-at-oddbytes-3230597383?refId=JlwMHp8AG5nxipGUYdFzzQ%3D%3D&trackingId=V8YykyI33%2BADk2GbDHFwCg%3D%3D&position=6&pageNum=9&trk=public_jobs_jserp-result_search-card 4132\n"
     ]
    },
    {
     "name": "stderr",
     "output_type": "stream",
     "text": [
      "WARNING:li:scraper:('[Data Analyst][United States]', '[429] Too many requests', 'You should probably increase scraper \"slow_mo\" value or reduce concurrency')\n",
      "WARNING:li:scraper:('[Data Analyst][United States]', '[429] Too many requests', 'You should probably increase scraper \"slow_mo\" value or reduce concurrency')\n",
      "ERROR:li:scraper:('[Data Analyst][United States][232]', 'Timeout on loading job details')\n",
      "NoneType: None\n",
      "INFO:li:scraper:('[Data Analyst][United States][232]', 'Processed')\n"
     ]
    },
    {
     "name": "stdout",
     "output_type": "stream",
     "text": [
      "[ON_DATA] Data Analyst - Junior full_time associate Staffigo  3230657859 https://www.linkedin.com/jobs/view/data-analyst-junior-at-staffigo-3230657859?refId=JlwMHp8AG5nxipGUYdFzzQ%3D%3D&trackingId=5mHuRU9IF5LRDEv6rkzZrg%3D%3D&position=8&pageNum=9&trk=public_jobs_jserp-result_search-card 3283\n"
     ]
    },
    {
     "name": "stderr",
     "output_type": "stream",
     "text": [
      "INFO:li:scraper:('[Data Analyst][United States][233]', 'Processed')\n"
     ]
    },
    {
     "name": "stdout",
     "output_type": "stream",
     "text": [
      "[ON_DATA] Healthcare Data Analyst full_time associate WPS Health Solutions  3270127166 https://www.linkedin.com/jobs/view/healthcare-data-analyst-at-wps-health-solutions-3270127166?refId=JlwMHp8AG5nxipGUYdFzzQ%3D%3D&trackingId=5TZSVTe6PqXVcCea19%2F7oA%3D%3D&position=9&pageNum=9&trk=public_jobs_jserp-result_search-card 5097\n"
     ]
    },
    {
     "name": "stderr",
     "output_type": "stream",
     "text": [
      "INFO:li:scraper:('[Data Analyst][United States][234]', 'Processed')\n"
     ]
    },
    {
     "name": "stdout",
     "output_type": "stream",
     "text": [
      "[ON_DATA] Healthcare Data Analyst full_time associate WPS Health Solutions  3270123374 https://www.linkedin.com/jobs/view/healthcare-data-analyst-at-wps-health-solutions-3270123374?refId=JlwMHp8AG5nxipGUYdFzzQ%3D%3D&trackingId=2piTifydngM%2Fcq8KOC53ig%3D%3D&position=10&pageNum=9&trk=public_jobs_jserp-result_search-card 5097\n"
     ]
    },
    {
     "name": "stderr",
     "output_type": "stream",
     "text": [
      "INFO:li:scraper:('[Data Analyst][United States][235]', 'Processed')\n"
     ]
    },
    {
     "name": "stdout",
     "output_type": "stream",
     "text": [
      "[ON_DATA] Data Analyst full_time associate Foundation Finance Company LLC  3235131774 https://www.linkedin.com/jobs/view/data-analyst-at-foundation-finance-company-llc-3235131774?refId=JlwMHp8AG5nxipGUYdFzzQ%3D%3D&trackingId=ynbu4l3U4uFu9Jr8kP84fQ%3D%3D&position=11&pageNum=9&trk=public_jobs_jserp-result_search-card 2753\n"
     ]
    },
    {
     "name": "stderr",
     "output_type": "stream",
     "text": [
      "INFO:li:scraper:('[Data Analyst][United States][236]', 'Processed')\n"
     ]
    },
    {
     "name": "stdout",
     "output_type": "stream",
     "text": [
      "[ON_DATA] Senior Data Analyst full_time associate Forbes  3071254804 https://www.linkedin.com/jobs/view/senior-data-analyst-at-forbes-3071254804?refId=JlwMHp8AG5nxipGUYdFzzQ%3D%3D&trackingId=q4ytVGkTA%2BeY%2Flv5Y9PuIA%3D%3D&position=12&pageNum=9&trk=public_jobs_jserp-result_search-card 3308\n"
     ]
    },
    {
     "name": "stderr",
     "output_type": "stream",
     "text": [
      "INFO:li:scraper:('[Data Analyst][United States][237]', 'Processed')\n"
     ]
    },
    {
     "name": "stdout",
     "output_type": "stream",
     "text": [
      "[ON_DATA] DP&A Data Analyst I full_time associate CNO Financial Group  3271674198 https://www.linkedin.com/jobs/view/dp-a-data-analyst-i-at-cno-financial-group-3271674198?refId=JlwMHp8AG5nxipGUYdFzzQ%3D%3D&trackingId=mfen5JsP6AVijkKEcGHJpg%3D%3D&position=13&pageNum=9&trk=public_jobs_jserp-result_search-card 6788\n"
     ]
    },
    {
     "name": "stderr",
     "output_type": "stream",
     "text": [
      "INFO:li:scraper:('[Data Analyst][United States][238]', 'Processed')\n"
     ]
    },
    {
     "name": "stdout",
     "output_type": "stream",
     "text": [
      "[ON_DATA] Data Analyst full_time associate Apex Systems  3249182346 https://www.linkedin.com/jobs/view/data-analyst-at-apex-systems-3249182346?refId=JlwMHp8AG5nxipGUYdFzzQ%3D%3D&trackingId=Rdmcozur9ajuRK995INp9Q%3D%3D&position=14&pageNum=9&trk=public_jobs_jserp-result_search-card 3038\n"
     ]
    },
    {
     "name": "stderr",
     "output_type": "stream",
     "text": [
      "INFO:li:scraper:('[Data Analyst][United States][239]', 'Processed')\n"
     ]
    },
    {
     "name": "stdout",
     "output_type": "stream",
     "text": [
      "[ON_DATA] Data Analyst I full_time associate FastTek Global  3232187465 https://www.linkedin.com/jobs/view/data-analyst-i-at-fasttek-global-3232187465?refId=JlwMHp8AG5nxipGUYdFzzQ%3D%3D&trackingId=6cH5SOtglwGznxtAI0M1jQ%3D%3D&position=15&pageNum=9&trk=public_jobs_jserp-result_search-card 3178\n"
     ]
    },
    {
     "name": "stderr",
     "output_type": "stream",
     "text": [
      "INFO:li:scraper:('[Data Analyst][United States][240]', 'Processed')\n"
     ]
    },
    {
     "name": "stdout",
     "output_type": "stream",
     "text": [
      "[ON_DATA] Talent Data Analyst, Square full_time associate Square  3228447161 https://www.linkedin.com/jobs/view/talent-data-analyst-square-at-square-3228447161?refId=JlwMHp8AG5nxipGUYdFzzQ%3D%3D&trackingId=wRZ3XZcptIaFnQtzMSoKAQ%3D%3D&position=16&pageNum=9&trk=public_jobs_jserp-result_search-card 5728\n"
     ]
    },
    {
     "name": "stderr",
     "output_type": "stream",
     "text": [
      "INFO:li:scraper:('[Data Analyst][United States][241]', 'Processed')\n"
     ]
    },
    {
     "name": "stdout",
     "output_type": "stream",
     "text": [
      "[ON_DATA] Senior Data Analyst (Remote) full_time associate Drata  3258011733 https://www.linkedin.com/jobs/view/senior-data-analyst-remote-at-drata-3258011733?refId=JlwMHp8AG5nxipGUYdFzzQ%3D%3D&trackingId=%2FbRVT0oZO2Oowcg4w4mbXw%3D%3D&position=17&pageNum=9&trk=public_jobs_jserp-result_search-card 4350\n"
     ]
    },
    {
     "name": "stderr",
     "output_type": "stream",
     "text": [
      "INFO:li:scraper:('[Data Analyst][United States][242]', 'Processed')\n"
     ]
    },
    {
     "name": "stdout",
     "output_type": "stream",
     "text": [
      "[ON_DATA] Data Analyst full_time associate Black Book  3244477270 https://www.linkedin.com/jobs/view/data-analyst-at-black-book-3244477270?refId=JlwMHp8AG5nxipGUYdFzzQ%3D%3D&trackingId=XL816gYeFhSS8LNnP13cNw%3D%3D&position=18&pageNum=9&trk=public_jobs_jserp-result_search-card 1553\n"
     ]
    },
    {
     "name": "stderr",
     "output_type": "stream",
     "text": [
      "INFO:li:scraper:('[Data Analyst][United States][243]', 'Processed')\n"
     ]
    },
    {
     "name": "stdout",
     "output_type": "stream",
     "text": [
      "[ON_DATA] Data Analyst full_time associate Lantana Consulting Group  3251268990 https://www.linkedin.com/jobs/view/data-analyst-at-lantana-consulting-group-3251268990?refId=JlwMHp8AG5nxipGUYdFzzQ%3D%3D&trackingId=3tH3MtmLRJD9qc8dQDyXIA%3D%3D&position=19&pageNum=9&trk=public_jobs_jserp-result_search-card 3216\n"
     ]
    },
    {
     "name": "stderr",
     "output_type": "stream",
     "text": [
      "INFO:li:scraper:('[Data Analyst][United States][244]', 'Processed')\n"
     ]
    },
    {
     "name": "stdout",
     "output_type": "stream",
     "text": [
      "[ON_DATA] Data Analyst full_time associate ExecutiveSurf  3256470072 https://www.linkedin.com/jobs/view/data-analyst-at-executivesurf-3256470072?refId=JlwMHp8AG5nxipGUYdFzzQ%3D%3D&trackingId=MsV1kcUz5BJYBU5H2i9nyw%3D%3D&position=20&pageNum=9&trk=public_jobs_jserp-result_search-card 2743\n"
     ]
    },
    {
     "name": "stderr",
     "output_type": "stream",
     "text": [
      "INFO:li:scraper:('[Data Analyst][United States][245]', 'Processed')\n"
     ]
    },
    {
     "name": "stdout",
     "output_type": "stream",
     "text": [
      "[ON_DATA] Project Data Analyst full_time associate Encyclopaedia Britannica  3197945834 https://www.linkedin.com/jobs/view/project-data-analyst-at-encyclopaedia-britannica-3197945834?refId=JlwMHp8AG5nxipGUYdFzzQ%3D%3D&trackingId=TiCLII2gMe6Yi%2FXjjOTPjA%3D%3D&position=21&pageNum=9&trk=public_jobs_jserp-result_search-card 2539\n"
     ]
    },
    {
     "name": "stderr",
     "output_type": "stream",
     "text": [
      "INFO:li:scraper:('[Data Analyst][United States][246]', 'Processed')\n"
     ]
    },
    {
     "name": "stdout",
     "output_type": "stream",
     "text": [
      "[ON_DATA] HR Data Analyst full_time associate U.S. Bank  3272483880 https://www.linkedin.com/jobs/view/hr-data-analyst-at-u-s-bank-3272483880?refId=JlwMHp8AG5nxipGUYdFzzQ%3D%3D&trackingId=gRqVmC3NZybuHoW4vDwDaA%3D%3D&position=22&pageNum=9&trk=public_jobs_jserp-result_search-card 4142\n"
     ]
    },
    {
     "name": "stderr",
     "output_type": "stream",
     "text": [
      "WARNING:li:scraper:('[Data Analyst][United States]', '[429] Too many requests', 'You should probably increase scraper \"slow_mo\" value or reduce concurrency')\n",
      "WARNING:li:scraper:('[Data Analyst][United States]', '[429] Too many requests', 'You should probably increase scraper \"slow_mo\" value or reduce concurrency')\n",
      "ERROR:li:scraper:('[Data Analyst][United States][247]', 'Timeout on loading job details')\n",
      "NoneType: None\n",
      "INFO:li:scraper:('[Data Analyst][United States][247]', 'Processed')\n"
     ]
    },
    {
     "name": "stdout",
     "output_type": "stream",
     "text": [
      "[ON_DATA] Marketing Data Analyst, Square Banking full_time associate Explore Job Search  3267342081 https://www.linkedin.com/jobs/view/marketing-data-analyst-square-banking-at-explore-job-search-3267342081?refId=JlwMHp8AG5nxipGUYdFzzQ%3D%3D&trackingId=jGt6mYgOLoSGdKfKQ2mwpw%3D%3D&position=24&pageNum=9&trk=public_jobs_jserp-result_search-card 6713\n"
     ]
    },
    {
     "name": "stderr",
     "output_type": "stream",
     "text": [
      "INFO:li:scraper:('[Data Analyst][United States][248]', 'Processed')\n",
      "INFO:li:scraper:('[Data Analyst][United States][248]', 'Checking for new jobs to load...')\n"
     ]
    },
    {
     "name": "stdout",
     "output_type": "stream",
     "text": [
      "[ON_DATA] Population Health Data Analyst full_time associate The HealthCare Connection  3273624007 https://www.linkedin.com/jobs/view/population-health-data-analyst-at-the-healthcare-connection-3273624007?refId=JlwMHp8AG5nxipGUYdFzzQ%3D%3D&trackingId=3RRWLVdE%2FD5APfFZqOhZOQ%3D%3D&position=25&pageNum=9&trk=public_jobs_jserp-result_search-card 4054\n"
     ]
    },
    {
     "name": "stderr",
     "output_type": "stream",
     "text": [
      "INFO:li:scraper:('[Data Analyst][United States][248]', 'Found 275 jobs')\n",
      "INFO:li:scraper:('[Data Analyst][United States][249]', 'Processed')\n"
     ]
    },
    {
     "name": "stdout",
     "output_type": "stream",
     "text": [
      "[ON_DATA] (USA) Data Analyst III (Marketplace) full_time associate Walmart  3269267241 https://www.linkedin.com/jobs/view/usa-data-analyst-iii-marketplace-at-walmart-3269267241?refId=e1KJwbOfGiw91LNl7ouLKA%3D%3D&trackingId=ldrbL5nsnSoJOnfCtclYug%3D%3D&position=1&pageNum=10&trk=public_jobs_jserp-result_search-card 5477\n"
     ]
    },
    {
     "name": "stderr",
     "output_type": "stream",
     "text": [
      "INFO:li:scraper:('[Data Analyst][United States][250]', 'Processed')\n"
     ]
    },
    {
     "name": "stdout",
     "output_type": "stream",
     "text": [
      "[ON_DATA] Senior Data Analyst (Remote) full_time associate Divvy Homes  3243882758 https://www.linkedin.com/jobs/view/senior-data-analyst-remote-at-divvy-homes-3243882758?refId=e1KJwbOfGiw91LNl7ouLKA%3D%3D&trackingId=0Qguw6MKEFmekuNDZW7Alg%3D%3D&position=2&pageNum=10&trk=public_jobs_jserp-result_search-card 2578\n"
     ]
    },
    {
     "name": "stderr",
     "output_type": "stream",
     "text": [
      "INFO:li:scraper:('[Data Analyst][United States][251]', 'Processed')\n"
     ]
    },
    {
     "name": "stdout",
     "output_type": "stream",
     "text": [
      "[ON_DATA] Data Analyst full_time associate NYC Administration for Children's Services  3257282219 https://www.linkedin.com/jobs/view/data-analyst-at-nyc-administration-for-children-s-services-3257282219?refId=e1KJwbOfGiw91LNl7ouLKA%3D%3D&trackingId=SRUJXTtccJ9oJD7TzKAZcg%3D%3D&position=3&pageNum=10&trk=public_jobs_jserp-result_search-card 6147\n"
     ]
    },
    {
     "name": "stderr",
     "output_type": "stream",
     "text": [
      "INFO:li:scraper:('[Data Analyst][United States][252]', 'Processed')\n"
     ]
    },
    {
     "name": "stdout",
     "output_type": "stream",
     "text": [
      "[ON_DATA] Healthcare Equity Data Analyst full_time associate Fund for Public Health in NYC  3264459750 https://www.linkedin.com/jobs/view/healthcare-equity-data-analyst-at-fund-for-public-health-in-nyc-3264459750?refId=e1KJwbOfGiw91LNl7ouLKA%3D%3D&trackingId=i0sdSTDqoqGWc3W1oBbBPA%3D%3D&position=4&pageNum=10&trk=public_jobs_jserp-result_search-card 6161\n"
     ]
    },
    {
     "name": "stderr",
     "output_type": "stream",
     "text": [
      "INFO:li:scraper:('[Data Analyst][United States][253]', 'Processed')\n"
     ]
    },
    {
     "name": "stdout",
     "output_type": "stream",
     "text": [
      "[ON_DATA] SR DATA ANALYST I full_time associate Lumen Technologies  3246473953 https://www.linkedin.com/jobs/view/sr-data-analyst-i-at-lumen-technologies-3246473953?refId=e1KJwbOfGiw91LNl7ouLKA%3D%3D&trackingId=Wb98R%2Bu%2B4OSYHjq7q6lFCQ%3D%3D&position=5&pageNum=10&trk=public_jobs_jserp-result_search-card 5770\n"
     ]
    },
    {
     "name": "stderr",
     "output_type": "stream",
     "text": [
      "INFO:li:scraper:('[Data Analyst][United States][254]', 'Processed')\n"
     ]
    },
    {
     "name": "stdout",
     "output_type": "stream",
     "text": [
      "[ON_DATA] Data Analyst III full_time associate Fanatics, Inc.  3239441769 https://www.linkedin.com/jobs/view/data-analyst-iii-at-fanatics-inc-3239441769?refId=e1KJwbOfGiw91LNl7ouLKA%3D%3D&trackingId=i%2Fovh%2Fy2gLtWoFRIEZhZqw%3D%3D&position=6&pageNum=10&trk=public_jobs_jserp-result_search-card 6730\n"
     ]
    },
    {
     "name": "stderr",
     "output_type": "stream",
     "text": [
      "INFO:li:scraper:('[Data Analyst][United States][255]', 'Processed')\n"
     ]
    },
    {
     "name": "stdout",
     "output_type": "stream",
     "text": [
      "[ON_DATA] Data Analyst full_time associate Company Confidential  3214977575 https://www.linkedin.com/jobs/view/data-analyst-at-company-confidential-3214977575?refId=e1KJwbOfGiw91LNl7ouLKA%3D%3D&trackingId=l%2FWyQcs7GosnortM6cyyVQ%3D%3D&position=7&pageNum=10&trk=public_jobs_jserp-result_search-card 2335\n"
     ]
    },
    {
     "name": "stderr",
     "output_type": "stream",
     "text": [
      "INFO:li:scraper:('[Data Analyst][United States][256]', 'Processed')\n"
     ]
    },
    {
     "name": "stdout",
     "output_type": "stream",
     "text": [
      "[ON_DATA] Data Analyst full_time associate Vince  3249868717 https://www.linkedin.com/jobs/view/data-analyst-at-vince-3249868717?refId=e1KJwbOfGiw91LNl7ouLKA%3D%3D&trackingId=YCqO28JxPmI7mkD%2FBGgX9w%3D%3D&position=8&pageNum=10&trk=public_jobs_jserp-result_search-card 5128\n"
     ]
    },
    {
     "name": "stderr",
     "output_type": "stream",
     "text": [
      "INFO:li:scraper:('[Data Analyst][United States][257]', 'Processed')\n"
     ]
    },
    {
     "name": "stdout",
     "output_type": "stream",
     "text": [
      "[ON_DATA] Data Analyst full_time associate Blue Signal Search  3179107257 https://www.linkedin.com/jobs/view/data-analyst-at-blue-signal-search-3179107257?refId=e1KJwbOfGiw91LNl7ouLKA%3D%3D&trackingId=LSIny4KiN7foebqknkHtIg%3D%3D&position=9&pageNum=10&trk=public_jobs_jserp-result_search-card 2223\n"
     ]
    },
    {
     "name": "stderr",
     "output_type": "stream",
     "text": [
      "INFO:li:scraper:('[Data Analyst][United States][258]', 'Processed')\n"
     ]
    },
    {
     "name": "stdout",
     "output_type": "stream",
     "text": [
      "[ON_DATA] Data Analyst, Client Analytics full_time associate Stylitics  3259811405 https://www.linkedin.com/jobs/view/data-analyst-client-analytics-at-stylitics-3259811405?refId=e1KJwbOfGiw91LNl7ouLKA%3D%3D&trackingId=tjpIJWFeGF8TfyBLm6iJXw%3D%3D&position=10&pageNum=10&trk=public_jobs_jserp-result_search-card 4498\n"
     ]
    },
    {
     "name": "stderr",
     "output_type": "stream",
     "text": [
      "INFO:li:scraper:('[Data Analyst][United States][259]', 'Processed')\n"
     ]
    },
    {
     "name": "stdout",
     "output_type": "stream",
     "text": [
      "[ON_DATA] Marketing Data Analyst full_time associate FullDeck  3257550344 https://www.linkedin.com/jobs/view/marketing-data-analyst-at-fulldeck-3257550344?refId=e1KJwbOfGiw91LNl7ouLKA%3D%3D&trackingId=NFOl5ET0a673lTPmLJ48Zw%3D%3D&position=11&pageNum=10&trk=public_jobs_jserp-result_search-card 2111\n"
     ]
    },
    {
     "name": "stderr",
     "output_type": "stream",
     "text": [
      "INFO:li:scraper:('[Data Analyst][United States][260]', 'Processed')\n"
     ]
    },
    {
     "name": "stdout",
     "output_type": "stream",
     "text": [
      "[ON_DATA] Data Quality Analyst full_time associate Ledgent Technology  3268287863 https://www.linkedin.com/jobs/view/data-quality-analyst-at-ledgent-technology-3268287863?refId=e1KJwbOfGiw91LNl7ouLKA%3D%3D&trackingId=16zkzfl%2BZfCMTpf%2FTq4yYg%3D%3D&position=12&pageNum=10&trk=public_jobs_jserp-result_search-card 2658\n"
     ]
    },
    {
     "name": "stderr",
     "output_type": "stream",
     "text": [
      "INFO:li:scraper:('[Data Analyst][United States][261]', 'Processed')\n"
     ]
    },
    {
     "name": "stdout",
     "output_type": "stream",
     "text": [
      "[ON_DATA] Junior Data Analyst full_time associate deBotech, Inc.  3271428335 https://www.linkedin.com/jobs/view/junior-data-analyst-at-debotech-inc-3271428335?refId=e1KJwbOfGiw91LNl7ouLKA%3D%3D&trackingId=y2fRQi8fCwphWtmYj9DLFw%3D%3D&position=13&pageNum=10&trk=public_jobs_jserp-result_search-card 2219\n"
     ]
    },
    {
     "name": "stderr",
     "output_type": "stream",
     "text": [
      "INFO:li:scraper:('[Data Analyst][United States][262]', 'Processed')\n"
     ]
    },
    {
     "name": "stdout",
     "output_type": "stream",
     "text": [
      "[ON_DATA] (USA) Staff Data Analyst full_time associate Walmart  3190146191 https://www.linkedin.com/jobs/view/usa-staff-data-analyst-at-walmart-3190146191?refId=e1KJwbOfGiw91LNl7ouLKA%3D%3D&trackingId=e%2Bq4t4DoUlnvcPZGlPlxag%3D%3D&position=14&pageNum=10&trk=public_jobs_jserp-result_search-card 5385\n"
     ]
    },
    {
     "name": "stderr",
     "output_type": "stream",
     "text": [
      "INFO:li:scraper:('[Data Analyst][United States][263]', 'Processed')\n"
     ]
    },
    {
     "name": "stdout",
     "output_type": "stream",
     "text": [
      "[ON_DATA] Sr. Data Analyst (Remote) full_time associate Bellhop  3244647409 https://www.linkedin.com/jobs/view/sr-data-analyst-remote-at-bellhop-3244647409?refId=e1KJwbOfGiw91LNl7ouLKA%3D%3D&trackingId=oi6y5y0ULk6o5DGSEj2u0Q%3D%3D&position=15&pageNum=10&trk=public_jobs_jserp-result_search-card 7580\n"
     ]
    },
    {
     "name": "stderr",
     "output_type": "stream",
     "text": [
      "INFO:li:scraper:('[Data Analyst][United States][264]', 'Processed')\n"
     ]
    },
    {
     "name": "stdout",
     "output_type": "stream",
     "text": [
      "[ON_DATA] Data Analyst I full_time associate Cerner Corporation  3272405044 https://www.linkedin.com/jobs/view/data-analyst-i-at-cerner-corporation-3272405044?refId=e1KJwbOfGiw91LNl7ouLKA%3D%3D&trackingId=tRYG%2BsI%2FDmZbborkWNd91A%3D%3D&position=16&pageNum=10&trk=public_jobs_jserp-result_search-card 3601\n"
     ]
    },
    {
     "name": "stderr",
     "output_type": "stream",
     "text": [
      "INFO:li:scraper:('[Data Analyst][United States][265]', 'Processed')\n"
     ]
    },
    {
     "name": "stdout",
     "output_type": "stream",
     "text": [
      "[ON_DATA] Data Analyst (Junior) full_time associate Explore Job Search  3261474783 https://www.linkedin.com/jobs/view/data-analyst-junior-at-explore-job-search-3261474783?refId=e1KJwbOfGiw91LNl7ouLKA%3D%3D&trackingId=eahKfSvTfv%2BAswBvl2cfVg%3D%3D&position=17&pageNum=10&trk=public_jobs_jserp-result_search-card 3517\n"
     ]
    },
    {
     "name": "stderr",
     "output_type": "stream",
     "text": [
      "INFO:li:scraper:('[Data Analyst][United States][266]', 'Processed')\n"
     ]
    },
    {
     "name": "stdout",
     "output_type": "stream",
     "text": [
      "[ON_DATA] Senior Data Analyst - Supply full_time associate StubHub  3241925344 https://www.linkedin.com/jobs/view/senior-data-analyst-supply-at-stubhub-3241925344?refId=e1KJwbOfGiw91LNl7ouLKA%3D%3D&trackingId=h6d0xPd4RPtrQapbt9rfgg%3D%3D&position=18&pageNum=10&trk=public_jobs_jserp-result_search-card 4268\n"
     ]
    },
    {
     "name": "stderr",
     "output_type": "stream",
     "text": [
      "INFO:li:scraper:('[Data Analyst][United States][267]', 'Processed')\n"
     ]
    },
    {
     "name": "stdout",
     "output_type": "stream",
     "text": [
      "[ON_DATA] Data Analyst / Sr Data Analyst full_time associate Upgrade, Inc.  2739457460 https://www.linkedin.com/jobs/view/data-analyst-sr-data-analyst-at-upgrade-inc-2739457460?refId=e1KJwbOfGiw91LNl7ouLKA%3D%3D&trackingId=15dPskuCc85GimRFsgvyug%3D%3D&position=19&pageNum=10&trk=public_jobs_jserp-result_search-card 5722\n"
     ]
    },
    {
     "name": "stderr",
     "output_type": "stream",
     "text": [
      "INFO:li:scraper:('[Data Analyst][United States][268]', 'Processed')\n"
     ]
    },
    {
     "name": "stdout",
     "output_type": "stream",
     "text": [
      "[ON_DATA] Data Analyst full_time associate Reece USA  3272426502 https://www.linkedin.com/jobs/view/data-analyst-at-reece-usa-3272426502?refId=e1KJwbOfGiw91LNl7ouLKA%3D%3D&trackingId=yZRTcrDDrC75zdfkVC8Lug%3D%3D&position=20&pageNum=10&trk=public_jobs_jserp-result_search-card 2792\n"
     ]
    },
    {
     "name": "stderr",
     "output_type": "stream",
     "text": [
      "INFO:li:scraper:('[Data Analyst][United States][269]', 'Processed')\n"
     ]
    },
    {
     "name": "stdout",
     "output_type": "stream",
     "text": [
      "[ON_DATA] Lead Data Analyst, Capital Markets full_time associate Upstart  3251065248 https://www.linkedin.com/jobs/view/lead-data-analyst-capital-markets-at-upstart-3251065248?refId=e1KJwbOfGiw91LNl7ouLKA%3D%3D&trackingId=ZapH9ev%2Bwc%2BnN4aAvel7NQ%3D%3D&position=21&pageNum=10&trk=public_jobs_jserp-result_search-card 7045\n"
     ]
    },
    {
     "name": "stderr",
     "output_type": "stream",
     "text": [
      "INFO:li:scraper:('[Data Analyst][United States][270]', 'Processed')\n"
     ]
    },
    {
     "name": "stdout",
     "output_type": "stream",
     "text": [
      "[ON_DATA] Data Analyst I, Planning full_time associate VENUS Fashion Inc.  3237666419 https://www.linkedin.com/jobs/view/data-analyst-i-planning-at-venus-fashion-inc-3237666419?refId=e1KJwbOfGiw91LNl7ouLKA%3D%3D&trackingId=tSuZpFdDecyZTsfXjk9tkA%3D%3D&position=22&pageNum=10&trk=public_jobs_jserp-result_search-card 3161\n"
     ]
    },
    {
     "name": "stderr",
     "output_type": "stream",
     "text": [
      "INFO:li:scraper:('[Data Analyst][United States][271]', 'Processed')\n"
     ]
    },
    {
     "name": "stdout",
     "output_type": "stream",
     "text": [
      "[ON_DATA] Data Analyst - On Site full_time associate West Health  3252842461 https://www.linkedin.com/jobs/view/data-analyst-on-site-at-west-health-3252842461?refId=e1KJwbOfGiw91LNl7ouLKA%3D%3D&trackingId=x9C8gnDF9bcM1Phnst2j2Q%3D%3D&position=23&pageNum=10&trk=public_jobs_jserp-result_search-card 3866\n"
     ]
    },
    {
     "name": "stderr",
     "output_type": "stream",
     "text": [
      "INFO:li:scraper:('[Data Analyst][United States][272]', 'Processed')\n"
     ]
    },
    {
     "name": "stdout",
     "output_type": "stream",
     "text": [
      "[ON_DATA] Lead Data Analyst, Capital Markets full_time associate Upstart  3251062547 https://www.linkedin.com/jobs/view/lead-data-analyst-capital-markets-at-upstart-3251062547?refId=e1KJwbOfGiw91LNl7ouLKA%3D%3D&trackingId=gacySmTpEM3HwKvPvK07Vw%3D%3D&position=24&pageNum=10&trk=public_jobs_jserp-result_search-card 7045\n"
     ]
    },
    {
     "name": "stderr",
     "output_type": "stream",
     "text": [
      "INFO:li:scraper:('[Data Analyst][United States][273]', 'Processed')\n",
      "INFO:li:scraper:('[Data Analyst][United States][273]', 'Checking for new jobs to load...')\n"
     ]
    },
    {
     "name": "stdout",
     "output_type": "stream",
     "text": [
      "[ON_DATA] Data Analyst I --- Radiation Oncology full_time associate Massachusetts General Hospital  3259419321 https://www.linkedin.com/jobs/view/data-analyst-i-radiation-oncology-at-massachusetts-general-hospital-3259419321?refId=e1KJwbOfGiw91LNl7ouLKA%3D%3D&trackingId=j2DPrjvAQj0rCy%2Fwundsdw%3D%3D&position=25&pageNum=10&trk=public_jobs_jserp-result_search-card 4422\n"
     ]
    },
    {
     "name": "stderr",
     "output_type": "stream",
     "text": [
      "INFO:li:scraper:('[Data Analyst][United States][273]', 'Found 300 jobs')\n",
      "INFO:li:scraper:('[Data Analyst][United States][274]', 'Processed')\n"
     ]
    },
    {
     "name": "stdout",
     "output_type": "stream",
     "text": [
      "[ON_DATA] Data Analyst full_time associate U.S. International Development Finance Corporation  3271796279 https://www.linkedin.com/jobs/view/data-analyst-at-u-s-international-development-finance-corporation-3271796279?refId=GYhXQSvv%2BzCI64hYmrmTjQ%3D%3D&trackingId=cJijYqQvoRJRy7MU%2FjfqsQ%3D%3D&position=1&pageNum=11&trk=public_jobs_jserp-result_search-card 2741\n"
     ]
    },
    {
     "name": "stderr",
     "output_type": "stream",
     "text": [
      "INFO:li:scraper:('[Data Analyst][United States][275]', 'Processed')\n"
     ]
    },
    {
     "name": "stdout",
     "output_type": "stream",
     "text": [
      "[ON_DATA] Senior Data Analyst full_time associate Explore Job Search  3267339329 https://www.linkedin.com/jobs/view/senior-data-analyst-at-explore-job-search-3267339329?refId=GYhXQSvv%2BzCI64hYmrmTjQ%3D%3D&trackingId=%2BMsJo0IvinFDVpr1LXtMKg%3D%3D&position=2&pageNum=11&trk=public_jobs_jserp-result_search-card 5025\n"
     ]
    },
    {
     "name": "stderr",
     "output_type": "stream",
     "text": [
      "INFO:li:scraper:('[Data Analyst][United States][276]', 'Processed')\n"
     ]
    },
    {
     "name": "stdout",
     "output_type": "stream",
     "text": [
      "[ON_DATA] Data Analyst I full_time associate Compunnel Inc.  3247431012 https://www.linkedin.com/jobs/view/data-analyst-i-at-compunnel-inc-3247431012?refId=GYhXQSvv%2BzCI64hYmrmTjQ%3D%3D&trackingId=VeFmaqFtO0V2C8qSqsW%2BAA%3D%3D&position=3&pageNum=11&trk=public_jobs_jserp-result_search-card 1382\n"
     ]
    },
    {
     "name": "stderr",
     "output_type": "stream",
     "text": [
      "INFO:li:scraper:('[Data Analyst][United States][277]', 'Processed')\n"
     ]
    },
    {
     "name": "stdout",
     "output_type": "stream",
     "text": [
      "[ON_DATA] Senior Data Analyst full_time associate Walmart  3258109675 https://www.linkedin.com/jobs/view/senior-data-analyst-at-walmart-3258109675?refId=GYhXQSvv%2BzCI64hYmrmTjQ%3D%3D&trackingId=CVsPDtsiyVK6TleRjLz3OA%3D%3D&position=4&pageNum=11&trk=public_jobs_jserp-result_search-card 6413\n"
     ]
    },
    {
     "name": "stderr",
     "output_type": "stream",
     "text": [
      "ERROR:li:scraper:('[Data Analyst][United States][278]', JavascriptException(\"javascript error: Cannot read properties of null (reading 'scrollIntoView')\\n  (Session info: headless chrome=105.0.5195.125)\", None, None), 'Traceback (most recent call last):\\n  File \"C:\\\\Users\\\\User\\\\anaconda3\\\\lib\\\\site-packages\\\\linkedin_jobs_scraper\\\\strategies\\\\anonymous_strategy.py\", line 267, in run\\n    job_id, job_link, job_title, job_company, job_place, job_date = driver.execute_script(\\n  File \"C:\\\\Users\\\\User\\\\anaconda3\\\\lib\\\\site-packages\\\\selenium\\\\webdriver\\\\remote\\\\webdriver.py\", line 634, in execute_script\\n    return self.execute(command, {\\n  File \"C:\\\\Users\\\\User\\\\anaconda3\\\\lib\\\\site-packages\\\\selenium\\\\webdriver\\\\remote\\\\webdriver.py\", line 321, in execute\\n    self.error_handler.check_response(response)\\n  File \"C:\\\\Users\\\\User\\\\anaconda3\\\\lib\\\\site-packages\\\\selenium\\\\webdriver\\\\remote\\\\errorhandler.py\", line 242, in check_response\\n    raise exception_class(message, screen, stacktrace)\\nselenium.comm...\n",
      "Traceback (most recent call last):\n",
      "  File \"C:\\Users\\User\\anaconda3\\lib\\site-packages\\linkedin_jobs_scraper\\strategies\\anonymous_strategy.py\", line 267, in run\n",
      "    job_id, job_link, job_title, job_company, job_place, job_date = driver.execute_script(\n",
      "  File \"C:\\Users\\User\\anaconda3\\lib\\site-packages\\selenium\\webdriver\\remote\\webdriver.py\", line 634, in execute_script\n",
      "    return self.execute(command, {\n",
      "  File \"C:\\Users\\User\\anaconda3\\lib\\site-packages\\selenium\\webdriver\\remote\\webdriver.py\", line 321, in execute\n",
      "    self.error_handler.check_response(response)\n",
      "  File \"C:\\Users\\User\\anaconda3\\lib\\site-packages\\selenium\\webdriver\\remote\\errorhandler.py\", line 242, in check_response\n",
      "    raise exception_class(message, screen, stacktrace)\n",
      "selenium.common.exceptions.JavascriptException: Message: javascript error: Cannot read properties of null (reading 'scrollIntoView')\n",
      "  (Session info: headless chrome=105.0.5195.125)\n",
      "\n"
     ]
    },
    {
     "name": "stdout",
     "output_type": "stream",
     "text": [
      "[ON_ERROR] Message: javascript error: Cannot read properties of null (reading 'scrollIntoView')\n",
      "  (Session info: headless chrome=105.0.5195.125)\n",
      "\n",
      "Traceback (most recent call last):\n",
      "  File \"C:\\Users\\User\\anaconda3\\lib\\site-packages\\linkedin_jobs_scraper\\strategies\\anonymous_strategy.py\", line 267, in run\n",
      "    job_id, job_link, job_title, job_company, job_place, job_date = driver.execute_script(\n",
      "  File \"C:\\Users\\User\\anaconda3\\lib\\site-packages\\selenium\\webdriver\\remote\\webdriver.py\", line 634, in execute_script\n",
      "    return self.execute(command, {\n",
      "  File \"C:\\Users\\User\\anaconda3\\lib\\site-packages\\selenium\\webdriver\\remote\\webdriver.py\", line 321, in execute\n",
      "    self.error_handler.check_response(response)\n",
      "  File \"C:\\Users\\User\\anaconda3\\lib\\site-packages\\selenium\\webdriver\\remote\\errorhandler.py\", line 242, in check_response\n",
      "    raise exception_class(message, screen, stacktrace)\n",
      "selenium.common.exceptions.JavascriptException: Message: javascript error: Cannot read properties of null (reading 'scrollIntoView')\n",
      "  (Session info: headless chrome=105.0.5195.125)\n",
      "\n",
      "\n"
     ]
    },
    {
     "name": "stderr",
     "output_type": "stream",
     "text": [
      "INFO:li:scraper:('[Data Analyst][United States][278]', 'Processed')\n"
     ]
    },
    {
     "name": "stdout",
     "output_type": "stream",
     "text": [
      "[ON_DATA] Junior Data Analyst full_time associate Dynamis, Inc.  3270770384 https://www.linkedin.com/jobs/view/junior-data-analyst-at-dynamis-inc-3270770384?refId=GYhXQSvv%2BzCI64hYmrmTjQ%3D%3D&trackingId=IAquCYppHCrH8pG4IBEk2w%3D%3D&position=6&pageNum=11&trk=public_jobs_jserp-result_search-card 3173\n"
     ]
    },
    {
     "name": "stderr",
     "output_type": "stream",
     "text": [
      "INFO:li:scraper:('[Data Analyst][United States][279]', 'Processed')\n"
     ]
    },
    {
     "name": "stdout",
     "output_type": "stream",
     "text": [
      "[ON_DATA] Retail Data Analyst full_time associate bp  3268429972 https://www.linkedin.com/jobs/view/retail-data-analyst-at-bp-3268429972?refId=GYhXQSvv%2BzCI64hYmrmTjQ%3D%3D&trackingId=n80an09MKnGfxDz9y%2F7mNg%3D%3D&position=7&pageNum=11&trk=public_jobs_jserp-result_search-card 6155\n"
     ]
    },
    {
     "name": "stderr",
     "output_type": "stream",
     "text": [
      "INFO:li:scraper:('[Data Analyst][United States][280]', 'Processed')\n"
     ]
    },
    {
     "name": "stdout",
     "output_type": "stream",
     "text": [
      "[ON_DATA] Senior Data Analyst, Safety Analytics full_time associate The Home Depot  3245920736 https://www.linkedin.com/jobs/view/senior-data-analyst-safety-analytics-at-the-home-depot-3245920736?refId=GYhXQSvv%2BzCI64hYmrmTjQ%3D%3D&trackingId=F3oS7UcV%2FQ2hILipoiQirg%3D%3D&position=8&pageNum=11&trk=public_jobs_jserp-result_search-card 2632\n"
     ]
    },
    {
     "name": "stderr",
     "output_type": "stream",
     "text": [
      "INFO:li:scraper:('[Data Analyst][United States][281]', 'Processed')\n"
     ]
    },
    {
     "name": "stdout",
     "output_type": "stream",
     "text": [
      "[ON_DATA] Senior Data Analyst, Supply Chain Analytics (Remote) full_time associate The Home Depot  3270480804 https://www.linkedin.com/jobs/view/senior-data-analyst-supply-chain-analytics-remote-at-the-home-depot-3270480804?refId=GYhXQSvv%2BzCI64hYmrmTjQ%3D%3D&trackingId=xqiBRNBA3QSrz9%2FdSTVuRg%3D%3D&position=9&pageNum=11&trk=public_jobs_jserp-result_search-card 3780\n"
     ]
    },
    {
     "name": "stderr",
     "output_type": "stream",
     "text": [
      "INFO:li:scraper:('[Data Analyst][United States][282]', 'Processed')\n"
     ]
    },
    {
     "name": "stdout",
     "output_type": "stream",
     "text": [
      "[ON_DATA] Jr. Data Analyst full_time associate Staffigo  3247345149 https://www.linkedin.com/jobs/view/jr-data-analyst-at-staffigo-3247345149?refId=GYhXQSvv%2BzCI64hYmrmTjQ%3D%3D&trackingId=WdLAwsbS0DBNjqz1f5rFEA%3D%3D&position=10&pageNum=11&trk=public_jobs_jserp-result_search-card 2650\n"
     ]
    },
    {
     "name": "stderr",
     "output_type": "stream",
     "text": [
      "INFO:li:scraper:('[Data Analyst][United States][283]', 'Processed')\n"
     ]
    },
    {
     "name": "stdout",
     "output_type": "stream",
     "text": [
      "[ON_DATA] Research Data Analyst full_time associate WellSpace Health  3256449578 https://www.linkedin.com/jobs/view/research-data-analyst-at-wellspace-health-3256449578?refId=GYhXQSvv%2BzCI64hYmrmTjQ%3D%3D&trackingId=FkmJTqqT1IWCeBlLRldtGg%3D%3D&position=11&pageNum=11&trk=public_jobs_jserp-result_search-card 10415\n"
     ]
    },
    {
     "name": "stderr",
     "output_type": "stream",
     "text": [
      "INFO:li:scraper:('[Data Analyst][United States][284]', 'Processed')\n"
     ]
    },
    {
     "name": "stdout",
     "output_type": "stream",
     "text": [
      "[ON_DATA] Business Data Analyst full_time associate Genpact  3241938101 https://www.linkedin.com/jobs/view/business-data-analyst-at-genpact-3241938101?refId=GYhXQSvv%2BzCI64hYmrmTjQ%3D%3D&trackingId=8EVRYOZL%2BdFCq9CubuSuNQ%3D%3D&position=12&pageNum=11&trk=public_jobs_jserp-result_search-card 3625\n"
     ]
    },
    {
     "name": "stderr",
     "output_type": "stream",
     "text": [
      "INFO:li:scraper:('[Data Analyst][United States][285]', 'Processed')\n"
     ]
    },
    {
     "name": "stdout",
     "output_type": "stream",
     "text": [
      "[ON_DATA] Data Analyst full_time associate Hire Velocity  3266887870 https://www.linkedin.com/jobs/view/data-analyst-at-hire-velocity-3266887870?refId=GYhXQSvv%2BzCI64hYmrmTjQ%3D%3D&trackingId=bsMHulU2DJcmvLYvDAf3dA%3D%3D&position=13&pageNum=11&trk=public_jobs_jserp-result_search-card 2070\n"
     ]
    },
    {
     "name": "stderr",
     "output_type": "stream",
     "text": [
      "INFO:li:scraper:('[Data Analyst][United States][286]', 'Processed')\n"
     ]
    },
    {
     "name": "stdout",
     "output_type": "stream",
     "text": [
      "[ON_DATA] Senior Data Analyst - Remote full_time associate UnitedHealthcare  3266823862 https://www.linkedin.com/jobs/view/senior-data-analyst-remote-at-unitedhealthcare-3266823862?refId=GYhXQSvv%2BzCI64hYmrmTjQ%3D%3D&trackingId=BsgMtDTasTn3RawPjfnwZg%3D%3D&position=14&pageNum=11&trk=public_jobs_jserp-result_search-card 6854\n"
     ]
    },
    {
     "name": "stderr",
     "output_type": "stream",
     "text": [
      "INFO:li:scraper:('[Data Analyst][United States][287]', 'Processed')\n"
     ]
    },
    {
     "name": "stdout",
     "output_type": "stream",
     "text": [
      "[ON_DATA] Jr. Data Analyst full_time associate Staffigo  3235865986 https://www.linkedin.com/jobs/view/jr-data-analyst-at-staffigo-3235865986?refId=GYhXQSvv%2BzCI64hYmrmTjQ%3D%3D&trackingId=pJ1JFubPqsK0x1QSMC1Fkg%3D%3D&position=15&pageNum=11&trk=public_jobs_jserp-result_search-card 2622\n"
     ]
    },
    {
     "name": "stderr",
     "output_type": "stream",
     "text": [
      "INFO:li:scraper:('[Data Analyst][United States][288]', 'Processed')\n"
     ]
    },
    {
     "name": "stdout",
     "output_type": "stream",
     "text": [
      "[ON_DATA] Data Analyst, Product full_time associate Aura  3245918194 https://www.linkedin.com/jobs/view/data-analyst-product-at-aura-3245918194?refId=GYhXQSvv%2BzCI64hYmrmTjQ%3D%3D&trackingId=odVQ2fKX1qqUJG%2BHJTKglQ%3D%3D&position=16&pageNum=11&trk=public_jobs_jserp-result_search-card 3614\n"
     ]
    },
    {
     "name": "stderr",
     "output_type": "stream",
     "text": [
      "INFO:li:scraper:('[Data Analyst][United States][289]', 'Processed')\n"
     ]
    },
    {
     "name": "stdout",
     "output_type": "stream",
     "text": [
      "[ON_DATA] Senior Data Analyst full_time associate East West Bank  3268355193 https://www.linkedin.com/jobs/view/senior-data-analyst-at-east-west-bank-3268355193?refId=GYhXQSvv%2BzCI64hYmrmTjQ%3D%3D&trackingId=wOXYGt3XlNeKwHytk20klg%3D%3D&position=17&pageNum=11&trk=public_jobs_jserp-result_search-card 5118\n"
     ]
    },
    {
     "name": "stderr",
     "output_type": "stream",
     "text": [
      "INFO:li:scraper:('[Data Analyst][United States][290]', 'Processed')\n"
     ]
    },
    {
     "name": "stdout",
     "output_type": "stream",
     "text": [
      "[ON_DATA] Data Analyst full_time associate UNDP  3249285036 https://www.linkedin.com/jobs/view/data-analyst-at-undp-3249285036?refId=GYhXQSvv%2BzCI64hYmrmTjQ%3D%3D&trackingId=EtQg7H2ayHUiJCurGZidyQ%3D%3D&position=18&pageNum=11&trk=public_jobs_jserp-result_search-card 9274\n"
     ]
    },
    {
     "name": "stderr",
     "output_type": "stream",
     "text": [
      "INFO:li:scraper:('[Data Analyst][United States][291]', 'Processed')\n"
     ]
    },
    {
     "name": "stdout",
     "output_type": "stream",
     "text": [
      "[ON_DATA] Data Analyst full_time associate Lingraphica  3231865467 https://www.linkedin.com/jobs/view/data-analyst-at-lingraphica-3231865467?refId=GYhXQSvv%2BzCI64hYmrmTjQ%3D%3D&trackingId=iy62Lrja2t3NoOLEXjm2WA%3D%3D&position=19&pageNum=11&trk=public_jobs_jserp-result_search-card 4665\n"
     ]
    },
    {
     "name": "stderr",
     "output_type": "stream",
     "text": [
      "INFO:li:scraper:('[Data Analyst][United States][292]', 'Processed')\n"
     ]
    },
    {
     "name": "stdout",
     "output_type": "stream",
     "text": [
      "[ON_DATA] Teammate Experience Data Analyst full_time associate Truist  3264566476 https://www.linkedin.com/jobs/view/teammate-experience-data-analyst-at-truist-3264566476?refId=GYhXQSvv%2BzCI64hYmrmTjQ%3D%3D&trackingId=PA4%2FUTzWJSePK61DbIFivQ%3D%3D&position=20&pageNum=11&trk=public_jobs_jserp-result_search-card 4636\n"
     ]
    },
    {
     "name": "stderr",
     "output_type": "stream",
     "text": [
      "INFO:li:scraper:('[Data Analyst][United States][293]', 'Processed')\n"
     ]
    },
    {
     "name": "stdout",
     "output_type": "stream",
     "text": [
      "[ON_DATA] Data Analyst (Junior) full_time associate Explore Job Search  3254165368 https://www.linkedin.com/jobs/view/data-analyst-junior-at-explore-job-search-3254165368?refId=GYhXQSvv%2BzCI64hYmrmTjQ%3D%3D&trackingId=LfnTrDknLWKjRgJOB%2FZh1A%3D%3D&position=21&pageNum=11&trk=public_jobs_jserp-result_search-card 3517\n"
     ]
    },
    {
     "name": "stderr",
     "output_type": "stream",
     "text": [
      "INFO:li:scraper:('[Data Analyst][United States][294]', 'Processed')\n"
     ]
    },
    {
     "name": "stdout",
     "output_type": "stream",
     "text": [
      "[ON_DATA] Senior Data Analyst, Supply Chain Analytics (Remote) full_time associate The Home Depot  3235408290 https://www.linkedin.com/jobs/view/senior-data-analyst-supply-chain-analytics-remote-at-the-home-depot-3235408290?refId=GYhXQSvv%2BzCI64hYmrmTjQ%3D%3D&trackingId=NaY5E1cYrJ8ssVT9WJwDiw%3D%3D&position=22&pageNum=11&trk=public_jobs_jserp-result_search-card 3985\n"
     ]
    },
    {
     "name": "stderr",
     "output_type": "stream",
     "text": [
      "INFO:li:scraper:('[Data Analyst][United States][295]', 'Processed')\n"
     ]
    },
    {
     "name": "stdout",
     "output_type": "stream",
     "text": [
      "[ON_DATA] Junior Data Analyst full_time associate StoneX Group Inc.  3190771371 https://www.linkedin.com/jobs/view/junior-data-analyst-at-stonex-group-inc-3190771371?refId=GYhXQSvv%2BzCI64hYmrmTjQ%3D%3D&trackingId=wjZjBnmuKPwrz21JP7CTow%3D%3D&position=23&pageNum=11&trk=public_jobs_jserp-result_search-card 4518\n"
     ]
    },
    {
     "name": "stderr",
     "output_type": "stream",
     "text": [
      "INFO:li:scraper:('[Data Analyst][United States][296]', 'Processed')\n"
     ]
    },
    {
     "name": "stdout",
     "output_type": "stream",
     "text": [
      "[ON_DATA] DATA ANALYST I (CRM) full_time associate The Exchange  3270816461 https://www.linkedin.com/jobs/view/data-analyst-i-crm-at-the-exchange-3270816461?refId=GYhXQSvv%2BzCI64hYmrmTjQ%3D%3D&trackingId=FoKziPoKMuBr6qTHeXUIcA%3D%3D&position=24&pageNum=11&trk=public_jobs_jserp-result_search-card 2011\n"
     ]
    },
    {
     "name": "stderr",
     "output_type": "stream",
     "text": [
      "INFO:li:scraper:('[Data Analyst][United States][297]', 'Processed')\n",
      "INFO:li:scraper:('[Data Analyst][United States][297]', 'Checking for new jobs to load...')\n"
     ]
    },
    {
     "name": "stdout",
     "output_type": "stream",
     "text": [
      "[ON_DATA] Junior Data Analyst full_time associate Explore Job Search  3254169312 https://www.linkedin.com/jobs/view/junior-data-analyst-at-explore-job-search-3254169312?refId=GYhXQSvv%2BzCI64hYmrmTjQ%3D%3D&trackingId=9%2BpqwrASTEuYv3NPI1TXZA%3D%3D&position=25&pageNum=11&trk=public_jobs_jserp-result_search-card 3517\n"
     ]
    },
    {
     "name": "stderr",
     "output_type": "stream",
     "text": [
      "INFO:li:scraper:('[Data Analyst][United States][297]', 'Found 325 jobs')\n",
      "INFO:li:scraper:('[Data Analyst][United States][298]', 'Processed')\n"
     ]
    },
    {
     "name": "stdout",
     "output_type": "stream",
     "text": [
      "[ON_DATA] Sr. Data Analyst - Telecommute full_time associate Optum  3247419700 https://www.linkedin.com/jobs/view/sr-data-analyst-telecommute-at-optum-3247419700?refId=pjMpxg1Mkb6UtSZ7d8WdYg%3D%3D&trackingId=6cm29Lr%2BAPfpudsSwvz0Sw%3D%3D&position=1&pageNum=12&trk=public_jobs_jserp-result_search-card 6287\n"
     ]
    },
    {
     "name": "stderr",
     "output_type": "stream",
     "text": [
      "INFO:li:scraper:('[Data Analyst][United States][299]', 'Processed')\n"
     ]
    },
    {
     "name": "stdout",
     "output_type": "stream",
     "text": [
      "[ON_DATA] Data Analyst IV full_time associate Kaiser Permanente  3243534730 https://www.linkedin.com/jobs/view/data-analyst-iv-at-kaiser-permanente-3243534730?refId=pjMpxg1Mkb6UtSZ7d8WdYg%3D%3D&trackingId=eAiAPIbhtbNjgtOb6RAwDw%3D%3D&position=2&pageNum=12&trk=public_jobs_jserp-result_search-card 4557\n"
     ]
    },
    {
     "name": "stderr",
     "output_type": "stream",
     "text": [
      "ERROR:li:scraper:('[Data Analyst][United States][300]', JavascriptException(\"javascript error: Cannot read properties of null (reading 'scrollIntoView')\\n  (Session info: headless chrome=105.0.5195.125)\", None, None), 'Traceback (most recent call last):\\n  File \"C:\\\\Users\\\\User\\\\anaconda3\\\\lib\\\\site-packages\\\\linkedin_jobs_scraper\\\\strategies\\\\anonymous_strategy.py\", line 267, in run\\n    job_id, job_link, job_title, job_company, job_place, job_date = driver.execute_script(\\n  File \"C:\\\\Users\\\\User\\\\anaconda3\\\\lib\\\\site-packages\\\\selenium\\\\webdriver\\\\remote\\\\webdriver.py\", line 634, in execute_script\\n    return self.execute(command, {\\n  File \"C:\\\\Users\\\\User\\\\anaconda3\\\\lib\\\\site-packages\\\\selenium\\\\webdriver\\\\remote\\\\webdriver.py\", line 321, in execute\\n    self.error_handler.check_response(response)\\n  File \"C:\\\\Users\\\\User\\\\anaconda3\\\\lib\\\\site-packages\\\\selenium\\\\webdriver\\\\remote\\\\errorhandler.py\", line 242, in check_response\\n    raise exception_class(message, screen, stacktrace)\\nselenium.comm...\n",
      "Traceback (most recent call last):\n",
      "  File \"C:\\Users\\User\\anaconda3\\lib\\site-packages\\linkedin_jobs_scraper\\strategies\\anonymous_strategy.py\", line 267, in run\n",
      "    job_id, job_link, job_title, job_company, job_place, job_date = driver.execute_script(\n",
      "  File \"C:\\Users\\User\\anaconda3\\lib\\site-packages\\selenium\\webdriver\\remote\\webdriver.py\", line 634, in execute_script\n",
      "    return self.execute(command, {\n",
      "  File \"C:\\Users\\User\\anaconda3\\lib\\site-packages\\selenium\\webdriver\\remote\\webdriver.py\", line 321, in execute\n",
      "    self.error_handler.check_response(response)\n",
      "  File \"C:\\Users\\User\\anaconda3\\lib\\site-packages\\selenium\\webdriver\\remote\\errorhandler.py\", line 242, in check_response\n",
      "    raise exception_class(message, screen, stacktrace)\n",
      "selenium.common.exceptions.JavascriptException: Message: javascript error: Cannot read properties of null (reading 'scrollIntoView')\n",
      "  (Session info: headless chrome=105.0.5195.125)\n",
      "\n"
     ]
    },
    {
     "name": "stdout",
     "output_type": "stream",
     "text": [
      "[ON_ERROR] Message: javascript error: Cannot read properties of null (reading 'scrollIntoView')\n",
      "  (Session info: headless chrome=105.0.5195.125)\n",
      "\n",
      "Traceback (most recent call last):\n",
      "  File \"C:\\Users\\User\\anaconda3\\lib\\site-packages\\linkedin_jobs_scraper\\strategies\\anonymous_strategy.py\", line 267, in run\n",
      "    job_id, job_link, job_title, job_company, job_place, job_date = driver.execute_script(\n",
      "  File \"C:\\Users\\User\\anaconda3\\lib\\site-packages\\selenium\\webdriver\\remote\\webdriver.py\", line 634, in execute_script\n",
      "    return self.execute(command, {\n",
      "  File \"C:\\Users\\User\\anaconda3\\lib\\site-packages\\selenium\\webdriver\\remote\\webdriver.py\", line 321, in execute\n",
      "    self.error_handler.check_response(response)\n",
      "  File \"C:\\Users\\User\\anaconda3\\lib\\site-packages\\selenium\\webdriver\\remote\\errorhandler.py\", line 242, in check_response\n",
      "    raise exception_class(message, screen, stacktrace)\n",
      "selenium.common.exceptions.JavascriptException: Message: javascript error: Cannot read properties of null (reading 'scrollIntoView')\n",
      "  (Session info: headless chrome=105.0.5195.125)\n",
      "\n",
      "\n"
     ]
    },
    {
     "name": "stderr",
     "output_type": "stream",
     "text": [
      "INFO:li:scraper:('[Data Analyst][United States][300]', 'Processed')\n"
     ]
    },
    {
     "name": "stdout",
     "output_type": "stream",
     "text": [
      "[ON_DATA] Business Data Analyst full_time associate mdf commerce  3271013713 https://www.linkedin.com/jobs/view/business-data-analyst-at-mdf-commerce-3271013713?refId=pjMpxg1Mkb6UtSZ7d8WdYg%3D%3D&trackingId=klmQF5jDIyMgFaqYQPMDCg%3D%3D&position=4&pageNum=12&trk=public_jobs_jserp-result_search-card 6780\n"
     ]
    },
    {
     "name": "stderr",
     "output_type": "stream",
     "text": [
      "INFO:li:scraper:('[Data Analyst][United States][301]', 'Processed')\n"
     ]
    },
    {
     "name": "stdout",
     "output_type": "stream",
     "text": [
      "[ON_DATA] Data Analyst (Junior) full_time associate Explore Job Search  3261472978 https://www.linkedin.com/jobs/view/data-analyst-junior-at-explore-job-search-3261472978?refId=pjMpxg1Mkb6UtSZ7d8WdYg%3D%3D&trackingId=Dsi3n8w6%2FXoGpGds0lPwaw%3D%3D&position=5&pageNum=12&trk=public_jobs_jserp-result_search-card 3517\n"
     ]
    },
    {
     "name": "stderr",
     "output_type": "stream",
     "text": [
      "INFO:li:scraper:('[Data Analyst][United States][302]', 'Processed')\n"
     ]
    },
    {
     "name": "stdout",
     "output_type": "stream",
     "text": [
      "[ON_DATA] Research Data Analyst full_time associate The Johns Hopkins University  3265920937 https://www.linkedin.com/jobs/view/research-data-analyst-at-the-johns-hopkins-university-3265920937?refId=pjMpxg1Mkb6UtSZ7d8WdYg%3D%3D&trackingId=T%2BEGmbwhqyi8ODP9KNBlSw%3D%3D&position=6&pageNum=12&trk=public_jobs_jserp-result_search-card 5433\n"
     ]
    },
    {
     "name": "stderr",
     "output_type": "stream",
     "text": [
      "INFO:li:scraper:('[Data Analyst][United States][303]', 'Processed')\n"
     ]
    },
    {
     "name": "stdout",
     "output_type": "stream",
     "text": [
      "[ON_DATA] Data Analyst 3 – Social Slots full_time associate Zynga  3265959308 https://www.linkedin.com/jobs/view/data-analyst-3-%E2%80%93-social-slots-at-zynga-3265959308?refId=pjMpxg1Mkb6UtSZ7d8WdYg%3D%3D&trackingId=rrfvXP%2BhMlDEJtJAALqQ3Q%3D%3D&position=7&pageNum=12&trk=public_jobs_jserp-result_search-card 5932\n"
     ]
    },
    {
     "name": "stderr",
     "output_type": "stream",
     "text": [
      "INFO:li:scraper:('[Data Analyst][United States][304]', 'Processed')\n"
     ]
    },
    {
     "name": "stdout",
     "output_type": "stream",
     "text": [
      "[ON_DATA] Business Data Analyst full_time associate Ledgent Technology  3241931662 https://www.linkedin.com/jobs/view/business-data-analyst-at-ledgent-technology-3241931662?refId=pjMpxg1Mkb6UtSZ7d8WdYg%3D%3D&trackingId=PUj2p%2BLzILiMO8KryzdEYA%3D%3D&position=8&pageNum=12&trk=public_jobs_jserp-result_search-card 628\n"
     ]
    },
    {
     "name": "stderr",
     "output_type": "stream",
     "text": [
      "INFO:li:scraper:('[Data Analyst][United States][305]', 'Processed')\n"
     ]
    },
    {
     "name": "stdout",
     "output_type": "stream",
     "text": [
      "[ON_DATA] Sr. DATA ANALYST full_time associate Columbia Sportswear Company  3267298669 https://www.linkedin.com/jobs/view/sr-data-analyst-at-columbia-sportswear-company-3267298669?refId=pjMpxg1Mkb6UtSZ7d8WdYg%3D%3D&trackingId=VuwxtbgMvY2cIUToeNiKdw%3D%3D&position=9&pageNum=12&trk=public_jobs_jserp-result_search-card 6306\n"
     ]
    },
    {
     "name": "stderr",
     "output_type": "stream",
     "text": [
      "INFO:li:scraper:('[Data Analyst][United States][306]', 'Processed')\n"
     ]
    },
    {
     "name": "stdout",
     "output_type": "stream",
     "text": [
      "[ON_DATA] Data Analyst Jr. full_time associate eSolutionsFirst  3267948398 https://www.linkedin.com/jobs/view/data-analyst-jr-at-esolutionsfirst-3267948398?refId=pjMpxg1Mkb6UtSZ7d8WdYg%3D%3D&trackingId=8imS5bn6IP2InmWHgARN6A%3D%3D&position=10&pageNum=12&trk=public_jobs_jserp-result_search-card 2942\n"
     ]
    },
    {
     "name": "stderr",
     "output_type": "stream",
     "text": [
      "INFO:li:scraper:('[Data Analyst][United States][307]', 'Processed')\n"
     ]
    },
    {
     "name": "stdout",
     "output_type": "stream",
     "text": [
      "[ON_DATA] Business Data Analyst full_time associate Honeywell  3259462859 https://www.linkedin.com/jobs/view/business-data-analyst-at-honeywell-3259462859?refId=pjMpxg1Mkb6UtSZ7d8WdYg%3D%3D&trackingId=KGSekJaxKSsTsSCTKtWokA%3D%3D&position=11&pageNum=12&trk=public_jobs_jserp-result_search-card 4534\n"
     ]
    },
    {
     "name": "stderr",
     "output_type": "stream",
     "text": [
      "INFO:li:scraper:('[Data Analyst][United States][308]', 'Processed')\n"
     ]
    },
    {
     "name": "stdout",
     "output_type": "stream",
     "text": [
      "[ON_DATA] Data Analyst, SQL full_time associate iTalent Digital  3231640370 https://www.linkedin.com/jobs/view/data-analyst-sql-at-italent-digital-3231640370?refId=pjMpxg1Mkb6UtSZ7d8WdYg%3D%3D&trackingId=LY82OOSmtfZdRNEkmc76zg%3D%3D&position=12&pageNum=12&trk=public_jobs_jserp-result_search-card 3508\n"
     ]
    },
    {
     "name": "stderr",
     "output_type": "stream",
     "text": [
      "INFO:li:scraper:('[Data Analyst][United States][309]', 'Processed')\n"
     ]
    },
    {
     "name": "stdout",
     "output_type": "stream",
     "text": [
      "[ON_DATA] Senior Data Analyst full_time associate Chewy  3155336413 https://www.linkedin.com/jobs/view/senior-data-analyst-at-chewy-3155336413?refId=pjMpxg1Mkb6UtSZ7d8WdYg%3D%3D&trackingId=opl7mDetnVyrhkvcNRxGSA%3D%3D&position=13&pageNum=12&trk=public_jobs_jserp-result_search-card 3231\n"
     ]
    },
    {
     "name": "stderr",
     "output_type": "stream",
     "text": [
      "INFO:li:scraper:('[Data Analyst][United States][310]', 'Processed')\n"
     ]
    },
    {
     "name": "stdout",
     "output_type": "stream",
     "text": [
      "[ON_DATA] Jr Data Analyst full_time associate Education at Work  3262752132 https://www.linkedin.com/jobs/view/jr-data-analyst-at-education-at-work-3262752132?refId=pjMpxg1Mkb6UtSZ7d8WdYg%3D%3D&trackingId=%2FARkmYub9a1iL1jHZIht8w%3D%3D&position=14&pageNum=12&trk=public_jobs_jserp-result_search-card 2475\n"
     ]
    },
    {
     "name": "stderr",
     "output_type": "stream",
     "text": [
      "INFO:li:scraper:('[Data Analyst][United States][311]', 'Processed')\n"
     ]
    },
    {
     "name": "stdout",
     "output_type": "stream",
     "text": [
      "[ON_DATA] Retail Data Analyst full_time associate bp  3247372361 https://www.linkedin.com/jobs/view/retail-data-analyst-at-bp-3247372361?refId=pjMpxg1Mkb6UtSZ7d8WdYg%3D%3D&trackingId=VRAOyFZ7pCz0Zil2Pi%2FnMQ%3D%3D&position=15&pageNum=12&trk=public_jobs_jserp-result_search-card 6155\n"
     ]
    },
    {
     "name": "stderr",
     "output_type": "stream",
     "text": [
      "INFO:li:scraper:('[Data Analyst][United States][312]', 'Processed')\n"
     ]
    },
    {
     "name": "stdout",
     "output_type": "stream",
     "text": [
      "[ON_DATA] Client Data Analyst II full_time associate Mosaic North America  3223877290 https://www.linkedin.com/jobs/view/client-data-analyst-ii-at-mosaic-north-america-3223877290?refId=pjMpxg1Mkb6UtSZ7d8WdYg%3D%3D&trackingId=FisWVlp45QOP%2Bm5IUH%2FJgg%3D%3D&position=16&pageNum=12&trk=public_jobs_jserp-result_search-card 4635\n"
     ]
    },
    {
     "name": "stderr",
     "output_type": "stream",
     "text": [
      "INFO:li:scraper:('[Data Analyst][United States][313]', 'Processed')\n"
     ]
    },
    {
     "name": "stdout",
     "output_type": "stream",
     "text": [
      "[ON_DATA] Data Analyst, Strategic Projects full_time associate Scholastic  3236664803 https://www.linkedin.com/jobs/view/data-analyst-strategic-projects-at-scholastic-3236664803?refId=pjMpxg1Mkb6UtSZ7d8WdYg%3D%3D&trackingId=unqdacTlcpD8%2Fhc2vr%2BDrw%3D%3D&position=17&pageNum=12&trk=public_jobs_jserp-result_search-card 5222\n"
     ]
    },
    {
     "name": "stderr",
     "output_type": "stream",
     "text": [
      "INFO:li:scraper:('[Data Analyst][United States][314]', 'Processed')\n"
     ]
    },
    {
     "name": "stdout",
     "output_type": "stream",
     "text": [
      "[ON_DATA] Data Analyst IV full_time associate Crystal Equation Corporation  3270116142 https://www.linkedin.com/jobs/view/data-analyst-iv-at-crystal-equation-corporation-3270116142?refId=pjMpxg1Mkb6UtSZ7d8WdYg%3D%3D&trackingId=mITNAp9KvCsIiiPuP3bmDg%3D%3D&position=18&pageNum=12&trk=public_jobs_jserp-result_search-card 2323\n"
     ]
    },
    {
     "name": "stderr",
     "output_type": "stream",
     "text": [
      "INFO:li:scraper:('[Data Analyst][United States][315]', 'Processed')\n"
     ]
    },
    {
     "name": "stdout",
     "output_type": "stream",
     "text": [
      "[ON_DATA] Pharmacy Data Analyst Full Time full_time associate Wentworth-Douglass Hospital  3271698193 https://www.linkedin.com/jobs/view/pharmacy-data-analyst-full-time-at-wentworth-douglass-hospital-3271698193?refId=pjMpxg1Mkb6UtSZ7d8WdYg%3D%3D&trackingId=KAgPmGow8t06X7AQCH9uZQ%3D%3D&position=19&pageNum=12&trk=public_jobs_jserp-result_search-card 8091\n"
     ]
    },
    {
     "name": "stderr",
     "output_type": "stream",
     "text": [
      "INFO:li:scraper:('[Data Analyst][United States][316]', 'Processed')\n"
     ]
    },
    {
     "name": "stdout",
     "output_type": "stream",
     "text": [
      "[ON_DATA] Analyst, Provider Configuration - SQL/Data Analyst - Remote full_time associate Molina Healthcare  3265152296 https://www.linkedin.com/jobs/view/analyst-provider-configuration-sql-data-analyst-remote-at-molina-healthcare-3265152296?refId=pjMpxg1Mkb6UtSZ7d8WdYg%3D%3D&trackingId=tKM4OIWkut37qG9eOLufbA%3D%3D&position=20&pageNum=12&trk=public_jobs_jserp-result_search-card 1497\n"
     ]
    },
    {
     "name": "stderr",
     "output_type": "stream",
     "text": [
      "INFO:li:scraper:('[Data Analyst][United States][317]', 'Processed')\n"
     ]
    },
    {
     "name": "stdout",
     "output_type": "stream",
     "text": [
      "[ON_DATA] Data Science and Analytics Analyst full_time associate Razorfish  3231989074 https://www.linkedin.com/jobs/view/data-science-and-analytics-analyst-at-razorfish-3231989074?refId=pjMpxg1Mkb6UtSZ7d8WdYg%3D%3D&trackingId=H1Eczqm6qggArAZWzCCjNw%3D%3D&position=21&pageNum=12&trk=public_jobs_jserp-result_search-card 2947\n"
     ]
    },
    {
     "name": "stderr",
     "output_type": "stream",
     "text": [
      "INFO:li:scraper:('[Data Analyst][United States][318]', 'Processed')\n"
     ]
    },
    {
     "name": "stdout",
     "output_type": "stream",
     "text": [
      "[ON_DATA] Business Data Analyst full_time associate Intuit  3225684557 https://www.linkedin.com/jobs/view/business-data-analyst-at-intuit-3225684557?refId=pjMpxg1Mkb6UtSZ7d8WdYg%3D%3D&trackingId=HdeMUguwZULEXattwZk6Bg%3D%3D&position=22&pageNum=12&trk=public_jobs_jserp-result_search-card 2749\n"
     ]
    },
    {
     "name": "stderr",
     "output_type": "stream",
     "text": [
      "INFO:li:scraper:('[Data Analyst][United States][319]', 'Processed')\n"
     ]
    },
    {
     "name": "stdout",
     "output_type": "stream",
     "text": [
      "[ON_DATA] Healthcare Data Analyst full_time associate Sentara Healthcare  3264770794 https://www.linkedin.com/jobs/view/healthcare-data-analyst-at-sentara-healthcare-3264770794?refId=pjMpxg1Mkb6UtSZ7d8WdYg%3D%3D&trackingId=ZoHwhG27MB1xzyibJ48VUg%3D%3D&position=23&pageNum=12&trk=public_jobs_jserp-result_search-card 4838\n"
     ]
    },
    {
     "name": "stderr",
     "output_type": "stream",
     "text": [
      "INFO:li:scraper:('[Data Analyst][United States][320]', 'Processed')\n"
     ]
    },
    {
     "name": "stdout",
     "output_type": "stream",
     "text": [
      "[ON_DATA] Lead Data Analyst full_time associate Lennar  3263335293 https://www.linkedin.com/jobs/view/lead-data-analyst-at-lennar-3263335293?refId=pjMpxg1Mkb6UtSZ7d8WdYg%3D%3D&trackingId=mIcwYOqJU5ALVqAwNddCZg%3D%3D&position=24&pageNum=12&trk=public_jobs_jserp-result_search-card 5107\n"
     ]
    },
    {
     "name": "stderr",
     "output_type": "stream",
     "text": [
      "INFO:li:scraper:('[Data Analyst][United States][321]', 'Processed')\n",
      "INFO:li:scraper:('[Data Analyst][United States][321]', 'Checking for new jobs to load...')\n"
     ]
    },
    {
     "name": "stdout",
     "output_type": "stream",
     "text": [
      "[ON_DATA] Senior Data Analyst full_time associate Lockheed Martin  3266406813 https://www.linkedin.com/jobs/view/senior-data-analyst-at-lockheed-martin-3266406813?refId=pjMpxg1Mkb6UtSZ7d8WdYg%3D%3D&trackingId=D%2BWyGg0BYYvl6K1l7VkcLA%3D%3D&position=25&pageNum=12&trk=public_jobs_jserp-result_search-card 2131\n"
     ]
    },
    {
     "name": "stderr",
     "output_type": "stream",
     "text": [
      "INFO:li:scraper:('[Data Analyst][United States][321]', 'Found 350 jobs')\n",
      "INFO:li:scraper:('[Data Analyst][United States][322]', 'Processed')\n"
     ]
    },
    {
     "name": "stdout",
     "output_type": "stream",
     "text": [
      "[ON_DATA] Data Analyst full_time associate Collabera Inc.  3272426022 https://www.linkedin.com/jobs/view/data-analyst-at-collabera-inc-3272426022?refId=W7PYg52zexpqeaP116luUA%3D%3D&trackingId=rXrwDE58nn5lh17B3embPw%3D%3D&position=1&pageNum=13&trk=public_jobs_jserp-result_search-card 1152\n"
     ]
    },
    {
     "name": "stderr",
     "output_type": "stream",
     "text": [
      "INFO:li:scraper:('[Data Analyst][United States][323]', 'Processed')\n"
     ]
    },
    {
     "name": "stdout",
     "output_type": "stream",
     "text": [
      "[ON_DATA] Sr. Data Analyst full_time associate Bank of America  3267946681 https://www.linkedin.com/jobs/view/sr-data-analyst-at-bank-of-america-3267946681?refId=W7PYg52zexpqeaP116luUA%3D%3D&trackingId=UgxTDOsWYNKu12TA2rG52g%3D%3D&position=2&pageNum=13&trk=public_jobs_jserp-result_search-card 3140\n"
     ]
    },
    {
     "name": "stderr",
     "output_type": "stream",
     "text": [
      "INFO:li:scraper:('[Data Analyst][United States][324]', 'Processed')\n"
     ]
    },
    {
     "name": "stdout",
     "output_type": "stream",
     "text": [
      "[ON_DATA] Data Analyst full_time associate Neuronetics, Inc.  3257662989 https://www.linkedin.com/jobs/view/data-analyst-at-neuronetics-inc-3257662989?refId=W7PYg52zexpqeaP116luUA%3D%3D&trackingId=wPszwue%2Bop7ChkDsCkczPg%3D%3D&position=3&pageNum=13&trk=public_jobs_jserp-result_search-card 3834\n"
     ]
    },
    {
     "name": "stderr",
     "output_type": "stream",
     "text": [
      "INFO:li:scraper:('[Data Analyst][United States][325]', 'Processed')\n"
     ]
    },
    {
     "name": "stdout",
     "output_type": "stream",
     "text": [
      "[ON_DATA] Data Analyst full_time associate ComplySci  3257810741 https://www.linkedin.com/jobs/view/data-analyst-at-complysci-3257810741?refId=W7PYg52zexpqeaP116luUA%3D%3D&trackingId=IrN4D0Xr0p6voUQHSAlsbg%3D%3D&position=4&pageNum=13&trk=public_jobs_jserp-result_search-card 3437\n"
     ]
    },
    {
     "name": "stderr",
     "output_type": "stream",
     "text": [
      "INFO:li:scraper:('[Data Analyst][United States][326]', 'Processed')\n"
     ]
    },
    {
     "name": "stdout",
     "output_type": "stream",
     "text": [
      "[ON_DATA] HR Data Analyst full_time associate U.S. Bank  3272482906 https://www.linkedin.com/jobs/view/hr-data-analyst-at-u-s-bank-3272482906?refId=W7PYg52zexpqeaP116luUA%3D%3D&trackingId=5THf84n03%2FSOt0HuuOcyWg%3D%3D&position=5&pageNum=13&trk=public_jobs_jserp-result_search-card 4142\n"
     ]
    },
    {
     "name": "stderr",
     "output_type": "stream",
     "text": [
      "INFO:li:scraper:('[Data Analyst][United States][327]', 'Processed')\n"
     ]
    },
    {
     "name": "stdout",
     "output_type": "stream",
     "text": [
      "[ON_DATA] Business and Data Analyst full_time associate American Auto Shield  3266301410 https://www.linkedin.com/jobs/view/business-and-data-analyst-at-american-auto-shield-3266301410?refId=W7PYg52zexpqeaP116luUA%3D%3D&trackingId=7dvPIw5Lh5eIQ%2FfiP1aYPQ%3D%3D&position=6&pageNum=13&trk=public_jobs_jserp-result_search-card 3722\n"
     ]
    },
    {
     "name": "stderr",
     "output_type": "stream",
     "text": [
      "INFO:li:scraper:('[Data Analyst][United States][328]', 'Processed')\n"
     ]
    },
    {
     "name": "stdout",
     "output_type": "stream",
     "text": [
      "[ON_DATA] Associate Data Analyst full_time associate Explore Job Search  3252847879 https://www.linkedin.com/jobs/view/associate-data-analyst-at-explore-job-search-3252847879?refId=W7PYg52zexpqeaP116luUA%3D%3D&trackingId=xAJPFvUSUE%2B%2F57%2FZG01hyA%3D%3D&position=7&pageNum=13&trk=public_jobs_jserp-result_search-card 6346\n"
     ]
    },
    {
     "name": "stderr",
     "output_type": "stream",
     "text": [
      "INFO:li:scraper:('[Data Analyst][United States][329]', 'Processed')\n"
     ]
    },
    {
     "name": "stdout",
     "output_type": "stream",
     "text": [
      "[ON_DATA] Data Analyst full_time associate MarshBerry  3217220118 https://www.linkedin.com/jobs/view/data-analyst-at-marshberry-3217220118?refId=W7PYg52zexpqeaP116luUA%3D%3D&trackingId=%2FjG2vblZ0K0bldv217b9Rw%3D%3D&position=8&pageNum=13&trk=public_jobs_jserp-result_search-card 5192\n"
     ]
    },
    {
     "name": "stderr",
     "output_type": "stream",
     "text": [
      "INFO:li:scraper:('[Data Analyst][United States][330]', 'Processed')\n"
     ]
    },
    {
     "name": "stdout",
     "output_type": "stream",
     "text": [
      "[ON_DATA] Business Data Analyst full_time associate Aurora Solar  3267917482 https://www.linkedin.com/jobs/view/business-data-analyst-at-aurora-solar-3267917482?refId=W7PYg52zexpqeaP116luUA%3D%3D&trackingId=9sRuPHQ0rR2jEs5z%2FWaB6g%3D%3D&position=9&pageNum=13&trk=public_jobs_jserp-result_search-card 3542\n"
     ]
    },
    {
     "name": "stderr",
     "output_type": "stream",
     "text": [
      "INFO:li:scraper:('[Data Analyst][United States][331]', 'Processed')\n"
     ]
    },
    {
     "name": "stdout",
     "output_type": "stream",
     "text": [
      "[ON_DATA] Healthcare Data Analyst full_time associate Navient  3251987604 https://www.linkedin.com/jobs/view/healthcare-data-analyst-at-navient-3251987604?refId=W7PYg52zexpqeaP116luUA%3D%3D&trackingId=2uvCA1ijAUbruYCUym88jg%3D%3D&position=10&pageNum=13&trk=public_jobs_jserp-result_search-card 4679\n"
     ]
    },
    {
     "name": "stderr",
     "output_type": "stream",
     "text": [
      "INFO:li:scraper:('[Data Analyst][United States][332]', 'Processed')\n"
     ]
    },
    {
     "name": "stdout",
     "output_type": "stream",
     "text": [
      "[ON_DATA] Business & Data Analyst full_time associate Explore Job Search  3228376060 https://www.linkedin.com/jobs/view/business-data-analyst-at-explore-job-search-3228376060?refId=W7PYg52zexpqeaP116luUA%3D%3D&trackingId=3vuHyuoZx9WEc6GTWGLljQ%3D%3D&position=11&pageNum=13&trk=public_jobs_jserp-result_search-card 5353\n"
     ]
    },
    {
     "name": "stderr",
     "output_type": "stream",
     "text": [
      "INFO:li:scraper:('[Data Analyst][United States][333]', 'Processed')\n"
     ]
    },
    {
     "name": "stdout",
     "output_type": "stream",
     "text": [
      "[ON_DATA] Financial Data Analyst full_time associate SECU  3258901371 https://www.linkedin.com/jobs/view/financial-data-analyst-at-secu-3258901371?refId=W7PYg52zexpqeaP116luUA%3D%3D&trackingId=fcxptz7PzYQw0Dv%2BW83n1A%3D%3D&position=12&pageNum=13&trk=public_jobs_jserp-result_search-card 3599\n"
     ]
    },
    {
     "name": "stderr",
     "output_type": "stream",
     "text": [
      "INFO:li:scraper:('[Data Analyst][United States][334]', 'Processed')\n"
     ]
    },
    {
     "name": "stdout",
     "output_type": "stream",
     "text": [
      "[ON_DATA] Junior Data Analyst full_time associate Explore Job Search  3261471975 https://www.linkedin.com/jobs/view/junior-data-analyst-at-explore-job-search-3261471975?refId=W7PYg52zexpqeaP116luUA%3D%3D&trackingId=mBloS3%2BFkmHiCHruIUSE3g%3D%3D&position=13&pageNum=13&trk=public_jobs_jserp-result_search-card 3517\n"
     ]
    },
    {
     "name": "stderr",
     "output_type": "stream",
     "text": [
      "INFO:li:scraper:('[Data Analyst][United States][335]', 'Processed')\n"
     ]
    },
    {
     "name": "stdout",
     "output_type": "stream",
     "text": [
      "[ON_DATA] Data Analyst 2 - Payments & Loyalty- Remote full_time associate Nordstrom  3268502402 https://www.linkedin.com/jobs/view/data-analyst-2-payments-loyalty-remote-at-nordstrom-3268502402?refId=W7PYg52zexpqeaP116luUA%3D%3D&trackingId=6%2B0LVEkv0LXp%2F%2B7vCYvN8w%3D%3D&position=14&pageNum=13&trk=public_jobs_jserp-result_search-card 6217\n"
     ]
    },
    {
     "name": "stderr",
     "output_type": "stream",
     "text": [
      "INFO:li:scraper:('[Data Analyst][United States][336]', 'Processed')\n"
     ]
    },
    {
     "name": "stdout",
     "output_type": "stream",
     "text": [
      "[ON_DATA] Finance Data Analyst full_time associate Tubi  3254148233 https://www.linkedin.com/jobs/view/finance-data-analyst-at-tubi-3254148233?refId=W7PYg52zexpqeaP116luUA%3D%3D&trackingId=GNteyVnL7D5bfCB9an0nWg%3D%3D&position=15&pageNum=13&trk=public_jobs_jserp-result_search-card 3339\n"
     ]
    },
    {
     "name": "stderr",
     "output_type": "stream",
     "text": [
      "INFO:li:scraper:('[Data Analyst][United States][337]', 'Processed')\n"
     ]
    },
    {
     "name": "stdout",
     "output_type": "stream",
     "text": [
      "[ON_DATA] Senior Data Analyst full_time associate Walmart  3166668703 https://www.linkedin.com/jobs/view/senior-data-analyst-at-walmart-3166668703?refId=W7PYg52zexpqeaP116luUA%3D%3D&trackingId=Mywpw%2F64S4GY0kJ8bXM%2B2w%3D%3D&position=16&pageNum=13&trk=public_jobs_jserp-result_search-card 6918\n"
     ]
    },
    {
     "name": "stderr",
     "output_type": "stream",
     "text": [
      "INFO:li:scraper:('[Data Analyst][United States][338]', 'Processed')\n"
     ]
    },
    {
     "name": "stdout",
     "output_type": "stream",
     "text": [
      "[ON_DATA] Data Analyst full_time associate ROI·DNA  2975153565 https://www.linkedin.com/jobs/view/data-analyst-at-roi%C2%B7dna-2975153565?refId=W7PYg52zexpqeaP116luUA%3D%3D&trackingId=2T17y68DyrVCjvRjambi8w%3D%3D&position=17&pageNum=13&trk=public_jobs_jserp-result_search-card 4809\n"
     ]
    },
    {
     "name": "stderr",
     "output_type": "stream",
     "text": [
      "INFO:li:scraper:('[Data Analyst][United States][339]', 'Processed')\n"
     ]
    },
    {
     "name": "stdout",
     "output_type": "stream",
     "text": [
      "[ON_DATA] Data Analyst (Quality, Reporting, Tableau) full_time associate NexTech Solutions  3270945316 https://www.linkedin.com/jobs/view/data-analyst-quality-reporting-tableau-at-nextech-solutions-3270945316?refId=W7PYg52zexpqeaP116luUA%3D%3D&trackingId=yNFmaweLm7E6pX8qy8bVsw%3D%3D&position=18&pageNum=13&trk=public_jobs_jserp-result_search-card 3291\n"
     ]
    },
    {
     "name": "stderr",
     "output_type": "stream",
     "text": [
      "INFO:li:scraper:('[Data Analyst][United States][340]', 'Processed')\n"
     ]
    },
    {
     "name": "stdout",
     "output_type": "stream",
     "text": [
      "[ON_DATA] Data Analyst full_time associate Medical Guardian  3270230675 https://www.linkedin.com/jobs/view/data-analyst-at-medical-guardian-3270230675?refId=W7PYg52zexpqeaP116luUA%3D%3D&trackingId=caw0wiKEOgn6wYuqvePmjg%3D%3D&position=19&pageNum=13&trk=public_jobs_jserp-result_search-card 2802\n"
     ]
    },
    {
     "name": "stderr",
     "output_type": "stream",
     "text": [
      "INFO:li:scraper:('[Data Analyst][United States][341]', 'Processed')\n"
     ]
    },
    {
     "name": "stdout",
     "output_type": "stream",
     "text": [
      "[ON_DATA] Business Data Analyst full_time associate Honeywell  3259464693 https://www.linkedin.com/jobs/view/business-data-analyst-at-honeywell-3259464693?refId=W7PYg52zexpqeaP116luUA%3D%3D&trackingId=xFa3FNKk5NcsjxvI6kXkyA%3D%3D&position=20&pageNum=13&trk=public_jobs_jserp-result_search-card 4534\n"
     ]
    },
    {
     "name": "stderr",
     "output_type": "stream",
     "text": [
      "WARNING:li:scraper:('[Data Analyst][United States]', '[429] Too many requests', 'You should probably increase scraper \"slow_mo\" value or reduce concurrency')\n",
      "ERROR:li:scraper:('[Data Analyst][United States][342]', 'Timeout on loading job details')\n",
      "NoneType: None\n",
      "INFO:li:scraper:('[Data Analyst][United States][342]', 'Processed')\n"
     ]
    },
    {
     "name": "stdout",
     "output_type": "stream",
     "text": [
      "[ON_DATA] Data Analyst Jr. full_time associate eSolutionsFirst  3267946823 https://www.linkedin.com/jobs/view/data-analyst-jr-at-esolutionsfirst-3267946823?refId=W7PYg52zexpqeaP116luUA%3D%3D&trackingId=oobnJwZBwqua1vccB7fEJA%3D%3D&position=22&pageNum=13&trk=public_jobs_jserp-result_search-card 2945\n"
     ]
    },
    {
     "name": "stderr",
     "output_type": "stream",
     "text": [
      "INFO:li:scraper:('[Data Analyst][United States][343]', 'Processed')\n"
     ]
    },
    {
     "name": "stdout",
     "output_type": "stream",
     "text": [
      "[ON_DATA] Data Analyst Jr. full_time associate eSolutionsFirst  3267950247 https://www.linkedin.com/jobs/view/data-analyst-jr-at-esolutionsfirst-3267950247?refId=W7PYg52zexpqeaP116luUA%3D%3D&trackingId=jHqBcRgChNqx7fo%2Fz9P9cA%3D%3D&position=23&pageNum=13&trk=public_jobs_jserp-result_search-card 2942\n"
     ]
    },
    {
     "name": "stderr",
     "output_type": "stream",
     "text": [
      "INFO:li:scraper:('[Data Analyst][United States][344]', 'Processed')\n"
     ]
    },
    {
     "name": "stdout",
     "output_type": "stream",
     "text": [
      "[ON_DATA] Data Analyst / BI Analyst - Remote work full_time associate Dice  3249570180 https://www.linkedin.com/jobs/view/data-analyst-bi-analyst-remote-work-at-dice-3249570180?refId=W7PYg52zexpqeaP116luUA%3D%3D&trackingId=WjPR9JGkCimV0U4Ry6yJQQ%3D%3D&position=24&pageNum=13&trk=public_jobs_jserp-result_search-card 1829\n"
     ]
    },
    {
     "name": "stderr",
     "output_type": "stream",
     "text": [
      "INFO:li:scraper:('[Data Analyst][United States][345]', 'Processed')\n",
      "INFO:li:scraper:('[Data Analyst][United States][345]', 'Checking for new jobs to load...')\n"
     ]
    },
    {
     "name": "stdout",
     "output_type": "stream",
     "text": [
      "[ON_DATA] Data Analyst - I full_time associate SPECTRAFORCE  3246325818 https://www.linkedin.com/jobs/view/data-analyst-i-at-spectraforce-3246325818?refId=W7PYg52zexpqeaP116luUA%3D%3D&trackingId=Lief%2B95YCcgYlFTnLDcy3w%3D%3D&position=25&pageNum=13&trk=public_jobs_jserp-result_search-card 1429\n"
     ]
    },
    {
     "name": "stderr",
     "output_type": "stream",
     "text": [
      "INFO:li:scraper:('[Data Analyst][United States][345]', 'Found 375 jobs')\n",
      "INFO:li:scraper:('[Data Analyst][United States][346]', 'Processed')\n"
     ]
    },
    {
     "name": "stdout",
     "output_type": "stream",
     "text": [
      "[ON_DATA] Associate Data Products Analyst full_time associate Scholastic  3266880739 https://www.linkedin.com/jobs/view/associate-data-products-analyst-at-scholastic-3266880739?refId=HdHm%2BA4w3bpUK4iBJcVVBg%3D%3D&trackingId=2HVLLZsAyWleI%2BqSDYyTWg%3D%3D&position=1&pageNum=14&trk=public_jobs_jserp-result_search-card 4361\n"
     ]
    },
    {
     "name": "stderr",
     "output_type": "stream",
     "text": [
      "INFO:li:scraper:('[Data Analyst][United States][347]', 'Processed')\n"
     ]
    },
    {
     "name": "stdout",
     "output_type": "stream",
     "text": [
      "[ON_DATA] Data Analyst I full_time associate IDEMIA  2977973876 https://www.linkedin.com/jobs/view/data-analyst-i-at-idemia-2977973876?refId=HdHm%2BA4w3bpUK4iBJcVVBg%3D%3D&trackingId=PFshFyahTDS9dzu3bPtIYg%3D%3D&position=2&pageNum=14&trk=public_jobs_jserp-result_search-card 3939\n"
     ]
    },
    {
     "name": "stderr",
     "output_type": "stream",
     "text": [
      "INFO:li:scraper:('[Data Analyst][United States][348]', 'Processed')\n"
     ]
    },
    {
     "name": "stdout",
     "output_type": "stream",
     "text": [
      "[ON_DATA] Healthcare Data Analyst, Hospital Evaluation full_time associate Comagine Health  3269377282 https://www.linkedin.com/jobs/view/healthcare-data-analyst-hospital-evaluation-at-comagine-health-3269377282?refId=HdHm%2BA4w3bpUK4iBJcVVBg%3D%3D&trackingId=Uq5hzJZfV9wwdHyzarQU1A%3D%3D&position=3&pageNum=14&trk=public_jobs_jserp-result_search-card 5008\n"
     ]
    },
    {
     "name": "stderr",
     "output_type": "stream",
     "text": [
      "INFO:li:scraper:('[Data Analyst][United States][349]', 'Processed')\n"
     ]
    },
    {
     "name": "stdout",
     "output_type": "stream",
     "text": [
      "[ON_DATA] Senior Data Analyst full_time associate AIDA Healthcare  3265198011 https://www.linkedin.com/jobs/view/senior-data-analyst-at-aida-healthcare-3265198011?refId=HdHm%2BA4w3bpUK4iBJcVVBg%3D%3D&trackingId=hH98i60XYOza%2B6k2LS0lzQ%3D%3D&position=4&pageNum=14&trk=public_jobs_jserp-result_search-card 2773\n"
     ]
    },
    {
     "name": "stderr",
     "output_type": "stream",
     "text": [
      "INFO:li:scraper:('[Data Analyst][United States][350]', 'Processed')\n"
     ]
    },
    {
     "name": "stdout",
     "output_type": "stream",
     "text": [
      "[ON_DATA] Workforce Data Analyst for Recruitment full_time associate NYC Administration for Children's Services  3258852922 https://www.linkedin.com/jobs/view/workforce-data-analyst-for-recruitment-at-nyc-administration-for-children-s-services-3258852922?refId=HdHm%2BA4w3bpUK4iBJcVVBg%3D%3D&trackingId=yXbb4eJsyXXEJUVn5EW8aw%3D%3D&position=5&pageNum=14&trk=public_jobs_jserp-result_search-card 5209\n"
     ]
    },
    {
     "name": "stderr",
     "output_type": "stream",
     "text": [
      "INFO:li:scraper:('[Data Analyst][United States][351]', 'Processed')\n"
     ]
    },
    {
     "name": "stdout",
     "output_type": "stream",
     "text": [
      "[ON_DATA] Business Data Analyst full_time associate Dematic  3265250495 https://www.linkedin.com/jobs/view/business-data-analyst-at-dematic-3265250495?refId=HdHm%2BA4w3bpUK4iBJcVVBg%3D%3D&trackingId=2E6HXaLGyZNVQERNOfpLLg%3D%3D&position=6&pageNum=14&trk=public_jobs_jserp-result_search-card 4337\n"
     ]
    },
    {
     "name": "stderr",
     "output_type": "stream",
     "text": [
      "INFO:li:scraper:('[Data Analyst][United States][352]', 'Processed')\n"
     ]
    },
    {
     "name": "stdout",
     "output_type": "stream",
     "text": [
      "[ON_DATA] Data Analyst full_time associate Millennium Trust Company  3249084478 https://www.linkedin.com/jobs/view/data-analyst-at-millennium-trust-company-3249084478?refId=HdHm%2BA4w3bpUK4iBJcVVBg%3D%3D&trackingId=VGALBS%2BDBiM21XEZCSaHrQ%3D%3D&position=7&pageNum=14&trk=public_jobs_jserp-result_search-card 3472\n"
     ]
    },
    {
     "name": "stderr",
     "output_type": "stream",
     "text": [
      "INFO:li:scraper:('[Data Analyst][United States][353]', 'Processed')\n"
     ]
    },
    {
     "name": "stdout",
     "output_type": "stream",
     "text": [
      "[ON_DATA] Sr. Data Analyst - Jersey City, NJ full_time associate Imperial Dade  3268412846 https://www.linkedin.com/jobs/view/sr-data-analyst-jersey-city-nj-at-imperial-dade-3268412846?refId=HdHm%2BA4w3bpUK4iBJcVVBg%3D%3D&trackingId=XKJQeUy67i7qzAXmOBjYBw%3D%3D&position=8&pageNum=14&trk=public_jobs_jserp-result_search-card 3977\n"
     ]
    },
    {
     "name": "stderr",
     "output_type": "stream",
     "text": [
      "INFO:li:scraper:('[Data Analyst][United States][354]', 'Processed')\n"
     ]
    },
    {
     "name": "stdout",
     "output_type": "stream",
     "text": [
      "[ON_DATA] Business/Data Analyst full_time associate Blackstone Medical  3266557886 https://www.linkedin.com/jobs/view/business-data-analyst-at-blackstone-medical-3266557886?refId=HdHm%2BA4w3bpUK4iBJcVVBg%3D%3D&trackingId=8xuyZwV0NEb7v91ZhYsceg%3D%3D&position=9&pageNum=14&trk=public_jobs_jserp-result_search-card 1130\n"
     ]
    },
    {
     "name": "stderr",
     "output_type": "stream",
     "text": [
      "INFO:li:scraper:('[Data Analyst][United States][355]', 'Processed')\n"
     ]
    },
    {
     "name": "stdout",
     "output_type": "stream",
     "text": [
      "[ON_DATA] Data Analyst I full_time associate IDEMIA North America  3270776414 https://www.linkedin.com/jobs/view/data-analyst-i-at-idemia-north-america-3270776414?refId=HdHm%2BA4w3bpUK4iBJcVVBg%3D%3D&trackingId=ISIWwI31LiJu%2FpFh4tSWWA%3D%3D&position=10&pageNum=14&trk=public_jobs_jserp-result_search-card 4129\n"
     ]
    },
    {
     "name": "stderr",
     "output_type": "stream",
     "text": [
      "INFO:li:scraper:('[Data Analyst][United States][356]', 'Processed')\n"
     ]
    },
    {
     "name": "stdout",
     "output_type": "stream",
     "text": [
      "[ON_DATA] Data Science & Analytics Analyst full_time associate Razorfish  3268346836 https://www.linkedin.com/jobs/view/data-science-analytics-analyst-at-razorfish-3268346836?refId=HdHm%2BA4w3bpUK4iBJcVVBg%3D%3D&trackingId=D%2FcoytGbgUm5E1GJhk50QA%3D%3D&position=11&pageNum=14&trk=public_jobs_jserp-result_search-card 4410\n"
     ]
    },
    {
     "name": "stderr",
     "output_type": "stream",
     "text": [
      "INFO:li:scraper:('[Data Analyst][United States][357]', 'Processed')\n"
     ]
    },
    {
     "name": "stdout",
     "output_type": "stream",
     "text": [
      "[ON_DATA] Senior Data Analyst-Seattle or Remote US full_time associate Remitly  3266470110 https://www.linkedin.com/jobs/view/senior-data-analyst-seattle-or-remote-us-at-remitly-3266470110?refId=HdHm%2BA4w3bpUK4iBJcVVBg%3D%3D&trackingId=QeV6%2FSSgJGUxzm3Z0iGMpg%3D%3D&position=12&pageNum=14&trk=public_jobs_jserp-result_search-card 3410\n"
     ]
    },
    {
     "name": "stderr",
     "output_type": "stream",
     "text": [
      "INFO:li:scraper:('[Data Analyst][United States][358]', 'Processed')\n"
     ]
    },
    {
     "name": "stdout",
     "output_type": "stream",
     "text": [
      "[ON_DATA] Data Analyst full_time associate Endotronix  3234568572 https://www.linkedin.com/jobs/view/data-analyst-at-endotronix-3234568572?refId=HdHm%2BA4w3bpUK4iBJcVVBg%3D%3D&trackingId=tG7anbBz8gZEs5XjsTyRtQ%3D%3D&position=13&pageNum=14&trk=public_jobs_jserp-result_search-card 5775\n"
     ]
    },
    {
     "name": "stderr",
     "output_type": "stream",
     "text": [
      "INFO:li:scraper:('[Data Analyst][United States][359]', 'Processed')\n"
     ]
    },
    {
     "name": "stdout",
     "output_type": "stream",
     "text": [
      "[ON_DATA] Data Analyst 3 - Fraud Strategy - Remote full_time associate Nordstrom  3266825787 https://www.linkedin.com/jobs/view/data-analyst-3-fraud-strategy-remote-at-nordstrom-3266825787?refId=HdHm%2BA4w3bpUK4iBJcVVBg%3D%3D&trackingId=Cy2a9ubKimw4RlIg2RQJyw%3D%3D&position=14&pageNum=14&trk=public_jobs_jserp-result_search-card 4206\n"
     ]
    },
    {
     "name": "stderr",
     "output_type": "stream",
     "text": [
      "INFO:li:scraper:('[Data Analyst][United States][360]', 'Processed')\n"
     ]
    },
    {
     "name": "stdout",
     "output_type": "stream",
     "text": [
      "[ON_DATA] Business Data Analyst full_time associate Capital Electric  3266312814 https://www.linkedin.com/jobs/view/business-data-analyst-at-capital-electric-3266312814?refId=HdHm%2BA4w3bpUK4iBJcVVBg%3D%3D&trackingId=GoYeDgUm247Adpmtwta0zg%3D%3D&position=15&pageNum=14&trk=public_jobs_jserp-result_search-card 4164\n"
     ]
    },
    {
     "name": "stderr",
     "output_type": "stream",
     "text": [
      "INFO:li:scraper:('[Data Analyst][United States][361]', 'Processed')\n"
     ]
    },
    {
     "name": "stdout",
     "output_type": "stream",
     "text": [
      "[ON_DATA] Warranty Data Analyst full_time associate Trinity Industries, Inc.  3237634335 https://www.linkedin.com/jobs/view/warranty-data-analyst-at-trinity-industries-inc-3237634335?refId=HdHm%2BA4w3bpUK4iBJcVVBg%3D%3D&trackingId=UEpFOYu%2BwdvhuhzUkJF5fg%3D%3D&position=16&pageNum=14&trk=public_jobs_jserp-result_search-card 1879\n"
     ]
    },
    {
     "name": "stderr",
     "output_type": "stream",
     "text": [
      "INFO:li:scraper:('[Data Analyst][United States][362]', 'Processed')\n"
     ]
    },
    {
     "name": "stdout",
     "output_type": "stream",
     "text": [
      "[ON_DATA] Business Data Analyst full_time associate CEVA Logistics  3239184518 https://www.linkedin.com/jobs/view/business-data-analyst-at-ceva-logistics-3239184518?refId=HdHm%2BA4w3bpUK4iBJcVVBg%3D%3D&trackingId=xJHK%2Ff622XIvcuuYfH0qQA%3D%3D&position=17&pageNum=14&trk=public_jobs_jserp-result_search-card 3599\n"
     ]
    },
    {
     "name": "stderr",
     "output_type": "stream",
     "text": [
      "INFO:li:scraper:('[Data Analyst][United States][363]', 'Processed')\n"
     ]
    },
    {
     "name": "stdout",
     "output_type": "stream",
     "text": [
      "[ON_DATA] Junior Data Analyst full_time associate Explore Job Search  3230509403 https://www.linkedin.com/jobs/view/junior-data-analyst-at-explore-job-search-3230509403?refId=HdHm%2BA4w3bpUK4iBJcVVBg%3D%3D&trackingId=lk7K9rF1yemRVdBCBIpYCg%3D%3D&position=18&pageNum=14&trk=public_jobs_jserp-result_search-card 2553\n"
     ]
    },
    {
     "name": "stderr",
     "output_type": "stream",
     "text": [
      "INFO:li:scraper:('[Data Analyst][United States][364]', 'Processed')\n"
     ]
    },
    {
     "name": "stdout",
     "output_type": "stream",
     "text": [
      "[ON_DATA] Data Analyst 3 - Fraud Strategy - Remote full_time associate Nordstrom  3266830184 https://www.linkedin.com/jobs/view/data-analyst-3-fraud-strategy-remote-at-nordstrom-3266830184?refId=HdHm%2BA4w3bpUK4iBJcVVBg%3D%3D&trackingId=UdVqXW5445DL30%2FUIKg8Hw%3D%3D&position=19&pageNum=14&trk=public_jobs_jserp-result_search-card 4206\n"
     ]
    },
    {
     "name": "stderr",
     "output_type": "stream",
     "text": [
      "INFO:li:scraper:('[Data Analyst][United States][365]', 'Processed')\n"
     ]
    },
    {
     "name": "stdout",
     "output_type": "stream",
     "text": [
      "[ON_DATA] Sr Data Analyst (Remote) full_time associate CBRE  3266882787 https://www.linkedin.com/jobs/view/sr-data-analyst-remote-at-cbre-3266882787?refId=HdHm%2BA4w3bpUK4iBJcVVBg%3D%3D&trackingId=Miz9ou%2F2Eml2pOkD8rwFqA%3D%3D&position=20&pageNum=14&trk=public_jobs_jserp-result_search-card 5245\n"
     ]
    },
    {
     "name": "stderr",
     "output_type": "stream",
     "text": [
      "INFO:li:scraper:('[Data Analyst][United States][366]', 'Processed')\n"
     ]
    },
    {
     "name": "stdout",
     "output_type": "stream",
     "text": [
      "[ON_DATA] Data Analyst full_time associate OGC Global  3258252972 https://www.linkedin.com/jobs/view/data-analyst-at-ogc-global-3258252972?refId=HdHm%2BA4w3bpUK4iBJcVVBg%3D%3D&trackingId=vYgMBGQ5Ns9Yn5dFtP8JsQ%3D%3D&position=21&pageNum=14&trk=public_jobs_jserp-result_search-card 2080\n"
     ]
    },
    {
     "name": "stderr",
     "output_type": "stream",
     "text": [
      "INFO:li:scraper:('[Data Analyst][United States][367]', 'Processed')\n"
     ]
    },
    {
     "name": "stdout",
     "output_type": "stream",
     "text": [
      "[ON_DATA] Data Analyst, Commercial Operations full_time associate Better Collective  3256833018 https://www.linkedin.com/jobs/view/data-analyst-commercial-operations-at-better-collective-3256833018?refId=HdHm%2BA4w3bpUK4iBJcVVBg%3D%3D&trackingId=3eJD2t1jTKO%2Bu5PRPmSISQ%3D%3D&position=22&pageNum=14&trk=public_jobs_jserp-result_search-card 3409\n"
     ]
    },
    {
     "name": "stderr",
     "output_type": "stream",
     "text": [
      "INFO:li:scraper:('[Data Analyst][United States][368]', 'Processed')\n"
     ]
    },
    {
     "name": "stdout",
     "output_type": "stream",
     "text": [
      "[ON_DATA] Senior Data Analyst full_time associate Walmart  3272006505 https://www.linkedin.com/jobs/view/senior-data-analyst-at-walmart-3272006505?refId=HdHm%2BA4w3bpUK4iBJcVVBg%3D%3D&trackingId=AuMbpvdRksJ%2BFcVVRc8ZgA%3D%3D&position=23&pageNum=14&trk=public_jobs_jserp-result_search-card 10599\n"
     ]
    },
    {
     "name": "stderr",
     "output_type": "stream",
     "text": [
      "INFO:li:scraper:('[Data Analyst][United States][369]', 'Processed')\n"
     ]
    },
    {
     "name": "stdout",
     "output_type": "stream",
     "text": [
      "[ON_DATA] Senior Data Analyst full_time associate Capital One  3268613983 https://www.linkedin.com/jobs/view/senior-data-analyst-at-capital-one-3268613983?refId=HdHm%2BA4w3bpUK4iBJcVVBg%3D%3D&trackingId=fEwOzCQfYdORNNqEfFQuPg%3D%3D&position=24&pageNum=14&trk=public_jobs_jserp-result_search-card 5254\n"
     ]
    },
    {
     "name": "stderr",
     "output_type": "stream",
     "text": [
      "INFO:li:scraper:('[Data Analyst][United States][370]', 'Processed')\n",
      "INFO:li:scraper:('[Data Analyst][United States][370]', 'Checking for new jobs to load...')\n"
     ]
    },
    {
     "name": "stdout",
     "output_type": "stream",
     "text": [
      "[ON_DATA] Data Analyst full_time associate MIT Investment Management Company  3161390400 https://www.linkedin.com/jobs/view/data-analyst-at-mit-investment-management-company-3161390400?refId=HdHm%2BA4w3bpUK4iBJcVVBg%3D%3D&trackingId=yAIEGkzeEWaIOB5W2xyZsw%3D%3D&position=25&pageNum=14&trk=public_jobs_jserp-result_search-card 3398\n"
     ]
    },
    {
     "name": "stderr",
     "output_type": "stream",
     "text": [
      "INFO:li:scraper:('[Data Analyst][United States][370]', 'Found 400 jobs')\n",
      "INFO:li:scraper:('[Data Analyst][United States][371]', 'Processed')\n"
     ]
    },
    {
     "name": "stdout",
     "output_type": "stream",
     "text": [
      "[ON_DATA] Data Analyst full_time associate Affirma  3256485691 https://www.linkedin.com/jobs/view/data-analyst-at-affirma-3256485691?refId=RaJaSnGt1KGLlb8zTXlXYw%3D%3D&trackingId=SLSWYpc9KZ%2BjmERhszTOiA%3D%3D&position=1&pageNum=15&trk=public_jobs_jserp-result_search-card 4455\n"
     ]
    },
    {
     "name": "stderr",
     "output_type": "stream",
     "text": [
      "INFO:li:scraper:('[Data Analyst][United States][372]', 'Processed')\n"
     ]
    },
    {
     "name": "stdout",
     "output_type": "stream",
     "text": [
      "[ON_DATA] Senior Data Analyst full_time associate Meritage Medical Network  3268330096 https://www.linkedin.com/jobs/view/senior-data-analyst-at-meritage-medical-network-3268330096?refId=RaJaSnGt1KGLlb8zTXlXYw%3D%3D&trackingId=mxolrhlv9tfGB9xM46gGUQ%3D%3D&position=2&pageNum=15&trk=public_jobs_jserp-result_search-card 3377\n"
     ]
    },
    {
     "name": "stderr",
     "output_type": "stream",
     "text": [
      "WARNING:li:scraper:('[Data Analyst][United States]', '[429] Too many requests', 'You should probably increase scraper \"slow_mo\" value or reduce concurrency')\n",
      "INFO:li:scraper:('[Data Analyst][United States][373]', 'Processed')\n"
     ]
    },
    {
     "name": "stdout",
     "output_type": "stream",
     "text": [
      "[ON_DATA] Junior Data Analyst full_time associate Grant Leading Technology, LLC  3228123474 https://www.linkedin.com/jobs/view/junior-data-analyst-at-grant-leading-technology-llc-3228123474?refId=RaJaSnGt1KGLlb8zTXlXYw%3D%3D&trackingId=lLy8oNWkSgwOSdUd1SDo3A%3D%3D&position=3&pageNum=15&trk=public_jobs_jserp-result_search-card 4951\n"
     ]
    },
    {
     "name": "stderr",
     "output_type": "stream",
     "text": [
      "INFO:li:scraper:('[Data Analyst][United States][374]', 'Processed')\n"
     ]
    },
    {
     "name": "stdout",
     "output_type": "stream",
     "text": [
      "[ON_DATA] Business and Data Analyst full_time associate American Auto Shield  3266300531 https://www.linkedin.com/jobs/view/business-and-data-analyst-at-american-auto-shield-3266300531?refId=RaJaSnGt1KGLlb8zTXlXYw%3D%3D&trackingId=%2BTZ%2BewEeZ%2FXtddhCCuwn8A%3D%3D&position=4&pageNum=15&trk=public_jobs_jserp-result_search-card 3722\n"
     ]
    },
    {
     "name": "stderr",
     "output_type": "stream",
     "text": [
      "INFO:li:scraper:('[Data Analyst][United States][375]', 'Processed')\n"
     ]
    },
    {
     "name": "stdout",
     "output_type": "stream",
     "text": [
      "[ON_DATA] Data Analyst, CaaP full_time associate K12  3265266613 https://www.linkedin.com/jobs/view/data-analyst-caap-at-k12-3265266613?refId=RaJaSnGt1KGLlb8zTXlXYw%3D%3D&trackingId=Lcc1HhTtT8LwdouwQBlQTw%3D%3D&position=5&pageNum=15&trk=public_jobs_jserp-result_search-card 6009\n"
     ]
    },
    {
     "name": "stderr",
     "output_type": "stream",
     "text": [
      "INFO:li:scraper:('[Data Analyst][United States][376]', 'Processed')\n"
     ]
    },
    {
     "name": "stdout",
     "output_type": "stream",
     "text": [
      "[ON_DATA] Data Analyst, CaaP (Contractor) (Remote) full_time associate Stride, Inc.  3247030655 https://www.linkedin.com/jobs/view/data-analyst-caap-contractor-remote-at-stride-inc-3247030655?refId=RaJaSnGt1KGLlb8zTXlXYw%3D%3D&trackingId=vmsqE5fHfxLCUJY3qYMazA%3D%3D&position=6&pageNum=15&trk=public_jobs_jserp-result_search-card 6903\n"
     ]
    },
    {
     "name": "stderr",
     "output_type": "stream",
     "text": [
      "INFO:li:scraper:('[Data Analyst][United States][377]', 'Processed')\n"
     ]
    },
    {
     "name": "stdout",
     "output_type": "stream",
     "text": [
      "[ON_DATA] Senior Data Analyst full_time associate American Dental Education Association (ADEA)  3271093989 https://www.linkedin.com/jobs/view/senior-data-analyst-at-american-dental-education-association-adea-3271093989?refId=RaJaSnGt1KGLlb8zTXlXYw%3D%3D&trackingId=coi3V%2ByGHBK4rNobwRf6rw%3D%3D&position=7&pageNum=15&trk=public_jobs_jserp-result_search-card 8043\n"
     ]
    },
    {
     "name": "stderr",
     "output_type": "stream",
     "text": [
      "INFO:li:scraper:('[Data Analyst][United States][378]', 'Processed')\n"
     ]
    },
    {
     "name": "stdout",
     "output_type": "stream",
     "text": [
      "[ON_DATA] Data Analyst, Graduate Business full_time associate University of Miami Health System  3271007364 https://www.linkedin.com/jobs/view/data-analyst-graduate-business-at-university-of-miami-health-system-3271007364?refId=RaJaSnGt1KGLlb8zTXlXYw%3D%3D&trackingId=LD77%2Bms2D5Txq7Fyl8de7w%3D%3D&position=8&pageNum=15&trk=public_jobs_jserp-result_search-card 9612\n"
     ]
    },
    {
     "name": "stderr",
     "output_type": "stream",
     "text": [
      "INFO:li:scraper:('[Data Analyst][United States][379]', 'Processed')\n"
     ]
    },
    {
     "name": "stdout",
     "output_type": "stream",
     "text": [
      "[ON_DATA] Data Analyst, Advanced Analytics full_time associate Univar Solutions  3247062675 https://www.linkedin.com/jobs/view/data-analyst-advanced-analytics-at-univar-solutions-3247062675?refId=RaJaSnGt1KGLlb8zTXlXYw%3D%3D&trackingId=uZHjH%2B1GGyPPJe%2FAzCrFOA%3D%3D&position=9&pageNum=15&trk=public_jobs_jserp-result_search-card 2919\n"
     ]
    },
    {
     "name": "stderr",
     "output_type": "stream",
     "text": [
      "INFO:li:scraper:('[Data Analyst][United States][380]', 'Processed')\n"
     ]
    },
    {
     "name": "stdout",
     "output_type": "stream",
     "text": [
      "[ON_DATA] DATA ANALYST full_time associate Flint Hills Resources  3229433778 https://www.linkedin.com/jobs/view/data-analyst-at-flint-hills-resources-3229433778?refId=RaJaSnGt1KGLlb8zTXlXYw%3D%3D&trackingId=zyiJJiSxb8%2F0dfedDImFOg%3D%3D&position=10&pageNum=15&trk=public_jobs_jserp-result_search-card 4151\n"
     ]
    },
    {
     "name": "stderr",
     "output_type": "stream",
     "text": [
      "INFO:li:scraper:('[Data Analyst][United States][381]', 'Processed')\n"
     ]
    },
    {
     "name": "stdout",
     "output_type": "stream",
     "text": [
      "[ON_DATA] Junior Data Analyst full_time associate CACI International Inc  3236218941 https://www.linkedin.com/jobs/view/junior-data-analyst-at-caci-international-inc-3236218941?refId=RaJaSnGt1KGLlb8zTXlXYw%3D%3D&trackingId=oIP6DVLXVawMaoefXq44YQ%3D%3D&position=11&pageNum=15&trk=public_jobs_jserp-result_search-card 3577\n"
     ]
    },
    {
     "name": "stderr",
     "output_type": "stream",
     "text": [
      "INFO:li:scraper:('[Data Analyst][United States][382]', 'Processed')\n"
     ]
    },
    {
     "name": "stdout",
     "output_type": "stream",
     "text": [
      "[ON_DATA] Data Analyst full_time associate Curinos  3270631013 https://www.linkedin.com/jobs/view/data-analyst-at-curinos-3270631013?refId=RaJaSnGt1KGLlb8zTXlXYw%3D%3D&trackingId=mOojcvT3F6QZmL%2F9SRCdSA%3D%3D&position=12&pageNum=15&trk=public_jobs_jserp-result_search-card 4998\n"
     ]
    },
    {
     "name": "stderr",
     "output_type": "stream",
     "text": [
      "INFO:li:scraper:('[Data Analyst][United States][383]', 'Processed')\n"
     ]
    },
    {
     "name": "stdout",
     "output_type": "stream",
     "text": [
      "[ON_DATA] Associate Data Analyst full_time associate Brooksource  3226223938 https://www.linkedin.com/jobs/view/associate-data-analyst-at-brooksource-3226223938?refId=RaJaSnGt1KGLlb8zTXlXYw%3D%3D&trackingId=5EilJvQIejEbKU89%2FtSh2Q%3D%3D&position=13&pageNum=15&trk=public_jobs_jserp-result_search-card 3147\n"
     ]
    },
    {
     "name": "stderr",
     "output_type": "stream",
     "text": [
      "INFO:li:scraper:('[Data Analyst][United States][384]', 'Processed')\n"
     ]
    },
    {
     "name": "stdout",
     "output_type": "stream",
     "text": [
      "[ON_DATA] Senior Data Analyst full_time associate Staff Financial Group  3264446933 https://www.linkedin.com/jobs/view/senior-data-analyst-at-staff-financial-group-3264446933?refId=RaJaSnGt1KGLlb8zTXlXYw%3D%3D&trackingId=wtjGuRgArIM%2FPcDaMyaXHA%3D%3D&position=14&pageNum=15&trk=public_jobs_jserp-result_search-card 2321\n"
     ]
    },
    {
     "name": "stderr",
     "output_type": "stream",
     "text": [
      "INFO:li:scraper:('[Data Analyst][United States][385]', 'Processed')\n"
     ]
    },
    {
     "name": "stdout",
     "output_type": "stream",
     "text": [
      "[ON_DATA] Data Analyst - Junior full_time associate HRS Consulting, Inc.  3268413792 https://www.linkedin.com/jobs/view/data-analyst-junior-at-hrs-consulting-inc-3268413792?refId=RaJaSnGt1KGLlb8zTXlXYw%3D%3D&trackingId=BbDt8pvydgXMJNtrmuJ3XA%3D%3D&position=15&pageNum=15&trk=public_jobs_jserp-result_search-card 4778\n"
     ]
    },
    {
     "name": "stderr",
     "output_type": "stream",
     "text": [
      "INFO:li:scraper:('[Data Analyst][United States][386]', 'Processed')\n"
     ]
    },
    {
     "name": "stdout",
     "output_type": "stream",
     "text": [
      "[ON_DATA] 2023 Wells Fargo Analytics & Data Analyst Program full_time associate Wells Fargo  3269069735 https://www.linkedin.com/jobs/view/2023-wells-fargo-analytics-data-analyst-program-at-wells-fargo-3269069735?refId=RaJaSnGt1KGLlb8zTXlXYw%3D%3D&trackingId=4MQ4D1NYXGK8dYeM5xUlFw%3D%3D&position=16&pageNum=15&trk=public_jobs_jserp-result_search-card 9653\n"
     ]
    },
    {
     "name": "stderr",
     "output_type": "stream",
     "text": [
      "INFO:li:scraper:('[Data Analyst][United States][387]', 'Processed')\n"
     ]
    },
    {
     "name": "stdout",
     "output_type": "stream",
     "text": [
      "[ON_DATA] Healthcare Data Analyst full_time associate Northwest Human Services, Inc.  3268669563 https://www.linkedin.com/jobs/view/healthcare-data-analyst-at-northwest-human-services-inc-3268669563?refId=RaJaSnGt1KGLlb8zTXlXYw%3D%3D&trackingId=H5kMTSQe9dTBRmG%2FfdWKXg%3D%3D&position=17&pageNum=15&trk=public_jobs_jserp-result_search-card 4468\n"
     ]
    },
    {
     "name": "stderr",
     "output_type": "stream",
     "text": [
      "INFO:li:scraper:('[Data Analyst][United States][388]', 'Processed')\n"
     ]
    },
    {
     "name": "stdout",
     "output_type": "stream",
     "text": [
      "[ON_DATA] 2023 Wells Fargo Analytics & Data Analyst Program full_time associate Wells Fargo  3269069556 https://www.linkedin.com/jobs/view/2023-wells-fargo-analytics-data-analyst-program-at-wells-fargo-3269069556?refId=RaJaSnGt1KGLlb8zTXlXYw%3D%3D&trackingId=LJPj5pTAyzqWWDSWAwFZAw%3D%3D&position=18&pageNum=15&trk=public_jobs_jserp-result_search-card 6589\n"
     ]
    },
    {
     "name": "stderr",
     "output_type": "stream",
     "text": [
      "INFO:li:scraper:('[Data Analyst][United States][389]', 'Processed')\n"
     ]
    },
    {
     "name": "stdout",
     "output_type": "stream",
     "text": [
      "[ON_DATA] Data Analyst (Live Entertainment) full_time associate the agency worX  3235151908 https://www.linkedin.com/jobs/view/data-analyst-live-entertainment-at-the-agency-worx-3235151908?refId=RaJaSnGt1KGLlb8zTXlXYw%3D%3D&trackingId=jUHhaxO5Ot3S%2F3%2Bta7hmfQ%3D%3D&position=19&pageNum=15&trk=public_jobs_jserp-result_search-card 4986\n"
     ]
    },
    {
     "name": "stderr",
     "output_type": "stream",
     "text": [
      "INFO:li:scraper:('[Data Analyst][United States][390]', 'Processed')\n"
     ]
    },
    {
     "name": "stdout",
     "output_type": "stream",
     "text": [
      "[ON_DATA] Senior Data Analyst (Remote-Home Based Worker) full_time associate Allstate  3247645361 https://www.linkedin.com/jobs/view/senior-data-analyst-remote-home-based-worker-at-allstate-3247645361?refId=RaJaSnGt1KGLlb8zTXlXYw%3D%3D&trackingId=eBjI47bFjWN8uL64PAjRqQ%3D%3D&position=20&pageNum=15&trk=public_jobs_jserp-result_search-card 7940\n"
     ]
    },
    {
     "name": "stderr",
     "output_type": "stream",
     "text": [
      "INFO:li:scraper:('[Data Analyst][United States][391]', 'Processed')\n"
     ]
    },
    {
     "name": "stdout",
     "output_type": "stream",
     "text": [
      "[ON_DATA] Data Analyst I full_time associate St. Jude Children's Research Hospital  3238875170 https://www.linkedin.com/jobs/view/data-analyst-i-at-st-jude-children-s-research-hospital-3238875170?refId=RaJaSnGt1KGLlb8zTXlXYw%3D%3D&trackingId=J%2FMnN6mm%2Bv3fCtVIIW8mUg%3D%3D&position=21&pageNum=15&trk=public_jobs_jserp-result_search-card 3383\n"
     ]
    },
    {
     "name": "stderr",
     "output_type": "stream",
     "text": [
      "INFO:li:scraper:('[Data Analyst][United States][392]', 'Processed')\n"
     ]
    },
    {
     "name": "stdout",
     "output_type": "stream",
     "text": [
      "[ON_DATA] Data Analyst I-MSH/SSVS/ELM full_time associate Explore Job Search  3251964366 https://www.linkedin.com/jobs/view/data-analyst-i-msh-ssvs-elm-at-explore-job-search-3251964366?refId=RaJaSnGt1KGLlb8zTXlXYw%3D%3D&trackingId=E2WtEVmJIBcMNRHsd%2BIeQg%3D%3D&position=22&pageNum=15&trk=public_jobs_jserp-result_search-card 5668\n"
     ]
    },
    {
     "name": "stderr",
     "output_type": "stream",
     "text": [
      "INFO:li:scraper:('[Data Analyst][United States][393]', 'Processed')\n"
     ]
    },
    {
     "name": "stdout",
     "output_type": "stream",
     "text": [
      "[ON_DATA] Data Analyst (Dept. of General Internal Medicine) full_time associate University of Pennsylvania  3269846166 https://www.linkedin.com/jobs/view/data-analyst-dept-of-general-internal-medicine-at-university-of-pennsylvania-3269846166?refId=RaJaSnGt1KGLlb8zTXlXYw%3D%3D&trackingId=JaKYOOmwAeW6Bnon9AnNTA%3D%3D&position=23&pageNum=15&trk=public_jobs_jserp-result_search-card 10743\n"
     ]
    },
    {
     "name": "stderr",
     "output_type": "stream",
     "text": [
      "INFO:li:scraper:('[Data Analyst][United States][394]', 'Processed')\n"
     ]
    },
    {
     "name": "stdout",
     "output_type": "stream",
     "text": [
      "[ON_DATA] Business Data Analyst full_time associate Intuit  3261149976 https://www.linkedin.com/jobs/view/business-data-analyst-at-intuit-3261149976?refId=RaJaSnGt1KGLlb8zTXlXYw%3D%3D&trackingId=q9Vme0%2BjXSDeBFqgZxUWZw%3D%3D&position=24&pageNum=15&trk=public_jobs_jserp-result_search-card 2790\n"
     ]
    },
    {
     "name": "stderr",
     "output_type": "stream",
     "text": [
      "INFO:li:scraper:('[Data Analyst][United States][395]', 'Processed')\n",
      "INFO:li:scraper:('[Data Analyst][United States][395]', 'Checking for new jobs to load...')\n"
     ]
    },
    {
     "name": "stdout",
     "output_type": "stream",
     "text": [
      "[ON_DATA] Sr Business Data Analyst full_time associate DHL Supply Chain  3267397535 https://www.linkedin.com/jobs/view/sr-business-data-analyst-at-dhl-supply-chain-3267397535?refId=RaJaSnGt1KGLlb8zTXlXYw%3D%3D&trackingId=ouoiGrh9%2BVnuRo76wdmomg%3D%3D&position=25&pageNum=15&trk=public_jobs_jserp-result_search-card 3409\n"
     ]
    },
    {
     "name": "stderr",
     "output_type": "stream",
     "text": [
      "INFO:li:scraper:('[Data Analyst][United States][395]', 'Found 425 jobs')\n",
      "INFO:li:scraper:('[Data Analyst][United States][396]', 'Processed')\n"
     ]
    },
    {
     "name": "stdout",
     "output_type": "stream",
     "text": [
      "[ON_DATA] Business/Data Analyst full_time associate Bank of America  3257520757 https://www.linkedin.com/jobs/view/business-data-analyst-at-bank-of-america-3257520757?refId=9LwueB5hP1Sge1OZVKsgQA%3D%3D&trackingId=tgyrV2inVR8nBCj4Ef4xvQ%3D%3D&position=1&pageNum=16&trk=public_jobs_jserp-result_search-card 4723\n"
     ]
    },
    {
     "name": "stderr",
     "output_type": "stream",
     "text": [
      "INFO:li:scraper:('[Data Analyst][United States][397]', 'Processed')\n"
     ]
    },
    {
     "name": "stdout",
     "output_type": "stream",
     "text": [
      "[ON_DATA] Research Data Analyst full_time associate The Johns Hopkins University  3268282990 https://www.linkedin.com/jobs/view/research-data-analyst-at-the-johns-hopkins-university-3268282990?refId=9LwueB5hP1Sge1OZVKsgQA%3D%3D&trackingId=6o%2Bb5p8RALgp4SWiSVG%2FAw%3D%3D&position=2&pageNum=16&trk=public_jobs_jserp-result_search-card 6626\n"
     ]
    },
    {
     "name": "stderr",
     "output_type": "stream",
     "text": [
      "INFO:li:scraper:('[Data Analyst][United States][398]', 'Processed')\n"
     ]
    },
    {
     "name": "stdout",
     "output_type": "stream",
     "text": [
      "[ON_DATA] Electronic Data Interchange Analyst full_time associate Stabilus  3260136883 https://www.linkedin.com/jobs/view/electronic-data-interchange-analyst-at-stabilus-3260136883?refId=9LwueB5hP1Sge1OZVKsgQA%3D%3D&trackingId=%2BRrM5Cw16%2Ffu9QCMecCw4A%3D%3D&position=3&pageNum=16&trk=public_jobs_jserp-result_search-card 3255\n"
     ]
    },
    {
     "name": "stderr",
     "output_type": "stream",
     "text": [
      "INFO:li:scraper:('[Data Analyst][United States][399]', 'Processed')\n"
     ]
    },
    {
     "name": "stdout",
     "output_type": "stream",
     "text": [
      "[ON_DATA] Data Analyst- Retail Banking full_time associate Bank OZK  3222751776 https://www.linkedin.com/jobs/view/data-analyst-retail-banking-at-bank-ozk-3222751776?refId=9LwueB5hP1Sge1OZVKsgQA%3D%3D&trackingId=Am8KcIfvHJFSOyW62EEibw%3D%3D&position=4&pageNum=16&trk=public_jobs_jserp-result_search-card 3268\n"
     ]
    },
    {
     "name": "stderr",
     "output_type": "stream",
     "text": [
      "INFO:li:scraper:('[Data Analyst][United States][400]', 'Processed')\n"
     ]
    },
    {
     "name": "stdout",
     "output_type": "stream",
     "text": [
      "[ON_DATA] Data Analyst (Senior) full_time associate DISH Network  3267943166 https://www.linkedin.com/jobs/view/data-analyst-senior-at-dish-network-3267943166?refId=9LwueB5hP1Sge1OZVKsgQA%3D%3D&trackingId=Orm4abM9Tg88YSqKFBavhA%3D%3D&position=5&pageNum=16&trk=public_jobs_jserp-result_search-card 2061\n"
     ]
    },
    {
     "name": "stderr",
     "output_type": "stream",
     "text": [
      "INFO:li:scraper:('[Data Analyst][United States][401]', 'Processed')\n"
     ]
    },
    {
     "name": "stdout",
     "output_type": "stream",
     "text": [
      "[ON_DATA] 2023 Wells Fargo Analytics & Data Analyst Program full_time associate Wells Fargo  3269068866 https://www.linkedin.com/jobs/view/2023-wells-fargo-analytics-data-analyst-program-at-wells-fargo-3269068866?refId=9LwueB5hP1Sge1OZVKsgQA%3D%3D&trackingId=pMeeGK4YHqY5ejGYBCA44g%3D%3D&position=6&pageNum=16&trk=public_jobs_jserp-result_search-card 6589\n"
     ]
    },
    {
     "name": "stderr",
     "output_type": "stream",
     "text": [
      "INFO:li:scraper:('[Data Analyst][United States][402]', 'Processed')\n"
     ]
    },
    {
     "name": "stdout",
     "output_type": "stream",
     "text": [
      "[ON_DATA] Financial and Data Analyst full_time associate Explore Job Search  3254170285 https://www.linkedin.com/jobs/view/financial-and-data-analyst-at-explore-job-search-3254170285?refId=9LwueB5hP1Sge1OZVKsgQA%3D%3D&trackingId=Qcvo4FAfIFFop2pEQscreQ%3D%3D&position=7&pageNum=16&trk=public_jobs_jserp-result_search-card 5889\n"
     ]
    },
    {
     "name": "stderr",
     "output_type": "stream",
     "text": [
      "INFO:li:scraper:('[Data Analyst][United States][403]', 'Processed')\n"
     ]
    },
    {
     "name": "stdout",
     "output_type": "stream",
     "text": [
      "[ON_DATA] Financial and Data Analyst full_time associate Explore Job Search  3254169319 https://www.linkedin.com/jobs/view/financial-and-data-analyst-at-explore-job-search-3254169319?refId=9LwueB5hP1Sge1OZVKsgQA%3D%3D&trackingId=ShbF%2FF%2BdhfA04mM9OTViiQ%3D%3D&position=8&pageNum=16&trk=public_jobs_jserp-result_search-card 5889\n"
     ]
    },
    {
     "name": "stderr",
     "output_type": "stream",
     "text": [
      "INFO:li:scraper:('[Data Analyst][United States][404]', 'Processed')\n"
     ]
    },
    {
     "name": "stdout",
     "output_type": "stream",
     "text": [
      "[ON_DATA] Business and Data Analyst full_time associate American Auto Shield  3265599545 https://www.linkedin.com/jobs/view/business-and-data-analyst-at-american-auto-shield-3265599545?refId=9LwueB5hP1Sge1OZVKsgQA%3D%3D&trackingId=%2Fc734snN6KAe9ZYHtBUD6Q%3D%3D&position=9&pageNum=16&trk=public_jobs_jserp-result_search-card 3722\n"
     ]
    },
    {
     "name": "stderr",
     "output_type": "stream",
     "text": [
      "INFO:li:scraper:('[Data Analyst][United States][405]', 'Processed')\n"
     ]
    },
    {
     "name": "stdout",
     "output_type": "stream",
     "text": [
      "[ON_DATA] Data Analyst - MarTech transformation, BI, Data Visualisation full_time associate Jobsøgende: Potentiale forløsende lederskab i drift & kundeorienteret virksomheder  3269576913 https://www.linkedin.com/jobs/view/data-analyst-martech-transformation-bi-data-visualisation-at-jobs%C3%B8gende-potentiale-forl%C3%B8sende-lederskab-i-drift-kundeorienteret-virksomheder-3269576913?refId=9LwueB5hP1Sge1OZVKsgQA%3D%3D&trackingId=yn2Y4cx2%2FeOnHV6Z9J2lbA%3D%3D&position=10&pageNum=16&trk=public_jobs_jserp-result_search-card 2117\n"
     ]
    },
    {
     "name": "stderr",
     "output_type": "stream",
     "text": [
      "INFO:li:scraper:('[Data Analyst][United States][406]', 'Processed')\n"
     ]
    },
    {
     "name": "stdout",
     "output_type": "stream",
     "text": [
      "[ON_DATA] Senior Data Analyst, eCommerce full_time associate Newell Brands  3150730633 https://www.linkedin.com/jobs/view/senior-data-analyst-ecommerce-at-newell-brands-3150730633?refId=9LwueB5hP1Sge1OZVKsgQA%3D%3D&trackingId=CTWaTCqUObCbOuXuEEn2LA%3D%3D&position=11&pageNum=16&trk=public_jobs_jserp-result_search-card 3741\n"
     ]
    },
    {
     "name": "stderr",
     "output_type": "stream",
     "text": [
      "INFO:li:scraper:('[Data Analyst][United States][407]', 'Processed')\n"
     ]
    },
    {
     "name": "stdout",
     "output_type": "stream",
     "text": [
      "[ON_DATA] SEO Data Analyst full_time associate Klaviyo  3268575847 https://www.linkedin.com/jobs/view/seo-data-analyst-at-klaviyo-3268575847?refId=9LwueB5hP1Sge1OZVKsgQA%3D%3D&trackingId=KdI2RW7zrogom62zRXzhTg%3D%3D&position=12&pageNum=16&trk=public_jobs_jserp-result_search-card 4929\n"
     ]
    },
    {
     "name": "stderr",
     "output_type": "stream",
     "text": [
      "INFO:li:scraper:('[Data Analyst][United States][408]', 'Processed')\n"
     ]
    },
    {
     "name": "stdout",
     "output_type": "stream",
     "text": [
      "[ON_DATA] Supply Chain Data Analyst full_time associate KPI Integrated Solutions  3272494042 https://www.linkedin.com/jobs/view/supply-chain-data-analyst-at-kpi-integrated-solutions-3272494042?refId=9LwueB5hP1Sge1OZVKsgQA%3D%3D&trackingId=yu0e%2FdWfK971ZsIldkpv5g%3D%3D&position=13&pageNum=16&trk=public_jobs_jserp-result_search-card 2778\n"
     ]
    },
    {
     "name": "stderr",
     "output_type": "stream",
     "text": [
      "INFO:li:scraper:('[Data Analyst][United States][409]', 'Processed')\n"
     ]
    },
    {
     "name": "stdout",
     "output_type": "stream",
     "text": [
      "[ON_DATA] Data Analyst full_time associate The Center for Alternative Sentencing and Employment Services (CASES)  3228033339 https://www.linkedin.com/jobs/view/data-analyst-at-the-center-for-alternative-sentencing-and-employment-services-cases-3228033339?refId=9LwueB5hP1Sge1OZVKsgQA%3D%3D&trackingId=rrtSu8YRiKdEsqJkk%2F%2FU9A%3D%3D&position=14&pageNum=16&trk=public_jobs_jserp-result_search-card 4149\n"
     ]
    },
    {
     "name": "stderr",
     "output_type": "stream",
     "text": [
      "INFO:li:scraper:('[Data Analyst][United States][410]', 'Processed')\n"
     ]
    },
    {
     "name": "stdout",
     "output_type": "stream",
     "text": [
      "[ON_DATA] Data Analyst full_time associate Stony Brook Medicine  3252816883 https://www.linkedin.com/jobs/view/data-analyst-at-stony-brook-medicine-3252816883?refId=9LwueB5hP1Sge1OZVKsgQA%3D%3D&trackingId=93ohQk9KF8xa5D5X8Pkcrw%3D%3D&position=15&pageNum=16&trk=public_jobs_jserp-result_search-card 2443\n"
     ]
    },
    {
     "name": "stderr",
     "output_type": "stream",
     "text": [
      "INFO:li:scraper:('[Data Analyst][United States][411]', 'Processed')\n"
     ]
    },
    {
     "name": "stdout",
     "output_type": "stream",
     "text": [
      "[ON_DATA] Financial and Data Analyst full_time associate Explore Job Search  3252851023 https://www.linkedin.com/jobs/view/financial-and-data-analyst-at-explore-job-search-3252851023?refId=9LwueB5hP1Sge1OZVKsgQA%3D%3D&trackingId=%2Bxos2x2f0JvlgesEgAOhEQ%3D%3D&position=16&pageNum=16&trk=public_jobs_jserp-result_search-card 5889\n"
     ]
    },
    {
     "name": "stderr",
     "output_type": "stream",
     "text": [
      "INFO:li:scraper:('[Data Analyst][United States][412]', 'Processed')\n"
     ]
    },
    {
     "name": "stdout",
     "output_type": "stream",
     "text": [
      "[ON_DATA] Senior Data Analyst I full_time associate Cambium Assessment  3244868331 https://www.linkedin.com/jobs/view/senior-data-analyst-i-at-cambium-assessment-3244868331?refId=9LwueB5hP1Sge1OZVKsgQA%3D%3D&trackingId=TO47gEWnpsVQfBud2CBfKw%3D%3D&position=17&pageNum=16&trk=public_jobs_jserp-result_search-card 3249\n"
     ]
    },
    {
     "name": "stderr",
     "output_type": "stream",
     "text": [
      "INFO:li:scraper:('[Data Analyst][United States][413]', 'Processed')\n"
     ]
    },
    {
     "name": "stdout",
     "output_type": "stream",
     "text": [
      "[ON_DATA] Data Analyst full_time associate Reputable Staffing, Inc.  3244812699 https://www.linkedin.com/jobs/view/data-analyst-at-reputable-staffing-inc-3244812699?refId=9LwueB5hP1Sge1OZVKsgQA%3D%3D&trackingId=NE5jcW%2Fc2zleXw3d5Q2bEQ%3D%3D&position=18&pageNum=16&trk=public_jobs_jserp-result_search-card 2956\n"
     ]
    },
    {
     "name": "stderr",
     "output_type": "stream",
     "text": [
      "ERROR:li:scraper:('[Data Analyst][United States][414]', JavascriptException(\"javascript error: Cannot read properties of null (reading 'scrollIntoView')\\n  (Session info: headless chrome=105.0.5195.125)\", None, None), 'Traceback (most recent call last):\\n  File \"C:\\\\Users\\\\User\\\\anaconda3\\\\lib\\\\site-packages\\\\linkedin_jobs_scraper\\\\strategies\\\\anonymous_strategy.py\", line 267, in run\\n    job_id, job_link, job_title, job_company, job_place, job_date = driver.execute_script(\\n  File \"C:\\\\Users\\\\User\\\\anaconda3\\\\lib\\\\site-packages\\\\selenium\\\\webdriver\\\\remote\\\\webdriver.py\", line 634, in execute_script\\n    return self.execute(command, {\\n  File \"C:\\\\Users\\\\User\\\\anaconda3\\\\lib\\\\site-packages\\\\selenium\\\\webdriver\\\\remote\\\\webdriver.py\", line 321, in execute\\n    self.error_handler.check_response(response)\\n  File \"C:\\\\Users\\\\User\\\\anaconda3\\\\lib\\\\site-packages\\\\selenium\\\\webdriver\\\\remote\\\\errorhandler.py\", line 242, in check_response\\n    raise exception_class(message, screen, stacktrace)\\nselenium.comm...\n",
      "Traceback (most recent call last):\n",
      "  File \"C:\\Users\\User\\anaconda3\\lib\\site-packages\\linkedin_jobs_scraper\\strategies\\anonymous_strategy.py\", line 267, in run\n",
      "    job_id, job_link, job_title, job_company, job_place, job_date = driver.execute_script(\n",
      "  File \"C:\\Users\\User\\anaconda3\\lib\\site-packages\\selenium\\webdriver\\remote\\webdriver.py\", line 634, in execute_script\n",
      "    return self.execute(command, {\n",
      "  File \"C:\\Users\\User\\anaconda3\\lib\\site-packages\\selenium\\webdriver\\remote\\webdriver.py\", line 321, in execute\n",
      "    self.error_handler.check_response(response)\n",
      "  File \"C:\\Users\\User\\anaconda3\\lib\\site-packages\\selenium\\webdriver\\remote\\errorhandler.py\", line 242, in check_response\n",
      "    raise exception_class(message, screen, stacktrace)\n",
      "selenium.common.exceptions.JavascriptException: Message: javascript error: Cannot read properties of null (reading 'scrollIntoView')\n",
      "  (Session info: headless chrome=105.0.5195.125)\n",
      "\n"
     ]
    },
    {
     "name": "stdout",
     "output_type": "stream",
     "text": [
      "[ON_ERROR] Message: javascript error: Cannot read properties of null (reading 'scrollIntoView')\n",
      "  (Session info: headless chrome=105.0.5195.125)\n",
      "\n",
      "Traceback (most recent call last):\n",
      "  File \"C:\\Users\\User\\anaconda3\\lib\\site-packages\\linkedin_jobs_scraper\\strategies\\anonymous_strategy.py\", line 267, in run\n",
      "    job_id, job_link, job_title, job_company, job_place, job_date = driver.execute_script(\n",
      "  File \"C:\\Users\\User\\anaconda3\\lib\\site-packages\\selenium\\webdriver\\remote\\webdriver.py\", line 634, in execute_script\n",
      "    return self.execute(command, {\n",
      "  File \"C:\\Users\\User\\anaconda3\\lib\\site-packages\\selenium\\webdriver\\remote\\webdriver.py\", line 321, in execute\n",
      "    self.error_handler.check_response(response)\n",
      "  File \"C:\\Users\\User\\anaconda3\\lib\\site-packages\\selenium\\webdriver\\remote\\errorhandler.py\", line 242, in check_response\n",
      "    raise exception_class(message, screen, stacktrace)\n",
      "selenium.common.exceptions.JavascriptException: Message: javascript error: Cannot read properties of null (reading 'scrollIntoView')\n",
      "  (Session info: headless chrome=105.0.5195.125)\n",
      "\n",
      "\n"
     ]
    },
    {
     "name": "stderr",
     "output_type": "stream",
     "text": [
      "INFO:li:scraper:('[Data Analyst][United States][414]', 'Processed')\n"
     ]
    },
    {
     "name": "stdout",
     "output_type": "stream",
     "text": [
      "[ON_DATA] Data Analyst 3 - Fraud Strategy - Remote full_time associate Nordstrom  3266829363 https://www.linkedin.com/jobs/view/data-analyst-3-fraud-strategy-remote-at-nordstrom-3266829363?refId=9LwueB5hP1Sge1OZVKsgQA%3D%3D&trackingId=rnGGvAD8oQwNpuOqZ05neg%3D%3D&position=20&pageNum=16&trk=public_jobs_jserp-result_search-card 4206\n"
     ]
    },
    {
     "name": "stderr",
     "output_type": "stream",
     "text": [
      "INFO:li:scraper:('[Data Analyst][United States][415]', 'Processed')\n"
     ]
    },
    {
     "name": "stdout",
     "output_type": "stream",
     "text": [
      "[ON_DATA] Sr Data Analyst full_time associate Fox News Media  3272071745 https://www.linkedin.com/jobs/view/sr-data-analyst-at-fox-news-media-3272071745?refId=9LwueB5hP1Sge1OZVKsgQA%3D%3D&trackingId=cu8rPoDToFfxpP%2Bgf3EvsQ%3D%3D&position=21&pageNum=16&trk=public_jobs_jserp-result_search-card 3951\n"
     ]
    },
    {
     "name": "stderr",
     "output_type": "stream",
     "text": [
      "INFO:li:scraper:('[Data Analyst][United States][416]', 'Processed')\n"
     ]
    },
    {
     "name": "stdout",
     "output_type": "stream",
     "text": [
      "[ON_DATA] Sr Data Analyst full_time associate Bank of America  3267387092 https://www.linkedin.com/jobs/view/sr-data-analyst-at-bank-of-america-3267387092?refId=9LwueB5hP1Sge1OZVKsgQA%3D%3D&trackingId=wuj8mGCA1caMxm47c4OS6w%3D%3D&position=22&pageNum=16&trk=public_jobs_jserp-result_search-card 4072\n"
     ]
    },
    {
     "name": "stderr",
     "output_type": "stream",
     "text": [
      "INFO:li:scraper:('[Data Analyst][United States][417]', 'Processed')\n"
     ]
    },
    {
     "name": "stdout",
     "output_type": "stream",
     "text": [
      "[ON_DATA] Business Data Analyst full_time associate Ask Media Group  3226605665 https://www.linkedin.com/jobs/view/business-data-analyst-at-ask-media-group-3226605665?refId=9LwueB5hP1Sge1OZVKsgQA%3D%3D&trackingId=dG7GdWcwnP9USGqGNyJ2aw%3D%3D&position=23&pageNum=16&trk=public_jobs_jserp-result_search-card 4785\n"
     ]
    },
    {
     "name": "stderr",
     "output_type": "stream",
     "text": [
      "INFO:li:scraper:('[Data Analyst][United States][418]', 'Processed')\n"
     ]
    },
    {
     "name": "stdout",
     "output_type": "stream",
     "text": [
      "[ON_DATA] Data Analyst position in Sunrise, FL Direct Hire/Perm full_time associate Suncap Technology  3220895015 https://www.linkedin.com/jobs/view/data-analyst-position-in-sunrise-fl-direct-hire-perm-at-suncap-technology-3220895015?refId=9LwueB5hP1Sge1OZVKsgQA%3D%3D&trackingId=gTotoltf9Mt2G9kuPUng7w%3D%3D&position=24&pageNum=16&trk=public_jobs_jserp-result_search-card 3168\n"
     ]
    },
    {
     "name": "stderr",
     "output_type": "stream",
     "text": [
      "INFO:li:scraper:('[Data Analyst][United States][419]', 'Processed')\n",
      "INFO:li:scraper:('[Data Analyst][United States][419]', 'Checking for new jobs to load...')\n"
     ]
    },
    {
     "name": "stdout",
     "output_type": "stream",
     "text": [
      "[ON_DATA] Business Data Analyst full_time associate KRAFTON Inc.  3268568497 https://www.linkedin.com/jobs/view/business-data-analyst-at-krafton-inc-3268568497?refId=9LwueB5hP1Sge1OZVKsgQA%3D%3D&trackingId=ngI%2Bx0Qxtdwrsqqf4KLNdQ%3D%3D&position=25&pageNum=16&trk=public_jobs_jserp-result_search-card 4125\n"
     ]
    },
    {
     "name": "stderr",
     "output_type": "stream",
     "text": [
      "INFO:li:scraper:('[Data Analyst][United States][419]', 'Found 450 jobs')\n",
      "INFO:li:scraper:('[Data Analyst][United States][420]', 'Processed')\n"
     ]
    },
    {
     "name": "stdout",
     "output_type": "stream",
     "text": [
      "[ON_DATA] Data Analyst full_time associate Asmodee North America  3235217041 https://www.linkedin.com/jobs/view/data-analyst-at-asmodee-north-america-3235217041?refId=aV7nBlh4%2Fs%2FzxtXIPYee2Q%3D%3D&trackingId=iBHMHgrt0puVIkSx31Vrmw%3D%3D&position=1&pageNum=17&trk=public_jobs_jserp-result_search-card 5060\n"
     ]
    },
    {
     "name": "stderr",
     "output_type": "stream",
     "text": [
      "INFO:li:scraper:('[Data Analyst][United States][421]', 'Processed')\n"
     ]
    },
    {
     "name": "stdout",
     "output_type": "stream",
     "text": [
      "[ON_DATA] Data Analyst I - Telecommute full_time associate Explore Job Search  3232221840 https://www.linkedin.com/jobs/view/data-analyst-i-telecommute-at-explore-job-search-3232221840?refId=aV7nBlh4%2Fs%2FzxtXIPYee2Q%3D%3D&trackingId=MHjJ%2Fz%2Ba6GOAvFiHeExziw%3D%3D&position=2&pageNum=17&trk=public_jobs_jserp-result_search-card 5942\n"
     ]
    },
    {
     "name": "stderr",
     "output_type": "stream",
     "text": [
      "INFO:li:scraper:('[Data Analyst][United States][422]', 'Processed')\n"
     ]
    },
    {
     "name": "stdout",
     "output_type": "stream",
     "text": [
      "[ON_DATA] Junior SQL Developer Data Analyst full_time associate 81qd  3240924274 https://www.linkedin.com/jobs/view/junior-sql-developer-data-analyst-at-81qd-3240924274?refId=aV7nBlh4%2Fs%2FzxtXIPYee2Q%3D%3D&trackingId=PxMLDaYEiezxKdrULfUyqw%3D%3D&position=3&pageNum=17&trk=public_jobs_jserp-result_search-card 2087\n"
     ]
    },
    {
     "name": "stderr",
     "output_type": "stream",
     "text": [
      "INFO:li:scraper:('[Data Analyst][United States][423]', 'Processed')\n"
     ]
    },
    {
     "name": "stdout",
     "output_type": "stream",
     "text": [
      "[ON_DATA] Senior Data Analyst full_time associate Chewy  3250433136 https://www.linkedin.com/jobs/view/senior-data-analyst-at-chewy-3250433136?refId=aV7nBlh4%2Fs%2FzxtXIPYee2Q%3D%3D&trackingId=mBgcy2XdYZyQq%2FzlRYDKDg%3D%3D&position=4&pageNum=17&trk=public_jobs_jserp-result_search-card 3231\n"
     ]
    },
    {
     "name": "stderr",
     "output_type": "stream",
     "text": [
      "INFO:li:scraper:('[Data Analyst][United States][424]', 'Processed')\n"
     ]
    },
    {
     "name": "stdout",
     "output_type": "stream",
     "text": [
      "[ON_DATA] Data Analyst - Remote JID 1942 full_time associate CloudAngles  3250829130 https://www.linkedin.com/jobs/view/data-analyst-remote-jid-1942-at-cloudangles-3250829130?refId=aV7nBlh4%2Fs%2FzxtXIPYee2Q%3D%3D&trackingId=QR5NBJ56xsyi96%2BnLEOffQ%3D%3D&position=5&pageNum=17&trk=public_jobs_jserp-result_search-card 4199\n"
     ]
    },
    {
     "name": "stderr",
     "output_type": "stream",
     "text": [
      "INFO:li:scraper:('[Data Analyst][United States][425]', 'Processed')\n"
     ]
    },
    {
     "name": "stdout",
     "output_type": "stream",
     "text": [
      "[ON_DATA] Senior Data Analyst full_time associate Chewy  3155334599 https://www.linkedin.com/jobs/view/senior-data-analyst-at-chewy-3155334599?refId=aV7nBlh4%2Fs%2FzxtXIPYee2Q%3D%3D&trackingId=VTB8YCbpGzKY1upWAUOf0A%3D%3D&position=6&pageNum=17&trk=public_jobs_jserp-result_search-card 3231\n"
     ]
    },
    {
     "name": "stderr",
     "output_type": "stream",
     "text": [
      "INFO:li:scraper:('[Data Analyst][United States][426]', 'Processed')\n"
     ]
    },
    {
     "name": "stdout",
     "output_type": "stream",
     "text": [
      "[ON_DATA] Retail Data Analyst full_time associate bp  3268436067 https://www.linkedin.com/jobs/view/retail-data-analyst-at-bp-3268436067?refId=aV7nBlh4%2Fs%2FzxtXIPYee2Q%3D%3D&trackingId=fcROZENp%2BLrY8E%2FyRSsSww%3D%3D&position=7&pageNum=17&trk=public_jobs_jserp-result_search-card 6155\n"
     ]
    },
    {
     "name": "stderr",
     "output_type": "stream",
     "text": [
      "INFO:li:scraper:('[Data Analyst][United States][427]', 'Processed')\n"
     ]
    },
    {
     "name": "stdout",
     "output_type": "stream",
     "text": [
      "[ON_DATA] Business Data Analyst full_time associate firstPRO 360  2954221304 https://www.linkedin.com/jobs/view/business-data-analyst-at-firstpro-360-2954221304?refId=aV7nBlh4%2Fs%2FzxtXIPYee2Q%3D%3D&trackingId=Zz3Rtj3UBsG%2BCBfpue5GeQ%3D%3D&position=8&pageNum=17&trk=public_jobs_jserp-result_search-card 1374\n"
     ]
    },
    {
     "name": "stderr",
     "output_type": "stream",
     "text": [
      "INFO:li:scraper:('[Data Analyst][United States][428]', 'Processed')\n"
     ]
    },
    {
     "name": "stdout",
     "output_type": "stream",
     "text": [
      "[ON_DATA] Population Health Data Analyst full_time associate Strategic HR Business Advisors  3268254491 https://www.linkedin.com/jobs/view/population-health-data-analyst-at-strategic-hr-business-advisors-3268254491?refId=aV7nBlh4%2Fs%2FzxtXIPYee2Q%3D%3D&trackingId=3wjQB9N5mjTaP02ulZvZMA%3D%3D&position=9&pageNum=17&trk=public_jobs_jserp-result_search-card 3065\n"
     ]
    },
    {
     "name": "stderr",
     "output_type": "stream",
     "text": [
      "INFO:li:scraper:('[Data Analyst][United States][429]', 'Processed')\n"
     ]
    },
    {
     "name": "stdout",
     "output_type": "stream",
     "text": [
      "[ON_DATA] Data Analyst I full_time associate Tarzana Treatment Centers  3247496801 https://www.linkedin.com/jobs/view/data-analyst-i-at-tarzana-treatment-centers-3247496801?refId=aV7nBlh4%2Fs%2FzxtXIPYee2Q%3D%3D&trackingId=omrigJXda9ThR0f83Y1Mdg%3D%3D&position=10&pageNum=17&trk=public_jobs_jserp-result_search-card 2105\n"
     ]
    },
    {
     "name": "stderr",
     "output_type": "stream",
     "text": [
      "INFO:li:scraper:('[Data Analyst][United States][430]', 'Processed')\n"
     ]
    },
    {
     "name": "stdout",
     "output_type": "stream",
     "text": [
      "[ON_DATA] Senior Data Analyst full_time associate Staff Financial Group  3264445820 https://www.linkedin.com/jobs/view/senior-data-analyst-at-staff-financial-group-3264445820?refId=aV7nBlh4%2Fs%2FzxtXIPYee2Q%3D%3D&trackingId=Wx%2BXUWP5Hks2qnIO%2F5T3cw%3D%3D&position=11&pageNum=17&trk=public_jobs_jserp-result_search-card 1762\n"
     ]
    },
    {
     "name": "stderr",
     "output_type": "stream",
     "text": [
      "INFO:li:scraper:('[Data Analyst][United States][431]', 'Processed')\n"
     ]
    },
    {
     "name": "stdout",
     "output_type": "stream",
     "text": [
      "[ON_DATA] Senior Data Analyst full_time associate Thrive Market  3231418284 https://www.linkedin.com/jobs/view/senior-data-analyst-at-thrive-market-3231418284?refId=aV7nBlh4%2Fs%2FzxtXIPYee2Q%3D%3D&trackingId=qWAgj8imR3ec1cyPD7yorA%3D%3D&position=12&pageNum=17&trk=public_jobs_jserp-result_search-card 7750\n"
     ]
    },
    {
     "name": "stderr",
     "output_type": "stream",
     "text": [
      "INFO:li:scraper:('[Data Analyst][United States][432]', 'Processed')\n"
     ]
    },
    {
     "name": "stdout",
     "output_type": "stream",
     "text": [
      "[ON_DATA] Business/Data Analyst - REMOTE full_time associate Explore Job Search  3230504159 https://www.linkedin.com/jobs/view/business-data-analyst-remote-at-explore-job-search-3230504159?refId=aV7nBlh4%2Fs%2FzxtXIPYee2Q%3D%3D&trackingId=pnpmiZegC%2FdhT6TJ0uBQ5A%3D%3D&position=13&pageNum=17&trk=public_jobs_jserp-result_search-card 7778\n"
     ]
    },
    {
     "name": "stderr",
     "output_type": "stream",
     "text": [
      "INFO:li:scraper:('[Data Analyst][United States][433]', 'Processed')\n"
     ]
    },
    {
     "name": "stdout",
     "output_type": "stream",
     "text": [
      "[ON_DATA] Senior Data Analyst full_time associate Walmart  3243191504 https://www.linkedin.com/jobs/view/senior-data-analyst-at-walmart-3243191504?refId=aV7nBlh4%2Fs%2FzxtXIPYee2Q%3D%3D&trackingId=6bdFxZeUizFu2L8ALtE7PQ%3D%3D&position=14&pageNum=17&trk=public_jobs_jserp-result_search-card 9063\n"
     ]
    },
    {
     "name": "stderr",
     "output_type": "stream",
     "text": [
      "INFO:li:scraper:('[Data Analyst][United States][434]', 'Processed')\n"
     ]
    },
    {
     "name": "stdout",
     "output_type": "stream",
     "text": [
      "[ON_DATA] Data Associate Analyst full_time associate CareFirst BlueCross BlueShield  3167925116 https://www.linkedin.com/jobs/view/data-associate-analyst-at-carefirst-bluecross-blueshield-3167925116?refId=aV7nBlh4%2Fs%2FzxtXIPYee2Q%3D%3D&trackingId=FVy%2Bdc0JdRqD4r5bKQNgrQ%3D%3D&position=15&pageNum=17&trk=public_jobs_jserp-result_search-card 6870\n"
     ]
    },
    {
     "name": "stderr",
     "output_type": "stream",
     "text": [
      "INFO:li:scraper:('[Data Analyst][United States][435]', 'Processed')\n"
     ]
    },
    {
     "name": "stdout",
     "output_type": "stream",
     "text": [
      "[ON_DATA] Data Analyst, Statistician full_time associate Moses Lake Industries  3272403698 https://www.linkedin.com/jobs/view/data-analyst-statistician-at-moses-lake-industries-3272403698?refId=aV7nBlh4%2Fs%2FzxtXIPYee2Q%3D%3D&trackingId=Zi6ZWT264G2gUzf%2F2qOuow%3D%3D&position=16&pageNum=17&trk=public_jobs_jserp-result_search-card 10241\n"
     ]
    },
    {
     "name": "stderr",
     "output_type": "stream",
     "text": [
      "INFO:li:scraper:('[Data Analyst][United States][436]', 'Processed')\n"
     ]
    },
    {
     "name": "stdout",
     "output_type": "stream",
     "text": [
      "[ON_DATA] Data Analyst 2 - Telecommute full_time associate Explore Job Search  3228376321 https://www.linkedin.com/jobs/view/data-analyst-2-telecommute-at-explore-job-search-3228376321?refId=aV7nBlh4%2Fs%2FzxtXIPYee2Q%3D%3D&trackingId=1d1p3V50T%2F05ZCwuD46J3A%3D%3D&position=17&pageNum=17&trk=public_jobs_jserp-result_search-card 7907\n"
     ]
    },
    {
     "name": "stderr",
     "output_type": "stream",
     "text": [
      "INFO:li:scraper:('[Data Analyst][United States][437]', 'Processed')\n"
     ]
    },
    {
     "name": "stdout",
     "output_type": "stream",
     "text": [
      "[ON_DATA] IS Business Data Analyst full_time associate Proven Recruiting  3223666492 https://www.linkedin.com/jobs/view/is-business-data-analyst-at-proven-recruiting-3223666492?refId=aV7nBlh4%2Fs%2FzxtXIPYee2Q%3D%3D&trackingId=Bp4WF0gKZJvY6A3pHFY7Jg%3D%3D&position=18&pageNum=17&trk=public_jobs_jserp-result_search-card 1872\n"
     ]
    },
    {
     "name": "stderr",
     "output_type": "stream",
     "text": [
      "INFO:li:scraper:('[Data Analyst][United States][438]', 'Processed')\n"
     ]
    },
    {
     "name": "stdout",
     "output_type": "stream",
     "text": [
      "[ON_DATA] Senior Data Analyst full_time associate Altice USA  3266281455 https://www.linkedin.com/jobs/view/senior-data-analyst-at-altice-usa-3266281455?refId=aV7nBlh4%2Fs%2FzxtXIPYee2Q%3D%3D&trackingId=nF%2FO9mkp%2BzHOfyi%2F2RAGjQ%3D%3D&position=19&pageNum=17&trk=public_jobs_jserp-result_search-card 3623\n"
     ]
    },
    {
     "name": "stderr",
     "output_type": "stream",
     "text": [
      "INFO:li:scraper:('[Data Analyst][United States][439]', 'Processed')\n"
     ]
    },
    {
     "name": "stdout",
     "output_type": "stream",
     "text": [
      "[ON_DATA] Data Analyst Co-Op full_time associate Emerson  3257834118 https://www.linkedin.com/jobs/view/data-analyst-co-op-at-emerson-3257834118?refId=aV7nBlh4%2Fs%2FzxtXIPYee2Q%3D%3D&trackingId=wF58eAo7vCWFunc3utyeZA%3D%3D&position=20&pageNum=17&trk=public_jobs_jserp-result_search-card 6049\n"
     ]
    },
    {
     "name": "stderr",
     "output_type": "stream",
     "text": [
      "INFO:li:scraper:('[Data Analyst][United States][440]', 'Processed')\n"
     ]
    },
    {
     "name": "stdout",
     "output_type": "stream",
     "text": [
      "[ON_DATA] Business Data Analyst - Junior full_time associate Staffigo  3230663054 https://www.linkedin.com/jobs/view/business-data-analyst-junior-at-staffigo-3230663054?refId=aV7nBlh4%2Fs%2FzxtXIPYee2Q%3D%3D&trackingId=c3kxFtOQdk0HEbbpNbrkKw%3D%3D&position=21&pageNum=17&trk=public_jobs_jserp-result_search-card 4980\n"
     ]
    },
    {
     "name": "stderr",
     "output_type": "stream",
     "text": [
      "INFO:li:scraper:('[Data Analyst][United States][441]', 'Processed')\n"
     ]
    },
    {
     "name": "stdout",
     "output_type": "stream",
     "text": [
      "[ON_DATA] Data Analyst Sr (level 3) full_time associate Lockheed Martin  3270671248 https://www.linkedin.com/jobs/view/data-analyst-sr-level-3-at-lockheed-martin-3270671248?refId=aV7nBlh4%2Fs%2FzxtXIPYee2Q%3D%3D&trackingId=XSGHUsfRW5Hox8JXRWes6A%3D%3D&position=22&pageNum=17&trk=public_jobs_jserp-result_search-card 1589\n"
     ]
    },
    {
     "name": "stderr",
     "output_type": "stream",
     "text": [
      "INFO:li:scraper:('[Data Analyst][United States][442]', 'Processed')\n"
     ]
    },
    {
     "name": "stdout",
     "output_type": "stream",
     "text": [
      "[ON_DATA] Healthcare Data Analyst III (Remote capable) full_time associate Geisinger  3269352383 https://www.linkedin.com/jobs/view/healthcare-data-analyst-iii-remote-capable-at-geisinger-3269352383?refId=aV7nBlh4%2Fs%2FzxtXIPYee2Q%3D%3D&trackingId=1Nj%2BhdpttPgb%2F2I8OXJYQw%3D%3D&position=23&pageNum=17&trk=public_jobs_jserp-result_search-card 4706\n"
     ]
    },
    {
     "name": "stderr",
     "output_type": "stream",
     "text": [
      "INFO:li:scraper:('[Data Analyst][United States][443]', 'Processed')\n"
     ]
    },
    {
     "name": "stdout",
     "output_type": "stream",
     "text": [
      "[ON_DATA] Financial Data Analyst full_time associate Blue Signal Search  3272440564 https://www.linkedin.com/jobs/view/financial-data-analyst-at-blue-signal-search-3272440564?refId=aV7nBlh4%2Fs%2FzxtXIPYee2Q%3D%3D&trackingId=zX616xHwDj%2Bw9THKMNmSmg%3D%3D&position=24&pageNum=17&trk=public_jobs_jserp-result_search-card 3003\n"
     ]
    },
    {
     "name": "stderr",
     "output_type": "stream",
     "text": [
      "INFO:li:scraper:('[Data Analyst][United States][444]', 'Processed')\n",
      "INFO:li:scraper:('[Data Analyst][United States][444]', 'Checking for new jobs to load...')\n"
     ]
    },
    {
     "name": "stdout",
     "output_type": "stream",
     "text": [
      "[ON_DATA] Data Analyst - Dictionary Management (HYBRID) full_time associate 605  3264579369 https://www.linkedin.com/jobs/view/data-analyst-dictionary-management-hybrid-at-605-3264579369?refId=aV7nBlh4%2Fs%2FzxtXIPYee2Q%3D%3D&trackingId=YF5LXGM9pQKFspxCoqo%2BPQ%3D%3D&position=25&pageNum=17&trk=public_jobs_jserp-result_search-card 5338\n"
     ]
    },
    {
     "name": "stderr",
     "output_type": "stream",
     "text": [
      "INFO:li:scraper:('[Data Analyst][United States][444]', 'Found 475 jobs')\n",
      "INFO:li:scraper:('[Data Analyst][United States][445]', 'Processed')\n"
     ]
    },
    {
     "name": "stdout",
     "output_type": "stream",
     "text": [
      "[ON_DATA] Staff Data Analyst, Consumer Product Analytics full_time associate Chime  3204389041 https://www.linkedin.com/jobs/view/staff-data-analyst-consumer-product-analytics-at-chime-3204389041?refId=22BxnUNDv5%2FC1xGzm2%2Bz%2FA%3D%3D&trackingId=bz3%2FyLWZ%2FCYdC6KjiFtnmw%3D%3D&position=1&pageNum=18&trk=public_jobs_jserp-result_search-card 4760\n"
     ]
    },
    {
     "name": "stderr",
     "output_type": "stream",
     "text": [
      "INFO:li:scraper:('[Data Analyst][United States][446]', 'Processed')\n"
     ]
    },
    {
     "name": "stdout",
     "output_type": "stream",
     "text": [
      "[ON_DATA] Analyst - New Grads (Data Analyst, SQL Client Consulting) Anticipated 2022 full_time associate Urban Science  3272185886 https://www.linkedin.com/jobs/view/analyst-new-grads-data-analyst-sql-client-consulting-anticipated-2022-at-urban-science-3272185886?refId=22BxnUNDv5%2FC1xGzm2%2Bz%2FA%3D%3D&trackingId=Q8MKYVXSK9nY2bAhreOhhA%3D%3D&position=2&pageNum=18&trk=public_jobs_jserp-result_search-card 5841\n"
     ]
    },
    {
     "name": "stderr",
     "output_type": "stream",
     "text": [
      "INFO:li:scraper:('[Data Analyst][United States][447]', 'Processed')\n"
     ]
    },
    {
     "name": "stdout",
     "output_type": "stream",
     "text": [
      "[ON_DATA] Healthcare Data Analyst full_time associate SoNE HEALTH  3262160429 https://www.linkedin.com/jobs/view/healthcare-data-analyst-at-sone-health-3262160429?refId=22BxnUNDv5%2FC1xGzm2%2Bz%2FA%3D%3D&trackingId=GBJ0ZewUxBukh2GOk95nSg%3D%3D&position=3&pageNum=18&trk=public_jobs_jserp-result_search-card 3605\n"
     ]
    },
    {
     "name": "stderr",
     "output_type": "stream",
     "text": [
      "INFO:li:scraper:('[Data Analyst][United States][448]', 'Processed')\n"
     ]
    },
    {
     "name": "stdout",
     "output_type": "stream",
     "text": [
      "[ON_DATA] Sr Data Analyst full_time associate Bank of America  3265586579 https://www.linkedin.com/jobs/view/sr-data-analyst-at-bank-of-america-3265586579?refId=22BxnUNDv5%2FC1xGzm2%2Bz%2FA%3D%3D&trackingId=XkBue9UEISSxc%2BvJgCxHDw%3D%3D&position=4&pageNum=18&trk=public_jobs_jserp-result_search-card 2738\n"
     ]
    },
    {
     "name": "stderr",
     "output_type": "stream",
     "text": [
      "INFO:li:scraper:('[Data Analyst][United States][449]', 'Processed')\n"
     ]
    },
    {
     "name": "stdout",
     "output_type": "stream",
     "text": [
      "[ON_DATA] Regulatory Data Analyst - Retail Energy full_time associate Primary Services  3267392319 https://www.linkedin.com/jobs/view/regulatory-data-analyst-retail-energy-at-primary-services-3267392319?refId=22BxnUNDv5%2FC1xGzm2%2Bz%2FA%3D%3D&trackingId=I58if65pxGS%2Fs%2BIUjBtjSg%3D%3D&position=5&pageNum=18&trk=public_jobs_jserp-result_search-card 1744\n"
     ]
    },
    {
     "name": "stderr",
     "output_type": "stream",
     "text": [
      "INFO:li:scraper:('[Data Analyst][United States][450]', 'Processed')\n"
     ]
    },
    {
     "name": "stdout",
     "output_type": "stream",
     "text": [
      "[ON_DATA] Data Analyst full_time associate RS&H  3238385701 https://www.linkedin.com/jobs/view/data-analyst-at-rs-h-3238385701?refId=22BxnUNDv5%2FC1xGzm2%2Bz%2FA%3D%3D&trackingId=XUyFaxWWyR5pjwwjjs2yQw%3D%3D&position=6&pageNum=18&trk=public_jobs_jserp-result_search-card 4521\n"
     ]
    },
    {
     "name": "stderr",
     "output_type": "stream",
     "text": [
      "INFO:li:scraper:('[Data Analyst][United States][451]', 'Processed')\n"
     ]
    },
    {
     "name": "stdout",
     "output_type": "stream",
     "text": [
      "[ON_DATA] Business Data Analyst full_time associate Rubicon  3228432640 https://www.linkedin.com/jobs/view/business-data-analyst-at-rubicon-3228432640?refId=22BxnUNDv5%2FC1xGzm2%2Bz%2FA%3D%3D&trackingId=rma%2B8yEJYTLcOoIDRNfTJg%3D%3D&position=7&pageNum=18&trk=public_jobs_jserp-result_search-card 3275\n"
     ]
    },
    {
     "name": "stderr",
     "output_type": "stream",
     "text": [
      "INFO:li:scraper:('[Data Analyst][United States][452]', 'Processed')\n"
     ]
    },
    {
     "name": "stdout",
     "output_type": "stream",
     "text": [
      "[ON_DATA] Sr Healthcare Data Analyst - Telecommute full_time associate Optum  3271923469 https://www.linkedin.com/jobs/view/sr-healthcare-data-analyst-telecommute-at-optum-3271923469?refId=22BxnUNDv5%2FC1xGzm2%2Bz%2FA%3D%3D&trackingId=j0w2PwnNvXet8P0%2FLNETGg%3D%3D&position=8&pageNum=18&trk=public_jobs_jserp-result_search-card 4955\n"
     ]
    },
    {
     "name": "stderr",
     "output_type": "stream",
     "text": [
      "INFO:li:scraper:('[Data Analyst][United States][453]', 'Processed')\n"
     ]
    },
    {
     "name": "stdout",
     "output_type": "stream",
     "text": [
      "[ON_DATA] Product Data Analyst full_time associate Perseus Group, Constellation Software  3213260496 https://www.linkedin.com/jobs/view/product-data-analyst-at-perseus-group-constellation-software-3213260496?refId=22BxnUNDv5%2FC1xGzm2%2Bz%2FA%3D%3D&trackingId=oAOn7tiVfsZkQcXoAWf11g%3D%3D&position=9&pageNum=18&trk=public_jobs_jserp-result_search-card 5434\n"
     ]
    },
    {
     "name": "stderr",
     "output_type": "stream",
     "text": [
      "INFO:li:scraper:('[Data Analyst][United States][454]', 'Processed')\n"
     ]
    },
    {
     "name": "stdout",
     "output_type": "stream",
     "text": [
      "[ON_DATA] Business Data Analyst full_time associate SAGE Publishing  3206130447 https://www.linkedin.com/jobs/view/business-data-analyst-at-sage-publishing-3206130447?refId=22BxnUNDv5%2FC1xGzm2%2Bz%2FA%3D%3D&trackingId=SLyZOOJGGwSTMez2EgmokA%3D%3D&position=10&pageNum=18&trk=public_jobs_jserp-result_search-card 4081\n"
     ]
    },
    {
     "name": "stderr",
     "output_type": "stream",
     "text": [
      "INFO:li:scraper:('[Data Analyst][United States][455]', 'Processed')\n"
     ]
    },
    {
     "name": "stdout",
     "output_type": "stream",
     "text": [
      "[ON_DATA] Associate Data Analyst full_time associate Jobs via eFinancialCareers  3273956154 https://www.linkedin.com/jobs/view/associate-data-analyst-at-jobs-via-efinancialcareers-3273956154?refId=22BxnUNDv5%2FC1xGzm2%2Bz%2FA%3D%3D&trackingId=zFijxsO1ttmTMYb6fjDRNw%3D%3D&position=11&pageNum=18&trk=public_jobs_jserp-result_search-card 3653\n"
     ]
    },
    {
     "name": "stderr",
     "output_type": "stream",
     "text": [
      "INFO:li:scraper:('[Data Analyst][United States][456]', 'Processed')\n"
     ]
    },
    {
     "name": "stdout",
     "output_type": "stream",
     "text": [
      "[ON_DATA] Sr Data Analyst full_time associate Bank of America  3265585699 https://www.linkedin.com/jobs/view/sr-data-analyst-at-bank-of-america-3265585699?refId=22BxnUNDv5%2FC1xGzm2%2Bz%2FA%3D%3D&trackingId=yReQbBUaEpa04i2tziQqzA%3D%3D&position=12&pageNum=18&trk=public_jobs_jserp-result_search-card 2738\n"
     ]
    },
    {
     "name": "stderr",
     "output_type": "stream",
     "text": [
      "INFO:li:scraper:('[Data Analyst][United States][457]', 'Processed')\n"
     ]
    },
    {
     "name": "stdout",
     "output_type": "stream",
     "text": [
      "[ON_DATA] Advanced Data Analyst full_time associate Wintrust Financial Corporation  3237175303 https://www.linkedin.com/jobs/view/advanced-data-analyst-at-wintrust-financial-corporation-3237175303?refId=22BxnUNDv5%2FC1xGzm2%2Bz%2FA%3D%3D&trackingId=h2E3HFMGyiITjRaR7bwaVg%3D%3D&position=13&pageNum=18&trk=public_jobs_jserp-result_search-card 6619\n"
     ]
    },
    {
     "name": "stderr",
     "output_type": "stream",
     "text": [
      "INFO:li:scraper:('[Data Analyst][United States][458]', 'Processed')\n"
     ]
    },
    {
     "name": "stdout",
     "output_type": "stream",
     "text": [
      "[ON_DATA] Business Data Analyst full_time associate DraftKings Inc.  3258117198 https://www.linkedin.com/jobs/view/business-data-analyst-at-draftkings-inc-3258117198?refId=22BxnUNDv5%2FC1xGzm2%2Bz%2FA%3D%3D&trackingId=RUSEiIVnr%2BbeCG4kSrFnVA%3D%3D&position=14&pageNum=18&trk=public_jobs_jserp-result_search-card 2628\n"
     ]
    },
    {
     "name": "stderr",
     "output_type": "stream",
     "text": [
      "INFO:li:scraper:('[Data Analyst][United States][459]', 'Processed')\n"
     ]
    },
    {
     "name": "stdout",
     "output_type": "stream",
     "text": [
      "[ON_DATA] Senior Data Analyst full_time associate East West Bank  3056110054 https://www.linkedin.com/jobs/view/senior-data-analyst-at-east-west-bank-3056110054?refId=22BxnUNDv5%2FC1xGzm2%2Bz%2FA%3D%3D&trackingId=NF0GtfENb7tNVWwpGJmjyQ%3D%3D&position=15&pageNum=18&trk=public_jobs_jserp-result_search-card 5112\n"
     ]
    },
    {
     "name": "stderr",
     "output_type": "stream",
     "text": [
      "INFO:li:scraper:('[Data Analyst][United States][460]', 'Processed')\n"
     ]
    },
    {
     "name": "stdout",
     "output_type": "stream",
     "text": [
      "[ON_DATA] Data Science & Analytics Analyst full_time associate Razorfish  3234959171 https://www.linkedin.com/jobs/view/data-science-analytics-analyst-at-razorfish-3234959171?refId=22BxnUNDv5%2FC1xGzm2%2Bz%2FA%3D%3D&trackingId=0qYWSMIZotoiw38l%2BxZK0A%3D%3D&position=16&pageNum=18&trk=public_jobs_jserp-result_search-card 4410\n"
     ]
    },
    {
     "name": "stderr",
     "output_type": "stream",
     "text": [
      "INFO:li:scraper:('[Data Analyst][United States][461]', 'Processed')\n"
     ]
    },
    {
     "name": "stdout",
     "output_type": "stream",
     "text": [
      "[ON_DATA] Customer Insights Data Analyst full_time associate Databook  3219164073 https://www.linkedin.com/jobs/view/customer-insights-data-analyst-at-databook-3219164073?refId=22BxnUNDv5%2FC1xGzm2%2Bz%2FA%3D%3D&trackingId=jHL85%2Fl7bGzdde4KP75HqQ%3D%3D&position=17&pageNum=18&trk=public_jobs_jserp-result_search-card 5744\n"
     ]
    },
    {
     "name": "stderr",
     "output_type": "stream",
     "text": [
      "INFO:li:scraper:('[Data Analyst][United States][462]', 'Processed')\n"
     ]
    },
    {
     "name": "stdout",
     "output_type": "stream",
     "text": [
      "[ON_DATA] Senior Data Analyst full_time associate Engtal  3260035315 https://www.linkedin.com/jobs/view/senior-data-analyst-at-engtal-3260035315?refId=22BxnUNDv5%2FC1xGzm2%2Bz%2FA%3D%3D&trackingId=iT1olBNg5r6OZLFHdpbwnw%3D%3D&position=18&pageNum=18&trk=public_jobs_jserp-result_search-card 6438\n"
     ]
    },
    {
     "name": "stderr",
     "output_type": "stream",
     "text": [
      "INFO:li:scraper:('[Data Analyst][United States][463]', 'Processed')\n"
     ]
    },
    {
     "name": "stdout",
     "output_type": "stream",
     "text": [
      "[ON_DATA] 2023 Wells Fargo Analytics & Data Analyst Program full_time associate Wells Fargo  3269074215 https://www.linkedin.com/jobs/view/2023-wells-fargo-analytics-data-analyst-program-at-wells-fargo-3269074215?refId=22BxnUNDv5%2FC1xGzm2%2Bz%2FA%3D%3D&trackingId=oohpf02d%2F4x1LfnNXJ1nvQ%3D%3D&position=19&pageNum=18&trk=public_jobs_jserp-result_search-card 6589\n"
     ]
    },
    {
     "name": "stderr",
     "output_type": "stream",
     "text": [
      "INFO:li:scraper:('[Data Analyst][United States][464]', 'Processed')\n"
     ]
    },
    {
     "name": "stdout",
     "output_type": "stream",
     "text": [
      "[ON_DATA] Data Analyst-DTS/IT full_time associate Hackensack Meridian Health  3262292822 https://www.linkedin.com/jobs/view/data-analyst-dts-it-at-hackensack-meridian-health-3262292822?refId=22BxnUNDv5%2FC1xGzm2%2Bz%2FA%3D%3D&trackingId=ZESarecRKcgTX%2FVnyvnSHQ%3D%3D&position=20&pageNum=18&trk=public_jobs_jserp-result_search-card 3341\n"
     ]
    },
    {
     "name": "stderr",
     "output_type": "stream",
     "text": [
      "INFO:li:scraper:('[Data Analyst][United States][465]', 'Processed')\n"
     ]
    },
    {
     "name": "stdout",
     "output_type": "stream",
     "text": [
      "[ON_DATA] Health Research Data Analyst I full_time associate Moffitt Cancer Center  3263339605 https://www.linkedin.com/jobs/view/health-research-data-analyst-i-at-moffitt-cancer-center-3263339605?refId=22BxnUNDv5%2FC1xGzm2%2Bz%2FA%3D%3D&trackingId=0spbiKp%2F%2FWtWVGSrVjnFnA%3D%3D&position=21&pageNum=18&trk=public_jobs_jserp-result_search-card 4282\n"
     ]
    },
    {
     "name": "stderr",
     "output_type": "stream",
     "text": [
      "INFO:li:scraper:('[Data Analyst][United States][466]', 'Processed')\n"
     ]
    },
    {
     "name": "stdout",
     "output_type": "stream",
     "text": [
      "[ON_DATA] DATA ANALYST full_time associate Solomon Associates  3236861077 https://www.linkedin.com/jobs/view/data-analyst-at-solomon-associates-3236861077?refId=22BxnUNDv5%2FC1xGzm2%2Bz%2FA%3D%3D&trackingId=u5i5vJfhKGR3aDKqUJcjaw%3D%3D&position=22&pageNum=18&trk=public_jobs_jserp-result_search-card 4296\n"
     ]
    },
    {
     "name": "stderr",
     "output_type": "stream",
     "text": [
      "INFO:li:scraper:('[Data Analyst][United States][467]', 'Processed')\n"
     ]
    },
    {
     "name": "stdout",
     "output_type": "stream",
     "text": [
      "[ON_DATA] Data Analyst Systems Engineer New Grad (Remote) full_time associate L3Harris Technologies  3249925595 https://www.linkedin.com/jobs/view/data-analyst-systems-engineer-new-grad-remote-at-l3harris-technologies-3249925595?refId=22BxnUNDv5%2FC1xGzm2%2Bz%2FA%3D%3D&trackingId=IgrY1erMVMQHlV17E913pQ%3D%3D&position=23&pageNum=18&trk=public_jobs_jserp-result_search-card 2565\n"
     ]
    },
    {
     "name": "stderr",
     "output_type": "stream",
     "text": [
      "INFO:li:scraper:('[Data Analyst][United States][468]', 'Processed')\n"
     ]
    },
    {
     "name": "stdout",
     "output_type": "stream",
     "text": [
      "[ON_DATA] Education Data Analyst II full_time associate State of Vermont  3266201264 https://www.linkedin.com/jobs/view/education-data-analyst-ii-at-state-of-vermont-3266201264?refId=22BxnUNDv5%2FC1xGzm2%2Bz%2FA%3D%3D&trackingId=1DI6GVJzOoozixh8Fua%2FQg%3D%3D&position=24&pageNum=18&trk=public_jobs_jserp-result_search-card 7225\n"
     ]
    },
    {
     "name": "stderr",
     "output_type": "stream",
     "text": [
      "INFO:li:scraper:('[Data Analyst][United States][469]', 'Processed')\n",
      "INFO:li:scraper:('[Data Analyst][United States][469]', 'Checking for new jobs to load...')\n"
     ]
    },
    {
     "name": "stdout",
     "output_type": "stream",
     "text": [
      "[ON_DATA] Data Science & Analytics Analyst full_time associate Razorfish  3268345916 https://www.linkedin.com/jobs/view/data-science-analytics-analyst-at-razorfish-3268345916?refId=22BxnUNDv5%2FC1xGzm2%2Bz%2FA%3D%3D&trackingId=NeXREfB2EZhv3NraYiLXzQ%3D%3D&position=25&pageNum=18&trk=public_jobs_jserp-result_search-card 4410\n"
     ]
    },
    {
     "name": "stderr",
     "output_type": "stream",
     "text": [
      "INFO:li:scraper:('[Data Analyst][United States][469]', 'Found 500 jobs')\n",
      "INFO:li:scraper:('[Data Analyst][United States][470]', 'Processed')\n"
     ]
    },
    {
     "name": "stdout",
     "output_type": "stream",
     "text": [
      "[ON_DATA] Data Analyst I full_time associate JT4  3272274761 https://www.linkedin.com/jobs/view/data-analyst-i-at-jt4-3272274761?refId=fa8Q0fm4us%2B0fba%2Ft6zE1Q%3D%3D&trackingId=w71CQFVKC1X3rBFWJzkCRg%3D%3D&position=1&pageNum=19&trk=public_jobs_jserp-result_search-card 3672\n"
     ]
    },
    {
     "name": "stderr",
     "output_type": "stream",
     "text": [
      "INFO:li:scraper:('[Data Analyst][United States][471]', 'Processed')\n"
     ]
    },
    {
     "name": "stdout",
     "output_type": "stream",
     "text": [
      "[ON_DATA] Business Data Analyst full_time associate DraftKings Inc.  3258118003 https://www.linkedin.com/jobs/view/business-data-analyst-at-draftkings-inc-3258118003?refId=fa8Q0fm4us%2B0fba%2Ft6zE1Q%3D%3D&trackingId=yn%2F7kZ%2Bl%2BjRpqblhleQddg%3D%3D&position=2&pageNum=19&trk=public_jobs_jserp-result_search-card 2561\n"
     ]
    },
    {
     "name": "stderr",
     "output_type": "stream",
     "text": [
      "INFO:li:scraper:('[Data Analyst][United States][472]', 'Processed')\n"
     ]
    },
    {
     "name": "stdout",
     "output_type": "stream",
     "text": [
      "[ON_DATA] Data Analyst full_time associate Colorado Christian University  3228193280 https://www.linkedin.com/jobs/view/data-analyst-at-colorado-christian-university-3228193280?refId=fa8Q0fm4us%2B0fba%2Ft6zE1Q%3D%3D&trackingId=gwUs8Eol27%2FFzdCH6YJf%2Bg%3D%3D&position=3&pageNum=19&trk=public_jobs_jserp-result_search-card 7585\n"
     ]
    },
    {
     "name": "stderr",
     "output_type": "stream",
     "text": [
      "INFO:li:scraper:('[Data Analyst][United States][473]', 'Processed')\n"
     ]
    },
    {
     "name": "stdout",
     "output_type": "stream",
     "text": [
      "[ON_DATA] Senior Data Analyst full_time associate Capital One  3268614918 https://www.linkedin.com/jobs/view/senior-data-analyst-at-capital-one-3268614918?refId=fa8Q0fm4us%2B0fba%2Ft6zE1Q%3D%3D&trackingId=n02jVHWQ1a4vp0B4dBHBQA%3D%3D&position=4&pageNum=19&trk=public_jobs_jserp-result_search-card 5254\n"
     ]
    },
    {
     "name": "stderr",
     "output_type": "stream",
     "text": [
      "INFO:li:scraper:('[Data Analyst][United States][474]', 'Processed')\n"
     ]
    },
    {
     "name": "stdout",
     "output_type": "stream",
     "text": [
      "[ON_DATA] Sr. Data Analyst full_time associate Blue Cross Blue Shield of Massachusetts  3271079760 https://www.linkedin.com/jobs/view/sr-data-analyst-at-blue-cross-blue-shield-of-massachusetts-3271079760?refId=fa8Q0fm4us%2B0fba%2Ft6zE1Q%3D%3D&trackingId=opoiwQbEH5TMx8c%2FXKLy4A%3D%3D&position=5&pageNum=19&trk=public_jobs_jserp-result_search-card 3201\n"
     ]
    },
    {
     "name": "stderr",
     "output_type": "stream",
     "text": [
      "INFO:li:scraper:('[Data Analyst][United States][475]', 'Processed')\n"
     ]
    },
    {
     "name": "stdout",
     "output_type": "stream",
     "text": [
      "[ON_DATA] Research Data Analyst full_time associate The Johns Hopkins University  3245508628 https://www.linkedin.com/jobs/view/research-data-analyst-at-the-johns-hopkins-university-3245508628?refId=fa8Q0fm4us%2B0fba%2Ft6zE1Q%3D%3D&trackingId=wCuuoP55mUzt5GmO5ZmeQg%3D%3D&position=6&pageNum=19&trk=public_jobs_jserp-result_search-card 7981\n"
     ]
    },
    {
     "name": "stderr",
     "output_type": "stream",
     "text": [
      "INFO:li:scraper:('[Data Analyst][United States][476]', 'Processed')\n"
     ]
    },
    {
     "name": "stdout",
     "output_type": "stream",
     "text": [
      "[ON_DATA] Data Analyst (Advanced Excel Knowledge a Plus) full_time associate PVH Corp.  3026232940 https://www.linkedin.com/jobs/view/data-analyst-advanced-excel-knowledge-a-plus-at-pvh-corp-3026232940?refId=fa8Q0fm4us%2B0fba%2Ft6zE1Q%3D%3D&trackingId=LgliB3iBFvC3tpLh2Kubvw%3D%3D&position=7&pageNum=19&trk=public_jobs_jserp-result_search-card 3864\n"
     ]
    },
    {
     "name": "stderr",
     "output_type": "stream",
     "text": [
      "INFO:li:scraper:('[Data Analyst][United States][477]', 'Processed')\n"
     ]
    },
    {
     "name": "stdout",
     "output_type": "stream",
     "text": [
      "[ON_DATA] Data Analyst/ETL Developer full_time associate Certus Solutions LLC  3197388654 https://www.linkedin.com/jobs/view/data-analyst-etl-developer-at-certus-solutions-llc-3197388654?refId=fa8Q0fm4us%2B0fba%2Ft6zE1Q%3D%3D&trackingId=aTP41ZNeI3H%2FNqfk8blX%2BQ%3D%3D&position=8&pageNum=19&trk=public_jobs_jserp-result_search-card 4527\n"
     ]
    },
    {
     "name": "stderr",
     "output_type": "stream",
     "text": [
      "INFO:li:scraper:('[Data Analyst][United States][478]', 'Processed')\n"
     ]
    },
    {
     "name": "stdout",
     "output_type": "stream",
     "text": [
      "[ON_DATA] Metric & Data Analyst (Level 2) full_time associate Explore Job Search  3263334736 https://www.linkedin.com/jobs/view/metric-data-analyst-level-2-at-explore-job-search-3263334736?refId=fa8Q0fm4us%2B0fba%2Ft6zE1Q%3D%3D&trackingId=ppQk%2BL8BMTTCErYtH5HWJQ%3D%3D&position=9&pageNum=19&trk=public_jobs_jserp-result_search-card 1496\n"
     ]
    },
    {
     "name": "stderr",
     "output_type": "stream",
     "text": [
      "INFO:li:scraper:('[Data Analyst][United States][479]', 'Processed')\n"
     ]
    },
    {
     "name": "stdout",
     "output_type": "stream",
     "text": [
      "[ON_DATA] Sr. Data Analyst full_time associate Bank of America  3257523387 https://www.linkedin.com/jobs/view/sr-data-analyst-at-bank-of-america-3257523387?refId=fa8Q0fm4us%2B0fba%2Ft6zE1Q%3D%3D&trackingId=Vyt5zLV4401DRS2MAAxKcg%3D%3D&position=10&pageNum=19&trk=public_jobs_jserp-result_search-card 1431\n"
     ]
    },
    {
     "name": "stderr",
     "output_type": "stream",
     "text": [
      "INFO:li:scraper:('[Data Analyst][United States][480]', 'Processed')\n"
     ]
    },
    {
     "name": "stdout",
     "output_type": "stream",
     "text": [
      "[ON_DATA] Sr. Data Analyst full_time associate Bank of America  3257522455 https://www.linkedin.com/jobs/view/sr-data-analyst-at-bank-of-america-3257522455?refId=fa8Q0fm4us%2B0fba%2Ft6zE1Q%3D%3D&trackingId=2UGj1hcyR6Hra3DLPdciPQ%3D%3D&position=11&pageNum=19&trk=public_jobs_jserp-result_search-card 1432\n"
     ]
    },
    {
     "name": "stderr",
     "output_type": "stream",
     "text": [
      "INFO:li:scraper:('[Data Analyst][United States][481]', 'Processed')\n"
     ]
    },
    {
     "name": "stdout",
     "output_type": "stream",
     "text": [
      "[ON_DATA] Senior Data Analyst - Telecommute full_time associate Optum  3244821085 https://www.linkedin.com/jobs/view/senior-data-analyst-telecommute-at-optum-3244821085?refId=fa8Q0fm4us%2B0fba%2Ft6zE1Q%3D%3D&trackingId=ts6axuJh8Ot10dWBkGhq8A%3D%3D&position=12&pageNum=19&trk=public_jobs_jserp-result_search-card 6901\n"
     ]
    },
    {
     "name": "stderr",
     "output_type": "stream",
     "text": [
      "INFO:li:scraper:('[Data Analyst][United States][482]', 'Processed')\n"
     ]
    },
    {
     "name": "stdout",
     "output_type": "stream",
     "text": [
      "[ON_DATA] Senior Data Analyst full_time associate Capital One  3259938640 https://www.linkedin.com/jobs/view/senior-data-analyst-at-capital-one-3259938640?refId=fa8Q0fm4us%2B0fba%2Ft6zE1Q%3D%3D&trackingId=8YU0BEaBNonyivv7vnBgpg%3D%3D&position=13&pageNum=19&trk=public_jobs_jserp-result_search-card 5258\n"
     ]
    },
    {
     "name": "stderr",
     "output_type": "stream",
     "text": [
      "INFO:li:scraper:('[Data Analyst][United States][483]', 'Processed')\n"
     ]
    },
    {
     "name": "stdout",
     "output_type": "stream",
     "text": [
      "[ON_DATA] Data Analyst 3 - Fraud Strategy - Remote full_time associate Nordstrom  3266832128 https://www.linkedin.com/jobs/view/data-analyst-3-fraud-strategy-remote-at-nordstrom-3266832128?refId=fa8Q0fm4us%2B0fba%2Ft6zE1Q%3D%3D&trackingId=RBTFGo7P2qkAB9P%2FXjTXOg%3D%3D&position=14&pageNum=19&trk=public_jobs_jserp-result_search-card 4206\n"
     ]
    },
    {
     "name": "stderr",
     "output_type": "stream",
     "text": [
      "INFO:li:scraper:('[Data Analyst][United States][484]', 'Processed')\n"
     ]
    },
    {
     "name": "stdout",
     "output_type": "stream",
     "text": [
      "[ON_DATA] Data Analyst I - Enterprise Data Strategy & Governance full_time associate Credit One Bank  3251163670 https://www.linkedin.com/jobs/view/data-analyst-i-enterprise-data-strategy-governance-at-credit-one-bank-3251163670?refId=fa8Q0fm4us%2B0fba%2Ft6zE1Q%3D%3D&trackingId=wUedDglZzqaXEgHHvgwsNg%3D%3D&position=15&pageNum=19&trk=public_jobs_jserp-result_search-card 5457\n"
     ]
    },
    {
     "name": "stderr",
     "output_type": "stream",
     "text": [
      "INFO:li:scraper:('[Data Analyst][United States][485]', 'Processed')\n"
     ]
    },
    {
     "name": "stdout",
     "output_type": "stream",
     "text": [
      "[ON_DATA] Business Data Analyst full_time associate Kelly  3267403737 https://www.linkedin.com/jobs/view/business-data-analyst-at-kelly-3267403737?refId=fa8Q0fm4us%2B0fba%2Ft6zE1Q%3D%3D&trackingId=2EhxjRekAhBpllST7s3tig%3D%3D&position=16&pageNum=19&trk=public_jobs_jserp-result_search-card 3134\n"
     ]
    },
    {
     "name": "stderr",
     "output_type": "stream",
     "text": [
      "INFO:li:scraper:('[Data Analyst][United States][486]', 'Processed')\n"
     ]
    },
    {
     "name": "stdout",
     "output_type": "stream",
     "text": [
      "[ON_DATA] Senior Data Analyst - KS full_time associate Staff Financial Group  3264450000 https://www.linkedin.com/jobs/view/senior-data-analyst-ks-at-staff-financial-group-3264450000?refId=fa8Q0fm4us%2B0fba%2Ft6zE1Q%3D%3D&trackingId=QieJ2c8DxsjH82N%2FRlTDzw%3D%3D&position=17&pageNum=19&trk=public_jobs_jserp-result_search-card 2321\n"
     ]
    },
    {
     "name": "stderr",
     "output_type": "stream",
     "text": [
      "INFO:li:scraper:('[Data Analyst][United States][487]', 'Processed')\n"
     ]
    },
    {
     "name": "stdout",
     "output_type": "stream",
     "text": [
      "[ON_DATA] Senior Data Analyst full_time associate Snowflake  3251054080 https://www.linkedin.com/jobs/view/senior-data-analyst-at-snowflake-3251054080?refId=fa8Q0fm4us%2B0fba%2Ft6zE1Q%3D%3D&trackingId=FiHNgfRX%2Br%2BVvkMuzg%2B32g%3D%3D&position=18&pageNum=19&trk=public_jobs_jserp-result_search-card 2754\n"
     ]
    },
    {
     "name": "stderr",
     "output_type": "stream",
     "text": [
      "INFO:li:scraper:('[Data Analyst][United States][488]', 'Processed')\n"
     ]
    },
    {
     "name": "stdout",
     "output_type": "stream",
     "text": [
      "[ON_DATA] Fraud Data Analyst full_time associate Continental Finance Company  3266501391 https://www.linkedin.com/jobs/view/fraud-data-analyst-at-continental-finance-company-3266501391?refId=fa8Q0fm4us%2B0fba%2Ft6zE1Q%3D%3D&trackingId=FlyORv%2BXF4NZdPg%2Fa3De7Q%3D%3D&position=19&pageNum=19&trk=public_jobs_jserp-result_search-card 4481\n"
     ]
    },
    {
     "name": "stderr",
     "output_type": "stream",
     "text": [
      "INFO:li:scraper:('[Data Analyst][United States][489]', 'Processed')\n"
     ]
    },
    {
     "name": "stdout",
     "output_type": "stream",
     "text": [
      "[ON_DATA] Data Analyst full_time associate The Bernard Group, Inc.  3270604952 https://www.linkedin.com/jobs/view/data-analyst-at-the-bernard-group-inc-3270604952?refId=fa8Q0fm4us%2B0fba%2Ft6zE1Q%3D%3D&trackingId=PLdWimIs%2FimnSaIC5lw3bw%3D%3D&position=20&pageNum=19&trk=public_jobs_jserp-result_search-card 4719\n"
     ]
    },
    {
     "name": "stderr",
     "output_type": "stream",
     "text": [
      "INFO:li:scraper:('[Data Analyst][United States][490]', 'Processed')\n"
     ]
    },
    {
     "name": "stdout",
     "output_type": "stream",
     "text": [
      "[ON_DATA] Research Data Analyst full_time associate CBRE  3268131759 https://www.linkedin.com/jobs/view/research-data-analyst-at-cbre-3268131759?refId=fa8Q0fm4us%2B0fba%2Ft6zE1Q%3D%3D&trackingId=sqEZ891UdxB%2Bs217AaxVzA%3D%3D&position=21&pageNum=19&trk=public_jobs_jserp-result_search-card 3609\n"
     ]
    },
    {
     "name": "stderr",
     "output_type": "stream",
     "text": [
      "INFO:li:scraper:('[Data Analyst][United States][491]', 'Processed')\n"
     ]
    },
    {
     "name": "stdout",
     "output_type": "stream",
     "text": [
      "[ON_DATA] Data Analyst I full_time associate Explore Job Search  3258317975 https://www.linkedin.com/jobs/view/data-analyst-i-at-explore-job-search-3258317975?refId=fa8Q0fm4us%2B0fba%2Ft6zE1Q%3D%3D&trackingId=I1rRoKZpK8D1rsc4pqjx%2Bw%3D%3D&position=22&pageNum=19&trk=public_jobs_jserp-result_search-card 5302\n"
     ]
    },
    {
     "name": "stderr",
     "output_type": "stream",
     "text": [
      "INFO:li:scraper:('[Data Analyst][United States][492]', 'Processed')\n"
     ]
    },
    {
     "name": "stdout",
     "output_type": "stream",
     "text": [
      "[ON_DATA] _Data Analyst - I full_time associate SPECTRAFORCE  3268392767 https://www.linkedin.com/jobs/view/data-analyst-i-at-spectraforce-3268392767?refId=fa8Q0fm4us%2B0fba%2Ft6zE1Q%3D%3D&trackingId=RQTvAOdVPhEfasAJzspOew%3D%3D&position=23&pageNum=19&trk=public_jobs_jserp-result_search-card 2059\n"
     ]
    },
    {
     "name": "stderr",
     "output_type": "stream",
     "text": [
      "INFO:li:scraper:('[Data Analyst][United States][493]', 'Processed')\n"
     ]
    },
    {
     "name": "stdout",
     "output_type": "stream",
     "text": [
      "[ON_DATA] Business Data Analyst - Data Infrastructure full_time associate TuSimple  3085871791 https://www.linkedin.com/jobs/view/business-data-analyst-data-infrastructure-at-tusimple-3085871791?refId=fa8Q0fm4us%2B0fba%2Ft6zE1Q%3D%3D&trackingId=ygn9iEZD7nMON1mM%2BfDi3g%3D%3D&position=24&pageNum=19&trk=public_jobs_jserp-result_search-card 3398\n"
     ]
    },
    {
     "name": "stderr",
     "output_type": "stream",
     "text": [
      "INFO:li:scraper:('[Data Analyst][United States][494]', 'Processed')\n",
      "INFO:li:scraper:('[Data Analyst][United States][494]', 'Checking for new jobs to load...')\n"
     ]
    },
    {
     "name": "stdout",
     "output_type": "stream",
     "text": [
      "[ON_DATA] Business Data Analyst full_time associate Compunnel Inc.  3273930770 https://www.linkedin.com/jobs/view/business-data-analyst-at-compunnel-inc-3273930770?refId=fa8Q0fm4us%2B0fba%2Ft6zE1Q%3D%3D&trackingId=z%2BmfonuDD4bcJqh4wJUQCw%3D%3D&position=25&pageNum=19&trk=public_jobs_jserp-result_search-card 3125\n"
     ]
    },
    {
     "name": "stderr",
     "output_type": "stream",
     "text": [
      "INFO:li:scraper:('[Data Analyst][United States][494]', 'Found 525 jobs')\n",
      "INFO:li:scraper:('[Data Analyst][United States][495]', 'Processed')\n"
     ]
    },
    {
     "name": "stdout",
     "output_type": "stream",
     "text": [
      "[ON_DATA] Data Analyst (Company Data Enrichment) full_time associate Avison Young | US  3220822902 https://www.linkedin.com/jobs/view/data-analyst-company-data-enrichment-at-avison-young-us-3220822902?refId=cxf1UIe1zATGd2kCMknLLQ%3D%3D&trackingId=0K0cGiuIt7LMq7JiZDMx5A%3D%3D&position=1&pageNum=20&trk=public_jobs_jserp-result_search-card 5606\n"
     ]
    },
    {
     "name": "stderr",
     "output_type": "stream",
     "text": [
      "INFO:li:scraper:('[Data Analyst][United States][496]', 'Processed')\n"
     ]
    },
    {
     "name": "stdout",
     "output_type": "stream",
     "text": [
      "[ON_DATA] Jr. Data Analyst full_time associate WSP USA  3197956904 https://www.linkedin.com/jobs/view/jr-data-analyst-at-wsp-usa-3197956904?refId=cxf1UIe1zATGd2kCMknLLQ%3D%3D&trackingId=%2BJd633d9oKCTzNYoq1rspA%3D%3D&position=2&pageNum=20&trk=public_jobs_jserp-result_search-card 4189\n"
     ]
    },
    {
     "name": "stderr",
     "output_type": "stream",
     "text": [
      "INFO:li:scraper:('[Data Analyst][United States][497]', 'Processed')\n"
     ]
    },
    {
     "name": "stdout",
     "output_type": "stream",
     "text": [
      "[ON_DATA] Healthcare Information& Data Analyst II full_time associate Kelsey-Seybold Clinic  3272241158 https://www.linkedin.com/jobs/view/healthcare-information-data-analyst-ii-at-kelsey-seybold-clinic-3272241158?refId=cxf1UIe1zATGd2kCMknLLQ%3D%3D&trackingId=4ny4h5sgXXZ3bVFkzVY9vA%3D%3D&position=3&pageNum=20&trk=public_jobs_jserp-result_search-card 4733\n"
     ]
    },
    {
     "name": "stderr",
     "output_type": "stream",
     "text": [
      "INFO:li:scraper:('[Data Analyst][United States][498]', 'Processed')\n"
     ]
    },
    {
     "name": "stdout",
     "output_type": "stream",
     "text": [
      "[ON_DATA] Business/Data Analyst - REMOTE full_time associate Explore Job Search  3226933265 https://www.linkedin.com/jobs/view/business-data-analyst-remote-at-explore-job-search-3226933265?refId=cxf1UIe1zATGd2kCMknLLQ%3D%3D&trackingId=sBFnytscI74JyKL3KAAhzQ%3D%3D&position=4&pageNum=20&trk=public_jobs_jserp-result_search-card 7778\n"
     ]
    },
    {
     "name": "stderr",
     "output_type": "stream",
     "text": [
      "INFO:li:scraper:('[Data Analyst][United States][499]', 'Processed')\n"
     ]
    },
    {
     "name": "stdout",
     "output_type": "stream",
     "text": [
      "[ON_DATA] Senior Data Analyst I full_time associate Cambium Assessment  3244868332 https://www.linkedin.com/jobs/view/senior-data-analyst-i-at-cambium-assessment-3244868332?refId=cxf1UIe1zATGd2kCMknLLQ%3D%3D&trackingId=nunfSUZgv0A0ArN3qYKWzQ%3D%3D&position=5&pageNum=20&trk=public_jobs_jserp-result_search-card 3249\n"
     ]
    },
    {
     "name": "stderr",
     "output_type": "stream",
     "text": [
      "INFO:li:scraper:('[Data Analyst][United States][500]', 'Processed')\n"
     ]
    },
    {
     "name": "stdout",
     "output_type": "stream",
     "text": [
      "[ON_DATA] Senior Data Analyst full_time associate Oracle  3266366977 https://www.linkedin.com/jobs/view/senior-data-analyst-at-oracle-3266366977?refId=cxf1UIe1zATGd2kCMknLLQ%3D%3D&trackingId=dTzBfin5ZJNwNb%2Fuq%2F%2Becw%3D%3D&position=6&pageNum=20&trk=public_jobs_jserp-result_search-card 7171\n"
     ]
    },
    {
     "name": "stderr",
     "output_type": "stream",
     "text": [
      "INFO:li:scraper:('[Data Analyst][United States][501]', 'Processed')\n"
     ]
    },
    {
     "name": "stdout",
     "output_type": "stream",
     "text": [
      "[ON_DATA] Data Analyst full_time associate SECURA Insurance  3250826321 https://www.linkedin.com/jobs/view/data-analyst-at-secura-insurance-3250826321?refId=cxf1UIe1zATGd2kCMknLLQ%3D%3D&trackingId=iEhfxXg%2FV7fH1ykS6qubFg%3D%3D&position=7&pageNum=20&trk=public_jobs_jserp-result_search-card 2292\n"
     ]
    },
    {
     "name": "stderr",
     "output_type": "stream",
     "text": [
      "INFO:li:scraper:('[Data Analyst][United States][502]', 'Processed')\n"
     ]
    },
    {
     "name": "stdout",
     "output_type": "stream",
     "text": [
      "[ON_DATA] Data Analyst full_time associate Ogletree Deakins  2995212024 https://www.linkedin.com/jobs/view/data-analyst-at-ogletree-deakins-2995212024?refId=cxf1UIe1zATGd2kCMknLLQ%3D%3D&trackingId=3lJ0U2srKWme9LdyAm4Kwg%3D%3D&position=8&pageNum=20&trk=public_jobs_jserp-result_search-card 4586\n"
     ]
    },
    {
     "name": "stderr",
     "output_type": "stream",
     "text": [
      "INFO:li:scraper:('[Data Analyst][United States][503]', 'Processed')\n"
     ]
    },
    {
     "name": "stdout",
     "output_type": "stream",
     "text": [
      "[ON_DATA] Marketing Data Analyst full_time associate FullDeck  3265645398 https://www.linkedin.com/jobs/view/marketing-data-analyst-at-fulldeck-3265645398?refId=cxf1UIe1zATGd2kCMknLLQ%3D%3D&trackingId=CYrrYhRC691rHiQuBlUSjg%3D%3D&position=9&pageNum=20&trk=public_jobs_jserp-result_search-card 2121\n"
     ]
    },
    {
     "name": "stderr",
     "output_type": "stream",
     "text": [
      "INFO:li:scraper:('[Data Analyst][United States][504]', 'Processed')\n"
     ]
    },
    {
     "name": "stdout",
     "output_type": "stream",
     "text": [
      "[ON_DATA] Data Analyst - Talent Branding and Engagement full_time associate McKinsey & Company  3050729689 https://www.linkedin.com/jobs/view/data-analyst-talent-branding-and-engagement-at-mckinsey-company-3050729689?refId=cxf1UIe1zATGd2kCMknLLQ%3D%3D&trackingId=PZpap5%2FJyonUBAMoYdz4dw%3D%3D&position=10&pageNum=20&trk=public_jobs_jserp-result_search-card 2476\n"
     ]
    },
    {
     "name": "stderr",
     "output_type": "stream",
     "text": [
      "INFO:li:scraper:('[Data Analyst][United States][505]', 'Processed')\n"
     ]
    },
    {
     "name": "stdout",
     "output_type": "stream",
     "text": [
      "[ON_DATA] Senior Data Analyst full_time associate Rokt  3171000797 https://www.linkedin.com/jobs/view/senior-data-analyst-at-rokt-3171000797?refId=cxf1UIe1zATGd2kCMknLLQ%3D%3D&trackingId=IqXKBjrPSX2g1CXUxuwIPw%3D%3D&position=11&pageNum=20&trk=public_jobs_jserp-result_search-card 7993\n"
     ]
    },
    {
     "name": "stderr",
     "output_type": "stream",
     "text": [
      "WARNING:li:scraper:('[Data Analyst][United States]', '[429] Too many requests', 'You should probably increase scraper \"slow_mo\" value or reduce concurrency')\n",
      "WARNING:li:scraper:('[Data Analyst][United States]', '[429] Too many requests', 'You should probably increase scraper \"slow_mo\" value or reduce concurrency')\n",
      "ERROR:li:scraper:('[Data Analyst][United States][506]', 'Timeout on loading job details')\n",
      "NoneType: None\n",
      "INFO:li:scraper:('[Data Analyst][United States][506]', 'Processed')\n"
     ]
    },
    {
     "name": "stdout",
     "output_type": "stream",
     "text": [
      "[ON_DATA] Public Health Data Analyst full_time associate Altarum  3256993185 https://www.linkedin.com/jobs/view/public-health-data-analyst-at-altarum-3256993185?refId=cxf1UIe1zATGd2kCMknLLQ%3D%3D&trackingId=cT4V0qWyd3g%2F8cdQXYm0hA%3D%3D&position=13&pageNum=20&trk=public_jobs_jserp-result_search-card 4800\n"
     ]
    },
    {
     "name": "stderr",
     "output_type": "stream",
     "text": [
      "INFO:li:scraper:('[Data Analyst][United States][507]', 'Processed')\n"
     ]
    },
    {
     "name": "stdout",
     "output_type": "stream",
     "text": [
      "[ON_DATA] Data Analyst full_time associate RS&H  3178756613 https://www.linkedin.com/jobs/view/data-analyst-at-rs-h-3178756613?refId=cxf1UIe1zATGd2kCMknLLQ%3D%3D&trackingId=fpvOwdrZlytOfjJ%2B5wOhug%3D%3D&position=14&pageNum=20&trk=public_jobs_jserp-result_search-card 4634\n"
     ]
    },
    {
     "name": "stderr",
     "output_type": "stream",
     "text": [
      "INFO:li:scraper:('[Data Analyst][United States][508]', 'Processed')\n"
     ]
    },
    {
     "name": "stdout",
     "output_type": "stream",
     "text": [
      "[ON_DATA] Senior Data Analyst full_time associate Capital One  3225362494 https://www.linkedin.com/jobs/view/senior-data-analyst-at-capital-one-3225362494?refId=cxf1UIe1zATGd2kCMknLLQ%3D%3D&trackingId=gBveJdYQdKJj6FIolugYyg%3D%3D&position=15&pageNum=20&trk=public_jobs_jserp-result_search-card 5254\n"
     ]
    },
    {
     "name": "stderr",
     "output_type": "stream",
     "text": [
      "INFO:li:scraper:('[Data Analyst][United States][509]', 'Processed')\n"
     ]
    },
    {
     "name": "stdout",
     "output_type": "stream",
     "text": [
      "[ON_DATA] Senior Data Analyst full_time associate Capital One  3247652480 https://www.linkedin.com/jobs/view/senior-data-analyst-at-capital-one-3247652480?refId=cxf1UIe1zATGd2kCMknLLQ%3D%3D&trackingId=WCw7FISXbtdvJSwEqf1COw%3D%3D&position=16&pageNum=20&trk=public_jobs_jserp-result_search-card 5258\n"
     ]
    },
    {
     "name": "stderr",
     "output_type": "stream",
     "text": [
      "INFO:li:scraper:('[Data Analyst][United States][510]', 'Processed')\n"
     ]
    },
    {
     "name": "stdout",
     "output_type": "stream",
     "text": [
      "[ON_DATA] Marketing Data Analyst full_time associate Creative Circle  3251055347 https://www.linkedin.com/jobs/view/marketing-data-analyst-at-creative-circle-3251055347?refId=cxf1UIe1zATGd2kCMknLLQ%3D%3D&trackingId=GygZhnz0mcs7PkKTF4YJ4Q%3D%3D&position=17&pageNum=20&trk=public_jobs_jserp-result_search-card 3248\n"
     ]
    },
    {
     "name": "stderr",
     "output_type": "stream",
     "text": [
      "INFO:li:scraper:('[Data Analyst][United States][511]', 'Processed')\n"
     ]
    },
    {
     "name": "stdout",
     "output_type": "stream",
     "text": [
      "[ON_DATA] Senior Data Analyst - Customer Solutions - Measurement and Reporting full_time associate Blue Cross Blue Shield of Massachusetts  3271081747 https://www.linkedin.com/jobs/view/senior-data-analyst-customer-solutions-measurement-and-reporting-at-blue-cross-blue-shield-of-massachusetts-3271081747?refId=cxf1UIe1zATGd2kCMknLLQ%3D%3D&trackingId=GNr3BghvjiVfwLRr7UqpWw%3D%3D&position=18&pageNum=20&trk=public_jobs_jserp-result_search-card 3991\n"
     ]
    },
    {
     "name": "stderr",
     "output_type": "stream",
     "text": [
      "INFO:li:scraper:('[Data Analyst][United States][512]', 'Processed')\n"
     ]
    },
    {
     "name": "stdout",
     "output_type": "stream",
     "text": [
      "[ON_DATA] SR HEALTHCARE DATA ANALYST full_time associate Sentara Healthcare  3268631035 https://www.linkedin.com/jobs/view/sr-healthcare-data-analyst-at-sentara-healthcare-3268631035?refId=cxf1UIe1zATGd2kCMknLLQ%3D%3D&trackingId=88G5fkcjKoZqwD3EhJEDyA%3D%3D&position=19&pageNum=20&trk=public_jobs_jserp-result_search-card 3700\n"
     ]
    },
    {
     "name": "stderr",
     "output_type": "stream",
     "text": [
      "INFO:li:scraper:('[Data Analyst][United States][513]', 'Processed')\n"
     ]
    },
    {
     "name": "stdout",
     "output_type": "stream",
     "text": [
      "[ON_DATA] Product Data Analyst full_time associate Perseus Group, Constellation Software  3213263324 https://www.linkedin.com/jobs/view/product-data-analyst-at-perseus-group-constellation-software-3213263324?refId=cxf1UIe1zATGd2kCMknLLQ%3D%3D&trackingId=mqZfeHdi6vOWX6PA8VGx3Q%3D%3D&position=20&pageNum=20&trk=public_jobs_jserp-result_search-card 5382\n"
     ]
    },
    {
     "name": "stderr",
     "output_type": "stream",
     "text": [
      "INFO:li:scraper:('[Data Analyst][United States][514]', 'Processed')\n"
     ]
    },
    {
     "name": "stdout",
     "output_type": "stream",
     "text": [
      "[ON_DATA] Senior Data Analyst - Data Science (Remote) full_time associate Progressive Leasing  3268214230 https://www.linkedin.com/jobs/view/senior-data-analyst-data-science-remote-at-progressive-leasing-3268214230?refId=cxf1UIe1zATGd2kCMknLLQ%3D%3D&trackingId=d%2B%2FFVVrFQiP4Dq2smlYIDQ%3D%3D&position=21&pageNum=20&trk=public_jobs_jserp-result_search-card 3771\n"
     ]
    },
    {
     "name": "stderr",
     "output_type": "stream",
     "text": [
      "INFO:li:scraper:('[Data Analyst][United States][515]', 'Processed')\n"
     ]
    },
    {
     "name": "stdout",
     "output_type": "stream",
     "text": [
      "[ON_DATA] Business Data Analyst full_time associate Syren Cloud Inc  3256560486 https://www.linkedin.com/jobs/view/business-data-analyst-at-syren-cloud-inc-3256560486?refId=cxf1UIe1zATGd2kCMknLLQ%3D%3D&trackingId=YOyd3kBeU7I3tH2DipjMwQ%3D%3D&position=22&pageNum=20&trk=public_jobs_jserp-result_search-card 123\n"
     ]
    },
    {
     "name": "stderr",
     "output_type": "stream",
     "text": [
      "INFO:li:scraper:('[Data Analyst][United States][516]', 'Processed')\n"
     ]
    },
    {
     "name": "stdout",
     "output_type": "stream",
     "text": [
      "[ON_DATA] Metric & Data Analyst (Level 2) full_time associate Lockheed Martin  3268449534 https://www.linkedin.com/jobs/view/metric-data-analyst-level-2-at-lockheed-martin-3268449534?refId=cxf1UIe1zATGd2kCMknLLQ%3D%3D&trackingId=dL3HcF6qqCoeeO6XyfTDiw%3D%3D&position=23&pageNum=20&trk=public_jobs_jserp-result_search-card 1189\n"
     ]
    },
    {
     "name": "stderr",
     "output_type": "stream",
     "text": [
      "INFO:li:scraper:('[Data Analyst][United States][517]', 'Processed')\n"
     ]
    },
    {
     "name": "stdout",
     "output_type": "stream",
     "text": [
      "[ON_DATA] Business/Data Analyst full_time associate Bank of America  3250334331 https://www.linkedin.com/jobs/view/business-data-analyst-at-bank-of-america-3250334331?refId=cxf1UIe1zATGd2kCMknLLQ%3D%3D&trackingId=ICiv2YUqUrBC82ibOljBpA%3D%3D&position=24&pageNum=20&trk=public_jobs_jserp-result_search-card 4723\n"
     ]
    },
    {
     "name": "stderr",
     "output_type": "stream",
     "text": [
      "INFO:li:scraper:('[Data Analyst][United States][518]', 'Processed')\n",
      "INFO:li:scraper:('[Data Analyst][United States][518]', 'Checking for new jobs to load...')\n"
     ]
    },
    {
     "name": "stdout",
     "output_type": "stream",
     "text": [
      "[ON_DATA] Senior Data Analyst full_time associate Chewy  3155333540 https://www.linkedin.com/jobs/view/senior-data-analyst-at-chewy-3155333540?refId=cxf1UIe1zATGd2kCMknLLQ%3D%3D&trackingId=PIQVLyXT0eS80RPscB1RBw%3D%3D&position=25&pageNum=20&trk=public_jobs_jserp-result_search-card 3231\n"
     ]
    },
    {
     "name": "stderr",
     "output_type": "stream",
     "text": [
      "INFO:li:scraper:('[Data Analyst][United States][518]', 'Found 550 jobs')\n",
      "INFO:li:scraper:('[Data Analyst][United States][519]', 'Processed')\n"
     ]
    },
    {
     "name": "stdout",
     "output_type": "stream",
     "text": [
      "[ON_DATA] Business Data Analyst Remote full_time associate Explore Job Search  3251962326 https://www.linkedin.com/jobs/view/business-data-analyst-remote-at-explore-job-search-3251962326?refId=pUl40gLtixUSkRiQjVqFYg%3D%3D&trackingId=uMCVfuBGLDF5iyOJWYYFiw%3D%3D&position=1&pageNum=21&trk=public_jobs_jserp-result_search-card 5535\n"
     ]
    },
    {
     "name": "stderr",
     "output_type": "stream",
     "text": [
      "INFO:li:scraper:('[Data Analyst][United States][520]', 'Processed')\n"
     ]
    },
    {
     "name": "stdout",
     "output_type": "stream",
     "text": [
      "[ON_DATA] Senior Data Analyst full_time associate Capital One  3225360906 https://www.linkedin.com/jobs/view/senior-data-analyst-at-capital-one-3225360906?refId=pUl40gLtixUSkRiQjVqFYg%3D%3D&trackingId=j3d%2BKCZsYaDkzL%2FuTvvrVA%3D%3D&position=2&pageNum=21&trk=public_jobs_jserp-result_search-card 5275\n"
     ]
    },
    {
     "name": "stderr",
     "output_type": "stream",
     "text": [
      "INFO:li:scraper:('[Data Analyst][United States][521]', 'Processed')\n"
     ]
    },
    {
     "name": "stdout",
     "output_type": "stream",
     "text": [
      "[ON_DATA] Senior Data Governance Analyst (Open to remote work, except the following locations: SD, VT, and WV). full_time associate Nike  3268447978 https://www.linkedin.com/jobs/view/senior-data-governance-analyst-open-to-remote-work-except-the-following-locations-sd-vt-and-wv-at-nike-3268447978?refId=pUl40gLtixUSkRiQjVqFYg%3D%3D&trackingId=0gP1w%2FjCAkn6PbZDqGrwhw%3D%3D&position=3&pageNum=21&trk=public_jobs_jserp-result_search-card 1229\n"
     ]
    },
    {
     "name": "stderr",
     "output_type": "stream",
     "text": [
      "INFO:li:scraper:('[Data Analyst][United States][522]', 'Processed')\n"
     ]
    },
    {
     "name": "stdout",
     "output_type": "stream",
     "text": [
      "[ON_DATA] Senior Data Analyst - US full_time associate Moloco  3052139438 https://www.linkedin.com/jobs/view/senior-data-analyst-us-at-moloco-3052139438?refId=pUl40gLtixUSkRiQjVqFYg%3D%3D&trackingId=%2BoinOP2GLgGUZFaVrgm8dA%3D%3D&position=4&pageNum=21&trk=public_jobs_jserp-result_search-card 3844\n"
     ]
    },
    {
     "name": "stderr",
     "output_type": "stream",
     "text": [
      "INFO:li:scraper:('[Data Analyst][United States][523]', 'Processed')\n"
     ]
    },
    {
     "name": "stdout",
     "output_type": "stream",
     "text": [
      "[ON_DATA] Engineering Data Analyst full_time associate Kforce Inc  3267959184 https://www.linkedin.com/jobs/view/engineering-data-analyst-at-kforce-inc-3267959184?refId=pUl40gLtixUSkRiQjVqFYg%3D%3D&trackingId=SXTTv8hU%2B5p4gcJ9%2BETicg%3D%3D&position=5&pageNum=21&trk=public_jobs_jserp-result_search-card 1537\n"
     ]
    },
    {
     "name": "stderr",
     "output_type": "stream",
     "text": [
      "INFO:li:scraper:('[Data Analyst][United States][524]', 'Processed')\n"
     ]
    },
    {
     "name": "stdout",
     "output_type": "stream",
     "text": [
      "[ON_DATA] Senior Data Analyst full_time associate Capital One  3259935832 https://www.linkedin.com/jobs/view/senior-data-analyst-at-capital-one-3259935832?refId=pUl40gLtixUSkRiQjVqFYg%3D%3D&trackingId=fxOnJi3g5gIIAwHlI%2FG75Q%3D%3D&position=6&pageNum=21&trk=public_jobs_jserp-result_search-card 5258\n"
     ]
    },
    {
     "name": "stderr",
     "output_type": "stream",
     "text": [
      "INFO:li:scraper:('[Data Analyst][United States][525]', 'Processed')\n"
     ]
    },
    {
     "name": "stdout",
     "output_type": "stream",
     "text": [
      "[ON_DATA] Clinical Data Analyst full_time associate MCR Health, Inc  3250459165 https://www.linkedin.com/jobs/view/clinical-data-analyst-at-mcr-health-inc-3250459165?refId=pUl40gLtixUSkRiQjVqFYg%3D%3D&trackingId=jAUJHJ3izbv18x%2BhrluvcQ%3D%3D&position=7&pageNum=21&trk=public_jobs_jserp-result_search-card 2034\n"
     ]
    },
    {
     "name": "stderr",
     "output_type": "stream",
     "text": [
      "INFO:li:scraper:('[Data Analyst][United States][526]', 'Processed')\n"
     ]
    },
    {
     "name": "stdout",
     "output_type": "stream",
     "text": [
      "[ON_DATA] Research Data Analyst I full_time associate California Department of Industrial Relations  3267373955 https://www.linkedin.com/jobs/view/research-data-analyst-i-at-california-department-of-industrial-relations-3267373955?refId=pUl40gLtixUSkRiQjVqFYg%3D%3D&trackingId=rEz5J%2F4ppT4IJCQiZd3KWA%3D%3D&position=8&pageNum=21&trk=public_jobs_jserp-result_search-card 702\n"
     ]
    },
    {
     "name": "stderr",
     "output_type": "stream",
     "text": [
      "INFO:li:scraper:('[Data Analyst][United States][527]', 'Processed')\n"
     ]
    },
    {
     "name": "stdout",
     "output_type": "stream",
     "text": [
      "[ON_DATA] Outpatient CDI Data Analyst Full Time full_time associate Henry Ford Health  3231437811 https://www.linkedin.com/jobs/view/outpatient-cdi-data-analyst-full-time-at-henry-ford-health-3231437811?refId=pUl40gLtixUSkRiQjVqFYg%3D%3D&trackingId=RJ3HTf0VxzvHTLPCM2s9HA%3D%3D&position=9&pageNum=21&trk=public_jobs_jserp-result_search-card 2982\n"
     ]
    },
    {
     "name": "stderr",
     "output_type": "stream",
     "text": [
      "INFO:li:scraper:('[Data Analyst][United States][528]', 'Processed')\n"
     ]
    },
    {
     "name": "stdout",
     "output_type": "stream",
     "text": [
      "[ON_DATA] Senior Data Analyst full_time associate Capital One  3225364405 https://www.linkedin.com/jobs/view/senior-data-analyst-at-capital-one-3225364405?refId=pUl40gLtixUSkRiQjVqFYg%3D%3D&trackingId=IcN7h030%2BwVTQ1EdTH2RbA%3D%3D&position=10&pageNum=21&trk=public_jobs_jserp-result_search-card 5254\n"
     ]
    },
    {
     "name": "stderr",
     "output_type": "stream",
     "text": [
      "INFO:li:scraper:('[Data Analyst][United States][529]', 'Processed')\n"
     ]
    },
    {
     "name": "stdout",
     "output_type": "stream",
     "text": [
      "[ON_DATA] Senior Data Science Analyst full_time associate Discover Financial Services  3260036435 https://www.linkedin.com/jobs/view/senior-data-science-analyst-at-discover-financial-services-3260036435?refId=pUl40gLtixUSkRiQjVqFYg%3D%3D&trackingId=ZGbsqRfl5vkoriOmpo7XMg%3D%3D&position=11&pageNum=21&trk=public_jobs_jserp-result_search-card 3349\n"
     ]
    },
    {
     "name": "stderr",
     "output_type": "stream",
     "text": [
      "INFO:li:scraper:('[Data Analyst][United States][530]', 'Processed')\n"
     ]
    },
    {
     "name": "stdout",
     "output_type": "stream",
     "text": [
      "[ON_DATA] Senior Data Analyst full_time associate Cyndx  3268696217 https://www.linkedin.com/jobs/view/senior-data-analyst-at-cyndx-3268696217?refId=pUl40gLtixUSkRiQjVqFYg%3D%3D&trackingId=OWhNx4zyuJmf1PyQGn7hRg%3D%3D&position=12&pageNum=21&trk=public_jobs_jserp-result_search-card 2856\n"
     ]
    },
    {
     "name": "stderr",
     "output_type": "stream",
     "text": [
      "INFO:li:scraper:('[Data Analyst][United States][531]', 'Processed')\n"
     ]
    },
    {
     "name": "stdout",
     "output_type": "stream",
     "text": [
      "[ON_DATA] RESEARCH DATA ANALYST II full_time associate California Department of Forestry and Fire Protection (CAL FIRE)  3263051738 https://www.linkedin.com/jobs/view/research-data-analyst-ii-at-california-department-of-forestry-and-fire-protection-cal-fire-3263051738?refId=pUl40gLtixUSkRiQjVqFYg%3D%3D&trackingId=Kanuv5cP9WJ2Zwqq9U9JVw%3D%3D&position=13&pageNum=21&trk=public_jobs_jserp-result_search-card 3117\n"
     ]
    },
    {
     "name": "stderr",
     "output_type": "stream",
     "text": [
      "INFO:li:scraper:('[Data Analyst][United States][532]', 'Processed')\n"
     ]
    },
    {
     "name": "stdout",
     "output_type": "stream",
     "text": [
      "[ON_DATA] Data Analyst 2 - Telecommute full_time associate Optum  3262331997 https://www.linkedin.com/jobs/view/data-analyst-2-telecommute-at-optum-3262331997?refId=pUl40gLtixUSkRiQjVqFYg%3D%3D&trackingId=yfdJjdvuki8DyAhSL2XQ6Q%3D%3D&position=14&pageNum=21&trk=public_jobs_jserp-result_search-card 5801\n"
     ]
    },
    {
     "name": "stderr",
     "output_type": "stream",
     "text": [
      "INFO:li:scraper:('[Data Analyst][United States][533]', 'Processed')\n"
     ]
    },
    {
     "name": "stdout",
     "output_type": "stream",
     "text": [
      "[ON_DATA] Senior Data Science Analyst full_time associate Discover Financial Services  3198548583 https://www.linkedin.com/jobs/view/senior-data-science-analyst-at-discover-financial-services-3198548583?refId=pUl40gLtixUSkRiQjVqFYg%3D%3D&trackingId=MgCfpZ%2BPJrIqaNN41pd0rg%3D%3D&position=15&pageNum=21&trk=public_jobs_jserp-result_search-card 3315\n"
     ]
    },
    {
     "name": "stderr",
     "output_type": "stream",
     "text": [
      "INFO:li:scraper:('[Data Analyst][United States][534]', 'Processed')\n"
     ]
    },
    {
     "name": "stdout",
     "output_type": "stream",
     "text": [
      "[ON_DATA] Marketing Data Analyst full_time associate W. L. Gore & Associates  3263499569 https://www.linkedin.com/jobs/view/marketing-data-analyst-at-w-l-gore-associates-3263499569?refId=pUl40gLtixUSkRiQjVqFYg%3D%3D&trackingId=RzzKyrzzmcy1hhTZi0VALQ%3D%3D&position=16&pageNum=21&trk=public_jobs_jserp-result_search-card 5147\n"
     ]
    },
    {
     "name": "stderr",
     "output_type": "stream",
     "text": [
      "INFO:li:scraper:('[Data Analyst][United States][535]', 'Processed')\n"
     ]
    },
    {
     "name": "stdout",
     "output_type": "stream",
     "text": [
      "[ON_DATA] Healthcare Data Analyst full_time associate New York State Technology Enterprise Corporation (NYSTEC)  3253499742 https://www.linkedin.com/jobs/view/healthcare-data-analyst-at-new-york-state-technology-enterprise-corporation-nystec-3253499742?refId=pUl40gLtixUSkRiQjVqFYg%3D%3D&trackingId=bu0Cmo3509n8cZZyVK%2F9Gw%3D%3D&position=17&pageNum=21&trk=public_jobs_jserp-result_search-card 4669\n"
     ]
    },
    {
     "name": "stderr",
     "output_type": "stream",
     "text": [
      "INFO:li:scraper:('[Data Analyst][United States][536]', 'Processed')\n"
     ]
    },
    {
     "name": "stdout",
     "output_type": "stream",
     "text": [
      "[ON_DATA] Sr Data Analyst full_time associate Bank of America  3257521234 https://www.linkedin.com/jobs/view/sr-data-analyst-at-bank-of-america-3257521234?refId=pUl40gLtixUSkRiQjVqFYg%3D%3D&trackingId=%2F8IaSQquqiDeXJGz4yfN%2Bg%3D%3D&position=18&pageNum=21&trk=public_jobs_jserp-result_search-card 2379\n"
     ]
    },
    {
     "name": "stderr",
     "output_type": "stream",
     "text": [
      "INFO:li:scraper:('[Data Analyst][United States][537]', 'Processed')\n"
     ]
    },
    {
     "name": "stdout",
     "output_type": "stream",
     "text": [
      "[ON_DATA] Senior Data Analyst (Remote Opportunity full_time associate Quest Diagnostics  3272451807 https://www.linkedin.com/jobs/view/senior-data-analyst-remote-opportunity-at-quest-diagnostics-3272451807?refId=pUl40gLtixUSkRiQjVqFYg%3D%3D&trackingId=opHKc4BBoia0EKzIqmKYYQ%3D%3D&position=19&pageNum=21&trk=public_jobs_jserp-result_search-card 3871\n"
     ]
    },
    {
     "name": "stderr",
     "output_type": "stream",
     "text": [
      "INFO:li:scraper:('[Data Analyst][United States][538]', 'Processed')\n"
     ]
    },
    {
     "name": "stdout",
     "output_type": "stream",
     "text": [
      "[ON_DATA] IT Data Analyst full_time associate Block  3262757048 https://www.linkedin.com/jobs/view/it-data-analyst-at-block-3262757048?refId=pUl40gLtixUSkRiQjVqFYg%3D%3D&trackingId=iLjKBTpqaiB19lTxhvGMCA%3D%3D&position=20&pageNum=21&trk=public_jobs_jserp-result_search-card 6255\n"
     ]
    },
    {
     "name": "stderr",
     "output_type": "stream",
     "text": [
      "INFO:li:scraper:('[Data Analyst][United States][539]', 'Processed')\n"
     ]
    },
    {
     "name": "stdout",
     "output_type": "stream",
     "text": [
      "[ON_DATA] HealthCare Data Analyst - Hybrid - Santa Ana, CA full_time associate Optum  3266604674 https://www.linkedin.com/jobs/view/healthcare-data-analyst-hybrid-santa-ana-ca-at-optum-3266604674?refId=pUl40gLtixUSkRiQjVqFYg%3D%3D&trackingId=HOxJiDhY7x%2BqRcZ5nCH0MA%3D%3D&position=21&pageNum=21&trk=public_jobs_jserp-result_search-card 4774\n"
     ]
    },
    {
     "name": "stderr",
     "output_type": "stream",
     "text": [
      "INFO:li:scraper:('[Data Analyst][United States][540]', 'Processed')\n"
     ]
    },
    {
     "name": "stdout",
     "output_type": "stream",
     "text": [
      "[ON_DATA] Senior Data Analyst full_time associate Alldus  3240577823 https://www.linkedin.com/jobs/view/senior-data-analyst-at-alldus-3240577823?refId=pUl40gLtixUSkRiQjVqFYg%3D%3D&trackingId=b8MJQJc3aiC31BTU6yJ60Q%3D%3D&position=22&pageNum=21&trk=public_jobs_jserp-result_search-card 1180\n"
     ]
    },
    {
     "name": "stderr",
     "output_type": "stream",
     "text": [
      "INFO:li:scraper:('[Data Analyst][United States][541]', 'Processed')\n"
     ]
    },
    {
     "name": "stdout",
     "output_type": "stream",
     "text": [
      "[ON_DATA] Metrics & Data Analyst Sr full_time associate Lockheed Martin  3267971782 https://www.linkedin.com/jobs/view/metrics-data-analyst-sr-at-lockheed-martin-3267971782?refId=pUl40gLtixUSkRiQjVqFYg%3D%3D&trackingId=Sv1OHLtY8kbCm68p1Ir3AQ%3D%3D&position=23&pageNum=21&trk=public_jobs_jserp-result_search-card 4198\n"
     ]
    },
    {
     "name": "stderr",
     "output_type": "stream",
     "text": [
      "INFO:li:scraper:('[Data Analyst][United States][542]', 'Processed')\n"
     ]
    },
    {
     "name": "stdout",
     "output_type": "stream",
     "text": [
      "[ON_DATA] Senior Data Analyst full_time associate LPL Financial  3249378103 https://www.linkedin.com/jobs/view/senior-data-analyst-at-lpl-financial-3249378103?refId=pUl40gLtixUSkRiQjVqFYg%3D%3D&trackingId=2jMNJceu5BbtBT0yVlMx6g%3D%3D&position=24&pageNum=21&trk=public_jobs_jserp-result_search-card 5840\n"
     ]
    },
    {
     "name": "stderr",
     "output_type": "stream",
     "text": [
      "INFO:li:scraper:('[Data Analyst][United States][543]', 'Processed')\n",
      "INFO:li:scraper:('[Data Analyst][United States][543]', 'Checking for new jobs to load...')\n"
     ]
    },
    {
     "name": "stdout",
     "output_type": "stream",
     "text": [
      "[ON_DATA] Product Data Analyst full_time associate Purpose Financial  3235336589 https://www.linkedin.com/jobs/view/product-data-analyst-at-purpose-financial-3235336589?refId=pUl40gLtixUSkRiQjVqFYg%3D%3D&trackingId=uuOOaLHPuaTIjy5ks3NZcw%3D%3D&position=25&pageNum=21&trk=public_jobs_jserp-result_search-card 3284\n"
     ]
    },
    {
     "name": "stderr",
     "output_type": "stream",
     "text": [
      "INFO:li:scraper:('[Data Analyst][United States][543]', 'Found 575 jobs')\n",
      "INFO:li:scraper:('[Data Analyst][United States][544]', 'Processed')\n"
     ]
    },
    {
     "name": "stdout",
     "output_type": "stream",
     "text": [
      "[ON_DATA] Business Data Analyst full_time associate KION Group  3268926733 https://www.linkedin.com/jobs/view/business-data-analyst-at-kion-group-3268926733?refId=L6jBlpuiBiSrLR2wdABULw%3D%3D&trackingId=LDdAr%2B7391NONDW1%2F1yJcw%3D%3D&position=1&pageNum=22&trk=public_jobs_jserp-result_search-card 4330\n"
     ]
    },
    {
     "name": "stderr",
     "output_type": "stream",
     "text": [
      "INFO:li:scraper:('[Data Analyst][United States][545]', 'Processed')\n"
     ]
    },
    {
     "name": "stdout",
     "output_type": "stream",
     "text": [
      "[ON_DATA] Senior Data Science Analyst full_time associate Discover Financial Services  3154557412 https://www.linkedin.com/jobs/view/senior-data-science-analyst-at-discover-financial-services-3154557412?refId=L6jBlpuiBiSrLR2wdABULw%3D%3D&trackingId=IRO64AFIsjwuCJ32h0a0iw%3D%3D&position=2&pageNum=22&trk=public_jobs_jserp-result_search-card 3315\n"
     ]
    },
    {
     "name": "stderr",
     "output_type": "stream",
     "text": [
      "INFO:li:scraper:('[Data Analyst][United States][546]', 'Processed')\n"
     ]
    },
    {
     "name": "stdout",
     "output_type": "stream",
     "text": [
      "[ON_DATA] Research Data Analyst full_time associate The Johns Hopkins University  3264047731 https://www.linkedin.com/jobs/view/research-data-analyst-at-the-johns-hopkins-university-3264047731?refId=L6jBlpuiBiSrLR2wdABULw%3D%3D&trackingId=Et45Zht%2BIgf8c8ZOz0WgkA%3D%3D&position=3&pageNum=22&trk=public_jobs_jserp-result_search-card 5285\n"
     ]
    },
    {
     "name": "stderr",
     "output_type": "stream",
     "text": [
      "INFO:li:scraper:('[Data Analyst][United States][547]', 'Processed')\n"
     ]
    },
    {
     "name": "stdout",
     "output_type": "stream",
     "text": [
      "[ON_DATA] Senior Data Science Analyst - IHM full_time associate Discover Financial Services  3262812194 https://www.linkedin.com/jobs/view/senior-data-science-analyst-ihm-at-discover-financial-services-3262812194?refId=L6jBlpuiBiSrLR2wdABULw%3D%3D&trackingId=PjFix9FJ%2F%2FYFrD%2Bhy0z0Sw%3D%3D&position=4&pageNum=22&trk=public_jobs_jserp-result_search-card 2239\n"
     ]
    },
    {
     "name": "stderr",
     "output_type": "stream",
     "text": [
      "INFO:li:scraper:('[Data Analyst][United States][548]', 'Processed')\n"
     ]
    },
    {
     "name": "stdout",
     "output_type": "stream",
     "text": [
      "[ON_DATA] Business/Data Analyst - REMOTE full_time associate Explore Job Search  3228377080 https://www.linkedin.com/jobs/view/business-data-analyst-remote-at-explore-job-search-3228377080?refId=L6jBlpuiBiSrLR2wdABULw%3D%3D&trackingId=2aQQINKxN8sxCY4woBjyXw%3D%3D&position=5&pageNum=22&trk=public_jobs_jserp-result_search-card 7778\n"
     ]
    },
    {
     "name": "stderr",
     "output_type": "stream",
     "text": [
      "INFO:li:scraper:('[Data Analyst][United States][549]', 'Processed')\n"
     ]
    },
    {
     "name": "stdout",
     "output_type": "stream",
     "text": [
      "[ON_DATA] Senior Data Analyst full_time associate Global Payments Inc.  3266295063 https://www.linkedin.com/jobs/view/senior-data-analyst-at-global-payments-inc-3266295063?refId=L6jBlpuiBiSrLR2wdABULw%3D%3D&trackingId=m8ufR3CY1NvPnTmC17eexQ%3D%3D&position=6&pageNum=22&trk=public_jobs_jserp-result_search-card 3374\n"
     ]
    },
    {
     "name": "stderr",
     "output_type": "stream",
     "text": [
      "INFO:li:scraper:('[Data Analyst][United States][550]', 'Processed')\n"
     ]
    },
    {
     "name": "stdout",
     "output_type": "stream",
     "text": [
      "[ON_DATA] Business Data Analyst, SIOP full_time associate Collins Aerospace  3267399872 https://www.linkedin.com/jobs/view/business-data-analyst-siop-at-collins-aerospace-3267399872?refId=L6jBlpuiBiSrLR2wdABULw%3D%3D&trackingId=sOVEDn4%2FerEaOcTFGFYTmQ%3D%3D&position=7&pageNum=22&trk=public_jobs_jserp-result_search-card 6475\n"
     ]
    },
    {
     "name": "stderr",
     "output_type": "stream",
     "text": [
      "INFO:li:scraper:('[Data Analyst][United States][551]', 'Processed')\n"
     ]
    },
    {
     "name": "stdout",
     "output_type": "stream",
     "text": [
      "[ON_DATA] Senior Data Analyst full_time associate MaineGeneral Health  3271004433 https://www.linkedin.com/jobs/view/senior-data-analyst-at-mainegeneral-health-3271004433?refId=L6jBlpuiBiSrLR2wdABULw%3D%3D&trackingId=oHMuYuTqHYOKP7eFs0zgRg%3D%3D&position=8&pageNum=22&trk=public_jobs_jserp-result_search-card 4376\n"
     ]
    },
    {
     "name": "stderr",
     "output_type": "stream",
     "text": [
      "INFO:li:scraper:('[Data Analyst][United States][552]', 'Processed')\n"
     ]
    },
    {
     "name": "stdout",
     "output_type": "stream",
     "text": [
      "[ON_DATA] Senior Data Analyst full_time associate Capital One  3219310717 https://www.linkedin.com/jobs/view/senior-data-analyst-at-capital-one-3219310717?refId=L6jBlpuiBiSrLR2wdABULw%3D%3D&trackingId=GB9tmmaS%2BxzRxKrwDKE4ug%3D%3D&position=9&pageNum=22&trk=public_jobs_jserp-result_search-card 5249\n"
     ]
    },
    {
     "name": "stderr",
     "output_type": "stream",
     "text": [
      "INFO:li:scraper:('[Data Analyst][United States][553]', 'Processed')\n"
     ]
    },
    {
     "name": "stdout",
     "output_type": "stream",
     "text": [
      "[ON_DATA] Data Analyst Developer - Remote, USA full_time associate Private Company  3237688614 https://www.linkedin.com/jobs/view/data-analyst-developer-remote-usa-at-private-company-3237688614?refId=L6jBlpuiBiSrLR2wdABULw%3D%3D&trackingId=r5QTNii5IVYbALBgdvTKiw%3D%3D&position=10&pageNum=22&trk=public_jobs_jserp-result_search-card 801\n"
     ]
    },
    {
     "name": "stderr",
     "output_type": "stream",
     "text": [
      "INFO:li:scraper:('[Data Analyst][United States][554]', 'Processed')\n"
     ]
    },
    {
     "name": "stdout",
     "output_type": "stream",
     "text": [
      "[ON_DATA] Senior Data Analyst full_time associate Focus Brands LLC  3268230729 https://www.linkedin.com/jobs/view/senior-data-analyst-at-focus-brands-llc-3268230729?refId=L6jBlpuiBiSrLR2wdABULw%3D%3D&trackingId=0M4XSIw3rGih5IfyCinKIg%3D%3D&position=11&pageNum=22&trk=public_jobs_jserp-result_search-card 3528\n"
     ]
    },
    {
     "name": "stderr",
     "output_type": "stream",
     "text": [
      "INFO:li:scraper:('[Data Analyst][United States][555]', 'Processed')\n"
     ]
    },
    {
     "name": "stdout",
     "output_type": "stream",
     "text": [
      "[ON_DATA] Data Analyst - EB full_time associate AssuredPartners  3212199706 https://www.linkedin.com/jobs/view/data-analyst-eb-at-assuredpartners-3212199706?refId=L6jBlpuiBiSrLR2wdABULw%3D%3D&trackingId=SoyW%2Bb9xK8hiagDkS%2FE%2FMg%3D%3D&position=12&pageNum=22&trk=public_jobs_jserp-result_search-card 4038\n"
     ]
    },
    {
     "name": "stderr",
     "output_type": "stream",
     "text": [
      "INFO:li:scraper:('[Data Analyst][United States][556]', 'Processed')\n"
     ]
    },
    {
     "name": "stdout",
     "output_type": "stream",
     "text": [
      "[ON_DATA] Lead Data Analyst full_time associate Zwift  3271645867 https://www.linkedin.com/jobs/view/lead-data-analyst-at-zwift-3271645867?refId=L6jBlpuiBiSrLR2wdABULw%3D%3D&trackingId=HYvDUR4JN2ceTBP%2BlF1Fbg%3D%3D&position=13&pageNum=22&trk=public_jobs_jserp-result_search-card 5599\n"
     ]
    },
    {
     "name": "stderr",
     "output_type": "stream",
     "text": [
      "INFO:li:scraper:('[Data Analyst][United States][557]', 'Processed')\n"
     ]
    },
    {
     "name": "stdout",
     "output_type": "stream",
     "text": [
      "[ON_DATA] Senior Data Analyst full_time associate Alma  3244831590 https://www.linkedin.com/jobs/view/senior-data-analyst-at-alma-3244831590?refId=L6jBlpuiBiSrLR2wdABULw%3D%3D&trackingId=d5T894n5SiLqSPL913IitA%3D%3D&position=14&pageNum=22&trk=public_jobs_jserp-result_search-card 4896\n"
     ]
    },
    {
     "name": "stderr",
     "output_type": "stream",
     "text": [
      "INFO:li:scraper:('[Data Analyst][United States][558]', 'Processed')\n"
     ]
    },
    {
     "name": "stdout",
     "output_type": "stream",
     "text": [
      "[ON_DATA] Sr Data Analyst full_time associate Bank of America  3265584700 https://www.linkedin.com/jobs/view/sr-data-analyst-at-bank-of-america-3265584700?refId=L6jBlpuiBiSrLR2wdABULw%3D%3D&trackingId=MDLwyP0CaXUkCmrPRcz07Q%3D%3D&position=15&pageNum=22&trk=public_jobs_jserp-result_search-card 2738\n"
     ]
    },
    {
     "name": "stderr",
     "output_type": "stream",
     "text": [
      "INFO:li:scraper:('[Data Analyst][United States][559]', 'Processed')\n"
     ]
    },
    {
     "name": "stdout",
     "output_type": "stream",
     "text": [
      "[ON_DATA] Clinical Data Analyst full_time associate NTT DATA Services  3245651691 https://www.linkedin.com/jobs/view/clinical-data-analyst-at-ntt-data-services-3245651691?refId=L6jBlpuiBiSrLR2wdABULw%3D%3D&trackingId=cncNrRjQjjw39K6W3BEMfw%3D%3D&position=16&pageNum=22&trk=public_jobs_jserp-result_search-card 3729\n"
     ]
    },
    {
     "name": "stderr",
     "output_type": "stream",
     "text": [
      "INFO:li:scraper:('[Data Analyst][United States][560]', 'Processed')\n"
     ]
    },
    {
     "name": "stdout",
     "output_type": "stream",
     "text": [
      "[ON_DATA] Sr IT Data Analyst full_time associate McKesson  3256649809 https://www.linkedin.com/jobs/view/sr-it-data-analyst-at-mckesson-3256649809?refId=L6jBlpuiBiSrLR2wdABULw%3D%3D&trackingId=65%2F0H5nfIZ3uEv5XJNxmbA%3D%3D&position=17&pageNum=22&trk=public_jobs_jserp-result_search-card 5888\n"
     ]
    },
    {
     "name": "stderr",
     "output_type": "stream",
     "text": [
      "INFO:li:scraper:('[Data Analyst][United States][561]', 'Processed')\n"
     ]
    },
    {
     "name": "stdout",
     "output_type": "stream",
     "text": [
      "[ON_DATA] Senior Data Analyst full_time associate Lockheed Martin  3267326481 https://www.linkedin.com/jobs/view/senior-data-analyst-at-lockheed-martin-3267326481?refId=L6jBlpuiBiSrLR2wdABULw%3D%3D&trackingId=FkUiqShnns%2F38G1jVLEQDg%3D%3D&position=18&pageNum=22&trk=public_jobs_jserp-result_search-card 4861\n"
     ]
    },
    {
     "name": "stderr",
     "output_type": "stream",
     "text": [
      "INFO:li:scraper:('[Data Analyst][United States][562]', 'Processed')\n"
     ]
    },
    {
     "name": "stdout",
     "output_type": "stream",
     "text": [
      "[ON_DATA] Business Data Analyst full_time associate Cast & Crew  3249526157 https://www.linkedin.com/jobs/view/business-data-analyst-at-cast-crew-3249526157?refId=L6jBlpuiBiSrLR2wdABULw%3D%3D&trackingId=AccrC0QxCc6i%2F6vGSHESeg%3D%3D&position=19&pageNum=22&trk=public_jobs_jserp-result_search-card 5810\n"
     ]
    },
    {
     "name": "stderr",
     "output_type": "stream",
     "text": [
      "INFO:li:scraper:('[Data Analyst][United States][563]', 'Processed')\n"
     ]
    },
    {
     "name": "stdout",
     "output_type": "stream",
     "text": [
      "[ON_DATA] Senior Data Analyst - Telecommute full_time associate Optum  3272096803 https://www.linkedin.com/jobs/view/senior-data-analyst-telecommute-at-optum-3272096803?refId=L6jBlpuiBiSrLR2wdABULw%3D%3D&trackingId=xQcnyjUWLFOgtnNSJPvBrA%3D%3D&position=20&pageNum=22&trk=public_jobs_jserp-result_search-card 6332\n"
     ]
    },
    {
     "name": "stderr",
     "output_type": "stream",
     "text": [
      "INFO:li:scraper:('[Data Analyst][United States][564]', 'Processed')\n"
     ]
    },
    {
     "name": "stdout",
     "output_type": "stream",
     "text": [
      "[ON_DATA] Managed Care Data Analyst full_time associate Access Community Health Network  3229394989 https://www.linkedin.com/jobs/view/managed-care-data-analyst-at-access-community-health-network-3229394989?refId=L6jBlpuiBiSrLR2wdABULw%3D%3D&trackingId=vkWISlViVm%2BqeSk26hH5pA%3D%3D&position=21&pageNum=22&trk=public_jobs_jserp-result_search-card 2214\n"
     ]
    },
    {
     "name": "stderr",
     "output_type": "stream",
     "text": [
      "INFO:li:scraper:('[Data Analyst][United States][565]', 'Processed')\n"
     ]
    },
    {
     "name": "stdout",
     "output_type": "stream",
     "text": [
      "[ON_DATA] Healthcare Data Analyst full_time associate Gainwell Technologies  3254132538 https://www.linkedin.com/jobs/view/healthcare-data-analyst-at-gainwell-technologies-3254132538?refId=L6jBlpuiBiSrLR2wdABULw%3D%3D&trackingId=abfOx2SiBu1SEYgcopjzgg%3D%3D&position=22&pageNum=22&trk=public_jobs_jserp-result_search-card 2898\n"
     ]
    },
    {
     "name": "stderr",
     "output_type": "stream",
     "text": [
      "INFO:li:scraper:('[Data Analyst][United States][566]', 'Processed')\n"
     ]
    },
    {
     "name": "stdout",
     "output_type": "stream",
     "text": [
      "[ON_DATA] Data Analyst (3 month temp) full_time associate KBI Biopharma  3182055627 https://www.linkedin.com/jobs/view/data-analyst-3-month-temp-at-kbi-biopharma-3182055627?refId=L6jBlpuiBiSrLR2wdABULw%3D%3D&trackingId=8LuJtFby0SMQAtdonLbTdw%3D%3D&position=23&pageNum=22&trk=public_jobs_jserp-result_search-card 3028\n"
     ]
    },
    {
     "name": "stderr",
     "output_type": "stream",
     "text": [
      "INFO:li:scraper:('[Data Analyst][United States][567]', 'Processed')\n"
     ]
    },
    {
     "name": "stdout",
     "output_type": "stream",
     "text": [
      "[ON_DATA] Data Analyst - Physician Contract Administration full_time associate NewYork-Presbyterian Hospital  3262846080 https://www.linkedin.com/jobs/view/data-analyst-physician-contract-administration-at-newyork-presbyterian-hospital-3262846080?refId=L6jBlpuiBiSrLR2wdABULw%3D%3D&trackingId=RYMBEyroOVq9HppkYl2cpQ%3D%3D&position=24&pageNum=22&trk=public_jobs_jserp-result_search-card 3493\n"
     ]
    },
    {
     "name": "stderr",
     "output_type": "stream",
     "text": [
      "INFO:li:scraper:('[Data Analyst][United States][568]', 'Processed')\n",
      "INFO:li:scraper:('[Data Analyst][United States][568]', 'Checking for new jobs to load...')\n"
     ]
    },
    {
     "name": "stdout",
     "output_type": "stream",
     "text": [
      "[ON_DATA] Salesforce Data Analyst full_time associate RSC Solutions  3263485756 https://www.linkedin.com/jobs/view/salesforce-data-analyst-at-rsc-solutions-3263485756?refId=L6jBlpuiBiSrLR2wdABULw%3D%3D&trackingId=Zlp1ieZb5D6Bob8iQp%2BZjg%3D%3D&position=25&pageNum=22&trk=public_jobs_jserp-result_search-card 2134\n"
     ]
    },
    {
     "name": "stderr",
     "output_type": "stream",
     "text": [
      "INFO:li:scraper:('[Data Analyst][United States][568]', 'Found 600 jobs')\n",
      "INFO:li:scraper:('[Data Analyst][United States][569]', 'Processed')\n"
     ]
    },
    {
     "name": "stdout",
     "output_type": "stream",
     "text": [
      "[ON_DATA] Operations Data Analyst I - Remote full_time associate Mercy Community Healthcare  3259693687 https://www.linkedin.com/jobs/view/operations-data-analyst-i-remote-at-mercy-community-healthcare-3259693687?refId=q9Otf1RqHhfFtieSG43k1Q%3D%3D&trackingId=3gXY96BM09X9ydmj7dCtsQ%3D%3D&position=1&pageNum=23&trk=public_jobs_jserp-result_search-card 2571\n"
     ]
    },
    {
     "name": "stderr",
     "output_type": "stream",
     "text": [
      "INFO:li:scraper:('[Data Analyst][United States][570]', 'Processed')\n"
     ]
    },
    {
     "name": "stdout",
     "output_type": "stream",
     "text": [
      "[ON_DATA] Data Analyst 3- Surgical Services full_time associate Methodist Health System  3229908225 https://www.linkedin.com/jobs/view/data-analyst-3-surgical-services-at-methodist-health-system-3229908225?refId=q9Otf1RqHhfFtieSG43k1Q%3D%3D&trackingId=e5zLMK7sMPeiPIIcnSVmUQ%3D%3D&position=2&pageNum=23&trk=public_jobs_jserp-result_search-card 2425\n"
     ]
    },
    {
     "name": "stderr",
     "output_type": "stream",
     "text": [
      "INFO:li:scraper:('[Data Analyst][United States][571]', 'Processed')\n"
     ]
    },
    {
     "name": "stdout",
     "output_type": "stream",
     "text": [
      "[ON_DATA] Data Analyst III, Finance - Remote full_time associate Ultra Mobile  3217360169 https://www.linkedin.com/jobs/view/data-analyst-iii-finance-remote-at-ultra-mobile-3217360169?refId=q9Otf1RqHhfFtieSG43k1Q%3D%3D&trackingId=x9LqGDQya41fiLHMAIlAzQ%3D%3D&position=3&pageNum=23&trk=public_jobs_jserp-result_search-card 6484\n"
     ]
    },
    {
     "name": "stderr",
     "output_type": "stream",
     "text": [
      "INFO:li:scraper:('[Data Analyst][United States][572]', 'Processed')\n"
     ]
    },
    {
     "name": "stdout",
     "output_type": "stream",
     "text": [
      "[ON_DATA] Data Analyst III full_time associate Crystal Equation Corporation  3272476116 https://www.linkedin.com/jobs/view/data-analyst-iii-at-crystal-equation-corporation-3272476116?refId=q9Otf1RqHhfFtieSG43k1Q%3D%3D&trackingId=Y5jiAyUX0uNn8Dtpw10J9w%3D%3D&position=4&pageNum=23&trk=public_jobs_jserp-result_search-card 2240\n"
     ]
    },
    {
     "name": "stderr",
     "output_type": "stream",
     "text": [
      "INFO:li:scraper:('[Data Analyst][United States][573]', 'Processed')\n"
     ]
    },
    {
     "name": "stdout",
     "output_type": "stream",
     "text": [
      "[ON_DATA] Senior Data Analyst I full_time associate Cambium Assessment  3244866371 https://www.linkedin.com/jobs/view/senior-data-analyst-i-at-cambium-assessment-3244866371?refId=q9Otf1RqHhfFtieSG43k1Q%3D%3D&trackingId=aupApFJjv0Q55A1yHAMffw%3D%3D&position=5&pageNum=23&trk=public_jobs_jserp-result_search-card 3249\n"
     ]
    },
    {
     "name": "stderr",
     "output_type": "stream",
     "text": [
      "INFO:li:scraper:('[Data Analyst][United States][574]', 'Processed')\n"
     ]
    },
    {
     "name": "stdout",
     "output_type": "stream",
     "text": [
      "[ON_DATA] Senior Data Analyst full_time associate Piper Companies  3254163130 https://www.linkedin.com/jobs/view/senior-data-analyst-at-piper-companies-3254163130?refId=q9Otf1RqHhfFtieSG43k1Q%3D%3D&trackingId=OyWnREwB%2Fu%2FT8PKo2fUTEg%3D%3D&position=6&pageNum=23&trk=public_jobs_jserp-result_search-card 3108\n"
     ]
    },
    {
     "name": "stderr",
     "output_type": "stream",
     "text": [
      "INFO:li:scraper:('[Data Analyst][United States][575]', 'Processed')\n"
     ]
    },
    {
     "name": "stdout",
     "output_type": "stream",
     "text": [
      "[ON_DATA] Human Resources Data Analyst full_time associate City and County of Denver  3264409470 https://www.linkedin.com/jobs/view/human-resources-data-analyst-at-city-and-county-of-denver-3264409470?refId=q9Otf1RqHhfFtieSG43k1Q%3D%3D&trackingId=GSKEk3ZVsdzCrKmeoKFFig%3D%3D&position=7&pageNum=23&trk=public_jobs_jserp-result_search-card 805\n"
     ]
    },
    {
     "name": "stderr",
     "output_type": "stream",
     "text": [
      "INFO:li:scraper:('[Data Analyst][United States][576]', 'Processed')\n"
     ]
    },
    {
     "name": "stdout",
     "output_type": "stream",
     "text": [
      "[ON_DATA] Data Analyst full_time associate Crowley  3010360983 https://www.linkedin.com/jobs/view/data-analyst-at-crowley-3010360983?refId=q9Otf1RqHhfFtieSG43k1Q%3D%3D&trackingId=Q9KljN16kGRwC0surXQLKg%3D%3D&position=8&pageNum=23&trk=public_jobs_jserp-result_search-card 4145\n"
     ]
    },
    {
     "name": "stderr",
     "output_type": "stream",
     "text": [
      "INFO:li:scraper:('[Data Analyst][United States][577]', 'Processed')\n"
     ]
    },
    {
     "name": "stdout",
     "output_type": "stream",
     "text": [
      "[ON_DATA] Senior Data Analyst full_time associate Cash App  3228445529 https://www.linkedin.com/jobs/view/senior-data-analyst-at-cash-app-3228445529?refId=q9Otf1RqHhfFtieSG43k1Q%3D%3D&trackingId=Nz42vRAW30zZ1vYC2gZGQg%3D%3D&position=9&pageNum=23&trk=public_jobs_jserp-result_search-card 4902\n"
     ]
    },
    {
     "name": "stderr",
     "output_type": "stream",
     "text": [
      "INFO:li:scraper:('[Data Analyst][United States][578]', 'Processed')\n"
     ]
    },
    {
     "name": "stdout",
     "output_type": "stream",
     "text": [
      "[ON_DATA] Senior Data Analyst full_time associate Cyndx  3268689935 https://www.linkedin.com/jobs/view/senior-data-analyst-at-cyndx-3268689935?refId=q9Otf1RqHhfFtieSG43k1Q%3D%3D&trackingId=8o7uXNjG2EBFbZM5vwAz%2BQ%3D%3D&position=10&pageNum=23&trk=public_jobs_jserp-result_search-card 2844\n"
     ]
    },
    {
     "name": "stderr",
     "output_type": "stream",
     "text": [
      "INFO:li:scraper:('[Data Analyst][United States][579]', 'Processed')\n"
     ]
    },
    {
     "name": "stdout",
     "output_type": "stream",
     "text": [
      "[ON_DATA] Data Technology Analyst full_time associate Bank of America  3263301229 https://www.linkedin.com/jobs/view/data-technology-analyst-at-bank-of-america-3263301229?refId=q9Otf1RqHhfFtieSG43k1Q%3D%3D&trackingId=4Bhzj%2FzzAE1hYPfTJve52w%3D%3D&position=11&pageNum=23&trk=public_jobs_jserp-result_search-card 1252\n"
     ]
    },
    {
     "name": "stderr",
     "output_type": "stream",
     "text": [
      "INFO:li:scraper:('[Data Analyst][United States][580]', 'Processed')\n"
     ]
    },
    {
     "name": "stdout",
     "output_type": "stream",
     "text": [
      "[ON_DATA] Sr Data Analyst full_time associate Bank of America  3265584701 https://www.linkedin.com/jobs/view/sr-data-analyst-at-bank-of-america-3265584701?refId=q9Otf1RqHhfFtieSG43k1Q%3D%3D&trackingId=%2F2V3MoXPM%2BWnEy%2FYYmn%2F2w%3D%3D&position=12&pageNum=23&trk=public_jobs_jserp-result_search-card 2738\n"
     ]
    },
    {
     "name": "stderr",
     "output_type": "stream",
     "text": [
      "INFO:li:scraper:('[Data Analyst][United States][581]', 'Processed')\n"
     ]
    },
    {
     "name": "stdout",
     "output_type": "stream",
     "text": [
      "[ON_DATA] Sector Data Analyst- Equities full_time associate Balyasny Asset Management L.P.  2998139537 https://www.linkedin.com/jobs/view/sector-data-analyst-equities-at-balyasny-asset-management-l-p-2998139537?refId=q9Otf1RqHhfFtieSG43k1Q%3D%3D&trackingId=agb6bldSPLSyaaiMfIoohQ%3D%3D&position=13&pageNum=23&trk=public_jobs_jserp-result_search-card 2994\n"
     ]
    },
    {
     "name": "stderr",
     "output_type": "stream",
     "text": [
      "INFO:li:scraper:('[Data Analyst][United States][582]', 'Processed')\n"
     ]
    },
    {
     "name": "stdout",
     "output_type": "stream",
     "text": [
      "[ON_DATA] Senior Data Analyst - Department of Medicine full_time associate Mount Sinai Health System  3237754202 https://www.linkedin.com/jobs/view/senior-data-analyst-department-of-medicine-at-mount-sinai-health-system-3237754202?refId=q9Otf1RqHhfFtieSG43k1Q%3D%3D&trackingId=5uUxUKon8PlFiRYwqrNu3Q%3D%3D&position=14&pageNum=23&trk=public_jobs_jserp-result_search-card 7341\n"
     ]
    },
    {
     "name": "stderr",
     "output_type": "stream",
     "text": [
      "INFO:li:scraper:('[Data Analyst][United States][583]', 'Processed')\n"
     ]
    },
    {
     "name": "stdout",
     "output_type": "stream",
     "text": [
      "[ON_DATA] Financial Data Analyst full_time associate Jobot  3271057402 https://www.linkedin.com/jobs/view/financial-data-analyst-at-jobot-3271057402?refId=q9Otf1RqHhfFtieSG43k1Q%3D%3D&trackingId=%2BrSbMv9SWl2QjLD86EaybA%3D%3D&position=15&pageNum=23&trk=public_jobs_jserp-result_search-card 2267\n"
     ]
    },
    {
     "name": "stderr",
     "output_type": "stream",
     "text": [
      "INFO:li:scraper:('[Data Analyst][United States][584]', 'Processed')\n"
     ]
    },
    {
     "name": "stdout",
     "output_type": "stream",
     "text": [
      "[ON_DATA] HR Data Analyst full_time associate Pioneer Natural Resources Company  3260829153 https://www.linkedin.com/jobs/view/hr-data-analyst-at-pioneer-natural-resources-company-3260829153?refId=q9Otf1RqHhfFtieSG43k1Q%3D%3D&trackingId=pYuiiSaq3q5n%2B%2FYS2Ryn4w%3D%3D&position=16&pageNum=23&trk=public_jobs_jserp-result_search-card 5519\n"
     ]
    },
    {
     "name": "stderr",
     "output_type": "stream",
     "text": [
      "INFO:li:scraper:('[Data Analyst][United States][585]', 'Processed')\n"
     ]
    },
    {
     "name": "stdout",
     "output_type": "stream",
     "text": [
      "[ON_DATA] Senior Data Analyst full_time associate Uptown Pet Bistro  3232359396 https://www.linkedin.com/jobs/view/senior-data-analyst-at-uptown-pet-bistro-3232359396?refId=q9Otf1RqHhfFtieSG43k1Q%3D%3D&trackingId=aYUCu8VKFgRDAs5SR5I0JA%3D%3D&position=17&pageNum=23&trk=public_jobs_jserp-result_search-card 4740\n"
     ]
    },
    {
     "name": "stderr",
     "output_type": "stream",
     "text": [
      "INFO:li:scraper:('[Data Analyst][United States][586]', 'Processed')\n"
     ]
    },
    {
     "name": "stdout",
     "output_type": "stream",
     "text": [
      "[ON_DATA] Senior Data Science Analyst full_time associate Discover Financial Services  3216312343 https://www.linkedin.com/jobs/view/senior-data-science-analyst-at-discover-financial-services-3216312343?refId=q9Otf1RqHhfFtieSG43k1Q%3D%3D&trackingId=XxPKsGSuHhf6VXbxgrgovg%3D%3D&position=18&pageNum=23&trk=public_jobs_jserp-result_search-card 3326\n"
     ]
    },
    {
     "name": "stderr",
     "output_type": "stream",
     "text": [
      "INFO:li:scraper:('[Data Analyst][United States][587]', 'Processed')\n"
     ]
    },
    {
     "name": "stdout",
     "output_type": "stream",
     "text": [
      "[ON_DATA] Business Data Analyst full_time associate Axonics, Inc.  3247935925 https://www.linkedin.com/jobs/view/business-data-analyst-at-axonics-inc-3247935925?refId=q9Otf1RqHhfFtieSG43k1Q%3D%3D&trackingId=4xxtJM%2FNl1A%2By0QkkWoNhw%3D%3D&position=19&pageNum=23&trk=public_jobs_jserp-result_search-card 2776\n"
     ]
    },
    {
     "name": "stderr",
     "output_type": "stream",
     "text": [
      "INFO:li:scraper:('[Data Analyst][United States][588]', 'Processed')\n"
     ]
    },
    {
     "name": "stdout",
     "output_type": "stream",
     "text": [
      "[ON_DATA] Data Analyst - Developmental full_time associate BAE Systems  3259980956 https://www.linkedin.com/jobs/view/data-analyst-developmental-at-bae-systems-3259980956?refId=q9Otf1RqHhfFtieSG43k1Q%3D%3D&trackingId=J%2FjcnfyRidyDWA%2BNXKrYLg%3D%3D&position=20&pageNum=23&trk=public_jobs_jserp-result_search-card 3819\n"
     ]
    },
    {
     "name": "stderr",
     "output_type": "stream",
     "text": [
      "INFO:li:scraper:('[Data Analyst][United States][589]', 'Processed')\n"
     ]
    },
    {
     "name": "stdout",
     "output_type": "stream",
     "text": [
      "[ON_DATA] Research Data Analyst full_time associate The Johns Hopkins University  3264045843 https://www.linkedin.com/jobs/view/research-data-analyst-at-the-johns-hopkins-university-3264045843?refId=q9Otf1RqHhfFtieSG43k1Q%3D%3D&trackingId=UswRF%2FhTHsEdF9Yn143g5Q%3D%3D&position=21&pageNum=23&trk=public_jobs_jserp-result_search-card 5369\n"
     ]
    },
    {
     "name": "stderr",
     "output_type": "stream",
     "text": [
      "INFO:li:scraper:('[Data Analyst][United States][590]', 'Processed')\n"
     ]
    },
    {
     "name": "stdout",
     "output_type": "stream",
     "text": [
      "[ON_DATA] Business Data Analyst full_time associate Dice  3262493086 https://www.linkedin.com/jobs/view/business-data-analyst-at-dice-3262493086?refId=q9Otf1RqHhfFtieSG43k1Q%3D%3D&trackingId=n9biKyLnwExsDr4Ar0C5Rw%3D%3D&position=22&pageNum=23&trk=public_jobs_jserp-result_search-card 319\n"
     ]
    },
    {
     "name": "stderr",
     "output_type": "stream",
     "text": [
      "INFO:li:scraper:('[Data Analyst][United States][591]', 'Processed')\n"
     ]
    },
    {
     "name": "stdout",
     "output_type": "stream",
     "text": [
      "[ON_DATA] Senior Data Analyst full_time associate Eversource Energy  3260688665 https://www.linkedin.com/jobs/view/senior-data-analyst-at-eversource-energy-3260688665?refId=q9Otf1RqHhfFtieSG43k1Q%3D%3D&trackingId=jpdNu%2BRV4pWY%2FFo%2BG%2Bi%2BjA%3D%3D&position=23&pageNum=23&trk=public_jobs_jserp-result_search-card 3295\n"
     ]
    },
    {
     "name": "stderr",
     "output_type": "stream",
     "text": [
      "INFO:li:scraper:('[Data Analyst][United States][592]', 'Processed')\n"
     ]
    },
    {
     "name": "stdout",
     "output_type": "stream",
     "text": [
      "[ON_DATA] Senior Data Analyst full_time associate MaineGeneral Health  3270798694 https://www.linkedin.com/jobs/view/senior-data-analyst-at-mainegeneral-health-3270798694?refId=q9Otf1RqHhfFtieSG43k1Q%3D%3D&trackingId=uciEoM87NtmxjP5If5kctw%3D%3D&position=24&pageNum=23&trk=public_jobs_jserp-result_search-card 4301\n"
     ]
    },
    {
     "name": "stderr",
     "output_type": "stream",
     "text": [
      "INFO:li:scraper:('[Data Analyst][United States][593]', 'Processed')\n",
      "INFO:li:scraper:('[Data Analyst][United States][593]', 'Checking for new jobs to load...')\n"
     ]
    },
    {
     "name": "stdout",
     "output_type": "stream",
     "text": [
      "[ON_DATA] IT Data Analyst full_time associate Block  3262754698 https://www.linkedin.com/jobs/view/it-data-analyst-at-block-3262754698?refId=q9Otf1RqHhfFtieSG43k1Q%3D%3D&trackingId=ubHHFxP0ZQWm0e7oDR1A8w%3D%3D&position=25&pageNum=23&trk=public_jobs_jserp-result_search-card 6255\n"
     ]
    },
    {
     "name": "stderr",
     "output_type": "stream",
     "text": [
      "INFO:li:scraper:('[Data Analyst][United States][593]', 'Found 625 jobs')\n",
      "INFO:li:scraper:('[Data Analyst][United States][594]', 'Processed')\n"
     ]
    },
    {
     "name": "stdout",
     "output_type": "stream",
     "text": [
      "[ON_DATA] Health Data Analyst II full_time associate Boston Medical Center HealthNet Plan/Well Sense Health Plan  3251251420 https://www.linkedin.com/jobs/view/health-data-analyst-ii-at-boston-medical-center-healthnet-plan-well-sense-health-plan-3251251420?refId=%2BPS5Z2lxSBk%2FDbf9thEMcA%3D%3D&trackingId=MVzYhyHbr%2FLJbsCiepg41w%3D%3D&position=1&pageNum=24&trk=public_jobs_jserp-result_search-card 4159\n"
     ]
    },
    {
     "name": "stderr",
     "output_type": "stream",
     "text": [
      "INFO:li:scraper:('[Data Analyst][United States][595]', 'Processed')\n"
     ]
    },
    {
     "name": "stdout",
     "output_type": "stream",
     "text": [
      "[ON_DATA] Sr Data Analyst full_time associate TheKey  3264705386 https://www.linkedin.com/jobs/view/sr-data-analyst-at-thekey-3264705386?refId=%2BPS5Z2lxSBk%2FDbf9thEMcA%3D%3D&trackingId=nz21zitXFNRvUSZR%2BfDhMQ%3D%3D&position=2&pageNum=24&trk=public_jobs_jserp-result_search-card 2837\n"
     ]
    },
    {
     "name": "stderr",
     "output_type": "stream",
     "text": [
      "INFO:li:scraper:('[Data Analyst][United States][596]', 'Processed')\n"
     ]
    },
    {
     "name": "stdout",
     "output_type": "stream",
     "text": [
      "[ON_DATA] Senior Data Analyst full_time associate Delta Air Lines  3215808642 https://www.linkedin.com/jobs/view/senior-data-analyst-at-delta-air-lines-3215808642?refId=%2BPS5Z2lxSBk%2FDbf9thEMcA%3D%3D&trackingId=Jk%2BA3eFhMl4djkSd48wz7A%3D%3D&position=3&pageNum=24&trk=public_jobs_jserp-result_search-card 4264\n"
     ]
    },
    {
     "name": "stderr",
     "output_type": "stream",
     "text": [
      "INFO:li:scraper:('[Data Analyst][United States][597]', 'Processed')\n"
     ]
    },
    {
     "name": "stdout",
     "output_type": "stream",
     "text": [
      "[ON_DATA] Senior Data Science Analyst full_time associate Discover Financial Services  3169776675 https://www.linkedin.com/jobs/view/senior-data-science-analyst-at-discover-financial-services-3169776675?refId=%2BPS5Z2lxSBk%2FDbf9thEMcA%3D%3D&trackingId=LSj6iEghSwsnIQg6BiavKQ%3D%3D&position=4&pageNum=24&trk=public_jobs_jserp-result_search-card 3315\n"
     ]
    },
    {
     "name": "stderr",
     "output_type": "stream",
     "text": [
      "INFO:li:scraper:('[Data Analyst][United States][598]', 'Processed')\n"
     ]
    },
    {
     "name": "stdout",
     "output_type": "stream",
     "text": [
      "[ON_DATA] Data Analyst (3 month temp) full_time associate KBI Biopharma  3270718407 https://www.linkedin.com/jobs/view/data-analyst-3-month-temp-at-kbi-biopharma-3270718407?refId=%2BPS5Z2lxSBk%2FDbf9thEMcA%3D%3D&trackingId=5z6jQ8MCLkCCfLTMlvtCAw%3D%3D&position=5&pageNum=24&trk=public_jobs_jserp-result_search-card 3028\n"
     ]
    },
    {
     "name": "stderr",
     "output_type": "stream",
     "text": [
      "INFO:li:scraper:('[Data Analyst][United States][599]', 'Processed')\n"
     ]
    },
    {
     "name": "stdout",
     "output_type": "stream",
     "text": [
      "[ON_DATA] Business Data Analyst (Sales) full_time associate Nestlé  3260559010 https://www.linkedin.com/jobs/view/business-data-analyst-sales-at-nestl%C3%A9-3260559010?refId=%2BPS5Z2lxSBk%2FDbf9thEMcA%3D%3D&trackingId=nbdVcerxCIyW9vkFcZlHjA%3D%3D&position=6&pageNum=24&trk=public_jobs_jserp-result_search-card 4119\n"
     ]
    }
   ],
   "source": [
    "import logging\n",
    "from linkedin_jobs_scraper import LinkedinScraper\n",
    "from linkedin_jobs_scraper.events import Events, EventData, EventMetrics\n",
    "from linkedin_jobs_scraper.query import Query, QueryOptions, QueryFilters\n",
    "from linkedin_jobs_scraper.filters import RelevanceFilters, TimeFilters, TypeFilters, ExperienceLevelFilters, RemoteFilters\n",
    "from datetime import datetime\n",
    "import os\n",
    "import pandas as pd\n",
    "\n",
    "# Change root logger level (default is WARN)\n",
    "logging.basicConfig(level = logging.INFO)\n",
    "os.environ[\"LI_AT_COOKIE\"] = \"AQEDARESB8QCCCceAAABgyga0fIAAAGDTCdV8k4Ak3TFNJsbSAF_TqXL7lVHcHkEjj5H38QFkYkSN6L2pDfANEe0AN1zNYf1J1zzhZwYN4RXZ7Q4hTZAsxqVeY2c8n0BjKXtCjIJmF27OWpL0aAceoZ_\"\n",
    "\n",
    "data_df = pd.DataFrame(columns=['scraping_time', 'keyword', 'job_type', 'exp_level', 'job_id', 'title', 'company', 'company_link', 'link', 'insights', 'description', 'date', 'place', 'location'])\n",
    "\n",
    "# Fired once for each successfully processed job\n",
    "def on_data(data: EventData):\n",
    "    print('[ON_DATA]', data.title, job_type, exp_level, data.company, data.company_link, data.job_id, data.link, len(data.description))\n",
    "    time = datetime.now().strftime(\"%d/%m/%Y %H:%M:%S\")\n",
    "    job_id = data.job_id\n",
    "    title = data.title\n",
    "    company = data.company\n",
    "    company_link = data.company_link\n",
    "    link = data.link\n",
    "    insights = data.insights\n",
    "    description = data.description\n",
    "    date = data.date\n",
    "    place = data.place\n",
    "    location = data.location\n",
    "    \n",
    "    file_name = time\n",
    "    data_df.loc[len(data_df)] = [time, keyword, job_type, exp_level, job_id, title, company, company_link, link, insights, description, date, place, location]\n",
    "    \n",
    "# Fired once for each page (25 jobs)\n",
    "def on_metrics(metrics: EventMetrics):\n",
    "  print('[ON_METRICS]', str(metrics))\n",
    "\n",
    "def on_error(error):\n",
    "    print('[ON_ERROR]', error)\n",
    "\n",
    "def on_end():\n",
    "    print('[ON_END]')\n",
    "\n",
    "\n",
    "scraper = LinkedinScraper(\n",
    "    chrome_executable_path=r\"C:\\Users\\User\\Downloads\\chromedriver_win32\\chromedriver.exe\", # Custom Chrome executable path (e.g. /foo/bar/bin/chromedriver) \n",
    "    chrome_options=None,  # Custom Chrome options here\n",
    "    headless=True,  # Overrides headless mode only if chrome_options is None\n",
    "    max_workers=1,  # How many threads will be spawned to run queries concurrently (one Chrome driver for each thread)\n",
    "    slow_mo=3,  # Slow down the scraper to avoid 'Too many requests 429' errors (in seconds)\n",
    "    page_load_timeout=200  # Page load timeout (in seconds)    \n",
    "#     LI_AT_COOKIE=<your li_at cookie value here> python your_app.py\n",
    ")\n",
    "\n",
    "# Add event listeners\n",
    "scraper.on(Events.DATA, on_data)\n",
    "scraper.on(Events.ERROR, on_error)\n",
    "scraper.on(Events.END, on_end)\n",
    "\n",
    "job_type_list = {\n",
    "    'full_time': TypeFilters.FULL_TIME, \n",
    "    'part_time': TypeFilters.PART_TIME,\n",
    "    'temporary': TypeFilters.TEMPORARY,\n",
    "    'contract': TypeFilters.CONTRACT,\n",
    "    'internship': TypeFilters.INTERNSHIP,\n",
    "    'volunteer': TypeFilters.VOLUNTEER,\n",
    "    'other': TypeFilters.OTHER\n",
    "}\n",
    "exp_level_list = {\n",
    "    'internship': ExperienceLevelFilters.INTERNSHIP,\n",
    "    'entry_level': ExperienceLevelFilters.ENTRY_LEVEL,\n",
    "    'associate': ExperienceLevelFilters.ASSOCIATE,\n",
    "    'mid_senior': ExperienceLevelFilters.MID_SENIOR,\n",
    "    'director': ExperienceLevelFilters.DIRECTOR,\n",
    "    'executive': ExperienceLevelFilters.EXECUTIVE\n",
    "}\n",
    "keyword_list = ['Data Analyst', 'Data Scientist', 'Machine Learning Engineer', 'Data Engineer', 'Business Intelligence', 'Data Architect', 'Natural Language Processing' 'Artificial Intelligence']\n",
    "\n",
    "for word in keyword_list:\n",
    "    for type in job_type_list:\n",
    "        for exp in exp_level_list:\n",
    "            global keyword, job_type, exp_level\n",
    "            keyword = word\n",
    "            job_type = type \n",
    "            exp_level = exp\n",
    "            \n",
    "            queries = Query(\n",
    "                query=keyword,\n",
    "                options=QueryOptions(\n",
    "                    locations=['United States'],            \n",
    "                    apply_link = True,  # Try to extract apply link (easy applies are skipped). Default to False.\n",
    "                    limit=100000,\n",
    "                    filters=QueryFilters(\n",
    "                        time=TimeFilters.MONTH,\n",
    "                        type=job_type_list[job_type],\n",
    "                        experience=exp_level_list[exp_level]\n",
    "                    )\n",
    "                )\n",
    "            )\n",
    "            scraper.run(queries)\n",
    "        "
   ]
  },
  {
   "cell_type": "code",
   "execution_count": null,
   "id": "ca203411-7702-4147-9b4d-5feccfb7ce92",
   "metadata": {},
   "outputs": [],
   "source": []
  },
  {
   "cell_type": "code",
   "execution_count": null,
   "id": "f9d094b0",
   "metadata": {},
   "outputs": [],
   "source": [
    "time = datetime.now().strftime(\"%d-%m-%Y\")\n",
    "data_df.to_csv('all data - ' +time+'.csv',sep=';')"
   ]
  },
  {
   "cell_type": "code",
   "execution_count": 9,
   "id": "461d6f4b",
   "metadata": {},
   "outputs": [
    {
     "data": {
      "text/html": [
       "<div>\n",
       "<style scoped>\n",
       "    .dataframe tbody tr th:only-of-type {\n",
       "        vertical-align: middle;\n",
       "    }\n",
       "\n",
       "    .dataframe tbody tr th {\n",
       "        vertical-align: top;\n",
       "    }\n",
       "\n",
       "    .dataframe thead th {\n",
       "        text-align: right;\n",
       "    }\n",
       "</style>\n",
       "<table border=\"1\" class=\"dataframe\">\n",
       "  <thead>\n",
       "    <tr style=\"text-align: right;\">\n",
       "      <th></th>\n",
       "      <th>time</th>\n",
       "      <th>job_id</th>\n",
       "      <th>title</th>\n",
       "      <th>company</th>\n",
       "      <th>company_link</th>\n",
       "      <th>link</th>\n",
       "      <th>insights</th>\n",
       "      <th>description</th>\n",
       "      <th>date</th>\n",
       "      <th>place</th>\n",
       "      <th>location</th>\n",
       "    </tr>\n",
       "  </thead>\n",
       "  <tbody>\n",
       "    <tr>\n",
       "      <th>0</th>\n",
       "      <td>16/09/2022 00:21:42</td>\n",
       "      <td>3254374210</td>\n",
       "      <td>Senior Financial Reporting Analyst</td>\n",
       "      <td>Jobot</td>\n",
       "      <td></td>\n",
       "      <td>https://www.linkedin.com/jobs/view/senior-fina...</td>\n",
       "      <td>[]</td>\n",
       "      <td>Voted one of the top startups in Boston | Sr F...</td>\n",
       "      <td>2022-09-15</td>\n",
       "      <td>Boston, MA</td>\n",
       "      <td>United States</td>\n",
       "    </tr>\n",
       "    <tr>\n",
       "      <th>1</th>\n",
       "      <td>16/09/2022 00:21:44</td>\n",
       "      <td>3229358504</td>\n",
       "      <td>Senior Salesforce Business Analyst</td>\n",
       "      <td>Brooksource</td>\n",
       "      <td></td>\n",
       "      <td>https://www.linkedin.com/jobs/view/senior-sale...</td>\n",
       "      <td>[]</td>\n",
       "      <td>Senior Salesforce Business Analyst\\n\\nD.C. Are...</td>\n",
       "      <td>2022-08-19</td>\n",
       "      <td>United States</td>\n",
       "      <td>United States</td>\n",
       "    </tr>\n",
       "    <tr>\n",
       "      <th>2</th>\n",
       "      <td>16/09/2022 00:21:46</td>\n",
       "      <td>3258037272</td>\n",
       "      <td>Senior Financial Analyst</td>\n",
       "      <td>Jobot</td>\n",
       "      <td></td>\n",
       "      <td>https://www.linkedin.com/jobs/view/senior-fina...</td>\n",
       "      <td>[]</td>\n",
       "      <td>Senior Financial Analyst! Hybrid or Remote\\n\\n...</td>\n",
       "      <td>2022-09-15</td>\n",
       "      <td>Allentown, PA</td>\n",
       "      <td>United States</td>\n",
       "    </tr>\n",
       "    <tr>\n",
       "      <th>3</th>\n",
       "      <td>16/09/2022 00:21:49</td>\n",
       "      <td>3252155029</td>\n",
       "      <td>Senior Analyst, Supply Chain Systems</td>\n",
       "      <td>JobsInLogistics.com</td>\n",
       "      <td></td>\n",
       "      <td>https://www.linkedin.com/jobs/view/senior-anal...</td>\n",
       "      <td>[]</td>\n",
       "      <td>Company: GXO Logistics\\n\\n\\nJob Description\\n\\...</td>\n",
       "      <td>2022-09-04</td>\n",
       "      <td>Perris, CA</td>\n",
       "      <td>United States</td>\n",
       "    </tr>\n",
       "    <tr>\n",
       "      <th>4</th>\n",
       "      <td>16/09/2022 00:21:51</td>\n",
       "      <td>3234529278</td>\n",
       "      <td>Senior Enterprise Salesforce Business Analyst</td>\n",
       "      <td>Wintrust Financial Corporation</td>\n",
       "      <td></td>\n",
       "      <td>https://www.linkedin.com/jobs/view/senior-ente...</td>\n",
       "      <td>[]</td>\n",
       "      <td>Founded in 1991 with the idea to be the altern...</td>\n",
       "      <td>2022-08-22</td>\n",
       "      <td>Rosemont, IL</td>\n",
       "      <td>United States</td>\n",
       "    </tr>\n",
       "    <tr>\n",
       "      <th>5</th>\n",
       "      <td>16/09/2022 00:21:58</td>\n",
       "      <td>3265164792</td>\n",
       "      <td>Senior Data Analyst - Regulatory Reporting</td>\n",
       "      <td>Explore Job Search</td>\n",
       "      <td></td>\n",
       "      <td>https://www.linkedin.com/jobs/view/senior-data...</td>\n",
       "      <td>[]</td>\n",
       "      <td>To apply please visit:\\n\\n\\n\\n\\nhttps://jobs.e...</td>\n",
       "      <td>2022-09-15</td>\n",
       "      <td>Chicago, IL</td>\n",
       "      <td>United States</td>\n",
       "    </tr>\n",
       "    <tr>\n",
       "      <th>6</th>\n",
       "      <td>16/09/2022 00:22:00</td>\n",
       "      <td>3259175400</td>\n",
       "      <td>Senior Budget Analyst - Healthcare</td>\n",
       "      <td>Vaco</td>\n",
       "      <td></td>\n",
       "      <td>https://www.linkedin.com/jobs/view/senior-budg...</td>\n",
       "      <td>[]</td>\n",
       "      <td>At Vaco, we match Accounting and Finance profe...</td>\n",
       "      <td>2022-09-12</td>\n",
       "      <td>Salem, OR</td>\n",
       "      <td>United States</td>\n",
       "    </tr>\n",
       "    <tr>\n",
       "      <th>7</th>\n",
       "      <td>16/09/2022 00:22:07</td>\n",
       "      <td>3253709666</td>\n",
       "      <td>Sr. Data Analyst, FP&amp;A</td>\n",
       "      <td>Jobot</td>\n",
       "      <td></td>\n",
       "      <td>https://www.linkedin.com/jobs/view/sr-data-ana...</td>\n",
       "      <td>[]</td>\n",
       "      <td>Come work for one of the best Gaming companies...</td>\n",
       "      <td>2022-09-14</td>\n",
       "      <td>Highland, CA</td>\n",
       "      <td>United States</td>\n",
       "    </tr>\n",
       "    <tr>\n",
       "      <th>8</th>\n",
       "      <td>16/09/2022 00:22:10</td>\n",
       "      <td>3228026489</td>\n",
       "      <td>Senior Salesforce Business Analyst</td>\n",
       "      <td>Robert Half</td>\n",
       "      <td></td>\n",
       "      <td>https://www.linkedin.com/jobs/view/senior-sale...</td>\n",
       "      <td>[]</td>\n",
       "      <td>Description\\n\\nCore responsibilities include p...</td>\n",
       "      <td>2022-08-19</td>\n",
       "      <td>Little Falls, NJ</td>\n",
       "      <td>United States</td>\n",
       "    </tr>\n",
       "    <tr>\n",
       "      <th>9</th>\n",
       "      <td>16/09/2022 00:22:12</td>\n",
       "      <td>3268464610</td>\n",
       "      <td>Senior Identity &amp; Access Analyst</td>\n",
       "      <td>Albertsons Companies</td>\n",
       "      <td></td>\n",
       "      <td>https://www.linkedin.com/jobs/view/senior-iden...</td>\n",
       "      <td>[]</td>\n",
       "      <td>About The Company\\n\\nAlbertsons Companies is a...</td>\n",
       "      <td>2022-09-15</td>\n",
       "      <td>Pleasanton, CA</td>\n",
       "      <td>United States</td>\n",
       "    </tr>\n",
       "    <tr>\n",
       "      <th>10</th>\n",
       "      <td>16/09/2022 00:22:14</td>\n",
       "      <td>3268945458</td>\n",
       "      <td>Senior Analyst/ Associate Manager, Marketing S...</td>\n",
       "      <td>Agoda</td>\n",
       "      <td></td>\n",
       "      <td>https://www.linkedin.com/jobs/view/senior-anal...</td>\n",
       "      <td>[]</td>\n",
       "      <td>About Agoda\\n\\n\\n\\n\\nAgoda is an online travel...</td>\n",
       "      <td>2022-09-15</td>\n",
       "      <td>Orlando, FL</td>\n",
       "      <td>United States</td>\n",
       "    </tr>\n",
       "    <tr>\n",
       "      <th>11</th>\n",
       "      <td>16/09/2022 00:22:26</td>\n",
       "      <td>3251997942</td>\n",
       "      <td>Senior Compensation Analyst—Healthcare (Remote)</td>\n",
       "      <td>Centra Health</td>\n",
       "      <td></td>\n",
       "      <td>https://www.linkedin.com/jobs/view/senior-comp...</td>\n",
       "      <td>[]</td>\n",
       "      <td>Position: Senior Compensation Analyst—Healthca...</td>\n",
       "      <td>2022-09-08</td>\n",
       "      <td>Lynchburg, VA</td>\n",
       "      <td>United States</td>\n",
       "    </tr>\n",
       "    <tr>\n",
       "      <th>12</th>\n",
       "      <td>16/09/2022 00:22:28</td>\n",
       "      <td>3269311141</td>\n",
       "      <td>Senior HCM Analyst</td>\n",
       "      <td>YAI</td>\n",
       "      <td></td>\n",
       "      <td>https://www.linkedin.com/jobs/view/senior-hcm-...</td>\n",
       "      <td>[]</td>\n",
       "      <td>If you are a current YAI employee, please clic...</td>\n",
       "      <td>2022-09-03</td>\n",
       "      <td>New York, NY</td>\n",
       "      <td>United States</td>\n",
       "    </tr>\n",
       "    <tr>\n",
       "      <th>13</th>\n",
       "      <td>16/09/2022 00:22:31</td>\n",
       "      <td>3254750086</td>\n",
       "      <td>Quality Assurance Analyst II</td>\n",
       "      <td>Verisk</td>\n",
       "      <td></td>\n",
       "      <td>https://www.linkedin.com/jobs/view/quality-ass...</td>\n",
       "      <td>[]</td>\n",
       "      <td>Company Description\\n\\nAt the heart of what we...</td>\n",
       "      <td>2022-09-04</td>\n",
       "      <td>Jersey City, NJ</td>\n",
       "      <td>United States</td>\n",
       "    </tr>\n",
       "    <tr>\n",
       "      <th>14</th>\n",
       "      <td>16/09/2022 00:22:33</td>\n",
       "      <td>3268950397</td>\n",
       "      <td>Senior Analyst or Associate Manager, Marketing...</td>\n",
       "      <td>Agoda</td>\n",
       "      <td></td>\n",
       "      <td>https://www.linkedin.com/jobs/view/senior-anal...</td>\n",
       "      <td>[]</td>\n",
       "      <td>About Agoda\\n\\n\\n\\n\\nAgoda is an online travel...</td>\n",
       "      <td>2022-09-15</td>\n",
       "      <td>Orlando, FL</td>\n",
       "      <td>United States</td>\n",
       "    </tr>\n",
       "    <tr>\n",
       "      <th>15</th>\n",
       "      <td>16/09/2022 00:22:40</td>\n",
       "      <td>3268950399</td>\n",
       "      <td>Senior Analyst or Associate Manager, Marketing...</td>\n",
       "      <td>Agoda</td>\n",
       "      <td></td>\n",
       "      <td>https://www.linkedin.com/jobs/view/senior-anal...</td>\n",
       "      <td>[]</td>\n",
       "      <td>About Agoda\\n\\n\\n\\n\\nAgoda is an online travel...</td>\n",
       "      <td>2022-09-15</td>\n",
       "      <td>Dallas, TX</td>\n",
       "      <td>United States</td>\n",
       "    </tr>\n",
       "    <tr>\n",
       "      <th>16</th>\n",
       "      <td>16/09/2022 00:22:42</td>\n",
       "      <td>3268623882</td>\n",
       "      <td>Acquisition Analyst - Senior</td>\n",
       "      <td>HRS Consulting, Inc.</td>\n",
       "      <td></td>\n",
       "      <td>https://www.linkedin.com/jobs/view/acquisition...</td>\n",
       "      <td>[]</td>\n",
       "      <td>High Reliability Solutions (HRS) is our name.\\...</td>\n",
       "      <td>2022-08-21</td>\n",
       "      <td>Washington, DC</td>\n",
       "      <td>United States</td>\n",
       "    </tr>\n",
       "    <tr>\n",
       "      <th>17</th>\n",
       "      <td>16/09/2022 00:22:44</td>\n",
       "      <td>3269314159</td>\n",
       "      <td>Senior Analyst, E-Discovery</td>\n",
       "      <td>Gilead Sciences</td>\n",
       "      <td></td>\n",
       "      <td>https://www.linkedin.com/jobs/view/senior-anal...</td>\n",
       "      <td>[]</td>\n",
       "      <td>For Current Gilead Employees And Contractors\\n...</td>\n",
       "      <td>2022-09-15</td>\n",
       "      <td>Raleigh, NC</td>\n",
       "      <td>United States</td>\n",
       "    </tr>\n",
       "    <tr>\n",
       "      <th>18</th>\n",
       "      <td>16/09/2022 00:22:47</td>\n",
       "      <td>3268460993</td>\n",
       "      <td>Senior Financial Analyst (M&amp;A) - $100,000</td>\n",
       "      <td>Jobot</td>\n",
       "      <td></td>\n",
       "      <td>https://www.linkedin.com/jobs/view/senior-fina...</td>\n",
       "      <td>[]</td>\n",
       "      <td>Tremendous room for growth. STRONG COMPENSATIO...</td>\n",
       "      <td>2022-09-15</td>\n",
       "      <td>Salem, OR</td>\n",
       "      <td>United States</td>\n",
       "    </tr>\n",
       "    <tr>\n",
       "      <th>19</th>\n",
       "      <td>16/09/2022 00:22:49</td>\n",
       "      <td>3268463471</td>\n",
       "      <td>Senior Financial Analyst</td>\n",
       "      <td>Jobot</td>\n",
       "      <td></td>\n",
       "      <td>https://www.linkedin.com/jobs/view/senior-fina...</td>\n",
       "      <td>[]</td>\n",
       "      <td>Sr. Financial Analyst / Hybrid -Remote / Value...</td>\n",
       "      <td>2022-09-15</td>\n",
       "      <td>Dallas, TX</td>\n",
       "      <td>United States</td>\n",
       "    </tr>\n",
       "  </tbody>\n",
       "</table>\n",
       "</div>"
      ],
      "text/plain": [
       "                   time      job_id  \\\n",
       "0   16/09/2022 00:21:42  3254374210   \n",
       "1   16/09/2022 00:21:44  3229358504   \n",
       "2   16/09/2022 00:21:46  3258037272   \n",
       "3   16/09/2022 00:21:49  3252155029   \n",
       "4   16/09/2022 00:21:51  3234529278   \n",
       "5   16/09/2022 00:21:58  3265164792   \n",
       "6   16/09/2022 00:22:00  3259175400   \n",
       "7   16/09/2022 00:22:07  3253709666   \n",
       "8   16/09/2022 00:22:10  3228026489   \n",
       "9   16/09/2022 00:22:12  3268464610   \n",
       "10  16/09/2022 00:22:14  3268945458   \n",
       "11  16/09/2022 00:22:26  3251997942   \n",
       "12  16/09/2022 00:22:28  3269311141   \n",
       "13  16/09/2022 00:22:31  3254750086   \n",
       "14  16/09/2022 00:22:33  3268950397   \n",
       "15  16/09/2022 00:22:40  3268950399   \n",
       "16  16/09/2022 00:22:42  3268623882   \n",
       "17  16/09/2022 00:22:44  3269314159   \n",
       "18  16/09/2022 00:22:47  3268460993   \n",
       "19  16/09/2022 00:22:49  3268463471   \n",
       "\n",
       "                                                title  \\\n",
       "0                  Senior Financial Reporting Analyst   \n",
       "1                  Senior Salesforce Business Analyst   \n",
       "2                            Senior Financial Analyst   \n",
       "3                Senior Analyst, Supply Chain Systems   \n",
       "4       Senior Enterprise Salesforce Business Analyst   \n",
       "5          Senior Data Analyst - Regulatory Reporting   \n",
       "6                  Senior Budget Analyst - Healthcare   \n",
       "7                              Sr. Data Analyst, FP&A   \n",
       "8                  Senior Salesforce Business Analyst   \n",
       "9                    Senior Identity & Access Analyst   \n",
       "10  Senior Analyst/ Associate Manager, Marketing S...   \n",
       "11    Senior Compensation Analyst—Healthcare (Remote)   \n",
       "12                                 Senior HCM Analyst   \n",
       "13                       Quality Assurance Analyst II   \n",
       "14  Senior Analyst or Associate Manager, Marketing...   \n",
       "15  Senior Analyst or Associate Manager, Marketing...   \n",
       "16                       Acquisition Analyst - Senior   \n",
       "17                        Senior Analyst, E-Discovery   \n",
       "18          Senior Financial Analyst (M&A) - $100,000   \n",
       "19                           Senior Financial Analyst   \n",
       "\n",
       "                           company company_link  \\\n",
       "0                            Jobot                \n",
       "1                      Brooksource                \n",
       "2                            Jobot                \n",
       "3              JobsInLogistics.com                \n",
       "4   Wintrust Financial Corporation                \n",
       "5               Explore Job Search                \n",
       "6                             Vaco                \n",
       "7                            Jobot                \n",
       "8                      Robert Half                \n",
       "9             Albertsons Companies                \n",
       "10                           Agoda                \n",
       "11                   Centra Health                \n",
       "12                             YAI                \n",
       "13                          Verisk                \n",
       "14                           Agoda                \n",
       "15                           Agoda                \n",
       "16            HRS Consulting, Inc.                \n",
       "17                 Gilead Sciences                \n",
       "18                           Jobot                \n",
       "19                           Jobot                \n",
       "\n",
       "                                                 link insights  \\\n",
       "0   https://www.linkedin.com/jobs/view/senior-fina...       []   \n",
       "1   https://www.linkedin.com/jobs/view/senior-sale...       []   \n",
       "2   https://www.linkedin.com/jobs/view/senior-fina...       []   \n",
       "3   https://www.linkedin.com/jobs/view/senior-anal...       []   \n",
       "4   https://www.linkedin.com/jobs/view/senior-ente...       []   \n",
       "5   https://www.linkedin.com/jobs/view/senior-data...       []   \n",
       "6   https://www.linkedin.com/jobs/view/senior-budg...       []   \n",
       "7   https://www.linkedin.com/jobs/view/sr-data-ana...       []   \n",
       "8   https://www.linkedin.com/jobs/view/senior-sale...       []   \n",
       "9   https://www.linkedin.com/jobs/view/senior-iden...       []   \n",
       "10  https://www.linkedin.com/jobs/view/senior-anal...       []   \n",
       "11  https://www.linkedin.com/jobs/view/senior-comp...       []   \n",
       "12  https://www.linkedin.com/jobs/view/senior-hcm-...       []   \n",
       "13  https://www.linkedin.com/jobs/view/quality-ass...       []   \n",
       "14  https://www.linkedin.com/jobs/view/senior-anal...       []   \n",
       "15  https://www.linkedin.com/jobs/view/senior-anal...       []   \n",
       "16  https://www.linkedin.com/jobs/view/acquisition...       []   \n",
       "17  https://www.linkedin.com/jobs/view/senior-anal...       []   \n",
       "18  https://www.linkedin.com/jobs/view/senior-fina...       []   \n",
       "19  https://www.linkedin.com/jobs/view/senior-fina...       []   \n",
       "\n",
       "                                          description        date  \\\n",
       "0   Voted one of the top startups in Boston | Sr F...  2022-09-15   \n",
       "1   Senior Salesforce Business Analyst\\n\\nD.C. Are...  2022-08-19   \n",
       "2   Senior Financial Analyst! Hybrid or Remote\\n\\n...  2022-09-15   \n",
       "3   Company: GXO Logistics\\n\\n\\nJob Description\\n\\...  2022-09-04   \n",
       "4   Founded in 1991 with the idea to be the altern...  2022-08-22   \n",
       "5   To apply please visit:\\n\\n\\n\\n\\nhttps://jobs.e...  2022-09-15   \n",
       "6   At Vaco, we match Accounting and Finance profe...  2022-09-12   \n",
       "7   Come work for one of the best Gaming companies...  2022-09-14   \n",
       "8   Description\\n\\nCore responsibilities include p...  2022-08-19   \n",
       "9   About The Company\\n\\nAlbertsons Companies is a...  2022-09-15   \n",
       "10  About Agoda\\n\\n\\n\\n\\nAgoda is an online travel...  2022-09-15   \n",
       "11  Position: Senior Compensation Analyst—Healthca...  2022-09-08   \n",
       "12  If you are a current YAI employee, please clic...  2022-09-03   \n",
       "13  Company Description\\n\\nAt the heart of what we...  2022-09-04   \n",
       "14  About Agoda\\n\\n\\n\\n\\nAgoda is an online travel...  2022-09-15   \n",
       "15  About Agoda\\n\\n\\n\\n\\nAgoda is an online travel...  2022-09-15   \n",
       "16  High Reliability Solutions (HRS) is our name.\\...  2022-08-21   \n",
       "17  For Current Gilead Employees And Contractors\\n...  2022-09-15   \n",
       "18  Tremendous room for growth. STRONG COMPENSATIO...  2022-09-15   \n",
       "19  Sr. Financial Analyst / Hybrid -Remote / Value...  2022-09-15   \n",
       "\n",
       "               place       location  \n",
       "0         Boston, MA  United States  \n",
       "1      United States  United States  \n",
       "2      Allentown, PA  United States  \n",
       "3         Perris, CA  United States  \n",
       "4       Rosemont, IL  United States  \n",
       "5        Chicago, IL  United States  \n",
       "6          Salem, OR  United States  \n",
       "7       Highland, CA  United States  \n",
       "8   Little Falls, NJ  United States  \n",
       "9     Pleasanton, CA  United States  \n",
       "10       Orlando, FL  United States  \n",
       "11     Lynchburg, VA  United States  \n",
       "12      New York, NY  United States  \n",
       "13   Jersey City, NJ  United States  \n",
       "14       Orlando, FL  United States  \n",
       "15        Dallas, TX  United States  \n",
       "16    Washington, DC  United States  \n",
       "17       Raleigh, NC  United States  \n",
       "18         Salem, OR  United States  \n",
       "19        Dallas, TX  United States  "
      ]
     },
     "execution_count": 9,
     "metadata": {},
     "output_type": "execute_result"
    }
   ],
   "source": [
    "data_df"
   ]
  },
  {
   "cell_type": "code",
   "execution_count": null,
   "id": "3abfe69d-1233-4608-8f44-aa3a1dc0ad80",
   "metadata": {},
   "outputs": [],
   "source": []
  }
 ],
 "metadata": {
  "kernelspec": {
   "display_name": "Python 3",
   "language": "python",
   "name": "python3"
  },
  "language_info": {
   "codemirror_mode": {
    "name": "ipython",
    "version": 3
   },
   "file_extension": ".py",
   "mimetype": "text/x-python",
   "name": "python",
   "nbconvert_exporter": "python",
   "pygments_lexer": "ipython3",
   "version": "3.8.8"
  }
 },
 "nbformat": 4,
 "nbformat_minor": 5
}
