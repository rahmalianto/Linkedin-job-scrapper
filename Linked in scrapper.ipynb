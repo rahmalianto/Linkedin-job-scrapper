{
 "cells": [
  {
   "cell_type": "code",
   "execution_count": null,
   "id": "09e25943",
   "metadata": {
    "scrolled": true
   },
   "outputs": [
    {
     "name": "stderr",
     "output_type": "stream",
     "text": [
      "INFO:li:scraper:('Using strategy AnonymousStrategy',)\n",
      "WARNING:li:scraper:(\"AnonymousStrategy is no longer maintained and it won't probably work. It is recommended to use an authenticated session, see documentation at https://github.com/spinlud/py-linkedin-jobs-scraper#anonymous-vs-authenticated-session.\",)\n",
      "INFO:li:scraper:('Starting new query', \"Query(query=Data Analyst options=QueryOptions(limit=100000 locations=['United States'] filters=QueryFilters(time=TimeFilters.MONTH type=[<TypeFilters.FULL_TIME: 'F'>]) optimize=False apply_link=True))\")\n",
      "INFO:li:scraper:('Chrome debugger url', 'http://localhost:52820')\n",
      "INFO:li:scraper:('[Data Analyst][United States]', 'Opening https://www.linkedin.com/jobs/search?keywords=Data+Analyst&location=United+States&f_TPR=r2592000&f_JT=F&start=0')\n",
      "INFO:li:scraper:('[Data Analyst][United States]', 'Trying first selectors set')\n",
      "INFO:li:scraper:('[Data Analyst][United States]', 'Trying second selectors set')\n",
      "INFO:li:scraper:('[Data Analyst][United States]', 'OK')\n",
      "INFO:li:scraper:('[Data Analyst][United States]', 'Starting pagination loop')\n",
      "INFO:li:scraper:('[Data Analyst][United States]', 'Found 25 jobs')\n",
      "INFO:li:scraper:('[Data Analyst][United States][1]', 'Processed')\n"
     ]
    },
    {
     "name": "stdout",
     "output_type": "stream",
     "text": [
      "[ON_DATA] Data Analyst- Data and AI Platform Visa  3228632185 https://www.linkedin.com/jobs/view/data-analyst-data-and-ai-platform-at-visa-3228632185?refId=pUW5Rd%2FpOprNMZPVt4vgPQ%3D%3D&trackingId=J%2FKyjBFAwOcIk8aOlPpSuA%3D%3D&position=1&pageNum=0&trk=public_jobs_jserp-result_search-card [] 4045\n"
     ]
    },
    {
     "name": "stderr",
     "output_type": "stream",
     "text": [
      "WARNING:li:scraper:('[Data Analyst][United States]', '[429] Too many requests', 'You should probably increase scraper \"slow_mo\" value or reduce concurrency')\n",
      "WARNING:li:scraper:('[Data Analyst][United States]', '[429] Too many requests', 'You should probably increase scraper \"slow_mo\" value or reduce concurrency')\n",
      "INFO:li:scraper:('[Data Analyst][United States][2]', 'Processed')\n"
     ]
    },
    {
     "name": "stdout",
     "output_type": "stream",
     "text": [
      "[ON_DATA] Associate Data Analyst Tesla  3237474295 https://www.linkedin.com/jobs/view/associate-data-analyst-at-tesla-3237474295?refId=pUW5Rd%2FpOprNMZPVt4vgPQ%3D%3D&trackingId=HlPp%2FTPRTh3phlUtf6lRoQ%3D%3D&position=2&pageNum=0&trk=public_jobs_jserp-result_search-card [] 2845\n"
     ]
    },
    {
     "name": "stderr",
     "output_type": "stream",
     "text": [
      "INFO:li:scraper:('[Data Analyst][United States][3]', 'Processed')\n"
     ]
    },
    {
     "name": "stdout",
     "output_type": "stream",
     "text": [
      "[ON_DATA] Data Analyst The Walt Disney Company  3236597268 https://www.linkedin.com/jobs/view/data-analyst-at-the-walt-disney-company-3236597268?refId=pUW5Rd%2FpOprNMZPVt4vgPQ%3D%3D&trackingId=z%2BdF4%2FS%2FbWxpWFuWekwsmA%3D%3D&position=3&pageNum=0&trk=public_jobs_jserp-result_search-card [] 149\n"
     ]
    },
    {
     "name": "stderr",
     "output_type": "stream",
     "text": [
      "INFO:li:scraper:('[Data Analyst][United States][4]', 'Processed')\n"
     ]
    },
    {
     "name": "stdout",
     "output_type": "stream",
     "text": [
      "[ON_DATA] Data Analyst TikTok  3235196986 https://www.linkedin.com/jobs/view/data-analyst-at-tiktok-3235196986?refId=pUW5Rd%2FpOprNMZPVt4vgPQ%3D%3D&trackingId=3S7ubH7kmVhkiAovIzp5YA%3D%3D&position=4&pageNum=0&trk=public_jobs_jserp-result_search-card [] 4875\n"
     ]
    },
    {
     "name": "stderr",
     "output_type": "stream",
     "text": [
      "INFO:li:scraper:('[Data Analyst][United States][5]', 'Processed')\n"
     ]
    },
    {
     "name": "stdout",
     "output_type": "stream",
     "text": [
      "[ON_DATA] Data Analyst Numero Data  3265245851 https://www.linkedin.com/jobs/view/data-analyst-at-numero-data-3265245851?refId=pUW5Rd%2FpOprNMZPVt4vgPQ%3D%3D&trackingId=f82aGjN%2F8w4CM3p0WbcoFw%3D%3D&position=5&pageNum=0&trk=public_jobs_jserp-result_search-card [] 946\n"
     ]
    },
    {
     "name": "stderr",
     "output_type": "stream",
     "text": [
      "INFO:li:scraper:('[Data Analyst][United States][6]', 'Processed')\n"
     ]
    },
    {
     "name": "stdout",
     "output_type": "stream",
     "text": [
      "[ON_DATA] Data Analyst, Demand and Production Planning Tesla  3237418047 https://www.linkedin.com/jobs/view/data-analyst-demand-and-production-planning-at-tesla-3237418047?refId=pUW5Rd%2FpOprNMZPVt4vgPQ%3D%3D&trackingId=gp8b3BpeneyqU7s%2Fm9xyrg%3D%3D&position=6&pageNum=0&trk=public_jobs_jserp-result_search-card [] 1783\n"
     ]
    },
    {
     "name": "stderr",
     "output_type": "stream",
     "text": [
      "INFO:li:scraper:('[Data Analyst][United States][7]', 'Processed')\n"
     ]
    },
    {
     "name": "stdout",
     "output_type": "stream",
     "text": [
      "[ON_DATA] Data Analyst, Automation and Analytics Tesla  3234261196 https://www.linkedin.com/jobs/view/data-analyst-automation-and-analytics-at-tesla-3234261196?refId=pUW5Rd%2FpOprNMZPVt4vgPQ%3D%3D&trackingId=pGNYQSjRaJyI%2FTxLXFCXuQ%3D%3D&position=7&pageNum=0&trk=public_jobs_jserp-result_search-card [] 3040\n"
     ]
    },
    {
     "name": "stderr",
     "output_type": "stream",
     "text": [
      "INFO:li:scraper:('[Data Analyst][United States][8]', 'Processed')\n"
     ]
    },
    {
     "name": "stdout",
     "output_type": "stream",
     "text": [
      "[ON_DATA] Data Analyst Scripps Health  3237430020 https://www.linkedin.com/jobs/view/data-analyst-at-scripps-health-3237430020?refId=pUW5Rd%2FpOprNMZPVt4vgPQ%3D%3D&trackingId=mpVjhmnbfp%2FI9vaCrM1XTg%3D%3D&position=8&pageNum=0&trk=public_jobs_jserp-result_search-card [] 2228\n"
     ]
    },
    {
     "name": "stderr",
     "output_type": "stream",
     "text": [
      "INFO:li:scraper:('[Data Analyst][United States][9]', 'Processed')\n"
     ]
    },
    {
     "name": "stdout",
     "output_type": "stream",
     "text": [
      "[ON_DATA] Data Analyst Vanguard  3257335394 https://www.linkedin.com/jobs/view/data-analyst-at-vanguard-3257335394?refId=pUW5Rd%2FpOprNMZPVt4vgPQ%3D%3D&trackingId=zKAvgDEyTfwvinndVGDZfw%3D%3D&position=9&pageNum=0&trk=public_jobs_jserp-result_search-card [] 5620\n"
     ]
    },
    {
     "name": "stderr",
     "output_type": "stream",
     "text": [
      "INFO:li:scraper:('[Data Analyst][United States][10]', 'Processed')\n"
     ]
    },
    {
     "name": "stdout",
     "output_type": "stream",
     "text": [
      "[ON_DATA] Data Analyst TikTok  3250344293 https://www.linkedin.com/jobs/view/data-analyst-at-tiktok-3250344293?refId=pUW5Rd%2FpOprNMZPVt4vgPQ%3D%3D&trackingId=WrrZupvT2bcyTVHc%2BuJt6g%3D%3D&position=10&pageNum=0&trk=public_jobs_jserp-result_search-card [] 4404\n"
     ]
    },
    {
     "name": "stderr",
     "output_type": "stream",
     "text": [
      "INFO:li:scraper:('[Data Analyst][United States][11]', 'Processed')\n"
     ]
    },
    {
     "name": "stdout",
     "output_type": "stream",
     "text": [
      "[ON_DATA] Associate Data Analyst Scholastic  3266880738 https://www.linkedin.com/jobs/view/associate-data-analyst-at-scholastic-3266880738?refId=pUW5Rd%2FpOprNMZPVt4vgPQ%3D%3D&trackingId=45SbV4L8VJUPj9fOb1P7CA%3D%3D&position=11&pageNum=0&trk=public_jobs_jserp-result_search-card [] 5913\n"
     ]
    },
    {
     "name": "stderr",
     "output_type": "stream",
     "text": [
      "INFO:li:scraper:('[Data Analyst][United States][12]', 'Processed')\n"
     ]
    },
    {
     "name": "stdout",
     "output_type": "stream",
     "text": [
      "[ON_DATA] Data Analyst (Remote) The Home Depot  3249536123 https://www.linkedin.com/jobs/view/data-analyst-remote-at-the-home-depot-3249536123?refId=pUW5Rd%2FpOprNMZPVt4vgPQ%3D%3D&trackingId=q%2FBnIIHHDFadNygXAzYK9A%3D%3D&position=12&pageNum=0&trk=public_jobs_jserp-result_search-card [] 3709\n"
     ]
    },
    {
     "name": "stderr",
     "output_type": "stream",
     "text": [
      "INFO:li:scraper:('[Data Analyst][United States][13]', 'Processed')\n"
     ]
    },
    {
     "name": "stdout",
     "output_type": "stream",
     "text": [
      "[ON_DATA] Data Analyst Givebutter  3256988698 https://www.linkedin.com/jobs/view/data-analyst-at-givebutter-3256988698?refId=pUW5Rd%2FpOprNMZPVt4vgPQ%3D%3D&trackingId=IAkqAFISHIjpCcrlOtSLLg%3D%3D&position=13&pageNum=0&trk=public_jobs_jserp-result_search-card [] 2798\n"
     ]
    },
    {
     "name": "stderr",
     "output_type": "stream",
     "text": [
      "WARNING:li:scraper:('[Data Analyst][United States]', '[429] Too many requests', 'You should probably increase scraper \"slow_mo\" value or reduce concurrency')\n",
      "WARNING:li:scraper:('[Data Analyst][United States]', '[429] Too many requests', 'You should probably increase scraper \"slow_mo\" value or reduce concurrency')\n",
      "ERROR:li:scraper:('[Data Analyst][United States][14]', 'Timeout on loading job details')\n",
      "NoneType: None\n",
      "INFO:li:scraper:('[Data Analyst][United States][14]', 'Processed')\n"
     ]
    },
    {
     "name": "stdout",
     "output_type": "stream",
     "text": [
      "[ON_DATA] Remote Data Analyst Insight Global  3260061778 https://www.linkedin.com/jobs/view/remote-data-analyst-at-insight-global-3260061778?refId=pUW5Rd%2FpOprNMZPVt4vgPQ%3D%3D&trackingId=AP92EECVuEkWJvJrKTwDTw%3D%3D&position=15&pageNum=0&trk=public_jobs_jserp-result_search-card [] 1225\n"
     ]
    },
    {
     "name": "stderr",
     "output_type": "stream",
     "text": [
      "INFO:li:scraper:('[Data Analyst][United States][15]', 'Processed')\n"
     ]
    },
    {
     "name": "stdout",
     "output_type": "stream",
     "text": [
      "[ON_DATA] Data Analyst TikTok  3250341749 https://www.linkedin.com/jobs/view/data-analyst-at-tiktok-3250341749?refId=pUW5Rd%2FpOprNMZPVt4vgPQ%3D%3D&trackingId=6ZqU287j5dUy1NgzQq9fmw%3D%3D&position=16&pageNum=0&trk=public_jobs_jserp-result_search-card [] 4404\n"
     ]
    },
    {
     "name": "stderr",
     "output_type": "stream",
     "text": [
      "WARNING:li:scraper:('[Data Analyst][United States]', '[429] Too many requests', 'You should probably increase scraper \"slow_mo\" value or reduce concurrency')\n",
      "WARNING:li:scraper:('[Data Analyst][United States]', '[429] Too many requests', 'You should probably increase scraper \"slow_mo\" value or reduce concurrency')\n",
      "ERROR:li:scraper:('[Data Analyst][United States][16]', 'Timeout on loading job details')\n",
      "NoneType: None\n",
      "INFO:li:scraper:('[Data Analyst][United States][16]', 'Processed')\n"
     ]
    },
    {
     "name": "stdout",
     "output_type": "stream",
     "text": [
      "[ON_DATA] Consulting Data Analyst Kaiser Permanente  3254903721 https://www.linkedin.com/jobs/view/consulting-data-analyst-at-kaiser-permanente-3254903721?refId=pUW5Rd%2FpOprNMZPVt4vgPQ%3D%3D&trackingId=YPfkJruT3Ogc3nnLeoVcfg%3D%3D&position=18&pageNum=0&trk=public_jobs_jserp-result_search-card [] 1978\n"
     ]
    },
    {
     "name": "stderr",
     "output_type": "stream",
     "text": [
      "ERROR:li:scraper:('[Data Analyst][United States][17]', JavascriptException(\"javascript error: Cannot read properties of null (reading 'scrollIntoView')\\n  (Session info: headless chrome=105.0.5195.102)\", None, None), 'Traceback (most recent call last):\\n  File \"C:\\\\Users\\\\User\\\\anaconda3\\\\lib\\\\site-packages\\\\linkedin_jobs_scraper\\\\strategies\\\\anonymous_strategy.py\", line 267, in run\\n    job_id, job_link, job_title, job_company, job_place, job_date = driver.execute_script(\\n  File \"C:\\\\Users\\\\User\\\\anaconda3\\\\lib\\\\site-packages\\\\selenium\\\\webdriver\\\\remote\\\\webdriver.py\", line 634, in execute_script\\n    return self.execute(command, {\\n  File \"C:\\\\Users\\\\User\\\\anaconda3\\\\lib\\\\site-packages\\\\selenium\\\\webdriver\\\\remote\\\\webdriver.py\", line 321, in execute\\n    self.error_handler.check_response(response)\\n  File \"C:\\\\Users\\\\User\\\\anaconda3\\\\lib\\\\site-packages\\\\selenium\\\\webdriver\\\\remote\\\\errorhandler.py\", line 242, in check_response\\n    raise exception_class(message, screen, stacktrace)\\nselenium.commo...\n",
      "Traceback (most recent call last):\n",
      "  File \"C:\\Users\\User\\anaconda3\\lib\\site-packages\\linkedin_jobs_scraper\\strategies\\anonymous_strategy.py\", line 267, in run\n",
      "    job_id, job_link, job_title, job_company, job_place, job_date = driver.execute_script(\n",
      "  File \"C:\\Users\\User\\anaconda3\\lib\\site-packages\\selenium\\webdriver\\remote\\webdriver.py\", line 634, in execute_script\n",
      "    return self.execute(command, {\n",
      "  File \"C:\\Users\\User\\anaconda3\\lib\\site-packages\\selenium\\webdriver\\remote\\webdriver.py\", line 321, in execute\n",
      "    self.error_handler.check_response(response)\n",
      "  File \"C:\\Users\\User\\anaconda3\\lib\\site-packages\\selenium\\webdriver\\remote\\errorhandler.py\", line 242, in check_response\n",
      "    raise exception_class(message, screen, stacktrace)\n",
      "selenium.common.exceptions.JavascriptException: Message: javascript error: Cannot read properties of null (reading 'scrollIntoView')\n",
      "  (Session info: headless chrome=105.0.5195.102)\n",
      "\n"
     ]
    },
    {
     "name": "stdout",
     "output_type": "stream",
     "text": [
      "[ON_ERROR] Message: javascript error: Cannot read properties of null (reading 'scrollIntoView')\n",
      "  (Session info: headless chrome=105.0.5195.102)\n",
      "\n",
      "Traceback (most recent call last):\n",
      "  File \"C:\\Users\\User\\anaconda3\\lib\\site-packages\\linkedin_jobs_scraper\\strategies\\anonymous_strategy.py\", line 267, in run\n",
      "    job_id, job_link, job_title, job_company, job_place, job_date = driver.execute_script(\n",
      "  File \"C:\\Users\\User\\anaconda3\\lib\\site-packages\\selenium\\webdriver\\remote\\webdriver.py\", line 634, in execute_script\n",
      "    return self.execute(command, {\n",
      "  File \"C:\\Users\\User\\anaconda3\\lib\\site-packages\\selenium\\webdriver\\remote\\webdriver.py\", line 321, in execute\n",
      "    self.error_handler.check_response(response)\n",
      "  File \"C:\\Users\\User\\anaconda3\\lib\\site-packages\\selenium\\webdriver\\remote\\errorhandler.py\", line 242, in check_response\n",
      "    raise exception_class(message, screen, stacktrace)\n",
      "selenium.common.exceptions.JavascriptException: Message: javascript error: Cannot read properties of null (reading 'scrollIntoView')\n",
      "  (Session info: headless chrome=105.0.5195.102)\n",
      "\n",
      "\n"
     ]
    },
    {
     "name": "stderr",
     "output_type": "stream",
     "text": [
      "INFO:li:scraper:('[Data Analyst][United States][17]', 'Processed')\n"
     ]
    },
    {
     "name": "stdout",
     "output_type": "stream",
     "text": [
      "[ON_DATA] Data Analyst Associate - 2023 Capital One  3224179483 https://www.linkedin.com/jobs/view/data-analyst-associate-2023-at-capital-one-3224179483?refId=pUW5Rd%2FpOprNMZPVt4vgPQ%3D%3D&trackingId=SbMm6opSgG9seBS7W4Plrw%3D%3D&position=20&pageNum=0&trk=public_jobs_jserp-result_search-card [] 7688\n"
     ]
    },
    {
     "name": "stderr",
     "output_type": "stream",
     "text": [
      "INFO:li:scraper:('[Data Analyst][United States][18]', 'Processed')\n"
     ]
    },
    {
     "name": "stdout",
     "output_type": "stream",
     "text": [
      "[ON_DATA] Data Analyst - Infrastructure Data Centers TikTok  3215452315 https://www.linkedin.com/jobs/view/data-analyst-infrastructure-data-centers-at-tiktok-3215452315?refId=pUW5Rd%2FpOprNMZPVt4vgPQ%3D%3D&trackingId=Uu3JKHoKsKt%2FvP8o3FusBQ%3D%3D&position=21&pageNum=0&trk=public_jobs_jserp-result_search-card [] 3298\n"
     ]
    },
    {
     "name": "stderr",
     "output_type": "stream",
     "text": [
      "INFO:li:scraper:('[Data Analyst][United States][19]', 'Processed')\n"
     ]
    },
    {
     "name": "stdout",
     "output_type": "stream",
     "text": [
      "[ON_DATA] Data Analyst Aston Carter  3267667255 https://www.linkedin.com/jobs/view/data-analyst-at-aston-carter-3267667255?refId=pUW5Rd%2FpOprNMZPVt4vgPQ%3D%3D&trackingId=HdYBdlyHS29zPgm6bp8suw%3D%3D&position=22&pageNum=0&trk=public_jobs_jserp-result_search-card [] 3764\n"
     ]
    },
    {
     "name": "stderr",
     "output_type": "stream",
     "text": [
      "INFO:li:scraper:('[Data Analyst][United States][20]', 'Processed')\n"
     ]
    },
    {
     "name": "stdout",
     "output_type": "stream",
     "text": [
      "[ON_DATA] Customer Data Analyst Wawa, Inc.  3257647577 https://www.linkedin.com/jobs/view/customer-data-analyst-at-wawa-inc-3257647577?refId=pUW5Rd%2FpOprNMZPVt4vgPQ%3D%3D&trackingId=T1FT5ff4nS1wPEfsuvq8Hg%3D%3D&position=23&pageNum=0&trk=public_jobs_jserp-result_search-card [] 5975\n"
     ]
    },
    {
     "name": "stderr",
     "output_type": "stream",
     "text": [
      "INFO:li:scraper:('[Data Analyst][United States][21]', 'Processed')\n"
     ]
    },
    {
     "name": "stdout",
     "output_type": "stream",
     "text": [
      "[ON_DATA] Data Analyst- Supply Chain Data Quality (Remote) The Home Depot  3255720428 https://www.linkedin.com/jobs/view/data-analyst-supply-chain-data-quality-remote-at-the-home-depot-3255720428?refId=pUW5Rd%2FpOprNMZPVt4vgPQ%3D%3D&trackingId=wqwouAkLLGZS1rGY3gF8qg%3D%3D&position=24&pageNum=0&trk=public_jobs_jserp-result_search-card [] 3284\n"
     ]
    },
    {
     "name": "stderr",
     "output_type": "stream",
     "text": [
      "INFO:li:scraper:('[Data Analyst][United States][22]', 'Processed')\n"
     ]
    },
    {
     "name": "stdout",
     "output_type": "stream",
     "text": [
      "[ON_DATA] Entry Level, Data Analyst Actalent  3267656561 https://www.linkedin.com/jobs/view/entry-level-data-analyst-at-actalent-3267656561?refId=pUW5Rd%2FpOprNMZPVt4vgPQ%3D%3D&trackingId=yzE805sy7odkFrWfbdSdZQ%3D%3D&position=25&pageNum=0&trk=public_jobs_jserp-result_search-card [] 2473\n"
     ]
    },
    {
     "name": "stderr",
     "output_type": "stream",
     "text": [
      "INFO:li:scraper:('[Data Analyst][United States][23]', 'Processed')\n"
     ]
    },
    {
     "name": "stdout",
     "output_type": "stream",
     "text": [
      "[ON_DATA] Data Analyst Aston Carter  3267662811 https://www.linkedin.com/jobs/view/data-analyst-at-aston-carter-3267662811?refId=szQ3qwgMJBWvqpyF53nuNQ%3D%3D&trackingId=iOjbDyJ5ekx02MxtXxfIVw%3D%3D&position=1&pageNum=1&trk=public_jobs_jserp-result_search-card [] 3764\n"
     ]
    },
    {
     "name": "stderr",
     "output_type": "stream",
     "text": [
      "INFO:li:scraper:('[Data Analyst][United States][24]', 'Processed')\n"
     ]
    },
    {
     "name": "stdout",
     "output_type": "stream",
     "text": [
      "[ON_DATA] Jr. Data Analyst Healthy Directions  3245367348 https://www.linkedin.com/jobs/view/jr-data-analyst-at-healthy-directions-3245367348?refId=szQ3qwgMJBWvqpyF53nuNQ%3D%3D&trackingId=IMXPxN7eUUZLHqjFoWGJrw%3D%3D&position=2&pageNum=1&trk=public_jobs_jserp-result_search-card [] 3030\n"
     ]
    },
    {
     "name": "stderr",
     "output_type": "stream",
     "text": [
      "INFO:li:scraper:('[Data Analyst][United States][25]', 'Processed')\n"
     ]
    },
    {
     "name": "stdout",
     "output_type": "stream",
     "text": [
      "[ON_DATA] Business Data Analyst DraftKings Inc.  3258117198 https://www.linkedin.com/jobs/view/business-data-analyst-at-draftkings-inc-3258117198?refId=szQ3qwgMJBWvqpyF53nuNQ%3D%3D&trackingId=Q5wu7J4wfw%2Bp3lq7EOteXA%3D%3D&position=3&pageNum=1&trk=public_jobs_jserp-result_search-card [] 2628\n"
     ]
    },
    {
     "name": "stderr",
     "output_type": "stream",
     "text": [
      "INFO:li:scraper:('[Data Analyst][United States][26]', 'Processed')\n"
     ]
    },
    {
     "name": "stdout",
     "output_type": "stream",
     "text": [
      "[ON_DATA] Senior Data Analyst Walmart  3258109675 https://www.linkedin.com/jobs/view/senior-data-analyst-at-walmart-3258109675?refId=szQ3qwgMJBWvqpyF53nuNQ%3D%3D&trackingId=4lKbQ6Tsv%2F61%2Bfs01sC8Eg%3D%3D&position=4&pageNum=1&trk=public_jobs_jserp-result_search-card [] 6413\n"
     ]
    },
    {
     "name": "stderr",
     "output_type": "stream",
     "text": [
      "INFO:li:scraper:('[Data Analyst][United States][27]', 'Processed')\n"
     ]
    },
    {
     "name": "stdout",
     "output_type": "stream",
     "text": [
      "[ON_DATA] Data Analyst II - World Trade Center Health Program Data Center (Remote) Mount Sinai Health System  3237751378 https://www.linkedin.com/jobs/view/data-analyst-ii-world-trade-center-health-program-data-center-remote-at-mount-sinai-health-system-3237751378?refId=szQ3qwgMJBWvqpyF53nuNQ%3D%3D&trackingId=kyj6VajLQDavidCxNtKM9Q%3D%3D&position=5&pageNum=1&trk=public_jobs_jserp-result_search-card [] 6323\n"
     ]
    },
    {
     "name": "stderr",
     "output_type": "stream",
     "text": [
      "INFO:li:scraper:('[Data Analyst][United States][28]', 'Processed')\n"
     ]
    },
    {
     "name": "stdout",
     "output_type": "stream",
     "text": [
      "[ON_DATA] Data Analytics & Insights Analyst Barclays  3236507455 https://www.linkedin.com/jobs/view/data-analytics-insights-analyst-at-barclays-3236507455?refId=szQ3qwgMJBWvqpyF53nuNQ%3D%3D&trackingId=ApAZe1xkxoKDTpIohtbBKQ%3D%3D&position=6&pageNum=1&trk=public_jobs_jserp-result_search-card [] 3070\n"
     ]
    },
    {
     "name": "stderr",
     "output_type": "stream",
     "text": [
      "ERROR:li:scraper:('[Data Analyst][United States][29]', JavascriptException(\"javascript error: Cannot read properties of null (reading 'scrollIntoView')\\n  (Session info: headless chrome=105.0.5195.102)\", None, None), 'Traceback (most recent call last):\\n  File \"C:\\\\Users\\\\User\\\\anaconda3\\\\lib\\\\site-packages\\\\linkedin_jobs_scraper\\\\strategies\\\\anonymous_strategy.py\", line 267, in run\\n    job_id, job_link, job_title, job_company, job_place, job_date = driver.execute_script(\\n  File \"C:\\\\Users\\\\User\\\\anaconda3\\\\lib\\\\site-packages\\\\selenium\\\\webdriver\\\\remote\\\\webdriver.py\", line 634, in execute_script\\n    return self.execute(command, {\\n  File \"C:\\\\Users\\\\User\\\\anaconda3\\\\lib\\\\site-packages\\\\selenium\\\\webdriver\\\\remote\\\\webdriver.py\", line 321, in execute\\n    self.error_handler.check_response(response)\\n  File \"C:\\\\Users\\\\User\\\\anaconda3\\\\lib\\\\site-packages\\\\selenium\\\\webdriver\\\\remote\\\\errorhandler.py\", line 242, in check_response\\n    raise exception_class(message, screen, stacktrace)\\nselenium.commo...\n",
      "Traceback (most recent call last):\n",
      "  File \"C:\\Users\\User\\anaconda3\\lib\\site-packages\\linkedin_jobs_scraper\\strategies\\anonymous_strategy.py\", line 267, in run\n",
      "    job_id, job_link, job_title, job_company, job_place, job_date = driver.execute_script(\n",
      "  File \"C:\\Users\\User\\anaconda3\\lib\\site-packages\\selenium\\webdriver\\remote\\webdriver.py\", line 634, in execute_script\n",
      "    return self.execute(command, {\n",
      "  File \"C:\\Users\\User\\anaconda3\\lib\\site-packages\\selenium\\webdriver\\remote\\webdriver.py\", line 321, in execute\n",
      "    self.error_handler.check_response(response)\n",
      "  File \"C:\\Users\\User\\anaconda3\\lib\\site-packages\\selenium\\webdriver\\remote\\errorhandler.py\", line 242, in check_response\n",
      "    raise exception_class(message, screen, stacktrace)\n",
      "selenium.common.exceptions.JavascriptException: Message: javascript error: Cannot read properties of null (reading 'scrollIntoView')\n",
      "  (Session info: headless chrome=105.0.5195.102)\n",
      "\n"
     ]
    },
    {
     "name": "stdout",
     "output_type": "stream",
     "text": [
      "[ON_ERROR] Message: javascript error: Cannot read properties of null (reading 'scrollIntoView')\n",
      "  (Session info: headless chrome=105.0.5195.102)\n",
      "\n",
      "Traceback (most recent call last):\n",
      "  File \"C:\\Users\\User\\anaconda3\\lib\\site-packages\\linkedin_jobs_scraper\\strategies\\anonymous_strategy.py\", line 267, in run\n",
      "    job_id, job_link, job_title, job_company, job_place, job_date = driver.execute_script(\n",
      "  File \"C:\\Users\\User\\anaconda3\\lib\\site-packages\\selenium\\webdriver\\remote\\webdriver.py\", line 634, in execute_script\n",
      "    return self.execute(command, {\n",
      "  File \"C:\\Users\\User\\anaconda3\\lib\\site-packages\\selenium\\webdriver\\remote\\webdriver.py\", line 321, in execute\n",
      "    self.error_handler.check_response(response)\n",
      "  File \"C:\\Users\\User\\anaconda3\\lib\\site-packages\\selenium\\webdriver\\remote\\errorhandler.py\", line 242, in check_response\n",
      "    raise exception_class(message, screen, stacktrace)\n",
      "selenium.common.exceptions.JavascriptException: Message: javascript error: Cannot read properties of null (reading 'scrollIntoView')\n",
      "  (Session info: headless chrome=105.0.5195.102)\n",
      "\n",
      "\n"
     ]
    },
    {
     "name": "stderr",
     "output_type": "stream",
     "text": [
      "INFO:li:scraper:('[Data Analyst][United States][29]', 'Processed')\n"
     ]
    },
    {
     "name": "stdout",
     "output_type": "stream",
     "text": [
      "[ON_DATA] Data Analytics & Insights Analyst Barclays  3236510157 https://www.linkedin.com/jobs/view/data-analytics-insights-analyst-at-barclays-3236510157?refId=szQ3qwgMJBWvqpyF53nuNQ%3D%3D&trackingId=3muLQz2EwZBZZ8M0n4QiFw%3D%3D&position=8&pageNum=1&trk=public_jobs_jserp-result_search-card [] 3072\n"
     ]
    },
    {
     "name": "stderr",
     "output_type": "stream",
     "text": [
      "INFO:li:scraper:('[Data Analyst][United States][30]', 'Processed')\n"
     ]
    },
    {
     "name": "stdout",
     "output_type": "stream",
     "text": [
      "[ON_DATA] Data Analyst Dow Jones  3258492819 https://www.linkedin.com/jobs/view/data-analyst-at-dow-jones-3258492819?refId=szQ3qwgMJBWvqpyF53nuNQ%3D%3D&trackingId=7PLW2xZ3Fjl9eLbkd0kkdg%3D%3D&position=9&pageNum=1&trk=public_jobs_jserp-result_search-card [] 5620\n"
     ]
    },
    {
     "name": "stderr",
     "output_type": "stream",
     "text": [
      "INFO:li:scraper:('[Data Analyst][United States][31]', 'Processed')\n"
     ]
    },
    {
     "name": "stdout",
     "output_type": "stream",
     "text": [
      "[ON_DATA] Data Analyst The Walt Disney Company  3239504095 https://www.linkedin.com/jobs/view/data-analyst-at-the-walt-disney-company-3239504095?refId=szQ3qwgMJBWvqpyF53nuNQ%3D%3D&trackingId=qKd3GZQSnpY3b4dMq401gQ%3D%3D&position=10&pageNum=1&trk=public_jobs_jserp-result_search-card [] 3936\n"
     ]
    },
    {
     "name": "stderr",
     "output_type": "stream",
     "text": [
      "WARNING:li:scraper:('[Data Analyst][United States]', '[429] Too many requests', 'You should probably increase scraper \"slow_mo\" value or reduce concurrency')\n",
      "WARNING:li:scraper:('[Data Analyst][United States]', '[429] Too many requests', 'You should probably increase scraper \"slow_mo\" value or reduce concurrency')\n",
      "ERROR:li:scraper:('[Data Analyst][United States][32]', 'Timeout on loading job details')\n",
      "NoneType: None\n",
      "WARNING:li:scraper:('[Data Analyst][United States]', '[429] Too many requests', 'You should probably increase scraper \"slow_mo\" value or reduce concurrency')\n",
      "WARNING:li:scraper:('[Data Analyst][United States]', '[429] Too many requests', 'You should probably increase scraper \"slow_mo\" value or reduce concurrency')\n"
     ]
    }
   ],
   "source": [
    "import logging\n",
    "from linkedin_jobs_scraper import LinkedinScraper\n",
    "from linkedin_jobs_scraper.events import Events, EventData, EventMetrics\n",
    "from linkedin_jobs_scraper.query import Query, QueryOptions, QueryFilters\n",
    "from linkedin_jobs_scraper.filters import RelevanceFilters, TimeFilters, TypeFilters, ExperienceLevelFilters, RemoteFilters\n",
    "from datetime import datetime\n",
    "import os\n",
    "import pandas as pd\n",
    "\n",
    "# Change root logger level (default is WARN)\n",
    "logging.basicConfig(level = logging.INFO)\n",
    "os.environ[\"LI_AT_COOKIE\"] = \"AQEDARESB8QCCCceAAABgyga0fIAAAGDTCdV8k4Ak3TFNJsbSAF_TqXL7lVHcHkEjj5H38QFkYkSN6L2pDfANEe0AN1zNYf1J1zzhZwYN4RXZ7Q4hTZAsxqVeY2c8n0BjKXtCjIJmF27OWpL0aAceoZ_\"\n",
    "\n",
    "data_df = pd.DataFrame(columns=['time', 'job_id', 'title', 'company', 'company_link', 'link', 'insights', 'description', 'date', 'place', 'location'])\n",
    "\n",
    "# Fired once for each successfully processed job\n",
    "def on_data(data: EventData):\n",
    "    print('[ON_DATA]', data.title, data.company, data.company_link, data.job_id, data.link, data.insights, len(data.description))\n",
    "    time = datetime.now().strftime(\"%d/%m/%Y %H:%M:%S\")\n",
    "    job_id = data.job_id\n",
    "    title = data.title\n",
    "    company = data.company\n",
    "    company_link = data.company_link\n",
    "    link = data.link\n",
    "    insights = data.insights\n",
    "    description = data.description\n",
    "    date = data.date\n",
    "    place = data.place\n",
    "    location = data.location\n",
    "    \n",
    "    file_name = time\n",
    "    data_df.loc[len(data_df)] = [time, job_id, title, company, company_link, link, insights, description, date, place, location]\n",
    "    \n",
    "# Fired once for each page (25 jobs)\n",
    "def on_metrics(metrics: EventMetrics):\n",
    "  print('[ON_METRICS]', str(metrics))\n",
    "\n",
    "def on_error(error):\n",
    "    print('[ON_ERROR]', error)\n",
    "\n",
    "def on_end():\n",
    "    print('[ON_END]')\n",
    "\n",
    "\n",
    "scraper = LinkedinScraper(\n",
    "    chrome_executable_path=r\"C:\\Users\\User\\Downloads\\chromedriver_win32\\chromedriver.exe\", # Custom Chrome executable path (e.g. /foo/bar/bin/chromedriver) \n",
    "    chrome_options=None,  # Custom Chrome options here\n",
    "    headless=True,  # Overrides headless mode only if chrome_options is None\n",
    "    max_workers=1,  # How many threads will be spawned to run queries concurrently (one Chrome driver for each thread)\n",
    "    slow_mo=2,  # Slow down the scraper to avoid 'Too many requests 429' errors (in seconds)\n",
    "    page_load_timeout=20  # Page load timeout (in seconds)    \n",
    "#     LI_AT_COOKIE=<your li_at cookie value here> python your_app.py\n",
    ")\n",
    "\n",
    "# Add event listeners\n",
    "scraper.on(Events.DATA, on_data)\n",
    "scraper.on(Events.ERROR, on_error)\n",
    "scraper.on(Events.END, on_end)\n",
    "\n",
    "queries = [\n",
    "    Query(\n",
    "        query='Data Analyst',\n",
    "        options=QueryOptions(\n",
    "            locations=['United States'],            \n",
    "            apply_link = True,  # Try to extract apply link (easy applies are skipped). Default to False.\n",
    "            limit=100000,\n",
    "            filters=QueryFilters(              \n",
    "#                 company_jobs_url='https://www.linkedin.com/jobs/search/?f_C=1441%2C17876832%2C791962%2C2374003%2C18950635%2C16140%2C10440912&geoId=92000000',  # Filter by companies.\n",
    "#                 relevance=RelevanceFilters.RECENT,\n",
    "                time=TimeFilters.MONTH,\n",
    "                type=[TypeFilters.FULL_TIME]\n",
    "            )\n",
    "        )\n",
    "    ),\n",
    "]\n",
    "\n",
    "scraper.run(queries)"
   ]
  },
  {
   "cell_type": "code",
   "execution_count": null,
   "id": "f9d094b0",
   "metadata": {},
   "outputs": [],
   "source": [
    "time = datetime.now().strftime(\"%d-%m-%Y\")\n",
    "data_df.to_csv('data analyst - ' +time+'.csv',sep=';')"
   ]
  },
  {
   "cell_type": "code",
   "execution_count": 37,
   "id": "461d6f4b",
   "metadata": {},
   "outputs": [
    {
     "data": {
      "text/html": [
       "<div>\n",
       "<style scoped>\n",
       "    .dataframe tbody tr th:only-of-type {\n",
       "        vertical-align: middle;\n",
       "    }\n",
       "\n",
       "    .dataframe tbody tr th {\n",
       "        vertical-align: top;\n",
       "    }\n",
       "\n",
       "    .dataframe thead th {\n",
       "        text-align: right;\n",
       "    }\n",
       "</style>\n",
       "<table border=\"1\" class=\"dataframe\">\n",
       "  <thead>\n",
       "    <tr style=\"text-align: right;\">\n",
       "      <th></th>\n",
       "      <th>time</th>\n",
       "      <th>title</th>\n",
       "      <th>company</th>\n",
       "      <th>company_link</th>\n",
       "      <th>link</th>\n",
       "      <th>insights</th>\n",
       "      <th>description</th>\n",
       "      <th>date</th>\n",
       "      <th>place</th>\n",
       "      <th>location</th>\n",
       "    </tr>\n",
       "  </thead>\n",
       "  <tbody>\n",
       "    <tr>\n",
       "      <th>0</th>\n",
       "      <td>13/09/2022 08:13:04</td>\n",
       "      <td>Data Science Graduate</td>\n",
       "      <td>Hewlett Packard Enterprise</td>\n",
       "      <td></td>\n",
       "      <td>https://www.linkedin.com/jobs/view/data-scienc...</td>\n",
       "      <td>[]</td>\n",
       "      <td>This role has been designated as ‘Edge’, which...</td>\n",
       "      <td>2022-09-06</td>\n",
       "      <td>San Jose, CA</td>\n",
       "      <td>United States</td>\n",
       "    </tr>\n",
       "    <tr>\n",
       "      <th>1</th>\n",
       "      <td>13/09/2022 08:13:06</td>\n",
       "      <td>Data Science Intern</td>\n",
       "      <td>Hewlett Packard Enterprise</td>\n",
       "      <td></td>\n",
       "      <td>https://www.linkedin.com/jobs/view/data-scienc...</td>\n",
       "      <td>[]</td>\n",
       "      <td>This role has been designated as ‘Edge’, which...</td>\n",
       "      <td>2022-09-07</td>\n",
       "      <td>San Jose, CA</td>\n",
       "      <td>United States</td>\n",
       "    </tr>\n",
       "    <tr>\n",
       "      <th>2</th>\n",
       "      <td>13/09/2022 08:13:09</td>\n",
       "      <td>Data Scientist - New Grad (2023 Start)</td>\n",
       "      <td>Databricks</td>\n",
       "      <td></td>\n",
       "      <td>https://www.linkedin.com/jobs/view/data-scient...</td>\n",
       "      <td>[]</td>\n",
       "      <td>At Databricks, we are passionate about helping...</td>\n",
       "      <td>2022-09-06</td>\n",
       "      <td>San Francisco, CA</td>\n",
       "      <td>United States</td>\n",
       "    </tr>\n",
       "    <tr>\n",
       "      <th>3</th>\n",
       "      <td>13/09/2022 08:13:11</td>\n",
       "      <td>Data Scientist</td>\n",
       "      <td>Hyatt Hotels Corporation</td>\n",
       "      <td></td>\n",
       "      <td>https://www.linkedin.com/jobs/view/data-scient...</td>\n",
       "      <td>[]</td>\n",
       "      <td>The Role\\n\\nSupport a variety of algorithmic p...</td>\n",
       "      <td>2022-09-12</td>\n",
       "      <td>United States</td>\n",
       "      <td>United States</td>\n",
       "    </tr>\n",
       "    <tr>\n",
       "      <th>4</th>\n",
       "      <td>13/09/2022 08:13:14</td>\n",
       "      <td>2023 Data Scientist Intern</td>\n",
       "      <td>Merck</td>\n",
       "      <td></td>\n",
       "      <td>https://www.linkedin.com/jobs/view/2023-data-s...</td>\n",
       "      <td>[]</td>\n",
       "      <td>Job Description\\n\\n\\n\\n\\nThe Future Talent Pro...</td>\n",
       "      <td>2022-09-06</td>\n",
       "      <td>North Wales, PA</td>\n",
       "      <td>United States</td>\n",
       "    </tr>\n",
       "    <tr>\n",
       "      <th>...</th>\n",
       "      <td>...</td>\n",
       "      <td>...</td>\n",
       "      <td>...</td>\n",
       "      <td>...</td>\n",
       "      <td>...</td>\n",
       "      <td>...</td>\n",
       "      <td>...</td>\n",
       "      <td>...</td>\n",
       "      <td>...</td>\n",
       "      <td>...</td>\n",
       "    </tr>\n",
       "    <tr>\n",
       "      <th>651</th>\n",
       "      <td>13/09/2022 08:44:23</td>\n",
       "      <td>Consulting Analyst</td>\n",
       "      <td>Social Standards</td>\n",
       "      <td></td>\n",
       "      <td>https://www.linkedin.com/jobs/view/consulting-...</td>\n",
       "      <td>[]</td>\n",
       "      <td>We’ve built a first-of-its-kind insights platf...</td>\n",
       "      <td>2022-09-12</td>\n",
       "      <td>New York, NY</td>\n",
       "      <td>United States</td>\n",
       "    </tr>\n",
       "    <tr>\n",
       "      <th>652</th>\n",
       "      <td>13/09/2022 08:44:25</td>\n",
       "      <td>Data Analyst</td>\n",
       "      <td>Wipro</td>\n",
       "      <td></td>\n",
       "      <td>https://www.linkedin.com/jobs/view/data-analys...</td>\n",
       "      <td>[]</td>\n",
       "      <td>Role Title\\n\\n\\n\\n\\nData Analyst\\n\\n\\n\\n\\nRepo...</td>\n",
       "      <td>2022-09-08</td>\n",
       "      <td>Austin, TX</td>\n",
       "      <td>United States</td>\n",
       "    </tr>\n",
       "    <tr>\n",
       "      <th>653</th>\n",
       "      <td>13/09/2022 08:44:28</td>\n",
       "      <td>IT Data Science Intern</td>\n",
       "      <td>Amcor</td>\n",
       "      <td></td>\n",
       "      <td>https://www.linkedin.com/jobs/view/it-data-sci...</td>\n",
       "      <td>[]</td>\n",
       "      <td>We are global, we are impacting the lives of m...</td>\n",
       "      <td>2022-08-31</td>\n",
       "      <td>Oshkosh, WI</td>\n",
       "      <td>United States</td>\n",
       "    </tr>\n",
       "    <tr>\n",
       "      <th>654</th>\n",
       "      <td>13/09/2022 08:44:30</td>\n",
       "      <td>Data Scientist</td>\n",
       "      <td>Dice</td>\n",
       "      <td></td>\n",
       "      <td>https://www.linkedin.com/jobs/view/data-scient...</td>\n",
       "      <td>[]</td>\n",
       "      <td>Dice is the leading career destination for tec...</td>\n",
       "      <td>2022-09-07</td>\n",
       "      <td>Phoenix, AZ</td>\n",
       "      <td>United States</td>\n",
       "    </tr>\n",
       "    <tr>\n",
       "      <th>655</th>\n",
       "      <td>13/09/2022 08:44:33</td>\n",
       "      <td>Data Analyst II</td>\n",
       "      <td>Microsoft</td>\n",
       "      <td></td>\n",
       "      <td>https://www.linkedin.com/jobs/view/data-analys...</td>\n",
       "      <td>[]</td>\n",
       "      <td>Are you motivated by using data, analytics, an...</td>\n",
       "      <td>2022-09-12</td>\n",
       "      <td>Nebraska, United States</td>\n",
       "      <td>United States</td>\n",
       "    </tr>\n",
       "  </tbody>\n",
       "</table>\n",
       "<p>656 rows × 10 columns</p>\n",
       "</div>"
      ],
      "text/plain": [
       "                    time                                   title  \\\n",
       "0    13/09/2022 08:13:04                   Data Science Graduate   \n",
       "1    13/09/2022 08:13:06                     Data Science Intern   \n",
       "2    13/09/2022 08:13:09  Data Scientist - New Grad (2023 Start)   \n",
       "3    13/09/2022 08:13:11                          Data Scientist   \n",
       "4    13/09/2022 08:13:14              2023 Data Scientist Intern   \n",
       "..                   ...                                     ...   \n",
       "651  13/09/2022 08:44:23                      Consulting Analyst   \n",
       "652  13/09/2022 08:44:25                            Data Analyst   \n",
       "653  13/09/2022 08:44:28                  IT Data Science Intern   \n",
       "654  13/09/2022 08:44:30                          Data Scientist   \n",
       "655  13/09/2022 08:44:33                         Data Analyst II   \n",
       "\n",
       "                        company company_link  \\\n",
       "0    Hewlett Packard Enterprise                \n",
       "1    Hewlett Packard Enterprise                \n",
       "2                    Databricks                \n",
       "3      Hyatt Hotels Corporation                \n",
       "4                         Merck                \n",
       "..                          ...          ...   \n",
       "651            Social Standards                \n",
       "652                       Wipro                \n",
       "653                       Amcor                \n",
       "654                        Dice                \n",
       "655                   Microsoft                \n",
       "\n",
       "                                                  link insights  \\\n",
       "0    https://www.linkedin.com/jobs/view/data-scienc...       []   \n",
       "1    https://www.linkedin.com/jobs/view/data-scienc...       []   \n",
       "2    https://www.linkedin.com/jobs/view/data-scient...       []   \n",
       "3    https://www.linkedin.com/jobs/view/data-scient...       []   \n",
       "4    https://www.linkedin.com/jobs/view/2023-data-s...       []   \n",
       "..                                                 ...      ...   \n",
       "651  https://www.linkedin.com/jobs/view/consulting-...       []   \n",
       "652  https://www.linkedin.com/jobs/view/data-analys...       []   \n",
       "653  https://www.linkedin.com/jobs/view/it-data-sci...       []   \n",
       "654  https://www.linkedin.com/jobs/view/data-scient...       []   \n",
       "655  https://www.linkedin.com/jobs/view/data-analys...       []   \n",
       "\n",
       "                                           description        date  \\\n",
       "0    This role has been designated as ‘Edge’, which...  2022-09-06   \n",
       "1    This role has been designated as ‘Edge’, which...  2022-09-07   \n",
       "2    At Databricks, we are passionate about helping...  2022-09-06   \n",
       "3    The Role\\n\\nSupport a variety of algorithmic p...  2022-09-12   \n",
       "4    Job Description\\n\\n\\n\\n\\nThe Future Talent Pro...  2022-09-06   \n",
       "..                                                 ...         ...   \n",
       "651  We’ve built a first-of-its-kind insights platf...  2022-09-12   \n",
       "652  Role Title\\n\\n\\n\\n\\nData Analyst\\n\\n\\n\\n\\nRepo...  2022-09-08   \n",
       "653  We are global, we are impacting the lives of m...  2022-08-31   \n",
       "654  Dice is the leading career destination for tec...  2022-09-07   \n",
       "655  Are you motivated by using data, analytics, an...  2022-09-12   \n",
       "\n",
       "                       place       location  \n",
       "0               San Jose, CA  United States  \n",
       "1               San Jose, CA  United States  \n",
       "2          San Francisco, CA  United States  \n",
       "3              United States  United States  \n",
       "4            North Wales, PA  United States  \n",
       "..                       ...            ...  \n",
       "651             New York, NY  United States  \n",
       "652               Austin, TX  United States  \n",
       "653              Oshkosh, WI  United States  \n",
       "654              Phoenix, AZ  United States  \n",
       "655  Nebraska, United States  United States  \n",
       "\n",
       "[656 rows x 10 columns]"
      ]
     },
     "execution_count": 37,
     "metadata": {},
     "output_type": "execute_result"
    }
   ],
   "source": [
    "data_df"
   ]
  }
 ],
 "metadata": {
  "kernelspec": {
   "display_name": "Python 3",
   "language": "python",
   "name": "python3"
  },
  "language_info": {
   "codemirror_mode": {
    "name": "ipython",
    "version": 3
   },
   "file_extension": ".py",
   "mimetype": "text/x-python",
   "name": "python",
   "nbconvert_exporter": "python",
   "pygments_lexer": "ipython3",
   "version": "3.8.8"
  }
 },
 "nbformat": 4,
 "nbformat_minor": 5
}
